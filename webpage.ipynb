{
 "cells": [
  {
   "cell_type": "markdown",
   "metadata": {},
   "source": [
    "# Assignment 3 "
   ]
  },
  {
   "cell_type": "markdown",
   "metadata": {},
   "source": [
    "# Table of Content\n",
    "## Overview\n",
    "1. Where is 307?\n",
    "\n",
    "## Data Exploration\n",
    "1. People's Behavior in terms of Dwell Time \n",
    "2. Which areas of 307 do people pass through\n",
    "3. Where do people tend to linger?\n",
    "4. How does dwell time change over time?\n",
    "\n",
    "## In-depth Analysis\n",
    "1. How do different zones affect people's behavior?\n",
    "2. How do events affect people's behavior?\n",
    "3. What is the best maintenance strategy?\n",
    "4. What are other factor affect people's bahavior?"
   ]
  },
  {
   "cell_type": "markdown",
   "metadata": {},
   "source": [
    "# About 307"
   ]
  },
  {
   "cell_type": "code",
   "execution_count": 7,
   "metadata": {},
   "outputs": [],
   "source": [
    "import pandas as pd\n",
    "import numpy as np\n",
    "import matplotlib.pyplot as plt\n",
    "import matplotlib.image as mpimg "
   ]
  },
  {
   "cell_type": "code",
   "execution_count": 8,
   "metadata": {},
   "outputs": [
    {
     "data": {
      "text/html": [
       "        <script type=\"text/javascript\">\n",
       "        window.PlotlyConfig = {MathJaxConfig: 'local'};\n",
       "        if (window.MathJax) {MathJax.Hub.Config({SVG: {font: \"STIX-Web\"}});}\n",
       "        if (typeof require !== 'undefined') {\n",
       "        require.undef(\"plotly\");\n",
       "        requirejs.config({\n",
       "            paths: {\n",
       "                'plotly': ['https://cdn.plot.ly/plotly-latest.min']\n",
       "            }\n",
       "        });\n",
       "        require(['plotly'], function(Plotly) {\n",
       "            window._Plotly = Plotly;\n",
       "        });\n",
       "        }\n",
       "        </script>\n",
       "        "
      ]
     },
     "metadata": {},
     "output_type": "display_data"
    }
   ],
   "source": [
    "import plotly as py\n",
    "import plotly.express as px\n",
    "import plotly.graph_objs as go\n",
    "from plotly.offline import iplot, init_notebook_mode\n",
    "#init_notebook_mode(connected=True)\n",
    "\n",
    "import cufflinks as cf\n",
    "cf.go_offline(connected=True)\n",
    "cf.set_config_file(colorscale='plotly', world_readable=True)\n",
    "\n",
    "# Extra options\n",
    "# pd.options.display.max_rows = 30\n",
    "# pd.options.display.max_columns = 25\n",
    "\n",
    "# Show all code cells outputs\n",
    "from IPython.core.interactiveshell import InteractiveShell\n",
    "InteractiveShell.ast_node_interactivity = 'all'\n",
    "\n",
    "import os\n",
    "from IPython.display import Image, display, HTML"
   ]
  },
  {
   "cell_type": "code",
   "execution_count": 9,
   "metadata": {},
   "outputs": [],
   "source": [
    "import ipywidgets as widgets\n",
    "from ipywidgets import interact, interact_manual"
   ]
  },
  {
   "cell_type": "code",
   "execution_count": 10,
   "metadata": {},
   "outputs": [],
   "source": [
    "# store login data in login.py\n",
    "%run login.py"
   ]
  },
  {
   "cell_type": "code",
   "execution_count": 11,
   "metadata": {},
   "outputs": [],
   "source": [
    "# login query as multiline formatted string\n",
    "# this assumes that login and pwd are defined \n",
    "# above\n",
    "\n",
    "loginquery = f\"\"\"\n",
    "mutation {{\n",
    "  logIn(\n",
    "      email:\\\"{login}\\\",\n",
    "      password:\\\"{pwd}\\\") {{\n",
    "    jwt {{\n",
    "      token\n",
    "      exp\n",
    "    }}\n",
    "  }}\n",
    "}}\n",
    "\"\"\""
   ]
  },
  {
   "cell_type": "code",
   "execution_count": 12,
   "metadata": {},
   "outputs": [],
   "source": [
    "import requests\n",
    "url = 'https://api.numina.co/graphql'\n",
    "\n",
    "mylogin = requests.post(url, json={'query': loginquery})\n",
    "# mylogin"
   ]
  },
  {
   "cell_type": "code",
   "execution_count": 13,
   "metadata": {},
   "outputs": [],
   "source": [
    "token = mylogin.json()['data']['logIn']['jwt']['token']"
   ]
  },
  {
   "cell_type": "code",
   "execution_count": 14,
   "metadata": {},
   "outputs": [],
   "source": [
    "expdate = mylogin.json()\n",
    "# expdate"
   ]
  },
  {
   "cell_type": "markdown",
   "metadata": {},
   "source": [
    "# Explore the Data!"
   ]
  },
  {
   "cell_type": "markdown",
   "metadata": {},
   "source": [
    "Now that you've been provided with the context, before we present our analysis, it's time for YOU to explore the data! As mentioned, the following are the full areas covered by the three cameras:"
   ]
  },
  {
   "cell_type": "markdown",
   "metadata": {},
   "source": [
    "Streetscape | Under Raincoat | Outside\n",
    "------------- | -------------  | -------------\n",
    "![alt](streetscape_sandbox.png) | ![alt](underraincoat_sandbox.png) | ![alt](outside_sandbox.png)"
   ]
  },
  {
   "cell_type": "markdown",
   "metadata": {},
   "source": [
    "As you see in the above images, each area essentially consists of two parts: objects such as tables and chairs, and empty spaces presumably for walking. Based on this reasoning, we have defined the following smaller behaviour zones so as to perform more in-depth research:"
   ]
  },
  {
   "cell_type": "markdown",
   "metadata": {},
   "source": [
    "### Streetscape ###\n",
    "\n",
    "Chair Zone | Corridor Zone | Free Zone\n",
    "------------- | -------------  | -------------\n",
    "![alt](BehaviorZoneImage/Streetscape-ChairZone.png) | ![alt](BehaviorZoneImage/Streetscape-PathZone.png) | ![alt](BehaviorZoneImage/Streetscape-ActivityZone.png)"
   ]
  },
  {
   "cell_type": "markdown",
   "metadata": {},
   "source": [
    "### Under Raincoat ###\n",
    "\n",
    "Chair Zone | Traffic Zone | Free Zone\n",
    "------------- | -------------  | -------------\n",
    "![alt](BehaviorZoneImage/UnderRaincoat-ChairZone.png) | ![alt](BehaviorZoneImage/UnderRaincoat-TrafficZone.png) | ![alt](BehaviorZoneImage/UnderRaincoat-ActivityZone.png)"
   ]
  },
  {
   "cell_type": "markdown",
   "metadata": {},
   "source": [
    "### Outside ###\n",
    "\n",
    "Chair Zone | Path Zone | -\n",
    "------------- | -------------  | -------------\n",
    "![alt](BehaviorZoneImage/Outside-ChairZone.png) | ![alt](BehaviorZoneImage/Outside-PathZone.png) | ![alt](blank.png)"
   ]
  },
  {
   "cell_type": "markdown",
   "metadata": {},
   "source": [
    "Note that we have to be aware of the fact that the chairs can be moved and that the above images may not necessarily reflect the layout of the room during the whole period of data collection. Specifically, the three sets of chairs in the Under Raincoat area can be easily moved; thus in the initial exploration, we will not be investigating the Chair Zone of Under Raincoat. \n",
    "\n",
    "Nonetheless, notice that they are included in the Free Zone. We believe that it is safe to assume that the chairs would not be moved outside the Free Zone to the Traffic Zone.\n",
    "\n",
    "Similarly, in the Streetscape area, under the assumption that it is intended to place the chairs together, it is unlikely that the group of chairs would be moved around freely and frequently due to the other obstacles in the room. As for the Outside area, it is also unlikely that the chairs would be placed in the middle of the road to block the path. Thus, we will be analyzing these two Chair Zones (while keeping the limitation in mind)."
   ]
  },
  {
   "cell_type": "code",
   "execution_count": 15,
   "metadata": {},
   "outputs": [],
   "source": [
    "device_dict = {'SWLSANDBOX1':'Streetscape', 'SWLSANDBOX2':'Under Raincoat', 'SWLSANDBOX3':'Outside'}\n",
    "device_ids = list(device_dict.keys())\n",
    "device_names = list(device_dict.values())\n",
    "\n",
    "# streetscape, under raincoat, outside\n",
    "device_clrs = ['royalblue', 'firebrick', 'forestgreen']"
   ]
  },
  {
   "cell_type": "code",
   "execution_count": 16,
   "metadata": {},
   "outputs": [],
   "source": [
    "def get_zones(device_id):\n",
    "    \n",
    "    query_zones = \"\"\"\n",
    "    query {{\n",
    "      behaviorZones (\n",
    "        serialnos: \"{0}\"\n",
    "        ) {{\n",
    "        count\n",
    "        edges {{\n",
    "          node {{\n",
    "            rawId\n",
    "            text\n",
    "          }}\n",
    "        }}\n",
    "      }}\n",
    "    }}\n",
    "    \"\"\".format(device_id)\n",
    "    \n",
    "    zones = requests.post(url, json={'query': query_zones}, headers = {'Authorization':token})\n",
    "    \n",
    "    df = pd.DataFrame([x['node'] for x in zones.json()['data']['behaviorZones']['edges']])\n",
    "    df['device_id'] = device_id\n",
    "    \n",
    "    return df"
   ]
  },
  {
   "cell_type": "code",
   "execution_count": 17,
   "metadata": {},
   "outputs": [],
   "source": [
    "zones_df = pd.concat([get_zones(device_ids[i]) for i in range(3)])\n",
    "zones_df = zones_df[(zones_df.text.notnull()) & \n",
    "                    (zones_df.text.str.startswith('x-')) & \n",
    "                    (zones_df.text.str.endswith('zone'))]"
   ]
  },
  {
   "cell_type": "code",
   "execution_count": 116,
   "metadata": {
    "scrolled": true
   },
   "outputs": [],
   "source": [
    "zones_df['text'] = zones_df['text'].str.replace('x-', '')\n",
    "zones_df['type'] = ['path', 'rest', 'both', 'path', 'both', 'rest', 'path']\n",
    "\n",
    "# zone ID from int to str\n",
    "zones_df.rawId = zones_df.rawId.astype(str)\n",
    "zone_name_dict = dict(zip(zones_df.rawId, zones_df.text))\n",
    "zone_type_dict = dict(zip(zones_df.rawId, zones_df.type))"
   ]
  },
  {
   "cell_type": "code",
   "execution_count": 27,
   "metadata": {},
   "outputs": [],
   "source": [
    "def get_dwell(func, ID, interval):\n",
    "    '''\n",
    "    func is either feedDwellTimeDistribution or zoneDwellTimeDistribution\n",
    "    '''\n",
    "    if func == 'feedDwellTimeDistribution':\n",
    "        arg = 'serialnos: \"{0}\"'.format(ID)\n",
    "    else:\n",
    "        arg = 'zoneIds: {0}'.format(ID)\n",
    "        \n",
    "    query = \"\"\"\n",
    "    query {{\n",
    "        {0}(\n",
    "        {1},\n",
    "        startTime: \"2019-02-20T00:00:00\",\n",
    "        endTime: \"2020-01-12T00:00:00\",\n",
    "        timezone: \"America/New_York\",\n",
    "        objClasses: [\"pedestrian\"],\n",
    "        interval: \"{2}\"\n",
    "        ){{\n",
    "        edges {{\n",
    "          node {{\n",
    "            time\n",
    "            objClass\n",
    "            pct100\n",
    "            pct75\n",
    "            pct50\n",
    "            pct25\n",
    "            mean\n",
    "            count\n",
    "          }}\n",
    "        }}\n",
    "      }}\n",
    "    }}\n",
    "    \"\"\".format(func, arg, interval)\n",
    "\n",
    "    dwell = requests.post(url, json={'query': query}, \n",
    "                           headers = {'Authorization':token})\n",
    "    \n",
    "    df = pd.DataFrame([x['node'] for x in dwell.json()['data'][func]['edges']])\n",
    "    if func == 'feedDwellTimeDistribution':\n",
    "        df['device_id'] = ID\n",
    "    else:\n",
    "        df['zone_id'] = ID\n",
    "    \n",
    "    return df"
   ]
  },
  {
   "cell_type": "code",
   "execution_count": 35,
   "metadata": {},
   "outputs": [],
   "source": [
    "def preprocess(df):\n",
    "    # replace NaN with 0\n",
    "    df = df.fillna(0)\n",
    "    # convert time\n",
    "    df['time'] = df['time'].str[:-6].apply(lambda x : pd.Timestamp(x))\n",
    "    df['month'] = df['time'].dt.month\n",
    "    df['dayofweek'] = df['time'].dt.dayofweek\n",
    "    df['hour'] = df['time'].dt.hour\n",
    "    \n",
    "    # add either zone or device name\n",
    "    if 'zone_id' in df.columns:\n",
    "        df.zone_id = df.zone_id.astype(str)\n",
    "        df['zone'] = [zone_name_dict[z] for z in df.zone_id]\n",
    "        df['zone_type'] = [zone_type_dict[z] for z in df.zone_id]\n",
    "    else:\n",
    "        df['device'] = [device_dict[d] for d in df.device_id]\n",
    "    \n",
    "    # add a total column = mean * count\n",
    "    df['total_dwell'] = df['mean'] * df['count']\n",
    "    df = df.rename(columns={'mean':'mean_dwell', 'pct50':'median_dwell', 'pct100':'max_dwell'})\n",
    "    df = df.drop(['pct75', 'pct25'], axis=1)\n",
    "    \n",
    "    return df"
   ]
  },
  {
   "cell_type": "code",
   "execution_count": 36,
   "metadata": {},
   "outputs": [],
   "source": [
    "# hourly dwell time \n",
    "# device\n",
    "feed_dwell_1h_df = pd.concat([get_dwell('feedDwellTimeDistribution', device_ids[i], '1h') \n",
    "                              for i in range(3)])\n",
    "# zone\n",
    "zone_dwell_1h_df = pd.concat([get_dwell('zoneDwellTimeDistribution', z, '1h')\n",
    "                             for z in zones_df['rawId'].values])\n",
    "\n",
    "feed_dwell_1h_df = preprocess(feed_dwell_1h_df)\n",
    "zone_dwell_1h_df = preprocess(zone_dwell_1h_df)"
   ]
  },
  {
   "cell_type": "code",
   "execution_count": 136,
   "metadata": {},
   "outputs": [],
   "source": [
    "# daily dwell time \n",
    "# device\n",
    "feed_dwell_1d_df = pd.concat([get_dwell('feedDwellTimeDistribution', device_ids[i], '1d') \n",
    "                              for i in range(3)])\n",
    "# zone\n",
    "zone_dwell_1d_df = pd.concat([get_dwell('zoneDwellTimeDistribution', z, '1d')\n",
    "                             for z in zones_df['rawId'].values])\n",
    "\n",
    "feed_dwell_1d_df = preprocess(feed_dwell_1d_df)\n",
    "zone_dwell_1d_df = preprocess(zone_dwell_1d_df)"
   ]
  },
  {
   "cell_type": "code",
   "execution_count": 22,
   "metadata": {},
   "outputs": [],
   "source": [
    "# assign a colour to each behaviour zone\n",
    "#zones_df['colour'] = ['blue', 'lightblue', 'cadetblue',\n",
    "#                      'orangered', 'lightcoral', \n",
    "#                      'palegreen', 'lightgreen']"
   ]
  },
  {
   "cell_type": "code",
   "execution_count": 140,
   "metadata": {},
   "outputs": [],
   "source": [
    "def get_df(groupby, interval):\n",
    "    if groupby == 'device' and interval == '1d':\n",
    "        return feed_dwell_1d_df.copy(), device_names\n",
    "    elif groupby == 'zone' and interval == '1d':\n",
    "        return zone_dwell_1d_df.copy(), list(zones_df.text)\n",
    "    elif groupby == 'device' and interval == '1h':\n",
    "        return feed_dwell_1h_df.copy(), device_names\n",
    "    elif groupby == 'zone' and interval == '1h':\n",
    "        return zone_dwell_1h_df.copy(), list(zones_df.text)"
   ]
  },
  {
   "cell_type": "markdown",
   "metadata": {},
   "source": [
    "Recall that the timeframe of our data is approximately one year. Therefore, in the initial exploration, let's focus on the daily dwell time and daily count of pedestrains in the 307 region. \n",
    "\n",
    "As a starting point, explore the data using the following interactive line plot and think about these questions:\n",
    "1. Is there any trend in pedesdrian count / dwell time in any of the areas / zones?\n",
    "2. Where would you expect to see a bigger crowd? Is any of the areas / zones more popular than others?"
   ]
  },
  {
   "cell_type": "markdown",
   "metadata": {},
   "source": [
    "Tip: You can click the legend on the right to include/exclude a line on the plot."
   ]
  },
  {
   "cell_type": "code",
   "execution_count": 37,
   "metadata": {},
   "outputs": [],
   "source": [
    "metric_list = ['count', 'mean_dwell', 'max_dwell', 'median_dwell', 'total_dwell']"
   ]
  },
  {
   "cell_type": "code",
   "execution_count": 141,
   "metadata": {},
   "outputs": [],
   "source": [
    "def plot_byhour(groupby, metric, quantiles):\n",
    "    df, byvals = get_df(groupby, '1h')\n",
    "    df = df[(df[metric] <= df[metric].quantile(quantiles[1])) &\n",
    "            (df[metric] >= df[metric].quantile(quantiles[0]))].sort_values('hour')\n",
    "    if groupby=='device':\n",
    "        fig = px.scatter(df, y=metric, color='device', facet_col=groupby, size='count',\n",
    "                     animation_frame='hour', opacity=0.5, size_max=30,\n",
    "                     title='change in '+metric+' and count over different times of the day')\n",
    "    else:\n",
    "        df['device'] = df['zone'].apply(lambda x : x.split('-')[0])\n",
    "        fig = px.scatter(df, y=metric, color='device', facet_col='zone_type', size='count',\n",
    "                     animation_frame='hour', opacity=0.5, size_max=30,\n",
    "                     title='change in '+metric+' and count over different times of the day')\n",
    "    #fig.for_each_annotation(lambda a: a.update(text=a.text.split(\"=\")[1]))\n",
    "    fig.layout.update(showlegend=True)\n",
    "    #fig.update_xaxes(showticklabels=False)\n",
    "    fig.update_xaxes(title='day #')\n",
    "    fig.show()"
   ]
  },
  {
   "cell_type": "code",
   "execution_count": 133,
   "metadata": {},
   "outputs": [
    {
     "data": {
      "application/vnd.jupyter.widget-view+json": {
       "model_id": "528406405f7647558be508df3f34e0a7",
       "version_major": 2,
       "version_minor": 0
      },
      "text/plain": [
       "interactive(children=(RadioButtons(description='groupby', index=1, options=('device', 'zone'), value='zone'), …"
      ]
     },
     "metadata": {},
     "output_type": "display_data"
    }
   ],
   "source": [
    "_ = interact(plot_byhour, groupby=widgets.RadioButtons(options=['device', 'zone'], value='zone'),\n",
    "             metric=widgets.RadioButtons(options=metric_list[1:], value=metric_list[1]),\n",
    "             quantiles=widgets.FloatRangeSlider(value=[0, 0.98], min=0, max=1, step=0.01, continuous_update=False))"
   ]
  },
  {
   "cell_type": "code",
   "execution_count": 138,
   "metadata": {},
   "outputs": [],
   "source": [
    "def plot_timeline(groupby, metric):\n",
    "    '''\n",
    "    groupby is either 'device' or 'zone';\n",
    "    metric is a value in metric_list\n",
    "    '''\n",
    "    df, byvals = get_df(groupby, '1d')\n",
    "    \n",
    "    fig = go.Figure()\n",
    "    \n",
    "    # line plot for each name\n",
    "    for i in range(len(byvals)):\n",
    "        sub_df = df[df[groupby] == byvals[i]]\n",
    "        fig.add_trace(go.Scatter(x=sub_df.time, y=sub_df[metric], name=byvals[i]))\n",
    "    \n",
    "    # layout - axes labels\n",
    "    fig.update_layout(\n",
    "        xaxis_title=\"time\",\n",
    "        yaxis_title=metric,\n",
    "        xaxis_rangeslider_visible=True\n",
    "    )\n",
    "    # title\n",
    "    if metric != 'count':\n",
    "        fig.update_layout(title=f\"pedestrian dwell time ({metric}) grouped by '{groupby}'\")\n",
    "    else:\n",
    "        fig.update_layout(title=f\"pedestrian count grouped by '{groupby}'\")\n",
    "    \n",
    "    fig.show()\n",
    "    "
   ]
  },
  {
   "cell_type": "code",
   "execution_count": 139,
   "metadata": {},
   "outputs": [
    {
     "data": {
      "application/vnd.jupyter.widget-view+json": {
       "model_id": "4bacab1b8d2741f6a130277cdb9466e7",
       "version_major": 2,
       "version_minor": 0
      },
      "text/plain": [
       "interactive(children=(RadioButtons(description='groupby', options=('device', 'zone'), value='device'), Dropdow…"
      ]
     },
     "metadata": {},
     "output_type": "display_data"
    }
   ],
   "source": [
    "_ = interact(plot_timeline, \n",
    "             groupby=widgets.RadioButtons(options=['device', 'zone'], value='device'),\n",
    "             metric=widgets.Dropdown(options=metric_list, value='mean_dwell')\n",
    "            )"
   ]
  },
  {
   "cell_type": "markdown",
   "metadata": {},
   "source": [
    "Not too surprisingly, we observe a few peak days. The following interactive dataframe summarizes the exact locations and dates:"
   ]
  },
  {
   "cell_type": "code",
   "execution_count": 143,
   "metadata": {},
   "outputs": [
    {
     "data": {
      "application/vnd.jupyter.widget-view+json": {
       "model_id": "a91acad2e2f54f7e847a8f7bf72e1dcd",
       "version_major": 2,
       "version_minor": 0
      },
      "text/plain": [
       "interactive(children=(RadioButtons(description='groupby', options=('device', 'zone'), value='device'), Dropdow…"
      ]
     },
     "metadata": {},
     "output_type": "display_data"
    }
   ],
   "source": [
    "def sort_dwell_1d(groupby, sortby, ascending, top):\n",
    "    df, _ = get_df(groupby, '1d')\n",
    "    \n",
    "    cols = [groupby, 'time', sortby]\n",
    "    if sortby == 'count':\n",
    "        cols.append('mean_dwell')\n",
    "    elif sortby == 'mean_dwell':\n",
    "        cols.append('count')\n",
    "    else:\n",
    "        cols.append('count')\n",
    "        cols.append('mean_dwell')\n",
    "        \n",
    "    display(df.sort_values(sortby, ascending=ascending).reset_index(drop=True)\n",
    "              .loc[:int(top)-1, cols])\n",
    "\n",
    "_ = interact(sort_dwell_1d, \n",
    "             groupby=widgets.RadioButtons(options=['device', 'zone'], value='device'),\n",
    "             sortby=widgets.Dropdown(options=metric_list, value='mean_dwell'),\n",
    "             top=widgets.IntSlider(value=5, min=1, max=30, step=1, readout_format='d'),\n",
    "             ascending=widgets.Checkbox(value=False, description='ascending'))"
   ]
  },
  {
   "cell_type": "code",
   "execution_count": 144,
   "metadata": {},
   "outputs": [],
   "source": [
    "def plot_boxplot(groupby, metric):\n",
    "    fig = go.Figure()\n",
    "    \n",
    "    df, byvals = get_df(groupby, '1d')\n",
    "    \n",
    "    for i in range(len(byvals)):\n",
    "        # Use x instead of y argument for horizontal plot\n",
    "        fig.add_trace(go.Box(x=df.loc[df[groupby]==byvals[i], metric], name=byvals[i],\n",
    "                             boxpoints='outliers'))\n",
    "\n",
    "    # layout - axes labels\n",
    "    fig.update_layout(\n",
    "        xaxis_title=metric,\n",
    "        xaxis_rangeslider_visible=True\n",
    "    )\n",
    "    # title\n",
    "    if metric != 'count':\n",
    "        fig.update_layout(title=f\"distribution of pedestrian dwell time ({metric}) grouped by '{groupby}'\")\n",
    "    else:\n",
    "        fig.update_layout(title=f\"distribution of pedestrian count grouped by '{groupby}'\")\n",
    "    \n",
    "    fig.show()\n",
    "    "
   ]
  },
  {
   "cell_type": "code",
   "execution_count": 145,
   "metadata": {},
   "outputs": [
    {
     "data": {
      "application/vnd.jupyter.widget-view+json": {
       "model_id": "e65192425e2d4b6aa407d3fed75862f3",
       "version_major": 2,
       "version_minor": 0
      },
      "text/plain": [
       "interactive(children=(RadioButtons(description='groupby', options=('device', 'zone'), value='device'), Dropdow…"
      ]
     },
     "metadata": {},
     "output_type": "display_data"
    }
   ],
   "source": [
    "_ = interact(plot_boxplot, \n",
    "             groupby=widgets.RadioButtons(options=['device', 'zone'], value='device'),\n",
    "             metric=widgets.Dropdown(options=metric_list, value='mean_dwell')\n",
    "            )"
   ]
  },
  {
   "cell_type": "code",
   "execution_count": 30,
   "metadata": {},
   "outputs": [],
   "source": [
    "# feed_dwell_1d_df.groupby('device')['count'].describe()"
   ]
  },
  {
   "cell_type": "code",
   "execution_count": null,
   "metadata": {},
   "outputs": [],
   "source": [
    "# groupby zone_name / device_name and take the sum for the other columns\n",
    "# should only investigate the count and total columns\n",
    "\n",
    "grouped_df = zone_dwell_1d_df.groupby('zone').sum().reset_index(drop=False)\\\n",
    "                             .rename(columns={'zone':'name'})\n",
    "grouped_df = grouped_df.append(feed_dwell_1d_df.groupby('device').sum().reset_index(drop=False)\n",
    "                               .rename(columns={'device':'name'}))"
   ]
  },
  {
   "cell_type": "code",
   "execution_count": 146,
   "metadata": {},
   "outputs": [],
   "source": [
    "from plotly.subplots import make_subplots\n",
    "\n",
    "def plot_barplot(metric):\n",
    "    '''\n",
    "    metric is either 'count' or 'total_dwell'\n",
    "    '''\n",
    "    fig = make_subplots(rows=1, cols=3)\n",
    "    \n",
    "    df = grouped_df.copy()\n",
    "    m = metric.split(' ')[0]\n",
    "    \n",
    "    for i in range(3):\n",
    "        dname = device_names[i]\n",
    "        total = df.loc[df.name==dname, m]\n",
    "        sub_df = df[[n[1:5]==dname[1:5] for n in df.name]]\n",
    "        sub_df.name = [s[-1] for s in sub_df.name.str.split('-')]\n",
    "        sub_df['perc'] = sub_df[m].apply(lambda x : x / total * 100)\n",
    "        \n",
    "        fig.add_bar(x=sub_df.name, y=sub_df[m], name=dname, row=1, col=i+1)\n",
    "        \n",
    "    #fig.update_yaxes(ticksuffix=\"%\", col=1)\n",
    "    layout = go.Layout(yaxis=dict(range=[0, 100]))\n",
    "    \n",
    "    fig.update_layout(title=f\"proportion of individual behaviour zones w.r.t. the area in terms of {metric} of pedestrians\")\n",
    "\n",
    "    fig.show()"
   ]
  },
  {
   "cell_type": "code",
   "execution_count": 150,
   "metadata": {},
   "outputs": [],
   "source": [
    "# _ = interact(plot_barplot, metric=widgets.RadioButtons(options=['count', 'total_dwell'], value='count'))"
   ]
  },
  {
   "cell_type": "code",
   "execution_count": 34,
   "metadata": {},
   "outputs": [],
   "source": [
    "'''\n",
    "def boxplot_dwell(groupby, column, bound_factor):\n",
    "    df, _, _ = get_df(groupby)\n",
    "    \n",
    "    q3 = df[column].quantile(0.75) \n",
    "    q1 = df[column].quantile(0.25)\n",
    "    iqr = q3 - q1\n",
    "    sub_df = df[(df[column] <= q3 + iqr*bound_factor) & \n",
    "                  ((df[column] >= q1 - iqr*bound_factor))]\n",
    "    \n",
    "    if column == 'count':\n",
    "        title = f\"distribution of count grouped by '{groupby}'\" +\\\n",
    "        f\" with values {bound_factor} * IQR beyond Q1/Q3 removed\"\n",
    "    else:\n",
    "        title = f\"distribution of mean dwell time grouped by '{groupby}'\" +\\\n",
    "        f\" with values {bound_factor} * IQR beyond Q1/Q3 removed\"\n",
    "    \n",
    "    fig = px.box(sub_df, x=groupby, y=column, points=\"all\", title=title)\n",
    "\n",
    "    fig.show()\n",
    "''';"
   ]
  },
  {
   "cell_type": "code",
   "execution_count": 35,
   "metadata": {},
   "outputs": [],
   "source": [
    "'''\n",
    "_ = interact(boxplot_dwell, \n",
    "             groupby=widgets.RadioButtons(options=['device_name', 'zone_name']), value='device_name',\n",
    "             column=widgets.RadioButtons(options=['count', 'mean'], value='count'),\n",
    "             bound_factor=widgets.FloatSlider(\n",
    "                 value=1.5,\n",
    "                 min=-3,\n",
    "                 max=10,\n",
    "                 step=0.1,\n",
    "                 disabled=False,\n",
    "                 continuous_update=False,\n",
    "                 orientation='horizontal',\n",
    "                 readout=True,\n",
    "                 readout_format='.1f')\n",
    "            )\n",
    "''';"
   ]
  },
  {
   "cell_type": "markdown",
   "metadata": {},
   "source": [
    "### Obtain heatmap for pedestrians"
   ]
  },
  {
   "cell_type": "code",
   "execution_count": 36,
   "metadata": {},
   "outputs": [],
   "source": [
    "from datetime import timedelta, datetime\n",
    "from dateutil.relativedelta import relativedelta\n",
    "import calendar\n",
    "START_DATE = datetime(2019, 2, 20, 0, 0, 0)\n",
    "END_DATE = datetime(2019, 3, 20, 0, 0, 0)\n",
    "time_delta = relativedelta(days = +1)"
   ]
  },
  {
   "cell_type": "code",
   "execution_count": 37,
   "metadata": {},
   "outputs": [],
   "source": [
    "import pandas as pd\n",
    "heatmap_df = pd.DataFrame(columns = ['startTime', 'endTime', 'heatMap'])"
   ]
  },
  {
   "cell_type": "code",
   "execution_count": 38,
   "metadata": {},
   "outputs": [],
   "source": [
    "def heatmap_query_gen(startTime: str, endTime: str):\n",
    "    heatmap_query = \"\"\"\n",
    "query {{\n",
    "  feedHeatmaps(\n",
    "    serialno: \"SWLSANDBOX1\",\n",
    "    startTime:\"{0}\",\n",
    "    endTime:\"{1}\",\n",
    "    objClasses:[\"pedestrian\"],\n",
    "    timezone:\"America/New_York\") {{\n",
    "    edges {{\n",
    "      node {{\n",
    "        time\n",
    "        objClass\n",
    "        heatmap\n",
    "      }}\n",
    "    }}\n",
    "  }}\n",
    "}}\n",
    "\"\"\".format(startTime, endTime)\n",
    "    return heatmap_query"
   ]
  },
  {
   "cell_type": "code",
   "execution_count": 39,
   "metadata": {},
   "outputs": [],
   "source": [
    "current_date = START_DATE\n",
    "while current_date < END_DATE:\n",
    "    start_time_str = current_date.strftime('%Y-%m-%dT%H:%M:%S')\n",
    "    end_time = current_date + time_delta\n",
    "    end_time_str = end_time.strftime('%Y-%m-%dT%H:%M:%S')\n",
    "    heatmap_data = requests.post(url, json={'query': heatmap_query_gen(start_time_str, end_time_str)}, \n",
    "                         headers = {'Authorization':token})\n",
    "    heatmap_json = heatmap_data.json()\n",
    "    if heatmap_json['data']:\n",
    "        if 'feedHeatmaps' in heatmap_json['data']:\n",
    "            heatmap = heatmap_json['data']['feedHeatmaps']['edges'][0]['node']['heatmap']\n",
    "            temp_df = pd.DataFrame({\"startTime\":current_date, \"endTime\":end_time, 'heatMap':heatmap})\n",
    "            heatmap_df = heatmap_df.append(temp_df, ignore_index = True)\n",
    "    current_date = current_date + time_delta"
   ]
  },
  {
   "cell_type": "code",
   "execution_count": 40,
   "metadata": {},
   "outputs": [],
   "source": [
    "ed_heatmap_df = heatmap_df.groupby(['startTime', 'endTime'])['heatMap'].apply(list).reset_index(name='heatMapMatrix')"
   ]
  },
  {
   "cell_type": "code",
   "execution_count": 41,
   "metadata": {},
   "outputs": [
    {
     "data": {
      "application/vnd.jupyter.widget-view+json": {
       "model_id": "7ff347dc4db542deaa40d1da813c3e8f",
       "version_major": 2,
       "version_minor": 0
      },
      "text/plain": [
       "interactive(children=(DatePicker(value=Timestamp('2019-02-26 00:00:00'), description='Pick a Date'), Output())…"
      ]
     },
     "metadata": {},
     "output_type": "display_data"
    },
    {
     "data": {
      "text/plain": [
       "<function __main__.plot_heatmap(start_time)>"
      ]
     },
     "execution_count": 41,
     "metadata": {},
     "output_type": "execute_result"
    }
   ],
   "source": [
    "from IPython.display import display\n",
    "def plot_heatmap(start_time):\n",
    "    map_img = mpimg.imread('streetscape_sandbox.png')\n",
    "    matrix = list(ed_heatmap_df[ed_heatmap_df['startTime'] == start_time]['heatMapMatrix'])[0]\n",
    "    x = [i[0] for i in matrix] \n",
    "    y = [i[1] for i in matrix]\n",
    "    z = [i[2] for i in matrix]\n",
    "    fig, ax = plt.subplots(figsize=(15,10))\n",
    "    ax.scatter(x, y, c=z, s=10, cmap=plt.cm.Wistia) # Other color maps: plt.cm.cmap_d.keys())\n",
    "    ax.imshow(map_img, aspect='auto')\n",
    "    plt.axis('off')\n",
    "    plt.title(\"Heatmap for date {0}\".format(start_time, fontsize=20))\n",
    "    plt.show()\n",
    "interact(plot_heatmap, start_time=widgets.DatePicker(value = pd.to_datetime('2019-02-26'), description='Pick a Date'))"
   ]
  },
  {
   "cell_type": "markdown",
   "metadata": {},
   "source": [
    "## Event vs Non Event Days"
   ]
  },
  {
   "cell_type": "markdown",
   "metadata": {},
   "source": [
    "### Subsection: Pedestrian Count"
   ]
  },
  {
   "cell_type": "markdown",
   "metadata": {},
   "source": [
    "In this section, we will be exploring how poeple's behaviour differ when there is an event and when there is no event occuring. We have obtained the Sidewalk Labs' event schedule from the [website](https://www.sidewalktoronto.ca/participate/). I have recorded all the events between Febuary 20th, 2019 and January 11th, 2020."
   ]
  },
  {
   "cell_type": "code",
   "execution_count": 42,
   "metadata": {},
   "outputs": [],
   "source": [
    "event_dates = pd.read_csv('EventDates.csv')"
   ]
  },
  {
   "cell_type": "markdown",
   "metadata": {},
   "source": [
    "I also have obtained the pedestrian count data. We will first explore how the pedestrian count changes in different days. "
   ]
  },
  {
   "cell_type": "code",
   "execution_count": 43,
   "metadata": {},
   "outputs": [
    {
     "ename": "FileNotFoundError",
     "evalue": "[Errno 2] File b'OverviewForOutsideCount.csv' does not exist: b'OverviewForOutsideCount.csv'",
     "output_type": "error",
     "traceback": [
      "\u001b[1;31m---------------------------------------------------------------------------\u001b[0m",
      "\u001b[1;31mFileNotFoundError\u001b[0m                         Traceback (most recent call last)",
      "\u001b[1;32m<ipython-input-43-2c43f31a403f>\u001b[0m in \u001b[0;36m<module>\u001b[1;34m\u001b[0m\n\u001b[1;32m----> 1\u001b[1;33m \u001b[0moutside_count_df\u001b[0m \u001b[1;33m=\u001b[0m \u001b[0mpd\u001b[0m\u001b[1;33m.\u001b[0m\u001b[0mread_csv\u001b[0m\u001b[1;33m(\u001b[0m\u001b[1;34m'OverviewForOutsideCount.csv'\u001b[0m\u001b[1;33m)\u001b[0m\u001b[1;33m\u001b[0m\u001b[1;33m\u001b[0m\u001b[0m\n\u001b[0m\u001b[0;32m      2\u001b[0m \u001b[0mstreetscape_count_df\u001b[0m \u001b[1;33m=\u001b[0m \u001b[0mpd\u001b[0m\u001b[1;33m.\u001b[0m\u001b[0mread_csv\u001b[0m\u001b[1;33m(\u001b[0m\u001b[1;34m'OverviewForStreetScapeCount.csv'\u001b[0m\u001b[1;33m)\u001b[0m\u001b[1;33m\u001b[0m\u001b[1;33m\u001b[0m\u001b[0m\n\u001b[0;32m      3\u001b[0m \u001b[0munder_rain_coat_count_df\u001b[0m \u001b[1;33m=\u001b[0m \u001b[0mpd\u001b[0m\u001b[1;33m.\u001b[0m\u001b[0mread_csv\u001b[0m\u001b[1;33m(\u001b[0m\u001b[1;34m'OverviewForUnderRainCoatCount.csv'\u001b[0m\u001b[1;33m)\u001b[0m\u001b[1;33m\u001b[0m\u001b[1;33m\u001b[0m\u001b[0m\n",
      "\u001b[1;32m~\\Anaconda3\\lib\\site-packages\\pandas\\io\\parsers.py\u001b[0m in \u001b[0;36mparser_f\u001b[1;34m(filepath_or_buffer, sep, delimiter, header, names, index_col, usecols, squeeze, prefix, mangle_dupe_cols, dtype, engine, converters, true_values, false_values, skipinitialspace, skiprows, skipfooter, nrows, na_values, keep_default_na, na_filter, verbose, skip_blank_lines, parse_dates, infer_datetime_format, keep_date_col, date_parser, dayfirst, cache_dates, iterator, chunksize, compression, thousands, decimal, lineterminator, quotechar, quoting, doublequote, escapechar, comment, encoding, dialect, error_bad_lines, warn_bad_lines, delim_whitespace, low_memory, memory_map, float_precision)\u001b[0m\n\u001b[0;32m    683\u001b[0m         )\n\u001b[0;32m    684\u001b[0m \u001b[1;33m\u001b[0m\u001b[0m\n\u001b[1;32m--> 685\u001b[1;33m         \u001b[1;32mreturn\u001b[0m \u001b[0m_read\u001b[0m\u001b[1;33m(\u001b[0m\u001b[0mfilepath_or_buffer\u001b[0m\u001b[1;33m,\u001b[0m \u001b[0mkwds\u001b[0m\u001b[1;33m)\u001b[0m\u001b[1;33m\u001b[0m\u001b[1;33m\u001b[0m\u001b[0m\n\u001b[0m\u001b[0;32m    686\u001b[0m \u001b[1;33m\u001b[0m\u001b[0m\n\u001b[0;32m    687\u001b[0m     \u001b[0mparser_f\u001b[0m\u001b[1;33m.\u001b[0m\u001b[0m__name__\u001b[0m \u001b[1;33m=\u001b[0m \u001b[0mname\u001b[0m\u001b[1;33m\u001b[0m\u001b[1;33m\u001b[0m\u001b[0m\n",
      "\u001b[1;32m~\\Anaconda3\\lib\\site-packages\\pandas\\io\\parsers.py\u001b[0m in \u001b[0;36m_read\u001b[1;34m(filepath_or_buffer, kwds)\u001b[0m\n\u001b[0;32m    455\u001b[0m \u001b[1;33m\u001b[0m\u001b[0m\n\u001b[0;32m    456\u001b[0m     \u001b[1;31m# Create the parser.\u001b[0m\u001b[1;33m\u001b[0m\u001b[1;33m\u001b[0m\u001b[1;33m\u001b[0m\u001b[0m\n\u001b[1;32m--> 457\u001b[1;33m     \u001b[0mparser\u001b[0m \u001b[1;33m=\u001b[0m \u001b[0mTextFileReader\u001b[0m\u001b[1;33m(\u001b[0m\u001b[0mfp_or_buf\u001b[0m\u001b[1;33m,\u001b[0m \u001b[1;33m**\u001b[0m\u001b[0mkwds\u001b[0m\u001b[1;33m)\u001b[0m\u001b[1;33m\u001b[0m\u001b[1;33m\u001b[0m\u001b[0m\n\u001b[0m\u001b[0;32m    458\u001b[0m \u001b[1;33m\u001b[0m\u001b[0m\n\u001b[0;32m    459\u001b[0m     \u001b[1;32mif\u001b[0m \u001b[0mchunksize\u001b[0m \u001b[1;32mor\u001b[0m \u001b[0miterator\u001b[0m\u001b[1;33m:\u001b[0m\u001b[1;33m\u001b[0m\u001b[1;33m\u001b[0m\u001b[0m\n",
      "\u001b[1;32m~\\Anaconda3\\lib\\site-packages\\pandas\\io\\parsers.py\u001b[0m in \u001b[0;36m__init__\u001b[1;34m(self, f, engine, **kwds)\u001b[0m\n\u001b[0;32m    893\u001b[0m             \u001b[0mself\u001b[0m\u001b[1;33m.\u001b[0m\u001b[0moptions\u001b[0m\u001b[1;33m[\u001b[0m\u001b[1;34m\"has_index_names\"\u001b[0m\u001b[1;33m]\u001b[0m \u001b[1;33m=\u001b[0m \u001b[0mkwds\u001b[0m\u001b[1;33m[\u001b[0m\u001b[1;34m\"has_index_names\"\u001b[0m\u001b[1;33m]\u001b[0m\u001b[1;33m\u001b[0m\u001b[1;33m\u001b[0m\u001b[0m\n\u001b[0;32m    894\u001b[0m \u001b[1;33m\u001b[0m\u001b[0m\n\u001b[1;32m--> 895\u001b[1;33m         \u001b[0mself\u001b[0m\u001b[1;33m.\u001b[0m\u001b[0m_make_engine\u001b[0m\u001b[1;33m(\u001b[0m\u001b[0mself\u001b[0m\u001b[1;33m.\u001b[0m\u001b[0mengine\u001b[0m\u001b[1;33m)\u001b[0m\u001b[1;33m\u001b[0m\u001b[1;33m\u001b[0m\u001b[0m\n\u001b[0m\u001b[0;32m    896\u001b[0m \u001b[1;33m\u001b[0m\u001b[0m\n\u001b[0;32m    897\u001b[0m     \u001b[1;32mdef\u001b[0m \u001b[0mclose\u001b[0m\u001b[1;33m(\u001b[0m\u001b[0mself\u001b[0m\u001b[1;33m)\u001b[0m\u001b[1;33m:\u001b[0m\u001b[1;33m\u001b[0m\u001b[1;33m\u001b[0m\u001b[0m\n",
      "\u001b[1;32m~\\Anaconda3\\lib\\site-packages\\pandas\\io\\parsers.py\u001b[0m in \u001b[0;36m_make_engine\u001b[1;34m(self, engine)\u001b[0m\n\u001b[0;32m   1133\u001b[0m     \u001b[1;32mdef\u001b[0m \u001b[0m_make_engine\u001b[0m\u001b[1;33m(\u001b[0m\u001b[0mself\u001b[0m\u001b[1;33m,\u001b[0m \u001b[0mengine\u001b[0m\u001b[1;33m=\u001b[0m\u001b[1;34m\"c\"\u001b[0m\u001b[1;33m)\u001b[0m\u001b[1;33m:\u001b[0m\u001b[1;33m\u001b[0m\u001b[1;33m\u001b[0m\u001b[0m\n\u001b[0;32m   1134\u001b[0m         \u001b[1;32mif\u001b[0m \u001b[0mengine\u001b[0m \u001b[1;33m==\u001b[0m \u001b[1;34m\"c\"\u001b[0m\u001b[1;33m:\u001b[0m\u001b[1;33m\u001b[0m\u001b[1;33m\u001b[0m\u001b[0m\n\u001b[1;32m-> 1135\u001b[1;33m             \u001b[0mself\u001b[0m\u001b[1;33m.\u001b[0m\u001b[0m_engine\u001b[0m \u001b[1;33m=\u001b[0m \u001b[0mCParserWrapper\u001b[0m\u001b[1;33m(\u001b[0m\u001b[0mself\u001b[0m\u001b[1;33m.\u001b[0m\u001b[0mf\u001b[0m\u001b[1;33m,\u001b[0m \u001b[1;33m**\u001b[0m\u001b[0mself\u001b[0m\u001b[1;33m.\u001b[0m\u001b[0moptions\u001b[0m\u001b[1;33m)\u001b[0m\u001b[1;33m\u001b[0m\u001b[1;33m\u001b[0m\u001b[0m\n\u001b[0m\u001b[0;32m   1136\u001b[0m         \u001b[1;32melse\u001b[0m\u001b[1;33m:\u001b[0m\u001b[1;33m\u001b[0m\u001b[1;33m\u001b[0m\u001b[0m\n\u001b[0;32m   1137\u001b[0m             \u001b[1;32mif\u001b[0m \u001b[0mengine\u001b[0m \u001b[1;33m==\u001b[0m \u001b[1;34m\"python\"\u001b[0m\u001b[1;33m:\u001b[0m\u001b[1;33m\u001b[0m\u001b[1;33m\u001b[0m\u001b[0m\n",
      "\u001b[1;32m~\\Anaconda3\\lib\\site-packages\\pandas\\io\\parsers.py\u001b[0m in \u001b[0;36m__init__\u001b[1;34m(self, src, **kwds)\u001b[0m\n\u001b[0;32m   1915\u001b[0m         \u001b[0mkwds\u001b[0m\u001b[1;33m[\u001b[0m\u001b[1;34m\"usecols\"\u001b[0m\u001b[1;33m]\u001b[0m \u001b[1;33m=\u001b[0m \u001b[0mself\u001b[0m\u001b[1;33m.\u001b[0m\u001b[0musecols\u001b[0m\u001b[1;33m\u001b[0m\u001b[1;33m\u001b[0m\u001b[0m\n\u001b[0;32m   1916\u001b[0m \u001b[1;33m\u001b[0m\u001b[0m\n\u001b[1;32m-> 1917\u001b[1;33m         \u001b[0mself\u001b[0m\u001b[1;33m.\u001b[0m\u001b[0m_reader\u001b[0m \u001b[1;33m=\u001b[0m \u001b[0mparsers\u001b[0m\u001b[1;33m.\u001b[0m\u001b[0mTextReader\u001b[0m\u001b[1;33m(\u001b[0m\u001b[0msrc\u001b[0m\u001b[1;33m,\u001b[0m \u001b[1;33m**\u001b[0m\u001b[0mkwds\u001b[0m\u001b[1;33m)\u001b[0m\u001b[1;33m\u001b[0m\u001b[1;33m\u001b[0m\u001b[0m\n\u001b[0m\u001b[0;32m   1918\u001b[0m         \u001b[0mself\u001b[0m\u001b[1;33m.\u001b[0m\u001b[0munnamed_cols\u001b[0m \u001b[1;33m=\u001b[0m \u001b[0mself\u001b[0m\u001b[1;33m.\u001b[0m\u001b[0m_reader\u001b[0m\u001b[1;33m.\u001b[0m\u001b[0munnamed_cols\u001b[0m\u001b[1;33m\u001b[0m\u001b[1;33m\u001b[0m\u001b[0m\n\u001b[0;32m   1919\u001b[0m \u001b[1;33m\u001b[0m\u001b[0m\n",
      "\u001b[1;32mpandas\\_libs\\parsers.pyx\u001b[0m in \u001b[0;36mpandas._libs.parsers.TextReader.__cinit__\u001b[1;34m()\u001b[0m\n",
      "\u001b[1;32mpandas\\_libs\\parsers.pyx\u001b[0m in \u001b[0;36mpandas._libs.parsers.TextReader._setup_parser_source\u001b[1;34m()\u001b[0m\n",
      "\u001b[1;31mFileNotFoundError\u001b[0m: [Errno 2] File b'OverviewForOutsideCount.csv' does not exist: b'OverviewForOutsideCount.csv'"
     ]
    }
   ],
   "source": [
    "outside_count_df = pd.read_csv('OverviewForOutsideCount.csv')\n",
    "streetscape_count_df = pd.read_csv('OverviewForStreetScapeCount.csv')\n",
    "under_rain_coat_count_df = pd.read_csv('OverviewForUnderRainCoatCount.csv')"
   ]
  },
  {
   "cell_type": "code",
   "execution_count": null,
   "metadata": {},
   "outputs": [],
   "source": [
    "outside_count_df.time = outside_count_df.time.str[:-6]\n",
    "streetscape_count_df.time = streetscape_count_df.time.str[:-6]\n",
    "under_rain_coat_count_df.time = under_rain_coat_count_df.time.str[:-6]"
   ]
  },
  {
   "cell_type": "code",
   "execution_count": null,
   "metadata": {},
   "outputs": [],
   "source": [
    "from datetime import datetime as dt\n",
    "outside_count_df.time = outside_count_df.apply(lambda x: dt.strptime(x.time, '%Y-%m-%dT%H:%M:%S'), axis = 1)\n",
    "streetscape_count_df.time = streetscape_count_df.apply(lambda x: dt.strptime(x.time, '%Y-%m-%dT%H:%M:%S'), axis = 1)\n",
    "under_rain_coat_count_df.time = under_rain_coat_count_df.apply(lambda x: \n",
    "                                                               dt.strptime(x.time, '%Y-%m-%dT%H:%M:%S'), axis = 1)"
   ]
  },
  {
   "cell_type": "code",
   "execution_count": null,
   "metadata": {},
   "outputs": [],
   "source": [
    "outside_count_by_day = outside_count_df.resample('d', on='time')['pedestrians'].agg(np.sum)\n",
    "streetscape_count_by_day = streetscape_count_df.resample('d', on='time')['pedestrians'].agg(np.sum)\n",
    "under_rain_coat_count_df_by_day = under_rain_coat_count_df.resample('d', on='time')['pedestrians'].agg(np.sum)"
   ]
  },
  {
   "cell_type": "code",
   "execution_count": null,
   "metadata": {
    "scrolled": false
   },
   "outputs": [],
   "source": [
    "fig = go.Figure()\n",
    "fig = fig.add_trace(go.Scatter(x=outside_count_by_day.index, y=outside_count_by_day.values, \n",
    "                         name=\"Outside\",\n",
    "                         line_color='royalblue'))\n",
    "\n",
    "fig = fig.add_trace(go.Scatter(x=streetscape_count_by_day.index, y=streetscape_count_by_day.values, \n",
    "                         name=\"Street Scape\",\n",
    "                         line_color='dimgray'))\n",
    "\n",
    "fig = fig.add_trace(go.Scatter(x=under_rain_coat_count_df_by_day.index, y=under_rain_coat_count_df_by_day.values, \n",
    "                         name=\"Under Rain Coat\",\n",
    "                         line_color='firebrick'))\n",
    "\n",
    "fig = fig.update_layout(title_text='Pedestrians Count By Day',\n",
    "                  xaxis_rangeslider_visible=True)\n",
    "fig.show()"
   ]
  },
  {
   "cell_type": "code",
   "execution_count": null,
   "metadata": {},
   "outputs": [],
   "source": [
    "sum_ped_count_by_day = outside_count_by_day + streetscape_count_by_day + under_rain_coat_count_df_by_day"
   ]
  },
  {
   "cell_type": "code",
   "execution_count": null,
   "metadata": {},
   "outputs": [],
   "source": [
    "sum_ped_count_by_day"
   ]
  },
  {
   "cell_type": "code",
   "execution_count": null,
   "metadata": {},
   "outputs": [],
   "source": [
    "# fig = go.Figure(boxpoints='all')\n",
    "# fig.add_trace(go.Box(x=sum_ped_count_by_day.values))"
   ]
  },
  {
   "cell_type": "markdown",
   "metadata": {},
   "source": [
    "From the time series line plot above, we notced that there are several days that have significantly higher pedestrian count than other days. We will examine this further in the hour granular level."
   ]
  },
  {
   "cell_type": "code",
   "execution_count": null,
   "metadata": {},
   "outputs": [],
   "source": [
    "outside_count_by_hour = outside_count_df.resample('H', on='time')['pedestrians'].agg(np.sum)\n",
    "streetscape_count_by_hour = streetscape_count_df.resample('H', on='time')['pedestrians'].agg(np.sum)\n",
    "rain_coat_count_by_hour = under_rain_coat_count_df.resample('H', on='time')['pedestrians'].agg(np.sum)"
   ]
  },
  {
   "cell_type": "code",
   "execution_count": null,
   "metadata": {},
   "outputs": [],
   "source": [
    "fig = go.Figure()\n",
    "fig = fig.add_trace(go.Scatter(x=outside_count_by_hour.index, y=outside_count_by_hour.values, \n",
    "                         name=\"Outside\",\n",
    "                         line_color='royalblue'))\n",
    "\n",
    "fig = fig.add_trace(go.Scatter(x=streetscape_count_by_hour.index, y=streetscape_count_by_hour.values, \n",
    "                         name=\"Street Scape\",\n",
    "                         line_color='dimgray'))\n",
    "\n",
    "fig = fig.add_trace(go.Scatter(x=rain_coat_count_by_hour.index, y=rain_coat_count_by_hour.values, \n",
    "                         name=\"Under Rain Coat\",\n",
    "                         line_color='firebrick'))\n",
    "\n",
    "fig = fig.update_layout(title_text='Pedestrians Count By Hour',\n",
    "                  xaxis_rangeslider_visible=True)\n",
    "fig.show()"
   ]
  },
  {
   "cell_type": "code",
   "execution_count": null,
   "metadata": {},
   "outputs": [],
   "source": [
    "def plot_pedestrian_count_event(event):\n",
    "    '''\n",
    "    Display time series pedestrian count of the event specified\n",
    "    '''\n",
    "    event_info = event_dates[event_dates.Event == event]\n",
    "    start = dt.strptime(event_info['Starting Time'].values[0], '%Y-%m-%dT%H:%M:%S')\n",
    "    end = dt.strptime(event_info['Ending Time'].values[0], '%Y-%m-%dT%H:%M:%S')\n",
    "    \n",
    "    outside = outside_count_by_hour[(outside_count_by_hour.index >= start) & (outside_count_by_hour.index <= end)]\n",
    "    streetscape = streetscape_count_by_hour[(streetscape_count_by_hour.index >= start) & \\\n",
    "                                            (streetscape_count_by_hour.index <= end)]\n",
    "    rain_coat = rain_coat_count_by_hour[(rain_coat_count_by_hour.index >= start) & \\\n",
    "                                        (rain_coat_count_by_hour.index <= end)]\n",
    "    fig = go.Figure()\n",
    "    fig.add_trace(go.Scatter(x=outside.index, y=outside.values, \n",
    "                         name=\"Outside\",\n",
    "                         line_color='royalblue'))\n",
    "\n",
    "    fig.add_trace(go.Scatter(x=streetscape.index, y=streetscape.values, \n",
    "                         name=\"Street Scape\",\n",
    "                         line_color='dimgray'))\n",
    "\n",
    "    fig.add_trace(go.Scatter(x=rain_coat.index, y=rain_coat.values, \n",
    "                         name=\"Under Rain Coat\",\n",
    "                         line_color='firebrick'))\n",
    "    \n",
    "    fig.add_trace(go.Scatter(x=rain_coat.index, y=outside.values+streetscape.values+rain_coat.values, \n",
    "                         name=\"Sum\",\n",
    "                         line_color='gold'))\n",
    "\n",
    "    fig.update_layout(title_text=f'Pedestrians Count By Event: {event}',\n",
    "                  xaxis_rangeslider_visible=True)\n",
    "    fig.show()"
   ]
  },
  {
   "cell_type": "code",
   "execution_count": null,
   "metadata": {},
   "outputs": [],
   "source": [
    "_ = interact(plot_pedestrian_count_event, \n",
    "             event=widgets.Dropdown(options=event_dates.Event.tolist(), value='Sidewalk Summer Open House'),\n",
    "            )"
   ]
  },
  {
   "cell_type": "markdown",
   "metadata": {},
   "source": [
    "### Subsection: Dwell Time"
   ]
  },
  {
   "cell_type": "code",
   "execution_count": null,
   "metadata": {},
   "outputs": [],
   "source": [
    "# daily dwell time - device\n",
    "feed_dwell_1h_df = pd.concat([get_dwell('feedDwellTimeDistribution', device_ids[i], '1h') \n",
    "                              for i in range(3)])"
   ]
  },
  {
   "cell_type": "code",
   "execution_count": null,
   "metadata": {},
   "outputs": [],
   "source": [
    "feed_dwell_1h_df = feed_dwell_1h_df.dropna()"
   ]
  },
  {
   "cell_type": "code",
   "execution_count": null,
   "metadata": {},
   "outputs": [],
   "source": [
    "feed_dwell_1h_df.time = feed_dwell_1h_df.time.str[:-6]"
   ]
  },
  {
   "cell_type": "code",
   "execution_count": null,
   "metadata": {},
   "outputs": [],
   "source": [
    "feed_dwell_1h_df['device_name'] = [device_dict[d] for d in feed_dwell_1h_df.device]"
   ]
  },
  {
   "cell_type": "code",
   "execution_count": null,
   "metadata": {},
   "outputs": [],
   "source": [
    "feed_dwell_1h_df.time = feed_dwell_1h_df.apply(lambda x: dt.strptime(x.time, '%Y-%m-%dT%H:%M:%S'), axis = 1)"
   ]
  },
  {
   "cell_type": "code",
   "execution_count": null,
   "metadata": {},
   "outputs": [],
   "source": [
    "def plot_dwell_time_event(event, metric):\n",
    "    '''\n",
    "    Display time series of the matrix of the event specified\n",
    "    '''\n",
    "    event_info = event_dates[event_dates.Event == event]\n",
    "    start = dt.strptime(event_info['Starting Time'].values[0], '%Y-%m-%dT%H:%M:%S')\n",
    "    end = dt.strptime(event_info['Ending Time'].values[0], '%Y-%m-%dT%H:%M:%S')\n",
    "\n",
    "    dwell_time_df = feed_dwell_1h_df[(feed_dwell_1h_df.time >= start) & (feed_dwell_1h_df.time <= end)]\n",
    "    \n",
    "    outside = dwell_time_df[dwell_time_df.device_name == 'Outside']\n",
    "    streetscape = dwell_time_df[dwell_time_df.device_name == 'Streetscape']\n",
    "    rain_coat = dwell_time_df[dwell_time_df.device_name == 'Under Raincoat']\n",
    "    \n",
    "    fig = go.Figure()\n",
    "    \n",
    "    fig.add_trace(go.Scatter(x=outside.time, y=outside[metric], \n",
    "                         name=\"Outside\",\n",
    "                         line_color='royalblue'))\n",
    "\n",
    "    fig.add_trace(go.Scatter(x=streetscape.time, y=streetscape[metric], \n",
    "                         name=\"Street Scape\",\n",
    "                         line_color='dimgray'))\n",
    "\n",
    "    fig.add_trace(go.Scatter(x=rain_coat.time, y=rain_coat[metric], \n",
    "                         name=\"Under Rain Coat\",\n",
    "                         line_color='firebrick'))\n",
    "    \n",
    "    fig.update_layout(title_text=f\"Distribution of Pedestrian dwell time ({metric}) By Event: {event}\",\n",
    "                  xaxis_rangeslider_visible=True)\n",
    "    \n",
    "    fig.update_layout(\n",
    "        xaxis_title=\"time\",\n",
    "        yaxis_title=metric,\n",
    "    )\n",
    "    \n",
    "    fig.show()\n",
    "    \n",
    "    "
   ]
  },
  {
   "cell_type": "code",
   "execution_count": null,
   "metadata": {},
   "outputs": [],
   "source": [
    "_ = interact(plot_dwell_time_event, \n",
    "             event=widgets.Dropdown(options=event_dates.Event.tolist(), value='Sidewalk Summer Open House'),\n",
    "             metric=widgets.Dropdown(options=['mean', 'pct100', 'pct75', 'pct50', 'pct25', 'total'], \n",
    "                                     value='mean')\n",
    "            )"
   ]
  },
  {
   "cell_type": "markdown",
   "metadata": {},
   "source": [
    "## Maintenance Strategy"
   ]
  },
  {
   "cell_type": "code",
   "execution_count": 44,
   "metadata": {},
   "outputs": [],
   "source": [
    "# need hourly data so writing the query again; can combine with the previous one later\n",
    "def get_dwell_by_hour(func, ID):\n",
    "    '''\n",
    "    func is either feedDwellTimeDistribution or zoneDwellTimeDistribution\n",
    "    '''\n",
    "    if func == 'feedDwellTimeDistribution':\n",
    "        arg = 'serialnos: \"{0}\"'.format(ID)\n",
    "    else:\n",
    "        arg = 'zoneIds: {0}'.format(ID)\n",
    "        \n",
    "    query = \"\"\"\n",
    "    query {{\n",
    "        {0}(\n",
    "        {1},\n",
    "        startTime: \"2019-02-20T00:00:00\",\n",
    "        endTime: \"2020-01-12T00:00:00\",\n",
    "        timezone: \"America/New_York\",\n",
    "        objClasses: [\"pedestrian\"],\n",
    "        interval: \"1h\"\n",
    "        ){{\n",
    "        edges {{\n",
    "          node {{\n",
    "            time\n",
    "            objClass\n",
    "            pct100\n",
    "            pct75\n",
    "            pct50\n",
    "            pct25\n",
    "            mean\n",
    "            count\n",
    "          }}\n",
    "        }}\n",
    "      }}\n",
    "    }}\n",
    "    \"\"\".format(func, arg)\n",
    "\n",
    "    dwell = requests.post(url, json={'query': query}, \n",
    "                           headers = {'Authorization':token})\n",
    "    \n",
    "    df = pd.DataFrame([x['node'] for x in dwell.json()['data'][func]['edges']])\n",
    "    if func == 'feedDwellTimeDistribution':\n",
    "        df['device'] = ID\n",
    "    else:\n",
    "        df['zone'] = ID\n",
    "    \n",
    "    return df"
   ]
  },
  {
   "cell_type": "code",
   "execution_count": 45,
   "metadata": {},
   "outputs": [],
   "source": [
    "feed_dwell_df = pd.concat([get_dwell_by_hour('feedDwellTimeDistribution', device_ids[i]) \n",
    "                           for i in range(3)])"
   ]
  },
  {
   "cell_type": "code",
   "execution_count": 46,
   "metadata": {},
   "outputs": [],
   "source": [
    "# replace NaN with 0\n",
    "feed_dwell_df = feed_dwell_df.fillna(0)\n",
    "\n",
    "# convert time to timestamp object\n",
    "feed_dwell_df['time'] = feed_dwell_df['time'].str[:-6].apply(lambda x : pd.Timestamp(x))\n",
    "\n",
    "# add name column in addition to ID\n",
    "feed_dwell_df['device_name'] = [device_dict[d] for d in feed_dwell_df.device]"
   ]
  },
  {
   "cell_type": "code",
   "execution_count": 47,
   "metadata": {},
   "outputs": [],
   "source": [
    "import datetime as dt\n",
    "from pandas.api.types import CategoricalDtype\n",
    "days = [(dt.datetime(2019, 3, 4) + dt.timedelta(days=x)).strftime('%a') for x in range(0, 7)]\n",
    "day_type = CategoricalDtype(categories=days, ordered=True)\n",
    "\n",
    "feed_dwell_df['day of week'] = feed_dwell_df['time'].apply(lambda x: x.strftime('%a')).astype(day_type)\n",
    "feed_dwell_df['date'] = feed_dwell_df['time'].apply(lambda x: x.strftime('%Y-%m-%d'))\n",
    "feed_dwell_df['hour'] = feed_dwell_df['time'].apply(lambda x: x.strftime('%H'))\n",
    "feed_dwell_df['hour'] = pd.to_numeric(feed_dwell_df['hour'])"
   ]
  },
  {
   "cell_type": "code",
   "execution_count": 55,
   "metadata": {},
   "outputs": [],
   "source": [
    "daily_count = feed_dwell_df.groupby(['date', 'device_name'])['count'].max()\n",
    "daily_count = pd.DataFrame(daily_count).reset_index()\n",
    "daily_count['date'] = pd.to_datetime(daily_count['date'])"
   ]
  },
  {
   "cell_type": "code",
   "execution_count": 49,
   "metadata": {},
   "outputs": [],
   "source": [
    "def plot_count(selected, start_date, end_date, threshold):\n",
    "    '''\n",
    "    device_or_zone is either 'device' or 'zone';\n",
    "    selected is a list of device rawIds or zone rawIds;\n",
    "    metric is a value in ['mean', 'pct100', 'pct75', 'pct50', 'pct25']\n",
    "    '''\n",
    "    #df = nonzero_df\n",
    "    df = daily_count\n",
    "        \n",
    "    plot_df = df.loc[(df.date >= pd.Timestamp(start_date)) & \n",
    "                     (df.date <= pd.Timestamp(end_date))].copy()\n",
    "    \n",
    "    fig = go.Figure()\n",
    "    \n",
    "    for device in selected:\n",
    "        sub_df = plot_df[plot_df['device_name'] == device]\n",
    "        sub_df_under = sub_df[sub_df['count'] <= threshold]\n",
    "        fig.add_trace(go.Scatter(x=sub_df_under.date, y=sub_df_under['count'], mode='lines', name=device))\n",
    "        # TODO: fix string representation\n",
    "        print(\"There are\", len(sub_df_under), \"days for \", device, \n",
    "              \"with a daily pedestrian count under\", threshold)\n",
    "        print(\"There are\", len(sub_df)-len(sub_df_under), \"days for \", device, \n",
    "              \"with a daily pedestrian count above\", threshold)\n",
    "    \n",
    "    fig.update_layout(\n",
    "        title=\"Pedestrian count under threshold grouped by device\",\n",
    "        xaxis_title=\"time\",\n",
    "        yaxis_title=\"count\")\n",
    "    \n",
    "    fig.show()"
   ]
  },
  {
   "cell_type": "code",
   "execution_count": 50,
   "metadata": {},
   "outputs": [
    {
     "data": {
      "application/vnd.jupyter.widget-view+json": {
       "model_id": "083fb25e0b374267bbe0d5f3faf58977",
       "version_major": 2,
       "version_minor": 0
      },
      "text/plain": [
       "interactive(children=(SelectMultiple(description='selected', index=(0, 1, 2), options=('Streetscape', 'Under R…"
      ]
     },
     "metadata": {},
     "output_type": "display_data"
    }
   ],
   "source": [
    "# SWLSANDBOX1 = Streetscape\n",
    "# SWLSANDBOX2 = Under Raincoat\n",
    "# SWLSANDBOX3 = Outside\n",
    "_ = interact(plot_count, \n",
    "             selected=widgets.SelectMultiple(options=device_names, value=device_names, disabled=False),\n",
    "             start_date=widgets.DatePicker(value=pd.to_datetime('2019-02-20')),\n",
    "             end_date=widgets.DatePicker(value=pd.to_datetime('2020-01-12')),\n",
    "             threshold=widgets.IntSlider(value=500, min=300, max=1000, step=100, readout_format='d')\n",
    "            )"
   ]
  },
  {
   "cell_type": "code",
   "execution_count": 51,
   "metadata": {},
   "outputs": [],
   "source": [
    "# TODO: combine the two box plots to a single interactive\n",
    "def plot_boxplot_count_by_day(threshold):\n",
    "    fig = go.Figure()\n",
    "    \n",
    "    #df, byvals, clrs = get_df(groupby)\n",
    "    df = feed_dwell_df[feed_dwell_df['count'] <= threshold]\n",
    "    days = ['Mon', 'Tue','Wed', 'Thu', 'Fri', 'Sat', 'Sun']\n",
    "    \n",
    "    for i in reversed(range(len(days))):\n",
    "        # Use x instead of y argument for horizontal plot\n",
    "        fig.add_trace(go.Box(x=df.loc[df['day of week']==days[i], 'count'], name=days[i]))\n",
    "\n",
    "    # layout - axes labels\n",
    "    #fig.update_layout(\n",
    "    #    xaxis_title=metric,\n",
    "    #    xaxis_rangeslider_visible=True\n",
    "    #)\n",
    "    # title\n",
    "    \n",
    "    fig.update_layout(\n",
    "        title=\"Pedestrian count under threshold by day of week\",\n",
    "        xaxis_title=\"time\",\n",
    "        yaxis_title=\"count\")\n",
    "    \n",
    "    fig.show()"
   ]
  },
  {
   "cell_type": "code",
   "execution_count": 52,
   "metadata": {},
   "outputs": [
    {
     "data": {
      "application/vnd.jupyter.widget-view+json": {
       "model_id": "64bac23ed8d7414b85e2baff4c174cc4",
       "version_major": 2,
       "version_minor": 0
      },
      "text/plain": [
       "interactive(children=(IntSlider(value=50, description='threshold', max=1000, min=50, step=50), Output()), _dom…"
      ]
     },
     "metadata": {},
     "output_type": "display_data"
    }
   ],
   "source": [
    "_ = interact(plot_boxplot_count_by_day, \n",
    "             threshold=widgets.IntSlider(value=50, min=50, max=1000, step=50, readout_format='d'))"
   ]
  },
  {
   "cell_type": "code",
   "execution_count": 53,
   "metadata": {},
   "outputs": [],
   "source": [
    "def plot_boxplot_count_by_hour(threshold):\n",
    "    fig = go.Figure()\n",
    "    \n",
    "    #df, byvals, clrs = get_df(groupby)\n",
    "    df = feed_dwell_df[feed_dwell_df['count'] <= threshold]\n",
    "    for j in range(7, 21):\n",
    "        fig.add_trace(go.Box(x=df.loc[df['hour']==j, 'count'], name=j))\n",
    "\n",
    "    # layout - axes labels\n",
    "    #fig.update_layout(\n",
    "    #    xaxis_title=metric,\n",
    "    #    xaxis_rangeslider_visible=True\n",
    "    #)\n",
    "    # title\n",
    "    \n",
    "    fig.update_layout(\n",
    "        title=\"Pedestrian count under threshold grouped by hour\",\n",
    "        xaxis_title=\"time\",\n",
    "        yaxis_title=\"count\")\n",
    "    \n",
    "    fig.show()"
   ]
  },
  {
   "cell_type": "code",
   "execution_count": 54,
   "metadata": {},
   "outputs": [
    {
     "data": {
      "application/vnd.jupyter.widget-view+json": {
       "model_id": "6d900897c1d94095af70517957cd1437",
       "version_major": 2,
       "version_minor": 0
      },
      "text/plain": [
       "interactive(children=(IntSlider(value=100, description='threshold', max=1000, min=50, step=50), Output()), _do…"
      ]
     },
     "metadata": {},
     "output_type": "display_data"
    }
   ],
   "source": [
    "_ = interact(plot_boxplot_count_by_hour, \n",
    "             threshold=widgets.IntSlider(value=100, min=50, max=1000, step=50, readout_format='d'))"
   ]
  }
 ],
 "metadata": {
  "kernelspec": {
   "display_name": "Python 3",
   "language": "python",
   "name": "python3"
  },
  "language_info": {
   "codemirror_mode": {
    "name": "ipython",
    "version": 3
   },
   "file_extension": ".py",
   "mimetype": "text/x-python",
   "name": "python",
   "nbconvert_exporter": "python",
   "pygments_lexer": "ipython3",
   "version": "3.7.0"
  }
 },
 "nbformat": 4,
 "nbformat_minor": 4
}
