{
 "cells": [
  {
   "cell_type": "markdown",
   "metadata": {},
   "source": [
    "# Documentation"
   ]
  },
  {
   "cell_type": "markdown",
   "metadata": {},
   "source": [
    "# 0. Context and Preview"
   ]
  },
  {
   "cell_type": "markdown",
   "metadata": {},
   "source": [
    "This preview section introduces the purpose of the webpage and the scope of analysis."
   ]
  },
  {
   "cell_type": "markdown",
   "metadata": {},
   "source": [
    "The webpage focuses on exploratory analysis and mainly consists of interactive widgets. It aims to provide a tool for the users to understand and explore data collected at the [307 area](https://www.azuremagazine.com/article/sidewalk-labs-307/) of the [Sidewalk Labs](https://www.sidewalklabs.com/). \n",
    "\n",
    "The 307 area consists of three `devices` (or `areas`): Streetscape, Under Raincoat and Outside. This section of the webpage displays the images of the areas as well as the predefined behaviour `zones`.\n",
    "\n",
    "The data used here was collected by three Numina sensors, one in each of the three areas, and accessed through the API of Numina. The data has been deidentified; it includes the count, dwell time and the location of objects detected in the 307 area, with a time scope from February 2019 to January 2020. "
   ]
  },
  {
   "cell_type": "markdown",
   "metadata": {},
   "source": [
    "# 1. Pedestrian Count and Dwell Time"
   ]
  },
  {
   "cell_type": "markdown",
   "metadata": {},
   "source": [
    "The first main section of the webpage allows the user to compare patterns in pedestrian count and dwell time across different device areas or behaviour zones. This section aims to allow the user to observe where pedestrians tend to pass through or to linger. Such observations could help the planner understand where and/or when to put more attention. \n",
    "\n",
    "In terms of the overall design of widgets, all widgets in this section allow the user to compare the data across either devices or zones by using the `groupby` option. Every device / zone has been assigned a unique colour; zones in the same device area have been assigned colours of the same hue. In addition, each widget in this section allows the user to specifiy a `metric`. We will refer to the following list as the `full metric list`: count, mean dwell time, median dwell time, max dwell time and total dwell time.\n",
    "\n",
    "All data used in this section can be retrieved through the Numina API; the data used for each plot is either daily dwell/count data or hourly data or a combination of both.\n",
    "\n",
    "The following subsections will state the purpose and rationale behind each plot, as well as any additional method/details."
   ]
  },
  {
   "cell_type": "markdown",
   "metadata": {},
   "source": [
    "### 1.1 Long-Term Trend"
   ]
  },
  {
   "cell_type": "markdown",
   "metadata": {},
   "source": [
    "This plot allows the user to choose from the full metric list and compare the trend of the daily data on count and dwell time over the timeframe. This very first plot aims to give the user a general impression of the data in terms of different metrics. It shows the range of the values and highlights the peaks.\n",
    "\n",
    "We suggest to use this plot for a quick overview rather than for in-depth analysis."
   ]
  },
  {
   "cell_type": "markdown",
   "metadata": {},
   "source": [
    "### 1.2 Peak Days Summary"
   ]
  },
  {
   "cell_type": "markdown",
   "metadata": {},
   "source": [
    "This interactive dataframe allows the user to rank the daily data by any of the metrics in the full metric list. Since the data used to create this webpage is limited, we suggest the user to use this widget to filter out the days with the highest values so as to perform further research on the reasons behind the large values."
   ]
  },
  {
   "cell_type": "markdown",
   "metadata": {},
   "source": [
    "### 1.3 Overall Distribution"
   ]
  },
  {
   "cell_type": "markdown",
   "metadata": {},
   "source": [
    "This box plot also uses daily data and gives the basic statistics of the metrics in the full metric list. In addition to basic quantiles and outliers, the box plot includes dashed lines for mean values. In contrast to the previous time series chart, this plot focuses on the cumulative distribution. This is useful for comparing the popularity of device areas / zones numerically and for identifying the location in which the outlier values occurred."
   ]
  },
  {
   "cell_type": "markdown",
   "metadata": {},
   "source": [
    "### 1.4 Grouping by Time"
   ]
  },
  {
   "cell_type": "markdown",
   "metadata": {},
   "source": [
    "As we are working with time series data, it is natural to see the effects of different time groups (ex. hours, weekdays, months). This grouped bar plot uses either daily or hourly data depending on the \"time group\" specified. If the user groups the data by \"hour\", then hourly data would be used; otherwise daily data would be used for \"dayofweek\" or \"month\".\n",
    "\n",
    "For any specified metric in the full metric list, the plot displays the **median** value of that metric in each hour/weekday/month. We chose to display the median value because we would like to emphasize a general pattern as time changes and we would like to minimize the effects of outlier values. "
   ]
  },
  {
   "cell_type": "markdown",
   "metadata": {},
   "source": [
    "### 1.5 Averaged Proportion"
   ]
  },
  {
   "cell_type": "markdown",
   "metadata": {},
   "source": [
    "Similar to the previous plot, this stacked bar plot also uses either daily or hourly data depending on the \"time group\". \n",
    "\n",
    "In contrast, we only allow the user to choose between count or total dwell time. To generate the plot, compute the proportion of an area or zone in terms of either total count or total dwell time during each hour or day. Then for each area/zone, group the data by the specified \"time group\" and take the average of the proportion values. \n",
    "\n",
    "Note that we decided to use **mean** proportion rather than median proportion since it is reasonable to assume that even for a day had an abnormally high count / total dwell time, the values would still be informative in terms of proportions. The mean proportion values would also always sum up to one.\n",
    "\n",
    "In fact, we believe that the days with a higher count could be more informative on where people tend to be comparing to regular days. Therefore, we offer the option of setting a lower bound on count to select only a subset of the hours/days to be considered. Hence, the user would be able to compare the importance of each device area / zone on crowded days against regular days."
   ]
  },
  {
   "cell_type": "markdown",
   "metadata": {},
   "source": [
    "### 1.6 Events and User Specified Time Interval "
   ]
  },
  {
   "cell_type": "markdown",
   "metadata": {},
   "source": [
    "This interactive time series plot aims to focus on the patterns on events day as specified in the event calendar on the Sidewalk Labs website. Since the calendar might not be complete, we also offer the freedom of customizing the time interval in case the user is aware of an event that is not included here.\n",
    "\n",
    "If the user is uncertain about how to choose the time interval, then we would suggest to consult the dataframe in **1.2** for potentially special days. \n",
    "\n",
    "In order to use this widget, the user should first use the radio buttons to select whether to choose an event or a time interval. Then the user should either use the dropdown menu to select an event or input the `starting_time` and the `ending_time` in the format of 'Y-m-dT00:00:00'."
   ]
  },
  {
   "cell_type": "markdown",
   "metadata": {},
   "source": [
    "# 2. Desired Lines and Spots\n",
    "The second main section of the webpage allows the user to investigate \n",
    "1. desired lines and spots of pedestrians on event days\n",
    "2. difference in desired lines and spots between event days and other days.<br>\n",
    "\n",
    "For each plot in this section, we will focus one of them.\n",
    "\n",
    "In visualization, **heatmap** is the best representation of how objects move about under the camera. To answer the above questions, we used heatmaps to visualize pedestrian's motion on event days. Also, a colour bar is included to guide the audience the density of heatmap on different points.<br>\n",
    "\n",
    "Notice that the colour of a point on the heatmap represents the density of heatmap on that point. (See colour bar).\n",
    "For a spot consisting of mostly high density points, we say that the spot is a desired spot for pedestrian's movement. Similarly, if there is a continous line with mostly high density points on the heatmap, we say that line is a desired line for pedestrian's movement, i.e., they are tend to take on that path. If the audience find the same spots or lines among different event time periods, then the audience may conclude people tend to linger there or choose those paths. <br>\n",
    "\n",
    "Also, we could numerically calculates the total density inside a zone to find out whether that it is a desired zone for pedestrians."
   ]
  },
  {
   "cell_type": "markdown",
   "metadata": {},
   "source": [
    "### Definition and Methods for Heatmaps\n",
    "Please read through this before step into plots.\n",
    "\n",
    "***\n",
    "\n",
    "**Cumulative Heatmap**\n",
    "\n",
    "Since the heatmap on a single event day cannot represent the trend for all event days, we now introduce cumulative heatmaps.\n",
    "\n",
    "The raw heatmap data returned from the API includes a density value between 0 and 1 for each coordinate (x,y) on a camera image. Density values are scaled based on the number of objects detected at that point during a specified time interval. Therefore, directly summing up the density would result in bias in the conclusion.\n",
    "\n",
    "To minimize the effects of this limitation, we first preprocessed the data by multiplying the density value by the corresponding count. For example, assume a point has density 1 on a day with count being 2 and that same point has density 0.1 on another day with count being 20, then our cumulative heatmap would use the value $3 = 1 * 2 + 0.1 * 20$. In this way, the density values would be weighted by the count values and we consider the outcome of summing the weighted densities as cumulative.\n",
    "\n",
    "*Formal Definition*: Let $d1$ and $d2$ be the density value at point (x, y) in a given zone during two different time periods $t1$ and $t2$. Let $c1$ and $c2$ be the count (i.e. number of pedestrians) during $t1$ and $t2$, respectively. \n",
    "Then the (x, y) point on the culumative heatmap has density $c1 * d1 + c2 * d2$.\n",
    "\n",
    "***\n",
    "\n",
    "**Quantiled Heatmap**\n",
    "\n",
    "As mentioned, if there is a continous line with mostly high density points on the heatmap, we say that line is a desired line for pedestrian's movement. Due to the limitation in data visualization, plotting all density values would not yield a clear line nor any cluster of high-valued points. \n",
    "\n",
    "Specifically in a cumulative heatmap, there might be some points with extremely low density values, which could be considered as outliers and thus dropped.\n",
    "\n",
    "Therefore, we introduce quantiled heatmaps which drop low density points based on the percentile (quantile) for a better visualization and an easier analysis. The points are ranked according to their density values and only the points with a rank in the top (1-quantile)% would be kept on the heatmap.\n"
   ]
  },
  {
   "cell_type": "markdown",
   "metadata": {},
   "source": [
    "### 2.1 On Events Summary\n",
    "\n",
    "#### Purpose\n",
    "This plot focuses on finding **desired lines and spots of pedestrians on event days**. <br>\n",
    "\n",
    "#### Rationale and Approach\n",
    "To create this heapmap, we first used the **event calendar** to get the name and time of the events. Additional **data usage** includes heatmap matrix objects for pedestrian objects during the events times under all 3 devices.\n",
    "\n",
    "For **overall design**, we used mutiple subplots to compare the general trend of pedestrians' behaviours on different event days under the same camera, so as to potentially find common desired spots on event days.\n",
    "\n",
    "#### Instruction for Interative Widget\n",
    "\n",
    "- **Camera (Device) Selection**:\n",
    "Since the audience can only choose one camera at one time to plot the heatmaps, we use ToggleButtons for this. There are three cameras, Under Raincoat, Streetscape and Outside."
   ]
  },
  {
   "cell_type": "markdown",
   "metadata": {},
   "source": [
    "### 2.2 At Different Times of Events\n",
    "#### Purpose\n",
    "\n",
    "This plot focuses on finding **desired lines and spots of pedestrians on event days.**\n",
    "\n",
    "#### Rationale and Approach\n",
    "\n",
    "While the previous plot gives us a general (culmulative) heatmap for the whole event time period, this plot investigates whether pedestrians tend to have different behaviours during different hours.\n",
    "\n",
    "For **data usage**, we used **hourly** heatmap data on event days for all 3 cameras.\n",
    "\n",
    "For **overall design** of this plot, the audience can display the **animation** of the hourly changes in a heatmap on a event day. This functionality allows users to observe the trend of desired lines or spots in a more coherent way.\n",
    "\n",
    "#### Instruction for Interative Widget\n",
    "\n",
    "- **Camera(Device) Selection**: Same design as 2.1.\n",
    "- **Event Selection**: We use Dropdown widget to let users to choose event. Since event names are long, dropdown is appropriate to viusalize them.\n",
    "- **Animation Play Widget**: This allows the audience to start, plause and end the animation. \n",
    "- **Hour Slider**: There is an int slider widget for choosing hour in this plot. (**Attention:** this widget is connected to Animation Play widget, that is, any change of animation will affect this widget and vice versa. We recommend you not use this widget after playing animation, or use this widget after you end your animation if you want to zoom into the heatmap of a specific hour)."
   ]
  },
  {
   "cell_type": "markdown",
   "metadata": {},
   "source": [
    "### 2.3 Customized Percentile Check\n",
    "#### Purpose\n",
    "\n",
    "This plot will focus on finding **differences in desired lines and spots between event days and other days.**\n",
    "\n",
    "#### Rationale and Approach\n",
    "\n",
    "This plot uses daily heatmap data of the following groups:\n",
    "\n",
    "    1. event days on the event calendar\n",
    "    2. Sundays --- on which there are weekly open house events\n",
    "    3. top 20 days in terms of pedestrian count --- for a focused analysis on crowded days\n",
    "    4. the overall cumulative data over the entire timeframe\n",
    "\n",
    "Since we are comparing desired lines and spots for different discrete time periods, we applied the **cumulative heatmap** method.\n",
    "\n",
    "The **overall design** of this plot focuses on comparison of patterns across the above four groups and thus offers the choice of investigating two different groups at the same time. It also allows the audience to explore and change different **quantile** (drop low density data points on the heatmap) for both subplots.\n",
    "\n",
    "The upper two pie charts correponds to the upper heatmap, the lower two pie charts correponds to the lower heatmap. In each group of pie charts, the first pie chart visualizes the quantile selected; the second pie chart displays the summed proportion of the density value of the selected points. For example, if for the first heatmap, the top 20% density points account for 70% of the total density, while for the second, the top 20% accout for only 30% of the total density, then we may conclude that the density of the first plot is more concentrated.\n",
    "\n",
    "#### Instruction of Interactive Widget\n",
    "***\n",
    "- **Camera(Device) Selection**: Same design as 2.1.\n",
    "\n",
    "- **Time(Days) period Selection**: We use Dropdown widget to let users to choose days. Two plots for two subplots, the audience compare between any two of them. There are four options for this dropdown, event days, sundays, high dwell count days, all the days.\n",
    "\n",
    "- **Percentile Slider**: There are two percentile sliders for two subplots. The audience can choose any interger value between 0 and 100. The number here means percentile, 100 means drop all data points on the plot."
   ]
  },
  {
   "cell_type": "markdown",
   "metadata": {},
   "source": [
    "### 2.4 Customized Spot Check\n",
    "#### Purpose\n",
    "\n",
    "This plot will focus on finding **differences in desired lines and spots between event days and other days.**\n",
    "\n",
    "#### Rationale and Approach\n",
    "\n",
    "While the previous plots focus on visualizations, this plot aims to provide a tool to interpret the visualization in terms of concrete numbers. Specifically, the user can check the density value of a desired spot recognized through previous heatmaps as well as the density around any customized spot (ex. a functionality zone such as chair zone). Notice that the focus of this part is customized spot check, so the user can choose to not show heatmaps so as to choose the spot based on the object or functionality zone rather than density on the heatmap.\n",
    "\n",
    "The audience is allowed to draw one circle on each subplot by giving a center coordinate and a radius, and our page will calculate the total density and total area inside that circle in comparison to the total density and area of the heatmap. For example, if a user draws a circle that has 2.4% of the total area but only 10% of the total density, then the user may consider that point (circle) as a potential desired spot and then do a further investigation. Notice that the user is not allowed to draw different circles on two plots since this is not meaningful for comparison.\n",
    "\n",
    "We used the same data as 2.3. Also similar to 2.3, we have four pie charts, two for each subplot.\n",
    "In each group of pie charts, the first pie chart visualizes the proportion of density inside the selected circle; the second pie chart represents the proportion of the area covered by the circle.\n",
    "\n",
    "#### Instruction of Interative Widget\n",
    "\n",
    "- **Camera (Device) Selection**: Same rationale and design as 2.1.\n",
    "- **Time (Days) period Selection**: We use Dropdown widget to let users to choose days. Two plots for two subplots, the audience compare between any two of them. There are four options for this dropdown, event days, sundays, high dwell count days, all the days.\n",
    "- **Show Heatmap checkbox**: We use checkbox to allow the audience to choose to show heatmap on the plot or not. The advantage of this is in the design part.\n",
    "- **Coordinate Slider**: There are two coordinate sliders for two axies. It is the center of the circle. The audience is allowed to choose the coordinate value between the range so that circle will not be plotted outside the boundary even given the highest radius. Because of this restriction, intsilder widget may be better than a text box to fill in the number.\n",
    "-  **Radius Slider**: This will give us the radius of the circle. The maximum of the radius is 50, the minmum is 10. Too large or too small value of radius will be useless for finding desired spots."
   ]
  },
  {
   "cell_type": "markdown",
   "metadata": {},
   "source": [
    "### 2.5 Conflicts with Cars"
   ]
  },
  {
   "cell_type": "markdown",
   "metadata": {},
   "source": [
    "#### Purpose\n",
    "***\n",
    "This plot is an extension from the given questions, and it explores the **conflicting lines of pedestrians and cars** (i.e. lines of most overlaps between paths taken by pedestrians and cars). We cannot directly get the information from the dashboard, as we don't know if the lines displayed were paths taken at the same time. We think this analysis is meaningful, because if we find certain areas or lines with most conflicts, we may introduce designs to separate pedestrians from cars. For example, hanging a slow down road sign, or setting up barriers. \n",
    "\n",
    "#### Rationale and Approach\n",
    "***\n",
    "We calculate a **conflicting index** to evaluate the degree of conflicts:  \n",
    "We draw a circle of radius 50 around each car, and calculate the number of pedestrians in that circle. We calculate a weighted sum of the pedestrian density divided by the distance of pedestrian from the car. We create a dataframe of conflicting index for each hour.\n",
    "\n",
    "Then we plot the conflicting index on a heatmap to see which area has most conflicts.\n",
    "\n",
    "\n",
    "#### Instruction (Interative Part)\n",
    "***\n",
    "Cumulative Conflicting Index: \n",
    "- **Objclass Selection**: choose to view the count of pedestrian or cars.  \n",
    "- **Metric Selection**: choose to view the median/mean/max of the selected type of object.  \n",
    "\n",
    "Conflicting Heatmap:  \n",
    "- **Time Slider**: choose to view the conflicted areas during the given hour."
   ]
  },
  {
   "cell_type": "markdown",
   "metadata": {},
   "source": [
    "# 3. Maintenance Schedule"
   ]
  },
  {
   "cell_type": "markdown",
   "metadata": {},
   "source": [
    "### 3.1 Maintenance Schedule by Pedestrian Count or Dwell Time\n",
    "This plot is a calendar heatmap that shows maintenance schedule by pedestrian count or dwell time, based on the `metric` selected by the user. \n",
    "\n",
    "We define our metrics as such:  \n",
    "`Pedestrian count`: We choose the maximum hourly pedestrian count as a metric for people, as the total daily pedestrian count may be an overestimate because people would exit and re-enter the area within the same day.   \n",
    "`Dwell time`: We multiply the pedestrian count by mean dwell time to get total dwell time of each day.  \n",
    "\n",
    "The user can select a `threshold`, and the default is set as 500. The maintenance schedule is planned as such: First we would check if it is a busy day with pedestrian count or dwell time more than the threshold. If so, an extra maintenance would be schedule on that day; otherwise, this number is added to the number of unmaintained visitors or hours. When the unmaintained number exceeds the threshold, a regular maintenance would be scheduled. Every time a maintenace is scheduled, the unmaintained number clears to zero. "
   ]
  },
  {
   "cell_type": "markdown",
   "metadata": {},
   "source": [
    "### 3.2 Maintenance Time During the Day\n",
    "This plot is a calendar heatmap that shows the average pedestrian count or dwell time by hour during each day of week, based on the `metric` selected by the user. The user can select an area from Streetscape, Under Raincoat, or Outside, or select \"all\" to see the sum of these three areas. The user can also customize the time range to display data from that period.\n",
    "\n",
    "The user can select either `extra` or `regular` service. If `regular` is selected, busy hours with a number over `threshold` would not be included in the data displayed."
   ]
  }
 ],
 "metadata": {
  "kernelspec": {
   "display_name": "Python 3",
   "language": "python",
   "name": "python3"
  },
  "language_info": {
   "codemirror_mode": {
    "name": "ipython",
    "version": 3
   },
   "file_extension": ".py",
   "mimetype": "text/x-python",
   "name": "python",
   "nbconvert_exporter": "python",
   "pygments_lexer": "ipython3",
   "version": "3.7.0"
  }
 },
 "nbformat": 4,
 "nbformat_minor": 4
}
