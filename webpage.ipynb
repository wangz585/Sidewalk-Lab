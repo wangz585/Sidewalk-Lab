{
 "cells": [
  {
   "cell_type": "markdown",
   "metadata": {},
   "source": [
    "# Assignment 3 "
   ]
  },
  {
   "cell_type": "markdown",
   "metadata": {},
   "source": [
    "# Table of Content\n",
    "\n",
    "## Data Exploration\n",
    "1. People's Behavior in terms of Dwell Time \n",
    "2. Which areas of 307 do people pass through\n",
    "3. Where do people tend to linger?\n",
    "4. How does dwell time change over time?\n",
    "\n",
    "## In-depth Analysis\n",
    "1. How do different zones affect people's behavior?\n",
    "2. How do events affect people's behavior?\n",
    "3. What is the best maintenance strategy?\n",
    "4. What are other factor affect people's bahavior?"
   ]
  },
  {
   "cell_type": "code",
   "execution_count": 1,
   "metadata": {},
   "outputs": [],
   "source": [
    "import pandas as pd\n",
    "import numpy as np\n",
    "import matplotlib.pyplot as plt\n",
    "import matplotlib.image as mpimg \n",
    "import matplotlib.gridspec as gridspec\n",
    "from matplotlib import colors as mcolors"
   ]
  },
  {
   "cell_type": "code",
   "execution_count": 48,
   "metadata": {},
   "outputs": [
    {
     "data": {
      "text/html": [
       "        <script type=\"text/javascript\">\n",
       "        window.PlotlyConfig = {MathJaxConfig: 'local'};\n",
       "        if (window.MathJax) {MathJax.Hub.Config({SVG: {font: \"STIX-Web\"}});}\n",
       "        if (typeof require !== 'undefined') {\n",
       "        require.undef(\"plotly\");\n",
       "        requirejs.config({\n",
       "            paths: {\n",
       "                'plotly': ['https://cdn.plot.ly/plotly-latest.min']\n",
       "            }\n",
       "        });\n",
       "        require(['plotly'], function(Plotly) {\n",
       "            window._Plotly = Plotly;\n",
       "        });\n",
       "        }\n",
       "        </script>\n",
       "        "
      ]
     },
     "metadata": {},
     "output_type": "display_data"
    }
   ],
   "source": [
    "import plotly as py\n",
    "import plotly.express as px\n",
    "import plotly.graph_objs as go\n",
    "from plotly.offline import iplot, init_notebook_mode\n",
    "#init_notebook_mode(connected=True)\n",
    "\n",
    "import cufflinks as cf\n",
    "cf.go_offline(connected=True)\n",
    "cf.set_config_file(colorscale='plotly', world_readable=True)\n",
    "\n",
    "# Extra options\n",
    "# pd.options.display.max_rows = 30\n",
    "# pd.options.display.max_columns = 25\n",
    "\n",
    "# Show all code cells outputs\n",
    "from IPython.core.interactiveshell import InteractiveShell\n",
    "InteractiveShell.ast_node_interactivity = 'all'\n",
    "\n",
    "import os\n",
    "from IPython.display import Image, display, HTML\n",
    "\n",
    "import time"
   ]
  },
  {
   "cell_type": "code",
   "execution_count": 3,
   "metadata": {},
   "outputs": [],
   "source": [
    "import ipywidgets as widgets\n",
    "from ipywidgets import interact, interact_manual"
   ]
  },
  {
   "cell_type": "code",
   "execution_count": 4,
   "metadata": {},
   "outputs": [],
   "source": [
    "# store login data in login.py\n",
    "%run login.py"
   ]
  },
  {
   "cell_type": "code",
   "execution_count": 5,
   "metadata": {},
   "outputs": [],
   "source": [
    "# login query as multiline formatted string\n",
    "# this assumes that login and pwd are defined \n",
    "# above\n",
    "\n",
    "loginquery = f\"\"\"\n",
    "mutation {{\n",
    "  logIn(\n",
    "      email:\\\"{login}\\\",\n",
    "      password:\\\"{pwd}\\\") {{\n",
    "    jwt {{\n",
    "      token\n",
    "      exp\n",
    "    }}\n",
    "  }}\n",
    "}}\n",
    "\"\"\""
   ]
  },
  {
   "cell_type": "code",
   "execution_count": 6,
   "metadata": {},
   "outputs": [],
   "source": [
    "import requests\n",
    "url = 'https://api.numina.co/graphql'\n",
    "\n",
    "mylogin = requests.post(url, json={'query': loginquery})\n",
    "# mylogin"
   ]
  },
  {
   "cell_type": "code",
   "execution_count": 7,
   "metadata": {},
   "outputs": [],
   "source": [
    "token = mylogin.json()['data']['logIn']['jwt']['token']"
   ]
  },
  {
   "cell_type": "code",
   "execution_count": 8,
   "metadata": {},
   "outputs": [],
   "source": [
    "expdate = mylogin.json()\n",
    "# expdate"
   ]
  },
  {
   "cell_type": "markdown",
   "metadata": {},
   "source": [
    "# Context and Preview"
   ]
  },
  {
   "cell_type": "markdown",
   "metadata": {},
   "source": [
    "The following images present the areas covered by the three devices/cameras:"
   ]
  },
  {
   "cell_type": "markdown",
   "metadata": {},
   "source": [
    "Streetscape | Under Raincoat | Outside\n",
    "------------- | -------------  | -------------\n",
    "![alt](streetscape_sandbox.png) | ![alt](underraincoat_sandbox.png) | ![alt](outside_sandbox.png)"
   ]
  },
  {
   "cell_type": "markdown",
   "metadata": {},
   "source": [
    "As you see in the above images, each area essentially consists of two parts: objects such as tables and chairs, and empty spaces presumably for walking. Based on this reasoning, we have defined the following smaller behaviour zones so as to perform more in-depth research:"
   ]
  },
  {
   "cell_type": "markdown",
   "metadata": {},
   "source": [
    "### Streetscape ###\n",
    "\n",
    "Chair Zone | Corridor Zone | Free Zone\n",
    "------------- | -------------  | -------------\n",
    "![alt](BehaviorZoneImage/Streetscape-ChairZone.png) | ![alt](BehaviorZoneImage/Streetscape-PathZone.png) | ![alt](BehaviorZoneImage/Streetscape-ActivityZone.png)"
   ]
  },
  {
   "cell_type": "markdown",
   "metadata": {},
   "source": [
    "### Under Raincoat ###\n",
    "\n",
    "Chair Zone | Traffic Zone | Free Zone\n",
    "------------- | -------------  | -------------\n",
    "![alt](BehaviorZoneImage/UnderRaincoat-ChairZone.png) | ![alt](BehaviorZoneImage/UnderRaincoat-TrafficZone.png) | ![alt](BehaviorZoneImage/UnderRaincoat-ActivityZone.png)"
   ]
  },
  {
   "cell_type": "markdown",
   "metadata": {},
   "source": [
    "### Outside ###\n",
    "\n",
    "Chair Zone | Path Zone | -\n",
    "------------- | -------------  | -------------\n",
    "![alt](BehaviorZoneImage/Outside-ChairZone.png) | ![alt](BehaviorZoneImage/Outside-PathZone.png) | ![alt](blank.png)"
   ]
  },
  {
   "cell_type": "markdown",
   "metadata": {},
   "source": [
    "Note that we have to be aware of the fact that the chairs can be moved and that the above images may not necessarily reflect the layout of the room during the whole period of data collection. Specifically, the three sets of chairs in the Under Raincoat area can be easily moved. Thus, for the purpose of this webpage, we will not be investigating the Chair Zone of Under Raincoat; instead, we will integrate any analysis of the chairs into the analysis of the Free Zone, since it is presumably safe to assume that the chairs would not be moved outside the Free Zone to the Traffic Zone.\n",
    "\n",
    "Similarly, in the Streetscape area, under the assumption that it is intended to place the chairs together, it is unlikely that the group of chairs would be moved around freely and frequently due to the other obstacles in the room. As for the Outside area, it is also unlikely that the chairs would be placed in the middle of the road to block the path. Thus, we will be analyzing these two Chair Zones (while keeping the limitation in mind)."
   ]
  },
  {
   "cell_type": "markdown",
   "metadata": {},
   "source": [
    "# Patterns in Pedestrian Count and Dwell Time"
   ]
  },
  {
   "cell_type": "code",
   "execution_count": 9,
   "metadata": {},
   "outputs": [],
   "source": [
    "# device info\n",
    "device_dict = {'SWLSANDBOX1':'Streetscape', 'SWLSANDBOX2':'Under Raincoat', 'SWLSANDBOX3':'Outside'}\n",
    "device_ids = list(device_dict.keys())\n",
    "device_names = list(device_dict.values())"
   ]
  },
  {
   "cell_type": "code",
   "execution_count": 10,
   "metadata": {},
   "outputs": [],
   "source": [
    "def get_zones(device_id):\n",
    "    '''\n",
    "    a query to get all zones within the areas included in the device_id list;\n",
    "    returns a df\n",
    "    '''\n",
    "    query_zones = \"\"\"\n",
    "    query {{\n",
    "      behaviorZones (\n",
    "        serialnos: \"{0}\"\n",
    "        ) {{\n",
    "        count\n",
    "        edges {{\n",
    "          node {{\n",
    "            rawId\n",
    "            text\n",
    "          }}\n",
    "        }}\n",
    "      }}\n",
    "    }}\n",
    "    \"\"\".format(device_id)\n",
    "    \n",
    "    zones = requests.post(url, json={'query': query_zones}, headers = {'Authorization':token})\n",
    "    \n",
    "    df = pd.DataFrame([x['node'] for x in zones.json()['data']['behaviorZones']['edges']])\n",
    "    df['device_id'] = device_id\n",
    "    \n",
    "    return df"
   ]
  },
  {
   "cell_type": "code",
   "execution_count": 11,
   "metadata": {},
   "outputs": [],
   "source": [
    "# creates a df for zones\n",
    "\n",
    "# get zones\n",
    "zones_df = pd.concat([get_zones(device_ids[i]) for i in range(3)])\n",
    "zones_df = zones_df[(zones_df.text.notnull()) & \n",
    "                    (zones_df.text.str.startswith('x-')) & \n",
    "                    (zones_df.text.str.endswith('zone'))]"
   ]
  },
  {
   "cell_type": "code",
   "execution_count": 12,
   "metadata": {
    "scrolled": true
   },
   "outputs": [],
   "source": [
    "# adjusts zone info\n",
    "\n",
    "# modify zone name and add a type\n",
    "zones_df['text'] = zones_df['text'].str.replace('x-', '')\n",
    "zones_df['type'] = ['path', 'rest', 'both', 'path', 'both', 'rest', 'path']\n",
    "\n",
    "# colour of zones - 3 blues, 2 reds, 2 greens\n",
    "zone_clrs = ['royalblue', 'deepskyblue', 'dodgerblue',\n",
    "             'lightcoral', 'orangered', \n",
    "             'mediumaquamarine', 'mediumseagreen']\n",
    "\n",
    "# zone ID from int to str\n",
    "zones_df.rawId = zones_df.rawId.astype(str)\n",
    "zone_name_dict = dict(zip(zones_df.rawId, zones_df.text))\n",
    "zone_type_dict = dict(zip(zones_df.rawId, zones_df.type))"
   ]
  },
  {
   "cell_type": "code",
   "execution_count": 13,
   "metadata": {},
   "outputs": [],
   "source": [
    "def get_dwell(func, ID, interval):\n",
    "    '''\n",
    "    func is either feedDwellTimeDistribution or zoneDwellTimeDistribution;\n",
    "    a query to get dwell info in area/zone identified by ID;\n",
    "    returns a preprocessed dataframe\n",
    "    '''\n",
    "    if func == 'feedDwellTimeDistribution':\n",
    "        arg = 'serialnos: \"{0}\"'.format(ID)\n",
    "    else:\n",
    "        arg = 'zoneIds: {0}'.format(ID)\n",
    "        \n",
    "    query = \"\"\"\n",
    "    query {{\n",
    "        {0}(\n",
    "        {1},\n",
    "        startTime: \"2019-02-20T00:00:00\",\n",
    "        endTime: \"2020-01-12T00:00:00\",\n",
    "        timezone: \"America/New_York\",\n",
    "        objClasses: [\"pedestrian\"],\n",
    "        interval: \"{2}\"\n",
    "        ){{\n",
    "        edges {{\n",
    "          node {{\n",
    "            time\n",
    "            objClass\n",
    "            pct100\n",
    "            pct75\n",
    "            pct50\n",
    "            pct25\n",
    "            mean\n",
    "            count\n",
    "          }}\n",
    "        }}\n",
    "      }}\n",
    "    }}\n",
    "    \"\"\".format(func, arg, interval)\n",
    "\n",
    "    dwell = requests.post(url, json={'query': query}, \n",
    "                           headers = {'Authorization':token})\n",
    "    \n",
    "    # traverse to only keep useful info\n",
    "    df = pd.DataFrame([x['node'] for x in dwell.json()['data'][func]['edges']])\n",
    "    # add a column\n",
    "    if func == 'feedDwellTimeDistribution':\n",
    "        df['device_id'] = ID\n",
    "    else:\n",
    "        df['zone_id'] = ID\n",
    "    \n",
    "    return df"
   ]
  },
  {
   "cell_type": "code",
   "execution_count": 14,
   "metadata": {},
   "outputs": [],
   "source": [
    "def preprocess(df):\n",
    "    '''\n",
    "    preprocesses a dataframe returned by feedDwellTimeDistribution/zoneDwellTimeDistribution\n",
    "    '''\n",
    "    # replace NaN with 0\n",
    "    df = df.fillna(0)\n",
    "    # convert time\n",
    "    df['time'] = df['time'].str[:-6].apply(lambda x : pd.Timestamp(x))\n",
    "    df['month'] = df['time'].dt.month\n",
    "    df['dayofweek'] = df['time'].dt.dayofweek\n",
    "    df['hour'] = df['time'].dt.hour\n",
    "    df['date'] = df['time'].dt.date\n",
    "    \n",
    "    # add either zone or device name\n",
    "    if 'zone_id' in df.columns:\n",
    "        df.zone_id = df.zone_id.astype(str)\n",
    "        df['zone'] = [zone_name_dict[z] for z in df.zone_id]\n",
    "        df['zone_type'] = [zone_type_dict[z] for z in df.zone_id]\n",
    "    else:\n",
    "        df['device'] = [device_dict[d] for d in df.device_id]\n",
    "    \n",
    "    # add a total column = mean * count\n",
    "    df['total_dwell'] = df['mean'] * df['count']\n",
    "    df = df.rename(columns={'mean':'mean_dwell', 'pct50':'median_dwell', 'pct100':'max_dwell'})\n",
    "    df = df.drop(['pct75', 'pct25'], axis=1)\n",
    "    \n",
    "    return df"
   ]
  },
  {
   "cell_type": "code",
   "execution_count": 15,
   "metadata": {},
   "outputs": [],
   "source": [
    "# hourly dwell time \n",
    "# device\n",
    "feed_dwell_1h_df = pd.concat([get_dwell('feedDwellTimeDistribution', device_ids[i], '1h') \n",
    "                              for i in range(3)])\n",
    "# zone\n",
    "zone_dwell_1h_df = pd.concat([get_dwell('zoneDwellTimeDistribution', z, '1h')\n",
    "                             for z in zones_df['rawId'].values])\n",
    "feed_dwell_1h_df = preprocess(feed_dwell_1h_df)\n",
    "zone_dwell_1h_df = preprocess(zone_dwell_1h_df)"
   ]
  },
  {
   "cell_type": "code",
   "execution_count": 16,
   "metadata": {},
   "outputs": [],
   "source": [
    "# daily dwell time \n",
    "# device\n",
    "feed_dwell_1d_df = pd.concat([get_dwell('feedDwellTimeDistribution', device_ids[i], '1d') \n",
    "                              for i in range(3)])\n",
    "# zone\n",
    "zone_dwell_1d_df = pd.concat([get_dwell('zoneDwellTimeDistribution', z, '1d')\n",
    "                             for z in zones_df['rawId'].values])\n",
    "feed_dwell_1d_df = preprocess(feed_dwell_1d_df)\n",
    "zone_dwell_1d_df = preprocess(zone_dwell_1d_df)"
   ]
  },
  {
   "cell_type": "code",
   "execution_count": 17,
   "metadata": {},
   "outputs": [],
   "source": [
    "def get_df(groupby, interval):\n",
    "    '''\n",
    "    helper function to be called by other functions\n",
    "    '''\n",
    "    if groupby == 'device' and interval == '1d':\n",
    "        return feed_dwell_1d_df.copy(), device_names\n",
    "    elif groupby == 'zone' and interval == '1d':\n",
    "        return zone_dwell_1d_df.copy(), list(zones_df.text)\n",
    "    elif groupby == 'device' and interval == '1h':\n",
    "        return feed_dwell_1h_df.copy(), device_names\n",
    "    elif groupby == 'zone' and interval == '1h':\n",
    "        return zone_dwell_1h_df.copy(), list(zones_df.text)"
   ]
  },
  {
   "cell_type": "markdown",
   "metadata": {},
   "source": [
    "As a starting point, we will use the following interactive line plot to explore the trend in pedesdrian count / dwell time in different areas / zones over the past year. We suggest to focus on comparing across the three areas (i.e. 'groupby' = 'device'). \n",
    "\n",
    "Tip: You can click the legend on the right to include/exclude a line on the plot."
   ]
  },
  {
   "cell_type": "code",
   "execution_count": 18,
   "metadata": {},
   "outputs": [],
   "source": [
    "metric_list = ['count', 'mean_dwell', 'max_dwell', 'median_dwell', 'total_dwell']"
   ]
  },
  {
   "cell_type": "code",
   "execution_count": 19,
   "metadata": {},
   "outputs": [],
   "source": [
    "def plot_timeline(groupby, metric):\n",
    "    '''\n",
    "    groupby is either 'device' or 'zone';\n",
    "    metric is a value in metric_list\n",
    "    '''\n",
    "    df, _ = get_df(groupby, '1d')\n",
    "    \n",
    "    # line plot\n",
    "    fig = px.line(df, x='time', y=metric, color=groupby, \n",
    "                  title='Trend in Daily Pedestrian ' +\\\n",
    "                        metric.replace('_', ' ').title() + ' Grouped by '+groupby.capitalize())\n",
    "    \n",
    "    # layout - axes labels\n",
    "    fig.update_layout(\n",
    "        xaxis_rangeslider_visible=True\n",
    "    )\n",
    "    \n",
    "    fig.show()\n",
    "    "
   ]
  },
  {
   "cell_type": "code",
   "execution_count": 20,
   "metadata": {},
   "outputs": [
    {
     "data": {
      "application/vnd.jupyter.widget-view+json": {
       "model_id": "cf38ccc4f8d94700a0d7072bfe413a66",
       "version_major": 2,
       "version_minor": 0
      },
      "text/plain": [
       "interactive(children=(RadioButtons(description='groupby', options=('device', 'zone'), value='device'), Dropdow…"
      ]
     },
     "metadata": {},
     "output_type": "display_data"
    }
   ],
   "source": [
    "_ = interact(plot_timeline, \n",
    "             groupby=widgets.RadioButtons(options=['device', 'zone'], value='device'),\n",
    "             metric=widgets.Dropdown(options=metric_list, value='mean_dwell')\n",
    "            )"
   ]
  },
  {
   "cell_type": "markdown",
   "metadata": {},
   "source": [
    "As a general observation, there is not obvious increasing/decreasing trend (but rather frequent ups and downs) in any of the metric in the past year.\n",
    "\n",
    "We observe the count (and thus the total dwell time) in the Streetscape area has been siginificantly higher than the other two areas. Meanwhile, we see that peaks in mean dwell time tended to occur in Streetscape, and peaks in max dwell time tended to occur in either Streetscape or Outside. From either perspective, the Under Raincoat area is not as popular.\n",
    "\n",
    "If you are interested in researching about the reason about the peaks, the following interactive dataframe summarizes the exact locations and dates:"
   ]
  },
  {
   "cell_type": "code",
   "execution_count": 21,
   "metadata": {},
   "outputs": [
    {
     "data": {
      "application/vnd.jupyter.widget-view+json": {
       "model_id": "556efb3ce2184e43b9d0c63276454988",
       "version_major": 2,
       "version_minor": 0
      },
      "text/plain": [
       "interactive(children=(RadioButtons(description='groupby', options=('device', 'zone'), value='device'), Dropdow…"
      ]
     },
     "metadata": {},
     "output_type": "display_data"
    }
   ],
   "source": [
    "def sort_dwell_1d(groupby, sortby, ascending, top):\n",
    "    '''\n",
    "    display a dataframe summarizing the area/zone and times of the top days\n",
    "    in either descending or ascending order\n",
    "    '''\n",
    "    df, _ = get_df(groupby, '1d')\n",
    "    \n",
    "    # weekday name\n",
    "    df['dayofweek'] = df['time'].dt.day_name()\n",
    "    \n",
    "    # column list\n",
    "    cols = [groupby, 'time', 'dayofweek', sortby]\n",
    "    if sortby == 'count':\n",
    "        cols.append('mean_dwell')\n",
    "    elif sortby == 'mean_dwell':\n",
    "        cols.append('count')\n",
    "    else:\n",
    "        cols.append('count')\n",
    "        cols.append('mean_dwell')\n",
    "        \n",
    "    display(df.sort_values(sortby, ascending=ascending).reset_index(drop=True)\n",
    "              .loc[:int(top)-1, cols])\n",
    "\n",
    "_ = interact(sort_dwell_1d, \n",
    "             groupby=widgets.RadioButtons(options=['device', 'zone'], value='device'),\n",
    "             sortby=widgets.Dropdown(options=metric_list, value='mean_dwell'),\n",
    "             top=widgets.IntSlider(value=5, min=1, max=30, step=1, readout_format='d'),\n",
    "             ascending=widgets.Checkbox(value=False, description='ascending'))"
   ]
  },
  {
   "cell_type": "markdown",
   "metadata": {},
   "source": [
    "If, in addition to general observations, you are also interested in comparing the statistics/distribution of a metric across the three areas (ex. the medians of mean dwell time), the following boxplots would be very useful. As mentioned, we highly recommend to focus on device groups only at this point."
   ]
  },
  {
   "cell_type": "code",
   "execution_count": 22,
   "metadata": {},
   "outputs": [],
   "source": [
    "def plot_boxplot(groupby, metric):\n",
    "    '''\n",
    "    plots box plot distribution of metric in metric list\n",
    "    '''\n",
    "    fig = go.Figure()\n",
    "    \n",
    "    # colours\n",
    "    if groupby == 'zone':\n",
    "        clrs = zone_clrs\n",
    "    else:\n",
    "        # default colours in sequence named plotly\n",
    "        # to be consistent\n",
    "        clrs = ['#636DFA', '#EF553B', '#00CC96']\n",
    "        \n",
    "    df, byvals = get_df(groupby, '1d')\n",
    "    \n",
    "    for i in range(len(byvals)):\n",
    "        # Use x instead of y argument for horizontal plot\n",
    "        fig.add_trace(go.Box(x=df.loc[df[groupby]==byvals[i], metric], name=byvals[i],\n",
    "                             boxpoints='outliers', boxmean=True, marker_color=clrs[i]))\n",
    "\n",
    "    # layout - axes labels\n",
    "    fig.update_layout(\n",
    "        xaxis_title=metric,\n",
    "        xaxis_rangeslider_visible=True,\n",
    "        title='Distribution of Pedestrian ' + \\\n",
    "              metric.replace('_', ' ').title() + ' Grouped by Device'\n",
    "    )\n",
    "    \n",
    "    fig.show()\n",
    "    "
   ]
  },
  {
   "cell_type": "code",
   "execution_count": 23,
   "metadata": {
    "scrolled": false
   },
   "outputs": [
    {
     "data": {
      "application/vnd.jupyter.widget-view+json": {
       "model_id": "c498fa54ba584cc2bc3eef771a9f0210",
       "version_major": 2,
       "version_minor": 0
      },
      "text/plain": [
       "interactive(children=(RadioButtons(description='groupby', options=('device', 'zone'), value='device'), Dropdow…"
      ]
     },
     "metadata": {},
     "output_type": "display_data"
    }
   ],
   "source": [
    "_ = interact(plot_boxplot, groupby=widgets.RadioButtons(options=['device', 'zone'], value='device'),\n",
    "             metric=widgets.Dropdown(options=metric_list, value='count')\n",
    "            )"
   ]
  },
  {
   "cell_type": "markdown",
   "metadata": {},
   "source": [
    "As we are working with time series data, it is natural to see the effects of different time groups (ex. hours, weekdays, months). We have obtained daily and hourly data. We decided to use 'mean_dwell' as a representative for dwell time data; then we picked 'hour' and 'dayofweek' for hourly data and 'dayofweek' and 'month' for daily data to create the following matrix:"
   ]
  },
  {
   "cell_type": "markdown",
   "metadata": {},
   "source": [
    "We suggest to focus on the subplots in the upper triangle. \n",
    "\n",
    "From the hourly data, we observe that 'hour' is a significant factor affecting the number of pedestrians passing through (but we cannot tell whether it is true for the dwell time). As we would expect, counts are mostly 0 early in the morning (e.g. before 6am) and reach the peak in the afternoon. We also observe that the outliers / extreme values in 'hourly count' tended to occur on Saturday in the Streetscape (i.e. indoor) area. \n",
    "\n",
    "If we compare and contrast the individual distributions of count and mean_dwell, we see that both are right-skewed. However, the distribution of mean dwell time has a much thinner tail, suggesting that mean dwell time tended to be very similar across different hours and days while the count varies more; meanwhile, only the distribution of count suggests that the Streetscape area is significantly more popular than the other two. As a result, we see that the scatter plot between count and mean_dwell shows an 'L' shape, showing that there did not exist an hour in which both the count and mean dwell time are high. In fact, if you hover over the four points with the highest mean_dwell value, you would see that they all have a count of 1. In addition, the plot suggests a weak to no correlation between the two attributes."
   ]
  },
  {
   "cell_type": "markdown",
   "metadata": {},
   "source": [
    "Then if we switch to the daily data, the distributions of the count and the mean dwell time are still right-skewed (but with less variation) and still no obvious correlation is exhibited. Solely based on the above scatterplot, since most points overlap, we cannot conclude that 'month' or 'dayofweek' is an important factor affecting the daily data. \n",
    "\n",
    "The scatter matrices aim to provide an overall picture and give some guidance for the directions of further exploration. "
   ]
  },
  {
   "cell_type": "markdown",
   "metadata": {},
   "source": [
    "Recall that we observed that 'hour' tended to have an impact on at least pedestrian count and we still need to explore the effects of 'dayofweek' and 'month'. Thus, we recommend to explore the data with the following grouped bar plots, which uses hourly data for the 'hour' time group and daily data for the others:"
   ]
  },
  {
   "cell_type": "code",
   "execution_count": 24,
   "metadata": {},
   "outputs": [],
   "source": [
    "def plot_timegroup(groupby, metric, timegroup):\n",
    "    '''\n",
    "    plots metric of each groupby ('device' or 'zone') \n",
    "    by timegroup ('hour', 'date', 'dayofweek', 'month')\n",
    "    using a grouped barplot\n",
    "    '''\n",
    "    # get either 1d or 1h depending on time group\n",
    "    if timegroup == 'hour':\n",
    "        df, byvals = get_df(groupby, '1h')\n",
    "    else:\n",
    "        df, byvals = get_df(groupby, '1d')\n",
    "    \n",
    "    # colours\n",
    "    if groupby == 'device':\n",
    "        # default colours\n",
    "        clr = None\n",
    "    else:\n",
    "        clr = zone_clrs\n",
    "        \n",
    "    # convert dayofweek\n",
    "    weekdays = {0:'Monday', 1:'Tuesday', 2:'Wednesday', 3:'Thursday', 4:'Friday', 5:'Saturday', 6:'Sunday'}\n",
    "    df['dayofweek'] = [weekdays[w] for w in df['dayofweek']]\n",
    "    \n",
    "    # group\n",
    "    df = df.groupby([timegroup, groupby]).median().reset_index()\n",
    "    \n",
    "    # plot\n",
    "    fig = px.bar(df, x=timegroup, y=metric, color=groupby,\n",
    "                 category_orders={groupby:byvals, 'dayofweek':list(weekdays.values())}, # order of categories\n",
    "                 color_discrete_sequence=clr, # colour of devices/zones\n",
    "                 title='Median of Pedestrian ' + metric.replace('_', ' ').title() + ' Grouped by ' +\\\n",
    "                        timegroup.title() + ' and ' + groupby.title(),\n",
    "                 barmode='group')\n",
    "    fig.show()"
   ]
  },
  {
   "cell_type": "code",
   "execution_count": 25,
   "metadata": {},
   "outputs": [
    {
     "data": {
      "application/vnd.jupyter.widget-view+json": {
       "model_id": "3b69cb08a15a4887ad188af4cad8120e",
       "version_major": 2,
       "version_minor": 0
      },
      "text/plain": [
       "interactive(children=(RadioButtons(description='groupby', options=('device', 'zone'), value='device'), Dropdow…"
      ]
     },
     "metadata": {},
     "output_type": "display_data"
    }
   ],
   "source": [
    "_ = interact(plot_timegroup, \n",
    "             groupby=widgets.RadioButtons(options=['device', 'zone'], value='device'),\n",
    "             metric=widgets.Dropdown(options=metric_list, value='count'),\n",
    "             timegroup=widgets.Dropdown(options=['hour', 'dayofweek', 'month'], value='dayofweek'))"
   ]
  },
  {
   "cell_type": "markdown",
   "metadata": {},
   "source": [
    "Looking at the median value of daily pedestrian data statistics grouped by weekdays, we observe surprisingly that Saturday is a very special day, in which both the count and (mean/max) dwell time in the Streetscape (indoor) area are significantly less than the other days of the week.\n",
    "\n",
    "As for 'month', we see that in more than half of the days in Febraury, March, April and May, no pedestrians have been detected in the Outside area; similarly, there were no pedestrians in the Under Raincoat area in more than half of the days in November to March. \n",
    "\n",
    "The reasons behind these observations are not clear without further information such as maintenance schedule of the devices/cameras. We highly encourage you to investigate the reasons behind having no visits if the cameras were actually in service. \n",
    "\n",
    "On the other hand, it is more reasonable to see the median values of 'count' being all 0 from 11pm to 6am. We observe a normal distribution for the count in the Outside and Under Raincoat areas but a gap between 5pm and 8pm for the Streetscape area. "
   ]
  },
  {
   "cell_type": "markdown",
   "metadata": {},
   "source": [
    "Now in place of the exact values of the metrics, let's look at the proportions (in terms of pedestrian count and total dwell time):"
   ]
  },
  {
   "cell_type": "markdown",
   "metadata": {},
   "source": [
    "If we consider all data together, then the Streetscape area accounted for about 77.2% of all dwell time in the 307, followed by Outside (14.8%) and Under Raincoat (8%). By comparing the two pie charts, we could also conclude that the dwell time on average tended to be longer in the Under Raincoat area than in the Outside area.\n",
    "\n",
    "Now let's look at the proportions in more details."
   ]
  },
  {
   "cell_type": "code",
   "execution_count": 26,
   "metadata": {},
   "outputs": [],
   "source": [
    "def compute_prop_helper(df, col, newcol, lower_bound):\n",
    "    '''\n",
    "    helper function for compute_prop;\n",
    "    newcol is proportion wrt col\n",
    "    '''\n",
    "    # group by time (date + hour)\n",
    "    m = df.groupby('time').sum()\n",
    "    \n",
    "    # compute proportion wrt the total at each time\n",
    "    # add 0.00001 to avoid division by zero\n",
    "    df[newcol] = df.apply(lambda x : x[col] / (0.00001 + m.loc[x['time'], col]), axis=1)\n",
    "    \n",
    "    # only keep the times where the total count/dwell time is at least lower_bound\n",
    "    sub = df[df['time'].isin(list(m[m['count']>=lower_bound].index))]\n",
    "    \n",
    "    return sub"
   ]
  },
  {
   "cell_type": "code",
   "execution_count": 27,
   "metadata": {},
   "outputs": [],
   "source": [
    "def compute_prop(df, lower_bound):\n",
    "    '''\n",
    "    computes proportion of count and total_dwell wrt the total at the time;\n",
    "    only keep days/hours in which the total value is at least lower_bound;\n",
    "    adds two new columns - count_prop and total_dwell_prop\n",
    "    '''\n",
    "    df = df.copy()\n",
    "    df = compute_prop_helper(df, 'count', 'count_prop', lower_bound)\n",
    "    df = compute_prop_helper(df, 'total_dwell', 'total_dwell_prop', lower_bound)\n",
    "    return df"
   ]
  },
  {
   "cell_type": "code",
   "execution_count": 28,
   "metadata": {},
   "outputs": [],
   "source": [
    "def plot_prop(groupby, metric, timegroup, lower_bound):\n",
    "    '''\n",
    "    plots proportion of metric ('count' or 'total_dwell')\n",
    "    of each groupby ('device' or 'zone') \n",
    "    by timegroup ('hour', 'date', 'dayofweek', 'month');\n",
    "    lower_bound is on the total value at a time\n",
    "    '''\n",
    "    # get either 1d or 1h depending on time group\n",
    "    if timegroup == 'hour':\n",
    "        df, byvals = get_df(groupby, '1h')\n",
    "    else:\n",
    "        df, byvals = get_df(groupby, '1d')\n",
    "    \n",
    "    # colours\n",
    "    if groupby == 'device':\n",
    "        # default colours\n",
    "        clr = None\n",
    "    else:\n",
    "        clr = zone_clrs\n",
    "        \n",
    "    # order of dayofweek\n",
    "    weekdays = {0:'Monday', 1:'Tuesday', 2:'Wednesday', 3:'Thursday', 4:'Friday', 5:'Saturday', 6:'Sunday'}\n",
    "    df['dayofweek'] = [weekdays[w] for w in df['dayofweek']]\n",
    "    \n",
    "    # add proportion columns\n",
    "    df = compute_prop(df, lower_bound)\n",
    "    # group\n",
    "    df = df.groupby([timegroup, groupby]).mean().reset_index()\n",
    "    \n",
    "    # plot\n",
    "    fig = px.bar(df, x=timegroup, y=metric+'_prop', color=groupby,\n",
    "                 category_orders={groupby:byvals, 'dayofweek':list(weekdays.values())}, # order of categories\n",
    "                 color_discrete_sequence=clr, # colour of devices/zones\n",
    "                 title='Averaged Proportion of ' + metric.replace('_', ' ').title() +\\\n",
    "                       ' Accounted for by Each ' + groupby.title(),\n",
    "                 range_y=(0, 1), labels={metric+'_prop':metric.replace('_', ' ')+' proportion'})\n",
    "    fig.show()"
   ]
  },
  {
   "cell_type": "code",
   "execution_count": 29,
   "metadata": {},
   "outputs": [
    {
     "data": {
      "application/vnd.jupyter.widget-view+json": {
       "model_id": "69fe4d7128154c7b8e0e73fa3fec0b72",
       "version_major": 2,
       "version_minor": 0
      },
      "text/plain": [
       "interactive(children=(RadioButtons(description='groupby', index=1, options=('device', 'zone'), value='zone'), …"
      ]
     },
     "metadata": {},
     "output_type": "display_data"
    }
   ],
   "source": [
    "_ = interact(plot_prop, \n",
    "             groupby=widgets.RadioButtons(options=['device', 'zone'], value='zone'),\n",
    "             metric=widgets.RadioButtons(options=['count', 'total_dwell'], value='total_dwell'),\n",
    "             timegroup=widgets.Dropdown(options=['hour', 'date', 'dayofweek', 'month'], value='hour'),\n",
    "             lower_bound=widgets.IntSlider(value=50, min=0, max=2000, step=50, continuous_update=False))"
   ]
  },
  {
   "cell_type": "markdown",
   "metadata": {},
   "source": [
    "Tip: blues are Streetscape zones, reds are Under Raincoat zones and greens are Outside zones.\n",
    "\n",
    "From the above stacked bar plots, the most obvious observation is the special pattern on Saturday as described previously. \n",
    "\n",
    "In addition, while both the Outside and the Streescape areas have a chair zone of a similar size, the chair zone in the Streetscape area tended to account for much more of the data in the area (roughly 1/3) in comparison to that in the Outside zone (roughly 1/10). \n",
    "\n",
    "We see that on average, the Under Raincoat area accounted for more proportion of both total count and total dwell time in the evening than in the daytime. We notice that during these evening hours in the Under Raincoat area, the proportion of the free zone (i.e. where people tended to sit and stay) tended to be even greater in comparison to other hours. On the other hand in the other two areas, the proportion taken by the chair zone tended to decrease in comparison to daytime. "
   ]
  },
  {
   "cell_type": "markdown",
   "metadata": {},
   "source": [
    "### Obtain heatmap for pedestrians"
   ]
  },
  {
   "cell_type": "code",
   "execution_count": 30,
   "metadata": {},
   "outputs": [],
   "source": [
    "from datetime import timedelta, datetime\n",
    "from dateutil.relativedelta import relativedelta\n",
    "import calendar\n",
    "START_DATE = datetime(2019, 2, 20, 0, 0, 0)\n",
    "END_DATE = datetime(2020, 1, 11, 0, 0, 0)\n",
    "time_delta = relativedelta(days = +1)"
   ]
  },
  {
   "cell_type": "code",
   "execution_count": 31,
   "metadata": {},
   "outputs": [],
   "source": [
    "## fundatmental functions to get the heatmap data \n",
    "def heatmap_query_gen(startTime: str, endTime: str, camera:int, obj:str):\n",
    "    '''\n",
    "    for generating heatmap query given time, device, and object\n",
    "    '''\n",
    "    heatmap_query = \"\"\"\n",
    "query {{\n",
    "  feedHeatmaps(\n",
    "    serialno: \"{0}\",\n",
    "    startTime:\"{1}\",\n",
    "    endTime:\"{2}\",\n",
    "    objClasses:[\"{3}\"],\n",
    "    timezone:\"America/New_York\") {{\n",
    "    edges {{\n",
    "      node {{\n",
    "        time\n",
    "        objClass\n",
    "        heatmap\n",
    "      }}\n",
    "    }}\n",
    "  }}\n",
    "}}\n",
    "\"\"\".format(camera, startTime, endTime,obj)\n",
    "    return heatmap_query"
   ]
  },
  {
   "cell_type": "code",
   "execution_count": 32,
   "metadata": {},
   "outputs": [],
   "source": [
    "def get_heatmap_data(camera: int, obj: str, start_times:list, end_times:list):\n",
    "    '''\n",
    "    get the heatmap matrix raw dataframe using  heatmap_query_gen as a helper\n",
    "    '''\n",
    "    heatmap_df = pd.DataFrame(columns = ['startTime', 'endTime', 'heatMap', 'obj'])\n",
    "    i = 0\n",
    "    while i < len(start_times):\n",
    "        heatmap_data = requests.post(url, \n",
    "                                     json={'query': heatmap_query_gen(start_times[i].strftime('%Y-%m-%dT%H:%M:%S'), \n",
    "                                                                      end_times[i].strftime('%Y-%m-%dT%H:%M:%S'), \n",
    "                                                                      camera, obj)},\n",
    "                                     headers = {'Authorization':token})\n",
    "        heatmap_json = heatmap_data.json()\n",
    "        if heatmap_json['data']:\n",
    "            if 'feedHeatmaps' in heatmap_json['data']:\n",
    "                heatmap = heatmap_json['data']['feedHeatmaps']['edges'][0]['node']['heatmap']\n",
    "                temp_df = pd.DataFrame({\"startTime\":start_times[i], \"endTime\":end_times[i], 'heatMap':heatmap, 'obj': obj})\n",
    "                heatmap_df = heatmap_df.append(temp_df, ignore_index = True)\n",
    "        i = i + 1\n",
    "    return heatmap_df"
   ]
  },
  {
   "cell_type": "code",
   "execution_count": 33,
   "metadata": {},
   "outputs": [],
   "source": [
    "def generate_consecutive_times(start_time: datetime, end_time: datetime, interval: relativedelta):\n",
    "    '''\n",
    "    for generating consecutive datetime objects between start_time and end_time\n",
    "    '''\n",
    "    ## the first element in the list are the start times\n",
    "    time = [[], []]\n",
    "    current_time = start_time\n",
    "    while current_time < end_time:\n",
    "        time[0].append(current_time)\n",
    "        time[1].append(current_time + interval)\n",
    "        current_time = current_time + interval\n",
    "    return time"
   ]
  },
  {
   "cell_type": "code",
   "execution_count": 34,
   "metadata": {},
   "outputs": [],
   "source": [
    "def daily_heatmap_data(df):\n",
    "    '''\n",
    "    merge the raw heatmap data by day(time)\n",
    "    '''\n",
    "    return df.groupby(['startTime', 'endTime'])['heatMap'].apply(list).reset_index(name='heatMapMatrix')"
   ]
  },
  {
   "cell_type": "code",
   "execution_count": 35,
   "metadata": {},
   "outputs": [],
   "source": [
    "def week_days(lis, weekday):\n",
    "    '''\n",
    "    This function is for generating a given weekday within a time period\n",
    "    '''\n",
    "    days = []\n",
    "    for day in lis:\n",
    "        if day.weekday() == weekday:\n",
    "            days.append(day)\n",
    "    return days"
   ]
  },
  {
   "cell_type": "code",
   "execution_count": 49,
   "metadata": {},
   "outputs": [],
   "source": [
    "## Data to download: culmulative, event days(daily), highest dwell count days(top 20),  sundays \n",
    "device_dict = {'SWLSANDBOX1':'Streetscape', 'SWLSANDBOX2':'Under Raincoat', 'SWLSANDBOX3':'Outside'}\n",
    "device_ids = list(device_dict.keys())\n",
    "device_names = list(device_dict.values())\n",
    "\n",
    "time_delta = relativedelta(days = +1)\n",
    "\n",
    "all_time = generate_consecutive_times(START_DATE, END_DATE, time_delta)\n",
    "\n",
    "df, _ = get_df('device', '1d')\n",
    "\n",
    "df = df.sort_values(['count'], ascending=False)\n",
    "top_20_dwell_days = list(df[df.duplicated(['time'], keep=False)].head(20).time)\n",
    "\n",
    "event_days = [datetime(2019, 3, 2, 0, 0, 0), datetime(2019, 6, 29, 0, 0, 0), datetime(2019, 8, 15, 0, 0, 0), datetime(2019, 9, 26, 0, 0, 0), \n",
    "                    datetime(2019, 11, 20, 0, 0, 0), datetime(2019, 11, 21, 0, 0, 0), datetime(2019, 11, 22, 0, 0, 0), datetime(2019, 11, 23, 0, 0, 0)] \n",
    "\n",
    "sunday_list = [week_days(all_time[0], 6), [i + time_delta for i in week_days(all_time[0], 6)]]\n",
    "\n",
    "event_day_list = [event_days, [i + time_delta for i in event_days]]\n",
    "\n",
    "culmulative_list = [[START_DATE], [END_DATE]]\n",
    "\n",
    "top_20_dwell_days_list = [top_20_dwell_days, [i +  time_delta for i in top_20_dwell_days]]\n",
    "\n",
    "day_name = ['event', 'sunday', 'high_count', 'culmulative']\n",
    "\n",
    "days_list = [event_day_list, sunday_list, top_20_dwell_days_list, culmulative_list]\n",
    "\n",
    "daily_heatmap_df = pd.DataFrame(columns = ['startTime', 'endTime', 'heatMapMatrix', 'day', 'device'])\n",
    "\n",
    "for i in range(0,4):\n",
    "    for device in device_ids:\n",
    "        if i == 1:\n",
    "            time.sleep(5)\n",
    "        temp = daily_heatmap_data(get_heatmap_data(device, 'pedestrian', days_list[i][0], days_list[i][1]))\n",
    "        temp['day'] = day_name[i]\n",
    "        temp['device'] = device\n",
    "        daily_heatmap_df = daily_heatmap_df.append(temp)\n",
    "\n",
    "daily_heatmap_df = daily_heatmap_df.reset_index(drop = True)   "
   ]
  },
  {
   "cell_type": "code",
   "execution_count": 50,
   "metadata": {},
   "outputs": [],
   "source": [
    "merged_daily_heatmap_df = pd.merge(daily_heatmap_df, df, left_on =['startTime', 'device'], right_on = ['time', 'device_id'])\n",
    "\n",
    "merged_daily_heatmap_df = merged_daily_heatmap_df.drop(['startTime', 'endTime', 'device_x', 'mean_dwell', \n",
    "                                                        'max_dwell', 'device_id'], axis = 1).rename(columns={\"device_y\": \"device\"})"
   ]
  },
  {
   "cell_type": "code",
   "execution_count": 51,
   "metadata": {},
   "outputs": [
    {
     "name": "stderr",
     "output_type": "stream",
     "text": [
      "/opt/anaconda3/lib/python3.7/site-packages/pandas/core/frame.py:7123: FutureWarning:\n",
      "\n",
      "Sorting because non-concatenation axis is not aligned. A future version\n",
      "of pandas will change to not sort by default.\n",
      "\n",
      "To accept the future behavior, pass 'sort=False'.\n",
      "\n",
      "To retain the current behavior and silence the warning, pass 'sort=True'.\n",
      "\n",
      "\n"
     ]
    }
   ],
   "source": [
    "## This is a breif review of my heatmap for event days (with specific hours)\n",
    "event_dates = pd.read_csv('EventDates.csv')\n",
    "\n",
    "event_dates['Starting Time'] = event_dates.apply(lambda x: datetime.strptime(x['Starting Time'], '%Y-%m-%dT%H:%M:%S') \n",
    "                                                 ,axis=1)\n",
    "event_dates['Ending Time'] = event_dates.apply(lambda x: datetime.strptime(x['Ending Time'], '%Y-%m-%dT%H:%M:%S') ,axis=1)\n",
    "\n",
    "event_heatmap_df = pd.DataFrame(columns = ['startTime', 'endTime', 'heatMapMatrix', 'device'])\n",
    "for device in device_ids:\n",
    "    temp = daily_heatmap_data(get_heatmap_data(device, 'pedestrian', list(event_dates['Starting Time']), \n",
    "                                                        list(event_dates['Ending Time'])))\n",
    "    temp['device'] = device_dict[device]\n",
    "    temp = temp.rename(columns={\"startTime\": \"Starting Time\", \"endTime\": \"Ending Time\"})\n",
    "    event_heatmap_df = event_heatmap_df.append(temp)"
   ]
  },
  {
   "cell_type": "code",
   "execution_count": 52,
   "metadata": {},
   "outputs": [],
   "source": [
    "def plot_event_heatmap(camera):\n",
    "    image = mpimg.imread('outside_sandbox.png')\n",
    "    if camera == \"Outside\":\n",
    "        image = mpimg.imread('outside_sandbox.png')\n",
    "    elif camera == \"StreetScape\":\n",
    "        image = mpimg.imread('streetscape_sandbox.png')\n",
    "    elif camera == \"Under Raincoat\":\n",
    "        image = mpimg.imread('underraincoat_sandbox.png')\n",
    "        \n",
    "    fig, ax = plt.subplots(figsize=(16,10))\n",
    "    gs = gridspec.GridSpec(4, 17)\n",
    "    ax0 = plt.subplot(gs[0:2,0:4]) \n",
    "    ax1 = plt.subplot(gs[0:2,4:8])\n",
    "    ax2 = plt.subplot(gs[0:2,8:12]) \n",
    "    ax3 = plt.subplot(gs[0:2,12:16]) \n",
    "    ax4 = plt.subplot(gs[2:4,0:4]) \n",
    "    ax5 = plt.subplot(gs[2:4,4:8]) \n",
    "    ax6 = plt.subplot(gs[2:4,8:12]) \n",
    "    ax7 = plt.subplot(gs[2:4,12:16]) \n",
    "    ax8 = plt.subplot(gs[0:4,16])\n",
    "    \n",
    "    axes = [ax0, ax1, ax2, ax3, ax4, ax5, ax6, ax7]\n",
    "    \n",
    "    start_times = event_dates['Starting Time']\n",
    "    \n",
    "    end_times = event_dates['Ending Time']\n",
    "    \n",
    "    for i in range(0,8):\n",
    "        data = list(event_heatmap_df[(event_heatmap_df['device'] == camera) & \n",
    "                                     (event_heatmap_df['Starting Time'] == start_times[i])]['heatMapMatrix'])\n",
    "        event_name = list(event_dates[event_dates['Starting Time'] == start_times[i]]['Event'])[0]\n",
    "        if data:\n",
    "            data = data[0]\n",
    "            x = [i[0] for i in data]\n",
    "            y = [i[1] for i in data]\n",
    "            density = [i[2] for i in data]\n",
    "            axes[i].scatter(x=x,y=y, c=density, cmap = plt.cm.YlGnBu_r)\n",
    "        axes[i].imshow(image, aspect='auto')\n",
    "        axes[i].set_title(\"Event:{0}\\n on {1}\".format(event_name[0:20] + \"...\",str(start_times[i].year) + '.'+ str(start_times[i].month)+'.'+str(start_times[i].day)))\n",
    "        axes[i].axis('off')\n",
    "    fig.colorbar(plt.cm.ScalarMappable(norm=mcolors.Normalize(), cmap=plt.cm.YlGnBu_r), cax=ax8)\n",
    "    ax8.set_ylabel(\"Color Bar of Density\", fontsize = 15)\n",
    "    fig.suptitle('Density Heatmap on Event Days under {0} Camera'.format(camera), y=1.05, fontsize=24)\n",
    "    plt.tight_layout()"
   ]
  },
  {
   "cell_type": "code",
   "execution_count": 55,
   "metadata": {},
   "outputs": [],
   "source": [
    "# This part is for design of plot_event_heatmap widget\n",
    "\n",
    "# A ToggleButtons for choosing camera\n",
    "Camera_Hbox_event = widgets.ToggleButtons(options=[('Outside',  \"Outside\"), ('Streetscape',\"Streetscape\") , \n",
    "                                             ('Under Raincoat', \"Under Raincoat\")], description='Camera:')\n",
    "\n",
    "# Widget for this function\n",
    "plot_event_heatmap_widget = widgets.interactive(plot_event_heatmap, {'manual': True},\n",
    "                                             camera = Camera_Hbox_event)\n",
    "\n",
    "## Get the button for running interaction\n",
    "button_event = plot_event_heatmap_widget.children[-2]\n",
    "\n",
    "## Get the output for running interaction\n",
    "output_event = plot_event_heatmap_widget.children[-1]\n",
    "\n",
    "## Store them vertically\n",
    "plot_cumulative_heatmap_widget = widgets.VBox(children=[Camera_Hbox_event, button_event, output_event])"
   ]
  },
  {
   "cell_type": "code",
   "execution_count": 56,
   "metadata": {},
   "outputs": [
    {
     "data": {
      "application/vnd.jupyter.widget-view+json": {
       "model_id": "34231bdc8a424cd084632b88d0c735bd",
       "version_major": 2,
       "version_minor": 0
      },
      "text/plain": [
       "VBox(children=(ToggleButtons(description='Camera:', options=(('Outside', 'Outside'), ('Streetscape', 'Streetsc…"
      ]
     },
     "metadata": {},
     "output_type": "display_data"
    }
   ],
   "source": [
    "plot_cumulative_heatmap_widget"
   ]
  },
  {
   "cell_type": "code",
   "execution_count": 57,
   "metadata": {},
   "outputs": [],
   "source": [
    "# Initialize time data for loading the data\n",
    "# I want to load hourly data on 2019.6.29 as Initialization\n",
    "start_time = datetime(2019, 6, 29, 0, 0, 0)\n",
    "end_time = datetime(2019, 6, 30, 0, 0, 0)\n",
    "interval =  relativedelta(hours = +1)\n",
    "hour_interval = generate_consecutive_times(start_time, end_time, interval)"
   ]
  },
  {
   "cell_type": "code",
   "execution_count": 58,
   "metadata": {},
   "outputs": [],
   "source": [
    "def add_column(data, date, camera, t):\n",
    "    '''\n",
    "    This is a simple wrapper function for creating columns\n",
    "    '''\n",
    "    data[\"date\"] = date\n",
    "    data[\"camera\"] = camera\n",
    "    data[\"type\"] = t\n",
    "    return data"
   ]
  },
  {
   "cell_type": "code",
   "execution_count": 60,
   "metadata": {},
   "outputs": [],
   "source": [
    "## Initialize the hourly heatmap data for streetscape\n",
    "streetscape_heatmap_pedestrian_event_days = daily_heatmap_data(get_heatmap_data('SWLSANDBOX1', 'pedestrian', hour_interval[0], hour_interval[1]))\n",
    "streetscape_heatmap_pedestrian_event_days =  add_column(streetscape_heatmap_pedestrian_event_days,  datetime(2019, 6, 29, 0, 0, 0), \"outside\", \"pedestrian\")"
   ]
  },
  {
   "cell_type": "code",
   "execution_count": 61,
   "metadata": {},
   "outputs": [],
   "source": [
    "## Initialize the hourly heatmap data for outside\n",
    "outside_heatmap_pedestrian_event_days  = daily_heatmap_data(get_heatmap_data('SWLSANDBOX3', 'pedestrian', hour_interval[0], hour_interval[1]))\n",
    "outside_heatmap_pedestrian_event_days = add_column(outside_heatmap_pedestrian_event_days,  datetime(2019, 6, 29, 0, 0, 0), \"outside\", \"pedestrian\")"
   ]
  },
  {
   "cell_type": "code",
   "execution_count": 62,
   "metadata": {},
   "outputs": [],
   "source": [
    "## Initialize the hourly heatmap data for underraincoat\n",
    "underraincoat_heatmap_pedestrian_event_days  = daily_heatmap_data(get_heatmap_data('SWLSANDBOX2', 'pedestrian', hour_interval[0], hour_interval[1]))\n",
    "underraincoat_heatmap_pedestrian_event_days = add_column(underraincoat_heatmap_pedestrian_event_days,  datetime(2019, 6, 29, 0, 0, 0), \"underraincoat\", \"pedestrian\")"
   ]
  },
  {
   "cell_type": "code",
   "execution_count": 63,
   "metadata": {},
   "outputs": [],
   "source": [
    "## Loading event hourly heatmap data for streetscape\n",
    "start_time = datetime(2019, 6, 29, 0, 0, 0)\n",
    "for day in event_days:\n",
    "    if day != start_time:\n",
    "        start_time = day\n",
    "        end_time = start_time + relativedelta(days = +1)\n",
    "        hour_interval = generate_consecutive_times(start_time, end_time, interval)\n",
    "        temp = add_column(daily_heatmap_data(get_heatmap_data('SWLSANDBOX1', 'pedestrian', hour_interval[0], hour_interval[1])), start_time,  'streetscape', 'pedestrian')\n",
    "        streetscape_heatmap_pedestrian_event_days = streetscape_heatmap_pedestrian_event_days.append(temp)"
   ]
  },
  {
   "cell_type": "code",
   "execution_count": 64,
   "metadata": {},
   "outputs": [],
   "source": [
    "## Loading event hourly heatmap data for underraincoat\n",
    "start_time = datetime(2019, 6, 29, 0, 0, 0)\n",
    "for day in event_days:\n",
    "    if day != start_time:\n",
    "        start_time = day\n",
    "        end_time = start_time + relativedelta(days = +1)\n",
    "        hour_interval = generate_consecutive_times(start_time, end_time, interval)\n",
    "        temp = add_column(daily_heatmap_data(get_heatmap_data('SWLSANDBOX2', 'pedestrian', hour_interval[0], hour_interval[1])), start_time,  'underraincoat', 'pedestrian')\n",
    "        underraincoat_heatmap_pedestrian_event_days = underraincoat_heatmap_pedestrian_event_days.append(temp)"
   ]
  },
  {
   "cell_type": "code",
   "execution_count": 65,
   "metadata": {},
   "outputs": [],
   "source": [
    "## Loading event hourly heatmap data for outside\n",
    "start_time = datetime(2019, 6, 29, 0, 0, 0)\n",
    "for day in event_days:\n",
    "    if day != start_time:\n",
    "        start_time = day\n",
    "        end_time = start_time + relativedelta(days = +1)\n",
    "        hour_interval = generate_consecutive_times(start_time, end_time, interval)\n",
    "        temp = add_column(daily_heatmap_data(get_heatmap_data('SWLSANDBOX3', 'pedestrian', hour_interval[0], hour_interval[1])), start_time,  'outside', 'pedestrian')\n",
    "        outside_heatmap_pedestrian_event_days = outside_heatmap_pedestrian_event_days.append(temp)"
   ]
  },
  {
   "cell_type": "code",
   "execution_count": 66,
   "metadata": {},
   "outputs": [],
   "source": [
    "## This is a helper function for getting the data for plotting hourly heatmap\n",
    "def event_hour_data_helper(camera, percentile, time):\n",
    "    '''\n",
    "    This is a simple helper function to get the data\n",
    "    camera is required to be \"Outside Camera\" or  \"StreetScape Camera\" or  \"UnderRainCoat Camera\"\n",
    "    percentile is required to be an integer between 0 and 100\n",
    "    time is required to be a datetime object on event days\n",
    "    Return Value for this function will be like [[1, 3, ...,],[2, 1, ...],[12, 0.2,...]] \n",
    "    A list containing 3 sublists the first represent x, second for y, third for density, they have to be in the same length\n",
    "    '''\n",
    "    data = []\n",
    "    if camera == \"Outside Camera\":\n",
    "        data = outside_heatmap_pedestrian_event_days\n",
    "    elif camera == \"StreetScape Camera\":\n",
    "        data = streetscape_heatmap_pedestrian_event_days\n",
    "    elif camera == \"UnderRainCoat Camera\":\n",
    "        data = underraincoat_heatmap_pedestrian_event_days\n",
    "    data = list(data[data['startTime'] == time]['heatMapMatrix'])\n",
    "    if data:\n",
    "        p = np.percentile([i[2] for i in data[0]], percentile)\n",
    "        filtered = list(filter(lambda x : x[2] >= p, data[0]))\n",
    "        x = [i[0] for i in filtered] \n",
    "        y = [i[1] for i in filtered]\n",
    "        density = [i[2] for i in filtered]\n",
    "        data = [x, y, density]\n",
    "    return data"
   ]
  },
  {
   "cell_type": "code",
   "execution_count": 76,
   "metadata": {},
   "outputs": [],
   "source": [
    "## heatmap_animation_hour(\"StreetScape Camera\", start_time, 20, 12)\n",
    "## User is able to select the event day, percentile,\n",
    "def heatmap_animation_hour(camera: str, day: datetime, percentile: int, hour: int):\n",
    "    '''\n",
    "    This is a function for plotting hourly heatmap on event days\n",
    "    day is required to be one of the event days\n",
    "    camera is required to be \"Outside Camera\" or  \"StreetScape Camera\" or  \"UnderRainCoat Camera\"\n",
    "    percentile is required to be an integer between 0 and 100\n",
    "    hour is required to be an interger between 0 to 23\n",
    "    The function will plot a heatmap given the day and hour, only keeps the data points above the percentile\n",
    "    '''\n",
    "    hour_interval =  relativedelta(hours = +1)\n",
    "    fig, ax = plt.subplots(figsize=(15,10))\n",
    "    \n",
    "    # Setting Background Image\n",
    "    if camera == \"Outside Camera\":\n",
    "        image = mpimg.imread('outside_sandbox.png')\n",
    "    elif camera == \"StreetScape Camera\":\n",
    "        image = mpimg.imread('streetscape_sandbox.png')\n",
    "    elif camera == \"UnderRainCoat Camera\":\n",
    "        image = mpimg.imread('underraincoat_sandbox.png')\n",
    "    # We find the time through date + hour\n",
    "    day = day.date()\n",
    "    time = day+ hour_interval*hour\n",
    "    data = event_hour_data_helper(camera, percentile, time)\n",
    "    if data:\n",
    "        x = data[0]\n",
    "        y = data[1]\n",
    "        density = data[2]\n",
    "        ax.scatter(x, y, c= density, s=1, cmap= plt.cm.YlGnBu_r)\n",
    "    ax.imshow(image, aspect='auto')\n",
    "    ax.set_title(\"Hourly Heatmap Animation on {0}.{1}.{2} hour:{3}\".format(day.year, day.month, day.day, hour), fontsize = 24, y = 1.01)\n",
    "    ax.axis('off')\n",
    "    fig.colorbar(plt.cm.ScalarMappable(norm=mcolors.Normalize(), cmap=plt.cm.YlGnBu_r))\n",
    "    ax.text(750, 300, s =\"Color Bar of Density\", fontsize = 15,rotation=90)\n",
    "    plt.show()"
   ]
  },
  {
   "cell_type": "code",
   "execution_count": 77,
   "metadata": {},
   "outputs": [
    {
     "data": {
      "text/plain": [
       "Link(source=(Play(value=0, description='Press play', interval=7000, max=23), 'value'), target=(IntSlider(value…"
      ]
     },
     "metadata": {},
     "output_type": "display_data"
    }
   ],
   "source": [
    "## This is part is for design of widget for 'heatmap_animation_hour'\n",
    "## This is a play widget to display the hourly heatmap on event days automatically\n",
    "play= widgets.Play(\n",
    "    value=0,\n",
    "    min=0,\n",
    "    max=23,\n",
    "    step=1,\n",
    "    interval=7000, # Notice that interval here is 7000ms, since it takes time to load heatmap data to the image\n",
    "    description=\"Press play\",\n",
    "    disabled=False\n",
    ")\n",
    "## This is a slider widget to change the hour value\n",
    "hour_slider = widgets.IntSlider(value=0,min=0,max=23,step=1,description='Hour:')\n",
    "# We link slider value with the player\n",
    "widgets.jslink((play, 'value'), (hour_slider, 'value'))\n",
    "# We show these widgets in a horizontal box\n",
    "hour_player= widgets.HBox([play, hour_slider])\n",
    "\n",
    "    \n",
    "    \n",
    "## This is a dropdown widget for selecting day\n",
    "Day_time_drop = widgets.Dropdown(options=list(set(zip(list(event_dates.Event), list(event_dates['Starting Time'])))), description='Event:')\n",
    "## This is a ToggleButton widget for selecting camera\n",
    "Camera_Hbox = widgets.ToggleButtons(options=[('Outside',  \"Outside Camera\"), ('StreetScape',\"StreetScape Camera\") , \n",
    "                                             ('Under RainCoat', \"UnderRainCoat Camera\")], description='Camera:')\n",
    "## This is a intslider widget for selecting percentile you want to use\n",
    "percentile_slider = widgets.IntSlider(min=0, max=100, step=5, value=0)\n",
    "## Setting widget for each variable\n",
    "heatmap_animation_hour_widget = widgets.interactive(heatmap_animation_hour,\n",
    "                                             camera = Camera_Hbox,\n",
    "                                             day = Day_time_drop,\n",
    "                                             percentile = percentile_slider,\n",
    "                                             hour = hour_slider,continuous_update=False)\n",
    "## Get the output of the widget\n",
    "output_a = heatmap_animation_hour_widget.children[-1]\n",
    "\n",
    "## Rearrange the widgets in a vertical way\n",
    "tab1 =  widgets.VBox(children=[Camera_Hbox,\n",
    "                      Day_time_drop,\n",
    "                    percentile_slider,\n",
    "                      hour_player])\n",
    "## Display output and widget\n",
    "heatmap_animation_hour_widget = widgets.VBox(children=[tab1, output_a])"
   ]
  },
  {
   "cell_type": "code",
   "execution_count": 78,
   "metadata": {},
   "outputs": [
    {
     "data": {
      "application/vnd.jupyter.widget-view+json": {
       "model_id": "aed1b4c511f14d5ca14c03763fe61fc5",
       "version_major": 2,
       "version_minor": 0
      },
      "text/plain": [
       "VBox(children=(VBox(children=(ToggleButtons(description='Camera:', options=(('Outside', 'Outside Camera'), ('S…"
      ]
     },
     "metadata": {},
     "output_type": "display_data"
    }
   ],
   "source": [
    "heatmap_animation_hour_widget"
   ]
  },
  {
   "cell_type": "code",
   "execution_count": 79,
   "metadata": {},
   "outputs": [],
   "source": [
    "## functions to generate cumulative heatmap matrix\n",
    "def weight_matrix(matrix, factor):\n",
    "    '''\n",
    "    This function is a helper function to generate weighted heatmap matrix\n",
    "    It will return the gievn heatmap matrix with density multiply the factor\n",
    "    '''\n",
    "    new_density = [i[2]*factor for i in matrix]\n",
    "    temp =  [[matrix[i][0], matrix[i][1], new_density[i]] for i in range(len(matrix))]\n",
    "    \n",
    "    return temp"
   ]
  },
  {
   "cell_type": "code",
   "execution_count": 80,
   "metadata": {},
   "outputs": [],
   "source": [
    "## This function generate data for summation of heatmap matrix\n",
    "def culmulative_heat_map_data_generator(days, data, camera):\n",
    "    '''\n",
    "    This function is a helper function to generate weighted heatmap matrix\n",
    "    It will takes multiple heatmap, store them into one big list, and return\n",
    "    '''\n",
    "    culmulative_data_lis = []\n",
    "    for day in days:\n",
    "        daily_data = list(data[(data['time'] == day) & (data['device'] == camera)]['weighted_heatMapMatrix'])\n",
    "        if daily_data:\n",
    "            culmulative_data_lis.append(daily_data[0])\n",
    "    return culmulative_data_lis"
   ]
  },
  {
   "cell_type": "code",
   "execution_count": 81,
   "metadata": {},
   "outputs": [],
   "source": [
    "def culmulative_heat_map_data(data):\n",
    "    '''\n",
    "    This function is a helper function to generate weighted heatmap matrix\n",
    "    It will takes a list containing heatmaps, combine them into a single heatmap\n",
    "    '''\n",
    "    ## This is dictionary takes coordinates as keys, take density as value\n",
    "    culmulative_data_dic = {}\n",
    "    ## This is list stores the finalized heatmap\n",
    "    culmulative_data_lis = []\n",
    "    for daily_data in data:\n",
    "        for coordinate_data in daily_data:\n",
    "            coordinate = (coordinate_data[0], coordinate_data[1])\n",
    "            if coordinate not in culmulative_data_dic:\n",
    "                culmulative_data_dic[coordinate] = coordinate_data[2]\n",
    "            else:\n",
    "                culmulative_data_dic[coordinate] += coordinate_data[2]\n",
    "    for coordinate in list(culmulative_data_dic.keys()):\n",
    "        culmulative_data_lis.append([coordinate[0], coordinate[1], culmulative_data_dic[coordinate]])\n",
    "    return culmulative_data_lis"
   ]
  },
  {
   "cell_type": "code",
   "execution_count": 82,
   "metadata": {},
   "outputs": [],
   "source": [
    "## Add weighted heatmap matrix for three dataframes \n",
    "## Merge counts with heatmap first\n",
    "merged_daily_heatmap_df[\"weighted_heatMapMatrix\"] = merged_daily_heatmap_df.apply(lambda x: weight_matrix(x['heatMapMatrix'], x['count']),axis=1)"
   ]
  },
  {
   "cell_type": "code",
   "execution_count": 83,
   "metadata": {},
   "outputs": [],
   "source": [
    "def get_quantiled_data(data, percentile, form):\n",
    "    '''\n",
    "    This function is a helper function to get the quantiled data in two ways\n",
    "    If form variable is True, it will return [[x coordinates], [y coordinates], [density]]\n",
    "    '''\n",
    "    p = np.percentile([i[2] for i in data], percentile)\n",
    "    filtered = list(filter(lambda x : x[2] >= p, data))\n",
    "    if form:\n",
    "        x = [i[0] for i in filtered] \n",
    "        y = [i[1] for i in filtered]\n",
    "        density = [i[2] for i in filtered]\n",
    "        return [x, y, density]\n",
    "    else:\n",
    "        return filtered"
   ]
  },
  {
   "cell_type": "code",
   "execution_count": 84,
   "metadata": {},
   "outputs": [],
   "source": [
    "## This function generate quantiled x,y coordinates, used for clustering\n",
    "def get_quantiled_data_coordinate(data, percentile):\n",
    "    '''\n",
    "    This function is a helper function to get the coordinates of quantiled data\n",
    "    It will return all coordinates of data points above percentile \n",
    "    '''\n",
    "    p = np.percentile([i[2] for i in data], percentile)\n",
    "    filtered = list(filter(lambda x : x[2] >= p, data))\n",
    "    x = [i[0] for i in filtered] \n",
    "    y = [i[1] for i in filtered]\n",
    "    density = [i[2] for i in filtered]\n",
    "    quantiled_data = []\n",
    "    for i in range(len(x)):\n",
    "        quantiled_data.append([x[i], y[i]])\n",
    "    return quantiled_data"
   ]
  },
  {
   "cell_type": "code",
   "execution_count": 85,
   "metadata": {},
   "outputs": [],
   "source": [
    "def cumulative_heatmap_data_helper(camera:str, plot:str, quantile:int, form):\n",
    "    '''\n",
    "    This function is a helper function to get the dataframe based on gievn camera and days(plot)\n",
    "    '''\n",
    "    data = []\n",
    "    if plot == \"Event Days\":\n",
    "        data = culmulative_heat_map_data(culmulative_heat_map_data_generator(event_days, merged_daily_heatmap_df,camera))\n",
    "    elif plot == \"All the Days\":\n",
    "        data = list(merged_daily_heatmap_df[(merged_daily_heatmap_df['device'] == camera) & (merged_daily_heatmap_df['day'] == 'culmulative')]['heatMapMatrix'])[0]\n",
    "    elif plot == \"Sundays\":\n",
    "        data = culmulative_heat_map_data(culmulative_heat_map_data_generator(week_days(all_time[0], 6), merged_daily_heatmap_df,camera))\n",
    "    elif plot == \"High Dwell Count Days\":\n",
    "          data =  culmulative_heat_map_data(culmulative_heat_map_data_generator(top_20_dwell_days, merged_daily_heatmap_df,camera))\n",
    "    total_density = sum(i[2]  for i in data)\n",
    "    data = get_quantiled_data(data, quantile, form)\n",
    "    quantiled_density = sum(data[2])\n",
    "    return (data, [quantiled_density, total_density-quantiled_density])"
   ]
  },
  {
   "cell_type": "code",
   "execution_count": 86,
   "metadata": {},
   "outputs": [],
   "source": [
    "def check_circle(radius, center, coordinate):\n",
    "    '''\n",
    "    This function is a helper function to check if a coordinate is in the circle\n",
    "    '''\n",
    "    return ((center[0]- coordinate[0])**2 + (center[1]- coordinate[1])**2) < radius**2"
   ]
  },
  {
   "cell_type": "code",
   "execution_count": 87,
   "metadata": {},
   "outputs": [],
   "source": [
    "def plot_cumulative_heatmap(camera, plot1, plot2, quantile1, quantile2):\n",
    "    '''\n",
    "    This is a function for plotting culmulative heatmap on event days, all days...\n",
    "    Plot1 is the days you want to plot on the above plot \n",
    "    Plot2 is for the below plot\n",
    "    camera is required to be \"Outside Camera\" or  \"StreetScape Camera\" or  \"UnderRainCoat Camera\"\n",
    "    quantile is required to be an integer between 0 and 100\n",
    "    The function will plot two culmulative heatmaps given the days and camera, only keeps the data points above the quantile\n",
    "    \n",
    "    Also, it will plot four pie charts. They indicates the proportion of data points on the plot\n",
    "    The proportion of total density of data points on the plot\n",
    "    '''\n",
    "    \n",
    "    # Setting Background Image\n",
    "    if camera == \"Outside\":\n",
    "        image = mpimg.imread('outside_sandbox.png')\n",
    "    elif camera == \"Streetscape\":\n",
    "        image = mpimg.imread('streetscape_sandbox.png')\n",
    "    elif camera == \"Under Raincoat\":\n",
    "        image = mpimg.imread('underraincoat_sandbox.png')\n",
    "      \n",
    "    # Get the data for two plots\n",
    "    temp1 =  cumulative_heatmap_data_helper(camera, plot1, quantile1, True)\n",
    "    temp2 = cumulative_heatmap_data_helper(camera, plot2, quantile2, True)\n",
    "    \n",
    "    # Divide them into x, y, density lists\n",
    "    data1 = temp1[0]\n",
    "    pie1 = temp1[1]\n",
    "    data2 = temp2[0]\n",
    "    pie2 = temp2[1]\n",
    "    \n",
    "\n",
    "    fig, ax = plt.subplots(figsize=(16,10))\n",
    "    gs = gridspec.GridSpec(8, 13)\n",
    "    ax0 = plt.subplot(gs[0:4,0:8]) # upper heatmap\n",
    "    ax1 = plt.subplot(gs[4:8,0:8]) # lower heatmap\n",
    "    ax2 = plt.subplot(gs[0:2,9:13]) # 1st pie chart\n",
    "    ax3 = plt.subplot(gs[2:4,9:13]) # 2nd pie chart\n",
    "    ax4 = plt.subplot(gs[4:6,9:13]) # 3rd pie chart\n",
    "    ax5 = plt.subplot(gs[6:8,9:13]) # 4th pie chart\n",
    "    ax6 = plt.subplot(gs[0:8,8])\n",
    "    \n",
    "    # Upper heatmap\n",
    "    ax0.scatter(data1[0], data1[1], c = data1[2], cmap = plt.cm.YlGnBu_r, s = 0.1)\n",
    "    ax0.imshow(image, aspect='auto')\n",
    "    ax0.set_title(\"Heatmap for {0} on {1} ({2} Percentile)\".format(camera, plot1, quantile1))\n",
    "    ax0.axis('off')\n",
    "    \n",
    "    # Lower heatmap\n",
    "    ax1.scatter(data2[0], data2[1], c = data2[2], cmap = plt.cm.YlGnBu_r, s = 0.1)\n",
    "    ax1.imshow(image, aspect='auto')\n",
    "    ax1.set_title(\"Heatmap for {0} on {1} ({2} Percentile)\".format(camera, plot2, quantile2))\n",
    "    ax1.axis('off')\n",
    "    \n",
    "    # Labels, title and colors for pie charts\n",
    "    label1 = ['Points on the plot', 'Other Points']\n",
    "    title1 = \"Density Proportion for {0}\".format(plot1)\n",
    "    label2 =  ['Points on the plot', 'Other Points']\n",
    "    title2 =  \"Proportion of Number of Points for {0}\".format(plot1)\n",
    "    label3 = ['Points on the plot', 'Other Points']\n",
    "    title3 = \"Density Proportion of for {0}\".format(plot2) \n",
    "    label4 =  ['Points on the plot', 'Other Points']\n",
    "    title4 =  \"Proportion of Number of Points for {0} \".format(plot2)\n",
    "    colors=[\"lightskyblue\", \"lightcoral\"]\n",
    "    \n",
    "    # Plot pie charts and set their titles and legends\n",
    "    wedges, texts, autotexts = ax2.pie(pie1, autopct='%1.1f%%', colors = colors)\n",
    "    ax2.legend(wedges, label1,  loc=\"center left\",bbox_to_anchor=(1, 0, 0.5, 1))\n",
    "    ax2.set_title(title1)\n",
    "    \n",
    "    wedges, texts, autotexts= ax3.pie([100-quantile1, quantile1], autopct='%1.1f%%', colors = colors)\n",
    "    ax3.legend(wedges, label2,  loc=\"center left\",bbox_to_anchor=(1, 0, 0.5, 1))\n",
    "    ax3.set_title(title2)\n",
    "    \n",
    "    wedges, texts, autotexts= ax5.pie([100-quantile2, quantile2], autopct='%1.1f%%', colors = colors)\n",
    "    ax5.legend(wedges,label4, loc=\"center left\",bbox_to_anchor=(1, 0, 0.5, 1))\n",
    "    ax5.set_title(title4)\n",
    "    \n",
    "    ax4.set_title(title3)\n",
    "    wedges, texts, autotexts = ax4.pie(pie2,autopct='%1.1f%%', colors = colors)\n",
    "    ax4.legend(wedges,label3, loc=\"center left\",bbox_to_anchor=(1, 0, 0.5, 1))\n",
    "    \n",
    "    fig.suptitle('Cumulative Density Heatmap', x = 0.25, y=1.05, fontsize=24)\n",
    "    \n",
    "    fig.colorbar(plt.cm.ScalarMappable(norm=mcolors.Normalize(), cmap=plt.cm.YlGnBu_r), cax=ax6)\n",
    "    \n",
    "    ax6.set_ylabel(\"Color Bar of Density\", fontsize = 15)\n",
    "    \n",
    "    plt.tight_layout()"
   ]
  },
  {
   "cell_type": "code",
   "execution_count": 88,
   "metadata": {},
   "outputs": [],
   "source": [
    "## This is part is for design of widget for 'plot_cumulative_heatmap'\n",
    "\n",
    "## Make sure description will not be shorten\n",
    "style = {'description_width': 'initial'}\n",
    "\n",
    "## Two dropdowns for selecting days\n",
    "Plot1_Drop = widgets.Dropdown(options=[\"Event Days\",\"All the Days\", \"Sundays\", \"High Dwell Count Days\"], description='Time (first plot): ', style = style)\n",
    "Plot2_Drop = widgets.Dropdown(options=[\"Event Days\",\"All the Days\", \"Sundays\", \"High Dwell Count Days\"], description='Time (second plot):', style = style)\n",
    "\n",
    "## Two Intslider for selecting percentiles\n",
    "Plot1_quantile  = widgets.IntSlider(min=0, max=100, step=1, value=50, description='Percentile (first plot): ',style = style)\n",
    "Plot2_quantile = widgets.IntSlider(min=0, max=100, step=1, value=50, description='Percentile (second plot): ',style = style)\n",
    "\n",
    "## Store them seperately in horizontal boxes\n",
    "Plot1_Hbox = widgets.HBox(children=[Plot1_Drop, Plot1_quantile], style = style)\n",
    "Plot2_Hbox = widgets.HBox(children=[Plot2_Drop, Plot2_quantile], style = style)\n",
    "Camera_Hbox = widgets.ToggleButtons(options=[('Outside',  \"Outside\"), ('Streetscape',\"Streetscape\") , ('Under Raincoat', \"Under Raincoat\")], description='Camera:')\n",
    "\n",
    "## Set the widgets to vairables of functions\n",
    "plot_cumulative_heatmap_widget = widgets.interactive(plot_cumulative_heatmap, {'manual': True},\n",
    "                                             camera = Camera_Hbox,\n",
    "                                             plot1 = Plot1_Drop,\n",
    "                                             plot2 = Plot2_Drop,\n",
    "                                             quantile1 = Plot1_quantile,\n",
    "                                             quantile2 = Plot2_quantile)\n",
    "\n",
    "## Get the button for running interaction\n",
    "button1 = plot_cumulative_heatmap_widget.children[-2]\n",
    "\n",
    "## Get the output for running interaction\n",
    "output1 = plot_cumulative_heatmap_widget.children[-1]\n",
    "\n",
    "## Store them vertically\n",
    "tab1 = widgets.VBox(children=[Camera_Hbox,\n",
    "                      Plot1_Hbox,\n",
    "                    Plot2_Hbox,button1])\n",
    "\n",
    "plot_cumulative_heatmap_widget = widgets.VBox(children=[tab1, output1])"
   ]
  },
  {
   "cell_type": "code",
   "execution_count": 89,
   "metadata": {},
   "outputs": [
    {
     "data": {
      "application/vnd.jupyter.widget-view+json": {
       "model_id": "d2c7ac4529b4411aa90fe972e39989b9",
       "version_major": 2,
       "version_minor": 0
      },
      "text/plain": [
       "VBox(children=(VBox(children=(ToggleButtons(description='Camera:', options=(('Outside', 'Outside'), ('Streetsc…"
      ]
     },
     "metadata": {},
     "output_type": "display_data"
    }
   ],
   "source": [
    "plot_cumulative_heatmap_widget"
   ]
  },
  {
   "cell_type": "code",
   "execution_count": 90,
   "metadata": {},
   "outputs": [],
   "source": [
    "from sklearn.cluster import MiniBatchKMeans, KMeans\n",
    "import math\n",
    "\n",
    "def plot_cumulative_heatmap_points(camera, plot1, plot2, radius, coordinate_x, coordinate_y, show_scatter):\n",
    "\n",
    "    # Setting Coordinates\n",
    "    coordinate = (coordinate_x,coordinate_y)\n",
    "    # Setting Background Image\n",
    "    if camera == \"Outside\":\n",
    "        image = mpimg.imread('outside_sandbox.png')\n",
    "    elif camera == \"Streetscape\":\n",
    "        image = mpimg.imread('streetscape_sandbox.png')\n",
    "    elif camera == \"Under Raincoat\":\n",
    "        image = mpimg.imread('underraincoat_sandbox.png')\n",
    "\n",
    "    \n",
    "    # Divide the image into four parts\n",
    "    fig, ax = plt.subplots(figsize=(14,10))\n",
    "    gs = gridspec.GridSpec(8, 13)\n",
    "    ax0 = plt.subplot(gs[0:4,0:8]) # upper heatmap\n",
    "    ax1 = plt.subplot(gs[4:8,0:8]) # lower heatmap\n",
    "    ax2 = plt.subplot(gs[0:2,9:13]) # 1st pie chart\n",
    "    ax3 = plt.subplot(gs[2:4,9:13])# 2nd pie chart\n",
    "    ax4 = plt.subplot(gs[4:6,9:13])# 3rd pie chart\n",
    "    ax5 = plt.subplot(gs[6:8,9:13])# 4th pie chart\n",
    "    ax6 =  plt.subplot(gs[0:8,8])\n",
    "    \n",
    "    data1 =  cumulative_heatmap_data_helper(camera, plot1, 80, False)[0]\n",
    "    data2 = cumulative_heatmap_data_helper(camera, plot2, 80, False)[0]\n",
    "   \n",
    "    # Show the scatter plot \n",
    "    if show_scatter:\n",
    "        temp1 =  cumulative_heatmap_data_helper(camera, plot1, 0, True)\n",
    "        temp2 = cumulative_heatmap_data_helper(camera, plot2, 0, True)\n",
    "        data_scatter1 = temp1[0]\n",
    "        data_scatter2 = temp2[0]\n",
    "        ax0.scatter(data_scatter1[0], data_scatter1[1], c = data_scatter1[2], cmap = plt.cm.YlGnBu_r, s = 0.1)\n",
    "        ax1.scatter(data_scatter2[0], data_scatter2[1], c = data_scatter2[2], cmap = plt.cm.YlGnBu_r, s = 0.1)\n",
    "    \n",
    "    # Calculate the Area around the circle\n",
    "    area = math.pi*(radius*radius) # limitation, circle may not in reactangle\n",
    "    total_area = 500 * 650\n",
    "    \n",
    "    circle1 = plt.Circle(coordinate, radius, color='orange', fill=False,lw=5 )\n",
    "    circle2 = plt.Circle(coordinate, radius, color='orange', fill=False, lw=5 )\n",
    "    ax0.add_artist(circle1)\n",
    "    ax1.add_artist(circle2)\n",
    "    \n",
    "    ax0.imshow(image, aspect='auto')\n",
    "    ax0.set_title(\"{0} on {1} \".format(camera, plot1))\n",
    "    \n",
    "    ax1.imshow(image, aspect='auto')\n",
    "    ax1.set_title(\"{0} on {1} \".format(camera, plot2))\n",
    "    \n",
    "    # Calculate the density inside the circles\n",
    "    circle_density_1 = 0\n",
    "    total_density_1 = 0\n",
    "    for coordinates in data1:\n",
    "        total_density_1 = total_density_1 + coordinates[2]\n",
    "        if check_circle(radius,coordinate,(coordinates[0],coordinates[1])):\n",
    "            circle_density_1 = circle_density_1 + coordinates[2]\n",
    "    \n",
    "    circle_density_2 = 0\n",
    "    total_density_2 = 0\n",
    "    for coordinates in data2:\n",
    "        total_density_2 = total_density_2 + coordinates[2]\n",
    "        if check_circle(radius,coordinate,(coordinates[0],coordinates[1])):\n",
    "            circle_density_2 = circle_density_2 + coordinates[2]\n",
    "            \n",
    "    # label and colors for pie charts\n",
    "    label = [\"Inside the circle\", \"Outside the circle\"]\n",
    "    colors=[\"orange\", \"lightskyblue\"]\n",
    "\n",
    "    \n",
    "    # pie chart data\n",
    "    pie1 = [circle_density_1, total_density_1 - circle_density_1]\n",
    "    pie2 = [circle_density_2, total_density_2 - circle_density_2]\n",
    "    pie3 = [area, total_area-area]\n",
    "    \n",
    "    # Deal with pie charts\n",
    "    wedges, texts, autotexts = ax2.pie(pie1, autopct='%1.1f%%', colors = colors)\n",
    "    ax2.legend(wedges, label,loc=\"center left\",bbox_to_anchor=(1, 0, 0.5, 1))\n",
    "    ax2.set_title(\"Density of circle for {0}\".format(plot1))\n",
    "    \n",
    "    wedges, texts, autotexts = ax3.pie(pie3, autopct='%1.1f%%', colors = colors)\n",
    "    ax3.legend(wedges, label,loc=\"center left\",bbox_to_anchor=(1, 0, 0.5, 1))\n",
    "    ax3.set_title(\"Proportion of Area\")\n",
    "    \n",
    "    wedges, texts, autotexts = ax5.pie(pie3, autopct='%1.1f%%', colors = colors)\n",
    "    ax5.legend(wedges,label, loc=\"center left\",bbox_to_anchor=(1, 0, 0.5, 1))\n",
    "    ax5.set_title(\"Proportion of Area\")\n",
    "    \n",
    "    ax4.set_title(\"Density of circle for {0}\".format(plot2))\n",
    "    wedges, texts, autotexts = ax4.pie(pie2, autopct='%1.1f%%', colors = colors)\n",
    "    ax4.legend(wedges,label, loc=\"center left\",bbox_to_anchor=(1, 0, 0.5, 1))\n",
    "    \n",
    "    fig.colorbar(plt.cm.ScalarMappable(norm=mcolors.Normalize(), cmap=plt.cm.YlGnBu_r), cax=ax6)\n",
    "    ax6.set_ylabel(\"Color Bar of Density\", fontsize = 15)\n",
    "    \n",
    "    plt.tight_layout()\n",
    "    plt.show()"
   ]
  },
  {
   "cell_type": "code",
   "execution_count": 93,
   "metadata": {},
   "outputs": [],
   "source": [
    "## This is part is for design of widget for 'plot_cumulative_heatmap_points'\n",
    "\n",
    "## This is a ToggleButton widget for selecting camera\n",
    "Camera_Hbox = widgets.ToggleButtons(\n",
    "    options=[('Outside',  \"Outside\"), ('Streetscape',\"Streetscape\") , ('Under Raincoat', \"Under Raincoat\")],\n",
    "    description='Camera:',\n",
    ")\n",
    "\n",
    "## They are two dropdowns widgets for choosing days\n",
    "Plot1_Drop_2 = widgets.Dropdown(options=[\"Event Days\",\"All the Days\", \"Sundays\", \"High Dwell Count Days\"], description='Time (first plot): ', style = style)\n",
    "Plot2_Drop_2 = widgets.Dropdown(options=[\"Event Days\",\"All the Days\", \"Sundays\", \"High Dwell Count Days\"], description='Time (second plot):', style = style)\n",
    "\n",
    "\n",
    "## They are two intslider widgets for the size and position of circle\n",
    "radius_slider = widgets.IntSlider(min=1, max=50, step=1, value=10, description='Radius of the circle:', style = style)\n",
    "x_coordinate_slider = widgets.IntSlider(min=30, max=600, step=1, value=300, description='x coordinate of the center of the circle:',style = style, \n",
    "                                        layout=widgets.Layout(width='50%', height='30px'))\n",
    "y_coordinate_slider = widgets.IntSlider(min=30, max=450, step=1, value=200, description='y coordinate of the center of the circle:', style = style,\n",
    "                                       layout=widgets.Layout(width='50%', height='30px'))\n",
    "\n",
    "## They are two checkpoints to show what to display on the plots\n",
    "show_scatter_box = widgets.Checkbox(value=False, description='Show Desired Lines(Heatmap)', disabled=False, indent=False, style = style)\n",
    "\n",
    "## Set the widgets to vairables of functions\n",
    "plot_cumulative_heatmap_points_widget = widgets.interactive(plot_cumulative_heatmap_points, {'manual': True},\n",
    "                                         camera = Camera_Hbox, \n",
    "                                         plot1 = Plot1_Drop_2, \n",
    "                                         plot2 = Plot2_Drop_2,\n",
    "                                         radius = radius_slider,\n",
    "                                         coordinate_x = x_coordinate_slider,\n",
    "                                         coordinate_y = y_coordinate_slider,\n",
    "                                         show_scatter = show_scatter_box)\n",
    "\n",
    "## Rearrange the position of wiegets\n",
    "coordinate_Hbox = widgets.HBox(children=[x_coordinate_slider, y_coordinate_slider])\n",
    "Plot1_Hbox_1 = widgets.HBox(children=[Plot1_Drop_2])\n",
    "Plot1_Hbox_2 = widgets.HBox(children=[Plot2_Drop_2])\n",
    "Show= widgets.HBox(children=[show_scatter_box])\n",
    "vbox1 = widgets.VBox(children=[Camera_Hbox, Show, Plot1_Hbox_1, Plot1_Hbox_2])\n",
    "vbox2 = widgets.VBox(children=[coordinate_Hbox, radius_slider])\n",
    "\n",
    "tab = widgets.Tab(children=[vbox1, vbox2])\n",
    "tab.set_title(0, 'Plot')\n",
    "tab.set_title(1, 'Desired Point')\n",
    "\n",
    "button2 = plot_cumulative_heatmap_points_widget.children[-2]\n",
    "output = plot_cumulative_heatmap_points_widget.children[-1]\n",
    "tab2 = widgets.VBox(children=[tab, button2])\n",
    "plot_cumulative_heatmap_points_widget_rearrange = widgets.VBox(children = [tab2, output]) \n",
    "plot_cumulative_heatmap_points_widget =plot_cumulative_heatmap_points_widget_rearrange"
   ]
  },
  {
   "cell_type": "code",
   "execution_count": 95,
   "metadata": {},
   "outputs": [
    {
     "data": {
      "application/vnd.jupyter.widget-view+json": {
       "model_id": "fe8603ea7c7f45389b8551224a715bd6",
       "version_major": 2,
       "version_minor": 0
      },
      "text/plain": [
       "VBox(children=(VBox(children=(Tab(children=(VBox(children=(ToggleButtons(description='Camera:', options=(('Out…"
      ]
     },
     "metadata": {},
     "output_type": "display_data"
    }
   ],
   "source": [
    "plot_cumulative_heatmap_points_widget"
   ]
  },
  {
   "cell_type": "code",
   "execution_count": 96,
   "metadata": {},
   "outputs": [],
   "source": [
    "# TODO: merge with the previous func\n",
    "\n",
    "def get_hourly_dwell(func, ID, interval, startTime, endTime):\n",
    "    '''\n",
    "    func is either feedDwellTimeDistribution or zoneDwellTimeDistribution\n",
    "    '''\n",
    "    startTime_str = startTime.strftime(\"%Y-%m-%dT%H:%M:%S\")\n",
    "    endTime_str = endTime.strftime(\"%Y-%m-%dT%H:%M:%S\")\n",
    "    \n",
    "    if func == 'feedDwellTimeDistribution':\n",
    "        arg = 'serialnos: \"{0}\"'.format(ID)\n",
    "    else:\n",
    "        arg = 'zoneIds: {0}'.format(ID)\n",
    "        \n",
    "    query = \"\"\"\n",
    "    query {{\n",
    "        {0}(\n",
    "        {1},\n",
    "        startTime: \"{2}\",\n",
    "        endTime: \"{3}\",\n",
    "        timezone: \"America/New_York\",\n",
    "        objClasses: [\"pedestrian\", \"car\"],\n",
    "        interval: \"{4}\"\n",
    "        ){{\n",
    "        edges {{\n",
    "          node {{\n",
    "            time\n",
    "            objClass\n",
    "            pct100\n",
    "            pct75\n",
    "            pct50\n",
    "            pct25\n",
    "            mean\n",
    "            count\n",
    "          }}\n",
    "        }}\n",
    "      }}\n",
    "    }}\n",
    "    \"\"\".format(func, arg, startTime_str, endTime_str,  interval)\n",
    "\n",
    "    dwell = requests.post(url, json={'query': query}, \n",
    "                           headers = {'Authorization':token})\n",
    "    \n",
    "    df = pd.DataFrame([x['node'] for x in dwell.json()['data'][func]['edges']])\n",
    "    if func == 'feedDwellTimeDistribution':\n",
    "        df['device'] = ID\n",
    "    else:\n",
    "        df['zone'] = ID\n",
    "    df['time'] = [datetime.strptime(i[:-6], \"%Y-%m-%dT%H:%M:%S\") for i in list(df['time'])]\n",
    "    \n",
    "    return df"
   ]
  },
  {
   "cell_type": "code",
   "execution_count": 97,
   "metadata": {},
   "outputs": [],
   "source": [
    "## Get the days that we want to investigate conflict zone, we choose the days with 20 highest count of cars\n",
    "dwell_data_allobj = get_hourly_dwell('feedDwellTimeDistribution','SWLSANDBOX2' , '1d', START_DATE, END_DATE)\n",
    "dwell_data_car = dwell_data_allobj[dwell_data_allobj['objClass'] == 'car'].sort_values(by='count', ascending=False)\n",
    "high_traffic_day_list = list(dwell_data_car.sort_values(by='count', ascending=False)['time'].head(10))"
   ]
  },
  {
   "cell_type": "code",
   "execution_count": 99,
   "metadata": {},
   "outputs": [],
   "source": [
    "## Then, we get the dwell data of dwell data of these days\n",
    "time_delta_hour = time_delta = relativedelta(hours = +1)\n",
    "dwell_data_traffic_day = pd.concat([get_hourly_dwell('feedDwellTimeDistribution','SWLSANDBOX2', '1h', x+7*time_delta_hour, x+23*time_delta_hour) \n",
    "                                    for x in high_traffic_day_list])\n",
    "dwell_data_traffic_day =  dwell_data_traffic_day.reset_index(drop = True)"
   ]
  },
  {
   "cell_type": "code",
   "execution_count": 101,
   "metadata": {},
   "outputs": [],
   "source": [
    "import time\n",
    "## Get Heatmap data of car these days based on hour\n",
    "column_names = [\"startTime\", \"endTime\", \"heatMapMatrix\", \"objClass\"]\n",
    "high_traffic_day_car_heatmap = pd.DataFrame(columns = column_names)\n",
    "for day in high_traffic_day_list:\n",
    "    time_delta_hour = relativedelta(hours = +1)\n",
    "    start_hour = day + time_delta_hour*7\n",
    "    end_hour = day + time_delta_hour*23\n",
    "    interval = generate_consecutive_times(start_hour, end_hour, time_delta_hour)\n",
    "    temp = daily_heatmap_data(get_heatmap_data('SWLSANDBOX2', 'car', interval[0], interval[1]))\n",
    "    temp['objClass'] = 'car'\n",
    "    high_traffic_day_car_heatmap = pd.concat([temp, high_traffic_day_car_heatmap])"
   ]
  },
  {
   "cell_type": "code",
   "execution_count": 102,
   "metadata": {},
   "outputs": [],
   "source": [
    "## Get Heatmap data of pedestrian these days based on hour\n",
    "high_traffic_day_pedestrian_heatmap = pd.DataFrame(columns = column_names)\n",
    "for day in high_traffic_day_list:\n",
    "    time_delta_hour = relativedelta(hours = +1)\n",
    "    start_hour = day + time_delta_hour*7\n",
    "    end_hour = day + time_delta_hour*23\n",
    "    interval = generate_consecutive_times(start_hour, end_hour, time_delta_hour)\n",
    "    temp = daily_heatmap_data(get_heatmap_data('SWLSANDBOX2', 'pedestrian', interval[0], interval[1]))\n",
    "    temp['objClass'] = 'pedestrian'\n",
    "    high_traffic_day_pedestrian_heatmap = pd.concat([temp, high_traffic_day_pedestrian_heatmap])"
   ]
  },
  {
   "cell_type": "code",
   "execution_count": 103,
   "metadata": {},
   "outputs": [],
   "source": [
    "## Merge two dataframes \n",
    "high_traffic_day_heatmap = pd.concat([high_traffic_day_car_heatmap, high_traffic_day_pedestrian_heatmap])\n",
    "high_traffic_day_merged = pd.merge(high_traffic_day_heatmap, dwell_data_traffic_day, \n",
    "                                   left_on = [\"startTime\", \"objClass\"], \n",
    "                                   right_on = [\"time\", \"objClass\"]).drop([\"endTime\",  \"startTime\", \"pct75\", \"pct25\", \"device\", \"pct100\", \"mean\",\"pct50\"],axis =1)"
   ]
  },
  {
   "cell_type": "code",
   "execution_count": 104,
   "metadata": {},
   "outputs": [],
   "source": [
    "## Find weighted heatmap matrix\n",
    "high_traffic_day_merged[\"WeightedheatMapMatrix\"] = high_traffic_day_merged.apply(lambda x: weight_matrix(x['heatMapMatrix'], x['count']),axis=1)"
   ]
  },
  {
   "cell_type": "code",
   "execution_count": 105,
   "metadata": {},
   "outputs": [],
   "source": [
    "## Seperate two dataframes based on objclass\n",
    "high_traffic_day_car_merged = high_traffic_day_merged[high_traffic_day_merged['objClass'] == 'car'].drop([\"heatMapMatrix\", \"objClass\"], axis = 1)\n",
    "high_traffic_day_car_merged.rename(columns={\"WeightedheatMapMatrix\": \"carWeightedheatMapMatrix\", \"count\": \"carCount\"}, inplace = True)\n",
    "high_traffic_day_pedestrian_merged = high_traffic_day_merged[high_traffic_day_merged['objClass'] == 'pedestrian'].drop([\"heatMapMatrix\", \"objClass\"], axis = 1)\n",
    "high_traffic_day_pedestrian_merged.rename(columns={\"WeightedheatMapMatrix\": \"pedestrianWeightedheatMapMatrix\", \"count\": \"pedestrianCount\"}, inplace = True)"
   ]
  },
  {
   "cell_type": "code",
   "execution_count": 106,
   "metadata": {},
   "outputs": [],
   "source": [
    "high_traffic_day_hourly_heatmap = pd.merge(high_traffic_day_car_merged, high_traffic_day_pedestrian_merged, how = \"outer\", on =\"time\")"
   ]
  },
  {
   "cell_type": "code",
   "execution_count": 107,
   "metadata": {},
   "outputs": [],
   "source": [
    "## To do: Calculating conflicting index of each hour\n",
    "## For each hour, Create two lists, first is weighted_heatMapMatrix for pedestrian, second is weighted_heatMapMatrix for pedestrian.\n",
    "## Approach: Draw a circle with radius 50 around each non-pedestrian object(use check circle function), check pedestrian density around it \n",
    "## why choose 50? Summing density pedestrian objects in the circle weighted by distance (50 - 1 ), and this is conflicting index \n",
    "## Calculate conflicting index for each hour, create a new dataframe for this.\n",
    "## User is allowed to have orignial or scaled index\n",
    "def find_distance(c1, c2):\n",
    "    return ((c1[0] - c2[0])**2 + (c1[1] - c2[1])**2)**(1/2)\n",
    "\n",
    "\n",
    "def calculate_conflicting_index(non_pd, pd):\n",
    "    '''\n",
    "    This is a function for calculating conflicting index of datapoints under the camera,\n",
    "    non_pd is the heatmap matrix for nonpedastrain objects,\n",
    "    pd is the heatmap matrix for nonpedastrain objects.\n",
    "    \n",
    "    The input matrix should be weighted.\n",
    "    For each non-pedestrian object, check pedestrian density around it with distance less than 50\n",
    "    Its conflicting index is proportional to density of objects, but has negative relationship with distance.\n",
    "    Therefore, the index is calculated by density of non_pd object at that point * (sum(density of pd objects/ distance))\n",
    "    For more information, see documentation.\n",
    "    '''\n",
    "    conflicting_index = []\n",
    "    if type(non_pd) == float:\n",
    "        return []\n",
    "    else:\n",
    "        if type(pd) == float:\n",
    "                return []\n",
    "        for coordinate in non_pd:\n",
    "            index = 0\n",
    "            for coordinate_p in pd:\n",
    "                distance = find_distance(coordinate[0:2], coordinate_p[0:2])\n",
    "                if distance < 1:\n",
    "                      index = index + coordinate[2]*coordinate_p[2]\n",
    "                elif distance < 50:\n",
    "                    index = index + coordinate[2]*coordinate_p[2]/distance\n",
    "            conflicting_index.append([coordinate[0], coordinate[1], index])\n",
    "        return conflicting_index"
   ]
  },
  {
   "cell_type": "code",
   "execution_count": 108,
   "metadata": {},
   "outputs": [],
   "source": [
    "def sum_conflicting_index(lis):\n",
    "    '''\n",
    "    This is a helper function which sums up the density\n",
    "    '''\n",
    "    s = 0\n",
    "    for i in lis:\n",
    "        s = i[2] + s\n",
    "    return s"
   ]
  },
  {
   "cell_type": "code",
   "execution_count": 109,
   "metadata": {},
   "outputs": [],
   "source": [
    "## Caluclate conflictIndexMatrix for every time period\n",
    "high_traffic_day_hourly_heatmap['conflictIndexMatrix'] = high_traffic_day_hourly_heatmap.apply(lambda x : \n",
    "                                                                                               calculate_conflicting_index(x['carWeightedheatMapMatrix'],\n",
    "                                                                                                                                      x['pedestrianWeightedheatMapMatrix']), axis=1)"
   ]
  },
  {
   "cell_type": "code",
   "execution_count": 110,
   "metadata": {},
   "outputs": [],
   "source": [
    "## Sum up the total conflictIndex in a given time period\n",
    "high_traffic_day_hourly_heatmap[\"conflict_index_total\"] = [sum_conflicting_index(i) for i in list(high_traffic_day_hourly_heatmap['conflictIndexMatrix'])]"
   ]
  },
  {
   "cell_type": "code",
   "execution_count": 111,
   "metadata": {},
   "outputs": [],
   "source": [
    "##  Group the data by hour\n",
    "high_traffic_day_hourly_heatmap['hour'] = [i.hour for i in high_traffic_day_hourly_heatmap[\"time\"]]"
   ]
  },
  {
   "cell_type": "code",
   "execution_count": 112,
   "metadata": {},
   "outputs": [],
   "source": [
    "import plotly.graph_objects as go\n",
    "from plotly.subplots import make_subplots\n",
    "\n",
    "def lineplot_hour_conflicting(objclass, metric):# Create figure with secondary y-axis\n",
    "    fig = make_subplots(specs=[[{\"secondary_y\": True}]])\n",
    "    \n",
    "    #check what objclass it comes from\n",
    "    obj = objclass + \"Count\"\n",
    "\n",
    "    # Add traces\n",
    "    fig.add_trace(\n",
    "        go.Scatter(x=list(high_traffic_day_hourly_heatmap.groupby(['hour']).sum()['conflict_index_total'].index)\n",
    "                   , y=list(high_traffic_day_hourly_heatmap.groupby(['hour'])['conflict_index_total'].sum()), name=\"Cumulative Conflicting Index\"),\n",
    "        secondary_y=False,\n",
    "    )\n",
    "\n",
    "    # if metric is mean\n",
    "    if metric == \"mean\":\n",
    "        fig.add_trace(\n",
    "            go.Scatter(x=high_traffic_day_hourly_heatmap.groupby(['hour']).mean()[obj].index\n",
    "                       , y=list(high_traffic_day_hourly_heatmap.groupby(['hour'])[obj].mean()), name=\"{0} Count({1})\".format(objclass, metric)),\n",
    "            secondary_y=True,\n",
    "        )\n",
    "    # if metric is median\n",
    "    if metric == \"median\":\n",
    "        fig.add_trace(\n",
    "            go.Scatter(x=high_traffic_day_hourly_heatmap.groupby(['hour']).median()[obj].index\n",
    "                       , y=list(high_traffic_day_hourly_heatmap.groupby(['hour'])[obj].median()), name=\"{0} Count({1})\".format(objclass, metric)),\n",
    "            secondary_y=True,\n",
    "        )\n",
    "    # if metric is max\n",
    "    if metric == \"max\":\n",
    "        fig.add_trace(\n",
    "            go.Scatter(x=high_traffic_day_hourly_heatmap.groupby(['hour']).max()[obj].index\n",
    "                       , y=list(high_traffic_day_hourly_heatmap.groupby(['hour'])[obj].max()), name=\"{0} Count({1})\".format(objclass, metric)),\n",
    "            secondary_y=True,\n",
    "        )\n",
    "    # Add figure title\n",
    "    fig.update_layout(\n",
    "        title_text=\"Cumulative Conflicting Index (hour)\"\n",
    "    )\n",
    "\n",
    "    # Set x-axis title\n",
    "    fig.update_xaxes(title_text=\"Hour\")\n",
    "\n",
    "    # Set y-axes titles\n",
    "    fig.update_yaxes(title_text=\"<b>Cumulative Conflicting Index</b>\", secondary_y=False)\n",
    "    fig.update_yaxes(title_text=\"<b>{0} Count({1})</b>\".format(objclass, metric), secondary_y=True)\n",
    "\n",
    "    fig.show()\n",
    "    "
   ]
  },
  {
   "cell_type": "code",
   "execution_count": 113,
   "metadata": {},
   "outputs": [
    {
     "data": {
      "application/vnd.jupyter.widget-view+json": {
       "model_id": "3d096ebdd6814f51a08fcac645558a76",
       "version_major": 2,
       "version_minor": 0
      },
      "text/plain": [
       "interactive(children=(RadioButtons(description='objclass', options=('car', 'pedestrian'), value='car'), RadioB…"
      ]
     },
     "metadata": {},
     "output_type": "display_data"
    }
   ],
   "source": [
    "_ = interact(lineplot_hour_conflicting, metric=widgets.RadioButtons(options=['median', 'mean', \"max\"]),\n",
    "             objclass=widgets.RadioButtons(options=['car', 'pedestrian']))"
   ]
  },
  {
   "cell_type": "code",
   "execution_count": 114,
   "metadata": {},
   "outputs": [],
   "source": [
    "## Show plot with the highest density, indicating where is the largest conflicting point\n",
    "def heatmap_hour_conflicting(hour):\n",
    "    \n",
    "    image = mpimg.imread('underraincoat_sandbox.png')\n",
    "    fig, ax = plt.subplots(figsize=(14,10))\n",
    "    ax.imshow(image, aspect='auto')\n",
    "    data = high_traffic_day_hourly_heatmap[high_traffic_day_hourly_heatmap['hour'] == hour]\n",
    "    scatter = culmulative_heat_map_data(data['conflictIndexMatrix'].tolist())\n",
    "    x = [i[0] for i in scatter]\n",
    "    y =  [i[1] for i in scatter]\n",
    "    density = [i[2] for i in scatter]\n",
    "    ax.scatter(x,  y, c= density, cmap = plt.cm.YlGnBu_r)\n",
    "    ax.axis('off')\n",
    "    ax.set_title(\"The conflicting Heatmap between pedestrian and car at {0}\".format(hour), fontsize = 24, y = 1.05)\n",
    "    fig.colorbar(plt.cm.ScalarMappable(norm=mcolors.Normalize(), cmap=plt.cm.YlGnBu_r))\n",
    "    ax.text(750, 300, s =\"Color Bar of Conflicting Index (Scaled)\", fontsize = 15,rotation=90)"
   ]
  },
  {
   "cell_type": "code",
   "execution_count": 115,
   "metadata": {},
   "outputs": [
    {
     "data": {
      "application/vnd.jupyter.widget-view+json": {
       "model_id": "9e6710658a4f4b2eb0f54d6d23251d39",
       "version_major": 2,
       "version_minor": 0
      },
      "text/plain": [
       "interactive(children=(IntSlider(value=7, description='Time (hour):', max=22, min=7), Output()), _dom_classes=(…"
      ]
     },
     "metadata": {},
     "output_type": "display_data"
    }
   ],
   "source": [
    "_ = interact(heatmap_hour_conflicting,\n",
    "             hour=widgets.IntSlider(min=7, max=22, step=1, value=1, description='Time (hour):'))"
   ]
  },
  {
   "cell_type": "markdown",
   "metadata": {},
   "source": [
    "## Event vs Non Event Days"
   ]
  },
  {
   "cell_type": "markdown",
   "metadata": {},
   "source": [
    "### Subsection: Pedestrian Count"
   ]
  },
  {
   "cell_type": "markdown",
   "metadata": {},
   "source": [
    "In this section, we will be exploring how poeple's behaviour differ when there is an event and when there is no event occuring. We have obtained the Sidewalk Labs' event schedule from the [website](https://www.sidewalktoronto.ca/participate/). I have recorded all the events between Febuary 20th, 2019 and January 11th, 2020."
   ]
  },
  {
   "cell_type": "code",
   "execution_count": null,
   "metadata": {},
   "outputs": [],
   "source": [
    "event_dates = pd.read_csv('EventDates.csv')"
   ]
  },
  {
   "cell_type": "markdown",
   "metadata": {},
   "source": [
    "I also have obtained the pedestrian count data. We will first explore how the pedestrian count changes in different days. "
   ]
  },
  {
   "cell_type": "code",
   "execution_count": null,
   "metadata": {},
   "outputs": [],
   "source": [
    "outside_count_df = pd.read_csv('OverviewForOutsideCount.csv')\n",
    "streetscape_count_df = pd.read_csv('OverviewForStreetScapeCount.csv')\n",
    "under_rain_coat_count_df = pd.read_csv('OverviewForUnderRainCoatCount.csv')"
   ]
  },
  {
   "cell_type": "code",
   "execution_count": null,
   "metadata": {},
   "outputs": [],
   "source": [
    "outside_count_df.time = outside_count_df.time.str[:-6]\n",
    "streetscape_count_df.time = streetscape_count_df.time.str[:-6]\n",
    "under_rain_coat_count_df.time = under_rain_coat_count_df.time.str[:-6]"
   ]
  },
  {
   "cell_type": "code",
   "execution_count": null,
   "metadata": {},
   "outputs": [],
   "source": [
    "from datetime import datetime as dt\n",
    "outside_count_df.time = outside_count_df.apply(lambda x: dt.strptime(x.time, '%Y-%m-%dT%H:%M:%S'), axis = 1)\n",
    "streetscape_count_df.time = streetscape_count_df.apply(lambda x: dt.strptime(x.time, '%Y-%m-%dT%H:%M:%S'), axis = 1)\n",
    "under_rain_coat_count_df.time = under_rain_coat_count_df.apply(lambda x: \n",
    "                                                               dt.strptime(x.time, '%Y-%m-%dT%H:%M:%S'), axis = 1)"
   ]
  },
  {
   "cell_type": "code",
   "execution_count": null,
   "metadata": {},
   "outputs": [],
   "source": [
    "outside_count_by_day = outside_count_df.resample('d', on='time')['pedestrians'].agg(np.sum)\n",
    "streetscape_count_by_day = streetscape_count_df.resample('d', on='time')['pedestrians'].agg(np.sum)\n",
    "under_rain_coat_count_df_by_day = under_rain_coat_count_df.resample('d', on='time')['pedestrians'].agg(np.sum)"
   ]
  },
  {
   "cell_type": "code",
   "execution_count": null,
   "metadata": {},
   "outputs": [],
   "source": [
    "sum_ped_count_by_day = outside_count_by_day + streetscape_count_by_day + under_rain_coat_count_df_by_day"
   ]
  },
  {
   "cell_type": "code",
   "execution_count": null,
   "metadata": {},
   "outputs": [],
   "source": [
    "sum_ped_count_by_day"
   ]
  },
  {
   "cell_type": "code",
   "execution_count": null,
   "metadata": {},
   "outputs": [],
   "source": [
    "# fig = go.Figure(boxpoints='all')\n",
    "# fig.add_trace(go.Box(x=sum_ped_count_by_day.values))"
   ]
  },
  {
   "cell_type": "markdown",
   "metadata": {},
   "source": [
    "From the time series line plot above, we notced that there are several days that have significantly higher pedestrian count than other days. We will examine this further in the hour granular level."
   ]
  },
  {
   "cell_type": "code",
   "execution_count": null,
   "metadata": {},
   "outputs": [],
   "source": [
    "outside_count_by_hour = outside_count_df.resample('H', on='time')['pedestrians'].agg(np.sum)\n",
    "streetscape_count_by_hour = streetscape_count_df.resample('H', on='time')['pedestrians'].agg(np.sum)\n",
    "rain_coat_count_by_hour = under_rain_coat_count_df.resample('H', on='time')['pedestrians'].agg(np.sum)"
   ]
  },
  {
   "cell_type": "markdown",
   "metadata": {},
   "source": [
    "### Subsection: Dwell Time"
   ]
  },
  {
   "cell_type": "code",
   "execution_count": null,
   "metadata": {},
   "outputs": [],
   "source": [
    "def plot_dwell_time_event(event, metric):\n",
    "    '''\n",
    "    Display time series of the matrix of the event specified\n",
    "    '''\n",
    "    event_info = event_dates[event_dates.Event == event]\n",
    "    start = dt.strptime(event_info['Starting Time'].values[0], '%Y-%m-%dT%H:%M:%S')\n",
    "    end = dt.strptime(event_info['Ending Time'].values[0], '%Y-%m-%dT%H:%M:%S')\n",
    "\n",
    "    dwell_time_df = feed_dwell_1h_df[(feed_dwell_1h_df.time >= start) & (feed_dwell_1h_df.time <= end)]\n",
    "    \n",
    "    outside = dwell_time_df[dwell_time_df.device == 'Outside']\n",
    "    streetscape = dwell_time_df[dwell_time_df.device == 'Streetscape']\n",
    "    rain_coat = dwell_time_df[dwell_time_df.device == 'Under Raincoat']\n",
    "    \n",
    "    fig = go.Figure()\n",
    "    \n",
    "    fig.add_trace(go.Scatter(x=outside.time, y=outside[metric], \n",
    "                         name=\"Outside\",\n",
    "    \n",
    "    fig.show()\n",
    "    \n",
    "    "
   ]
  },
  {
   "cell_type": "code",
   "execution_count": null,
   "metadata": {},
   "outputs": [],
   "source": [
    "_ = interact(plot_dwell_time_event, \n",
    "             event=widgets.Dropdown(options=event_dates.Event.tolist(), value='Sidewalk Summer Open House'),\n",
    "             metric=widgets.Dropdown(options=metric_list, value='mean_dwell')\n",
    "            )"
   ]
  },
  {
   "cell_type": "markdown",
   "metadata": {},
   "source": [
    "### Dwell Time vs Pedestrian Count"
   ]
  },
  {
   "cell_type": "code",
   "execution_count": null,
   "metadata": {},
   "outputs": [],
   "source": [
    "event_dates['Starting Time'] = event_dates['Starting Time'].apply(lambda x: dt.strptime(x, '%Y-%m-%dT%H:%M:%S'))"
   ]
  },
  {
   "cell_type": "code",
   "execution_count": null,
   "metadata": {},
   "outputs": [],
   "source": [
    "event_dates['Ending Time'] = event_dates['Ending Time'].apply(lambda x: dt.strptime(x, '%Y-%m-%dT%H:%M:%S'))"
   ]
  },
  {
   "cell_type": "code",
   "execution_count": null,
   "metadata": {},
   "outputs": [],
   "source": [
    "# match the dwell dataframe against the event calender\n",
    "# match by hour\n",
    "\n",
    "event_lst = []\n",
    "\n",
    "for time in feed_dwell_1h_df.time:\n",
    "    for row in event_dates.iterrows():\n",
    "        start = row[1]['Starting Time']\n",
    "        end = row[1]['Ending Time']\n",
    "        has_event = False\n",
    "        if time >= start and time <= end:\n",
    "            event_lst.append(row[1]['Event'])\n",
    "            has_event = True\n",
    "            break\n",
    "    if not has_event:\n",
    "        event_lst.append(\"No\")"
   ]
  },
  {
   "cell_type": "code",
   "execution_count": null,
   "metadata": {},
   "outputs": [],
   "source": [
    "feed_dwell_1h_df['Event'] = event_lst"
   ]
  },
  {
   "cell_type": "code",
   "execution_count": null,
   "metadata": {},
   "outputs": [],
   "source": [
    "feed_dwell_1h_df['hasEvent'] = feed_dwell_1h_df.apply(lambda x: x.Event != 'No', axis = 1)"
   ]
  },
  {
   "cell_type": "code",
   "execution_count": null,
   "metadata": {},
   "outputs": [],
   "source": [
    "def plot_dwell_time_ped_count(event, location):\n",
    "    \n",
    "    df = feed_dwell_1h_df\n",
    "    df_event_location = df[(df[\"Event\"] == event) & (df[\"device\"] == location)]\n",
    "    first_title = f\"Mean Dwell Time By Event: {event} at Location: {location}\"\n",
    "    second_title = f\"Pedestrian Count By Event: {event} at Location: {location}\"\n",
    "    third_title = f\"Mean Dwell Time vs Pedestrian Count By Event: {event} at Location: {location}\"\n",
    "    \n",
    "    fig = make_subplots(rows = 3, cols = 1)\n",
    "    \n",
    "    fig.add_trace(go.Scatter(x=df_event_location['time'], y=df_event_location['mean_dwell'], \n",
    "                             name = \"Mean Dwell Time\", line_color=\"royalblue\"), row=1, col=1)\n",
    "    fig.add_trace(go.Scatter(x=df_event_location['time'], y=df_event_location['count'], \n",
    "                             name = \"Pedestrian Count\", line_color=\"dimgray\"), row=2, col=1)\n",
    "    fig.add_trace(go.Scatter(x=df_event_location['mean_dwell'], y=df_event_location['count'], \n",
    "                             mode='markers', name = 'Ped Count vs Dwell Time'), row=3, col=1)\n",
    "    \n",
    "    fig.update_yaxes(title_text=\"Ped Count\", row=3, col=1)\n",
    "    fig.update_xaxes(title_text=\"Mean Dwell Time\", row=3, col=1)\n",
    "\n",
    "    df_corr = df_event_location[['count', 'mean_dwell']]\n",
    "    pearson_r = df_corr.corr().iloc[0, 1]\n",
    "    title = \"Pearson correlation: \" + str(pearson_r)\n",
    "    \n",
    "    fig.update_layout(height=700, width=1200, title_text=title)\n",
    "    fig.show()\n",
    "    \n",
    "    "
   ]
  },
  {
   "cell_type": "code",
   "execution_count": null,
   "metadata": {
    "scrolled": false
   },
   "outputs": [],
   "source": [
    "feed_dwell_1d_df.sort_values('count', ascending=False)"
   ]
  },
  {
   "cell_type": "code",
   "execution_count": null,
   "metadata": {},
   "outputs": [],
   "source": [
    "a = feed_dwell_1h_df[feed_dwell_1h_df.hasEvent==False]\n",
    "np.corrcoef(a['count'], a['mean_dwell'])"
   ]
  },
  {
   "cell_type": "code",
   "execution_count": null,
   "metadata": {},
   "outputs": [],
   "source": [
    "px.scatter(feed_dwell_1h_df[(feed_dwell_1h_df.date==pd.Timestamp('2019-12-6')) & (feed_dwell_1h_df.device==\n",
    "                           'Streetscape')], x='count', y='mean_dwell')"
   ]
  },
  {
   "cell_type": "code",
   "execution_count": null,
   "metadata": {},
   "outputs": [],
   "source": [
    "_ = interact(plot_dwell_time_ped_count, \n",
    "             event=widgets.Dropdown(options= event_dates.Event.tolist() + ['No'], value='Sidewalk Summer Open House'),\n",
    "             location=widgets.Dropdown(options=['Streetscape', 'Under Raincoat', 'Outside'], \n",
    "                                     value='Streetscape')\n",
    "            )"
   ]
  },
  {
   "cell_type": "code",
   "execution_count": null,
   "metadata": {},
   "outputs": [],
   "source": [
    "feed_dwell_1h_df_event = feed_dwell_1h_df[feed_dwell_1h_df['hasEvent'] == True]\n",
    "feed_dwell_1h_df_event_streetscape = feed_dwell_1h_df_event[feed_dwell_1h_df_event['device'] == 'Streetscape']"
   ]
  },
  {
   "cell_type": "code",
   "execution_count": null,
   "metadata": {},
   "outputs": [],
   "source": [
    "import seaborn as sns;\n",
    "g = sns.lmplot(x=\"count\", y=\"mean_dwell\", hue=\"Event\", data=feed_dwell_1h_df_event_streetscape,\n",
    "               palette=\"Dark2\", ci = None, col = \"Event\", col_wrap = 4)\n",
    "g = g.set(xlim = (0, 3000), ylim = (0, 50))"
   ]
  },
  {
   "cell_type": "code",
   "execution_count": null,
   "metadata": {},
   "outputs": [],
   "source": [
    "feed_dwell_1d_df_streetscape = feed_dwell_1d_df[feed_dwell_1d_df['device'] == \"Streetscape\"]"
   ]
  },
  {
   "cell_type": "code",
   "execution_count": null,
   "metadata": {},
   "outputs": [],
   "source": [
    "def plot_dwell_time_ped_count_all_days():\n",
    "    \n",
    "    df = feed_dwell_1d_df_streetscape\n",
    "    \n",
    "    fig = make_subplots(rows = 2, cols = 1)\n",
    "    \n",
    "    fig.add_trace(go.Scatter(x=df['time'], y=df['mean_dwell'], \n",
    "                             name = \"Dwell Time (mean)\", line_color=\"royalblue\"), row=1, col=1)\n",
    "    fig.add_trace(go.Scatter(x=df['time'], y=df['count'], \n",
    "                            name = \"Pedestrian Count\", line_color=\"dimgray\"), row=2, col=1)\n",
    "\n",
    "    df_corr = df[['count', 'mean_dwell']]\n",
    "    pearson_r = df_corr.corr().iloc[0, 1]\n",
    "    title = \"Pearson correlation: \" + str(pearson_r)\n",
    "    \n",
    "    fig.update_layout(height=500, width=950, title_text=title)\n",
    "    fig.show()"
   ]
  },
  {
   "cell_type": "code",
   "execution_count": null,
   "metadata": {},
   "outputs": [],
   "source": [
    "plot_dwell_time_ped_count_all_days()"
   ]
  },
  {
   "cell_type": "code",
   "execution_count": null,
   "metadata": {},
   "outputs": [],
   "source": [
    "feed_dwell_1h_df_normal_time = feed_dwell_1h_df[feed_dwell_1h_df[\"hour\"] <= 18]\n",
    "feed_dwell_1h_df_normal_time = feed_dwell_1h_df_normal_time[feed_dwell_1h_df_normal_time[\"hour\"] >= 9]"
   ]
  },
  {
   "cell_type": "code",
   "execution_count": null,
   "metadata": {},
   "outputs": [],
   "source": [
    "df_corr = feed_dwell_1h_df_normal_time[['count', 'mean_dwell']]\n",
    "pearson_r = df_corr.corr().iloc[0, 1]\n",
    "pearson_r"
   ]
  },
  {
   "cell_type": "markdown",
   "metadata": {},
   "source": [
    "## Maintenance Strategy"
   ]
  },
  {
   "cell_type": "code",
   "execution_count": null,
   "metadata": {},
   "outputs": [],
   "source": [
    "# need hourly data so writing the query again; can combine with the previous one later\n",
    "def get_dwell_by_hour(func, ID):\n",
    "    '''\n",
    "    func is either feedDwellTimeDistribution or zoneDwellTimeDistribution\n",
    "    '''\n",
    "    if func == 'feedDwellTimeDistribution':\n",
    "        arg = 'serialnos: \"{0}\"'.format(ID)\n",
    "    else:\n",
    "        arg = 'zoneIds: {0}'.format(ID)\n",
    "        \n",
    "    query = \"\"\"\n",
    "    query {{\n",
    "        {0}(\n",
    "        {1},\n",
    "        startTime: \"2019-02-20T00:00:00\",\n",
    "        endTime: \"2020-01-12T00:00:00\",\n",
    "        timezone: \"America/New_York\",\n",
    "        objClasses: [\"pedestrian\"],\n",
    "        interval: \"1h\"\n",
    "        ){{\n",
    "        edges {{\n",
    "          node {{\n",
    "            time\n",
    "            objClass\n",
    "            pct100\n",
    "            pct75\n",
    "            pct50\n",
    "            pct25\n",
    "            mean\n",
    "            count\n",
    "          }}\n",
    "        }}\n",
    "      }}\n",
    "    }}\n",
    "    \"\"\".format(func, arg)\n",
    "\n",
    "    dwell = requests.post(url, json={'query': query}, \n",
    "                           headers = {'Authorization':token})\n",
    "    \n",
    "    df = pd.DataFrame([x['node'] for x in dwell.json()['data'][func]['edges']])\n",
    "    if func == 'feedDwellTimeDistribution':\n",
    "        df['device'] = ID\n",
    "    else:\n",
    "        df['zone'] = ID\n",
    "    \n",
    "    return df"
   ]
  },
  {
   "cell_type": "code",
   "execution_count": null,
   "metadata": {},
   "outputs": [],
   "source": [
    "feed_dwell_df = pd.concat([get_dwell_by_hour('feedDwellTimeDistribution', device_ids[i]) \n",
    "                           for i in range(3)])"
   ]
  },
  {
   "cell_type": "code",
   "execution_count": null,
   "metadata": {},
   "outputs": [],
   "source": [
    "# replace NaN with 0\n",
    "feed_dwell_df = feed_dwell_df.fillna(0)\n",
    "\n",
    "# convert time to timestamp object\n",
    "feed_dwell_df['time'] = feed_dwell_df['time'].str[:-6].apply(lambda x : pd.Timestamp(x))\n",
    "\n",
    "# add name column in addition to ID\n",
    "feed_dwell_df['device_name'] = [device_dict[d] for d in feed_dwell_df.device]"
   ]
  },
  {
   "cell_type": "code",
   "execution_count": null,
   "metadata": {},
   "outputs": [],
   "source": [
    "import datetime as dt\n",
    "from pandas.api.types import CategoricalDtype\n",
    "days = [(dt.datetime(2019, 3, 4) + dt.timedelta(days=x)).strftime('%a') for x in range(0, 7)]\n",
    "day_type = CategoricalDtype(categories=days, ordered=True)\n",
    "\n",
    "feed_dwell_df['day of week'] = feed_dwell_df['time'].apply(lambda x: x.strftime('%a')).astype(day_type)\n",
    "feed_dwell_df['date'] = feed_dwell_df['time'].apply(lambda x: x.strftime('%Y-%m-%d'))\n",
    "feed_dwell_df['hour'] = feed_dwell_df['time'].apply(lambda x: x.strftime('%H'))\n",
    "feed_dwell_df['hour'] = pd.to_numeric(feed_dwell_df['hour'])"
   ]
  },
  {
   "cell_type": "code",
   "execution_count": null,
   "metadata": {},
   "outputs": [],
   "source": [
    "daily_count = feed_dwell_df.groupby(['date', 'device_name'])['count'].max()\n",
    "daily_count = pd.DataFrame(daily_count).reset_index()\n",
    "daily_count['date'] = pd.to_datetime(daily_count['date'])"
   ]
  },
  {
   "cell_type": "code",
   "execution_count": null,
   "metadata": {},
   "outputs": [],
   "source": [
    "def maintenance_df(df, device, threshold, service):\n",
    "    dev_df = df[df['device_name'] == device]\n",
    "    \n",
    "    need_extra = []\n",
    "    need_regular = []\n",
    "    unmaintained = []\n",
    "    visualize = []\n",
    "    cumulative = 0\n",
    "\n",
    "    for index, row in dev_df.iterrows():\n",
    "        if row['count'] >= threshold:\n",
    "            need_extra.append(1)\n",
    "            need_regular.append(0)\n",
    "            if service == 'both' or service == 'extra':\n",
    "                visualize.append(row['count'])\n",
    "            else:\n",
    "                visualize.append(0)\n",
    "            cumulative = 0\n",
    "\n",
    "        else:\n",
    "            need_extra.append(0)\n",
    "            cumulative += row['count']\n",
    "            if cumulative >= threshold:\n",
    "                need_regular.append(1)\n",
    "                if service == 'both' or service == 'regular':\n",
    "                    visualize.append(cumulative)\n",
    "                else:\n",
    "                    visualize.append(0)\n",
    "                cumulative = 0\n",
    "            else:\n",
    "                visualize.append(0)\n",
    "                need_regular.append(0)\n",
    "\n",
    "        unmaintained.append(cumulative)\n",
    "\n",
    "    dev_df['need_extra'] = need_extra\n",
    "    dev_df['need_regular'] = need_regular\n",
    "    dev_df['unmaintained'] = unmaintained\n",
    "    dev_df['visualize'] = visualize\n",
    "        \n",
    "    return dev_df"
   ]
  },
  {
   "cell_type": "code",
   "execution_count": null,
   "metadata": {},
   "outputs": [],
   "source": [
    "def plot_maintenance(start_date, end_date, threshold, service):\n",
    "    #df = nonzero_df\n",
    "    df = daily_count\n",
    "        \n",
    "    plot_df = df.loc[(df.date >= pd.Timestamp(start_date)) & \n",
    "                     (df.date <= pd.Timestamp(end_date))].copy()\n",
    "    \n",
    "    dev1 = maintenance_df(plot_df, 'Streetscape', threshold, service)\n",
    "    dev2 = maintenance_df(plot_df, 'Under Raincoat', threshold, service)\n",
    "    dev3 = maintenance_df(plot_df, 'Outside', threshold, service)\n",
    "    \n",
    "    dev_y = ['Streetscape', 'Under Raincoat', 'Outside']\n",
    "    dev_y = dev_y[::-1]\n",
    "    dev_z = [dev1['visualize'], dev2['visualize'], dev3['visualize']]\n",
    "    dev_z = dev_z[::-1]\n",
    "\n",
    "    fig = go.Figure(data=go.Heatmap(\n",
    "            z=dev_z,\n",
    "            x=dev3['date'],\n",
    "            y=dev_y,\n",
    "            colorscale='Hot_r'))\n",
    "\n",
    "    fig.update_layout(\n",
    "        title='Maintenance Schedule',\n",
    "        xaxis_nticks=36)\n",
    "    \n",
    "    fig.show()"
   ]
  },
  {
   "cell_type": "code",
   "execution_count": null,
   "metadata": {},
   "outputs": [],
   "source": [
    "_ = interact(plot_maintenance, \n",
    "             service=widgets.Dropdown(options=['both', 'extra', 'regular'], value='both', disabled=False),\n",
    "             start_date=widgets.DatePicker(value=pd.to_datetime('2019-02-20')),\n",
    "             end_date=widgets.DatePicker(value=pd.to_datetime('2020-01-12')),\n",
    "             threshold=widgets.IntSlider(value=500, min=300, max=1000, step=100, readout_format='d')\n",
    "            )"
   ]
  },
  {
   "cell_type": "markdown",
   "metadata": {},
   "source": [
    "We plan to have regular maintenance once for every 500 visitors, and extra maintenance on days with more than 500 visitors on a single day. On the interactive plot, the user can select 'both' to view all the maintenance needed, or 'extra' and 'regular' to see maintenance of a specific type. \n",
    "\n",
    "We can see that Under Raincoat need the least maintenance, once every week during busy months, and twice or even once every month during less busy months. Streetscape needs the most maintenance. \n",
    "\n",
    "The color intensity represents the number of visitors for every maintenance, and the darker the colour, the more thorough the maintenance may need to be. \n",
    "\n",
    "The user can also change the threshold to visualize the change of maintenance freqency under different requirements, to plan the desired maintenance schedule."
   ]
  },
  {
   "cell_type": "code",
   "execution_count": null,
   "metadata": {},
   "outputs": [],
   "source": [
    "def plot_hour_heatmap(selected, start_date, end_date):\n",
    "    df = feed_dwell_df\n",
    "        \n",
    "    plot_df = df.loc[(pd.to_datetime(df.date) >= pd.Timestamp(start_date)) & \n",
    "                     (pd.to_datetime(df.date) <= pd.Timestamp(end_date))].copy()\n",
    "    \n",
    "    fig = go.Figure()\n",
    "    \n",
    "    if selected == 'all':\n",
    "        sub_df = plot_df.copy()\n",
    "    else:\n",
    "        sub_df = plot_df[plot_df['device_name'] == selected]\n",
    "        \n",
    "    hourly_count = sub_df.groupby(['day of week', 'hour'])['count'].mean()\n",
    "    hourly_count = pd.DataFrame(hourly_count).reset_index()\n",
    "        \n",
    "    days = ['Mon', 'Tue', 'Wed', 'Thu', 'Fri', 'Sat', 'Sun']\n",
    "    days = days[::-1]\n",
    "    count = []\n",
    "    count = count[::-1]\n",
    "    \n",
    "    for day in days:\n",
    "        count.append(hourly_count[hourly_count['day of week'] == day]['count'].tolist())\n",
    "        \n",
    "    #print(count)\n",
    "\n",
    "    fig = go.Figure(data=go.Heatmap(\n",
    "                   z=count,\n",
    "                   y=days,\n",
    "                   x=[0,  1,  2,  3,  4,  5,  6,  7,  8,  9, 10, 11, 12, 13, 14, 15, 16,\n",
    "       17, 18, 19, 20, 21, 22, 23],\n",
    "                   colorscale='YlOrRd',\n",
    "                   hoverongaps = False))\n",
    "    \n",
    "    fig.update_layout(\n",
    "        title=\"Pedestrian count by hour and day of week\",\n",
    "        xaxis = dict(\n",
    "        tickmode = 'linear',\n",
    "        dtick = 1,\n",
    "        title = 'hour in the day')\n",
    "    )\n",
    "    \n",
    "    fig.show()"
   ]
  },
  {
   "cell_type": "code",
   "execution_count": null,
   "metadata": {},
   "outputs": [],
   "source": [
    "_ = interact(plot_hour_heatmap, \n",
    "             selected=widgets.Dropdown(options=['all', 'Streetscape', 'Under Raincoat', 'Outside'], \n",
    "                                       value='all', disabled=False),\n",
    "             start_date=widgets.DatePicker(value=pd.to_datetime('2019-02-20')),\n",
    "             end_date=widgets.DatePicker(value=pd.to_datetime('2020-01-12'))\n",
    "            )"
   ]
  },
  {
   "cell_type": "markdown",
   "metadata": {},
   "source": [
    "Ideally, we want to plan for a regular maintenance time during the day, so we visualize the hourly count by hour and by day of the week using a calendar heatmap. For Streetscape, there are more people on Sunday afternoons, probably because of the visitors attending open hours. \n",
    "\n",
    "There are more activities during 8:00-20:00, and we would recommend scheduling the maintenance time during 7:00-8:00."
   ]
  }
 ],
 "metadata": {
  "kernelspec": {
   "display_name": "Python 3",
   "language": "python",
   "name": "python3"
  },
  "language_info": {
   "codemirror_mode": {
    "name": "ipython",
    "version": 3
   },
   "file_extension": ".py",
   "mimetype": "text/x-python",
   "name": "python",
   "nbconvert_exporter": "python",
   "pygments_lexer": "ipython3",
   "version": "3.7.4"
  }
 },
 "nbformat": 4,
 "nbformat_minor": 4
}
