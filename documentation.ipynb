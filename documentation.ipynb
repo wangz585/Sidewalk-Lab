{
 "cells": [
  {
   "cell_type": "markdown",
   "metadata": {},
   "source": [
    "## 3. Maintenance Schedule\n",
    "### 3.1 Maintenance Schedule by Pedestrian Count or Dwell Time\n",
    "This plot is a calendar heatmap that shows maintenance schedule by pedestrian count or dwell time, based on the `metric` selected by the user. \n",
    "\n",
    "We define our metrics as such:  \n",
    "`Pedestrian count`: We choose the maximum hourly pedestrian count as a metric for people, as the total daily pedestrian count may be an overestimate because people would exit and re-enter the area within the same day.   \n",
    "`Dwell time`: We multiply the pedestrian count by mean dwell time to get total dwell time of each day.  \n",
    "\n",
    "The user can select a `threshold`, and the default is set as 500. The maintenance schedule is planned as such: First we would check if it is a busy day with pedestrian count or dwell time more than the threshold. If so, an extra maintenance would be schedule on that day; otherwise, this number is added to the number of unmaintained visitors or hours. When the unmaintained number exceeds the threshold, a regular maintenance would be scheduled. Every time a maintenace is scheduled, the unmaintained number clears to zero. "
   ]
  },
  {
   "cell_type": "markdown",
   "metadata": {},
   "source": [
    "### 3.2 Maintenance Time During the Day\n",
    "This plot is a calendar heatmap that shows the average pedestrian count or dwell time by hour during each day of week, based on the `metric` selected by the user. The user can select an area from Streetscape, Under Raincoat, or Outside, or select \"all\" to see the sum of these three areas. The user can also customize the time range to display data from that period.\n",
    "\n",
    "The user can select either `extra` or `regular` service. If `regular` is selected, busy hours with a number over `threshold` would not be included in the data displayed."
   ]
  }
 ],
 "metadata": {
  "kernelspec": {
   "display_name": "Python 3",
   "language": "python",
   "name": "python3"
  },
  "language_info": {
   "codemirror_mode": {
    "name": "ipython",
    "version": 3
   },
   "file_extension": ".py",
   "mimetype": "text/x-python",
   "name": "python",
   "nbconvert_exporter": "python",
   "pygments_lexer": "ipython3",
   "version": "3.7.4"
  }
 },
 "nbformat": 4,
 "nbformat_minor": 4
}
