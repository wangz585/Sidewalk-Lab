{
 "cells": [
  {
   "cell_type": "markdown",
   "metadata": {},
   "source": [
    "# Assignment 3 "
   ]
  },
  {
   "cell_type": "markdown",
   "metadata": {},
   "source": [
    "# Table of Content\n",
    "## Overview\n",
    "1. Where is 307?\n",
    "\n",
    "## Data Exploration\n",
    "1. People's Behavior in terms of Dwell Time \n",
    "2. Which areas of 307 do people pass through\n",
    "3. Where do people tend to linger?\n",
    "4. How does dwell time change over time?\n",
    "\n",
    "## In-depth Analysis\n",
    "1. How do different zones affect people's behavior?\n",
    "2. How do events affect people's behavior?\n",
    "3. What is the best maintenance strategy?\n",
    "4. What are other factor affect people's bahavior?"
   ]
  },
  {
   "cell_type": "markdown",
   "metadata": {},
   "source": [
    "# About 307"
   ]
  },
  {
   "cell_type": "code",
   "execution_count": 1,
   "metadata": {},
   "outputs": [],
   "source": [
    "import pandas as pd\n",
    "import numpy as np\n",
    "import matplotlib.pyplot as plt\n",
    "import matplotlib.image as mpimg "
   ]
  },
  {
   "cell_type": "code",
   "execution_count": 2,
   "metadata": {},
   "outputs": [
    {
     "data": {
      "text/html": [
       "        <script type=\"text/javascript\">\n",
       "        window.PlotlyConfig = {MathJaxConfig: 'local'};\n",
       "        if (window.MathJax) {MathJax.Hub.Config({SVG: {font: \"STIX-Web\"}});}\n",
       "        if (typeof require !== 'undefined') {\n",
       "        require.undef(\"plotly\");\n",
       "        requirejs.config({\n",
       "            paths: {\n",
       "                'plotly': ['https://cdn.plot.ly/plotly-latest.min']\n",
       "            }\n",
       "        });\n",
       "        require(['plotly'], function(Plotly) {\n",
       "            window._Plotly = Plotly;\n",
       "        });\n",
       "        }\n",
       "        </script>\n",
       "        "
      ]
     },
     "metadata": {},
     "output_type": "display_data"
    }
   ],
   "source": [
    "import plotly as py\n",
    "import plotly.express as px\n",
    "import plotly.graph_objs as go\n",
    "from plotly.offline import iplot, init_notebook_mode\n",
    "#init_notebook_mode(connected=True)\n",
    "\n",
    "import cufflinks as cf\n",
    "cf.go_offline(connected=True)\n",
    "cf.set_config_file(colorscale='plotly', world_readable=True)\n",
    "\n",
    "# Extra options\n",
    "# pd.options.display.max_rows = 30\n",
    "# pd.options.display.max_columns = 25\n",
    "\n",
    "# Show all code cells outputs\n",
    "from IPython.core.interactiveshell import InteractiveShell\n",
    "InteractiveShell.ast_node_interactivity = 'all'\n",
    "\n",
    "import os\n",
    "from IPython.display import Image, display, HTML"
   ]
  },
  {
   "cell_type": "code",
   "execution_count": 3,
   "metadata": {},
   "outputs": [],
   "source": [
    "import ipywidgets as widgets\n",
    "from ipywidgets import interact, interact_manual"
   ]
  },
  {
   "cell_type": "code",
   "execution_count": 4,
   "metadata": {},
   "outputs": [],
   "source": [
    "# store login data in login.py\n",
    "%run login.py"
   ]
  },
  {
   "cell_type": "code",
   "execution_count": 5,
   "metadata": {},
   "outputs": [],
   "source": [
    "# login query as multiline formatted string\n",
    "# this assumes that login and pwd are defined \n",
    "# above\n",
    "\n",
    "loginquery = f\"\"\"\n",
    "mutation {{\n",
    "  logIn(\n",
    "      email:\\\"{login}\\\",\n",
    "      password:\\\"{pwd}\\\") {{\n",
    "    jwt {{\n",
    "      token\n",
    "      exp\n",
    "    }}\n",
    "  }}\n",
    "}}\n",
    "\"\"\""
   ]
  },
  {
   "cell_type": "code",
   "execution_count": 6,
   "metadata": {},
   "outputs": [],
   "source": [
    "import requests\n",
    "url = 'https://api.numina.co/graphql'\n",
    "\n",
    "mylogin = requests.post(url, json={'query': loginquery})\n",
    "# mylogin"
   ]
  },
  {
   "cell_type": "code",
   "execution_count": 7,
   "metadata": {},
   "outputs": [],
   "source": [
    "token = mylogin.json()['data']['logIn']['jwt']['token']"
   ]
  },
  {
   "cell_type": "code",
   "execution_count": 8,
   "metadata": {},
   "outputs": [],
   "source": [
    "expdate = mylogin.json()\n",
    "# expdate"
   ]
  },
  {
   "cell_type": "markdown",
   "metadata": {},
   "source": [
    "# Explore the Data!"
   ]
  },
  {
   "cell_type": "markdown",
   "metadata": {},
   "source": [
    "Now that you've been provided with the context, before we present our analysis, it's time for YOU to explore the data! As mentioned, the following are the full areas covered by the three cameras:"
   ]
  },
  {
   "cell_type": "markdown",
   "metadata": {},
   "source": [
    "Streetscape | Under Raincoat | Outside\n",
    "------------- | -------------  | -------------\n",
    "![alt](streetscape_sandbox.png) | ![alt](underraincoat_sandbox.png) | ![alt](outside_sandbox.png)"
   ]
  },
  {
   "cell_type": "markdown",
   "metadata": {},
   "source": [
    "As you see in the above images, each area essentially consists of two parts: objects such as tables and chairs, and empty spaces presumably for walking. Based on this reasoning, we have defined the following smaller behaviour zones so as to perform more in-depth research:"
   ]
  },
  {
   "cell_type": "markdown",
   "metadata": {},
   "source": [
    "### Streetscape ###\n",
    "\n",
    "Chair Zone | Corridor Zone | Free Zone\n",
    "------------- | -------------  | -------------\n",
    "![alt](BehaviorZoneImage/Streetscape-ChairZone.png) | ![alt](BehaviorZoneImage/Streetscape-PathZone.png) | ![alt](BehaviorZoneImage/Streetscape-ActivityZone.png)"
   ]
  },
  {
   "cell_type": "markdown",
   "metadata": {},
   "source": [
    "### Under Raincoat ###\n",
    "\n",
    "Chair Zone | Traffic Zone | Free Zone\n",
    "------------- | -------------  | -------------\n",
    "![alt](BehaviorZoneImage/UnderRaincoat-ChairZone.png) | ![alt](BehaviorZoneImage/UnderRaincoat-TrafficZone.png) | ![alt](BehaviorZoneImage/UnderRaincoat-ActivityZone.png)"
   ]
  },
  {
   "cell_type": "markdown",
   "metadata": {},
   "source": [
    "### Outside ###\n",
    "\n",
    "Chair Zone | Path Zone | -\n",
    "------------- | -------------  | -------------\n",
    "![alt](BehaviorZoneImage/Outside-ChairZone.png) | ![alt](BehaviorZoneImage/Outside-PathZone.png) | ![alt](blank.png)"
   ]
  },
  {
   "cell_type": "markdown",
   "metadata": {},
   "source": [
    "Note that we have to be aware of the fact that the chairs can be moved and that the above images may not necessarily reflect the layout of the room during the whole period of data collection. Specifically, the three sets of chairs in the Under Raincoat area can be easily moved; thus in the initial exploration, we will not be investigating the Chair Zone of Under Raincoat. \n",
    "\n",
    "Nonetheless, notice that they are included in the Free Zone. We believe that it is safe to assume that the chairs would not be moved outside the Free Zone to the Traffic Zone.\n",
    "\n",
    "Similarly, in the Streetscape area, under the assumption that it is intended to place the chairs together, it is unlikely that the group of chairs would be moved around freely and frequently due to the other obstacles in the room. As for the Outside area, it is also unlikely that the chairs would be placed in the middle of the road to block the path. Thus, we will be analyzing these two Chair Zones (while keeping the limitation in mind)."
   ]
  },
  {
   "cell_type": "code",
   "execution_count": 10,
   "metadata": {},
   "outputs": [],
   "source": [
    "device_dict = {'SWLSANDBOX1':'Streetscape', 'SWLSANDBOX2':'Under Raincoat', 'SWLSANDBOX3':'Outside'}\n",
    "device_ids = list(device_dict.keys())\n",
    "device_names = list(device_dict.values())\n",
    "\n",
    "# streetscape, under raincoat, outside\n",
    "device_clrs = ['royalblue', 'firebrick', 'forestgreen']"
   ]
  },
  {
   "cell_type": "code",
   "execution_count": 11,
   "metadata": {},
   "outputs": [],
   "source": [
    "def get_zones(device_id):\n",
    "    \n",
    "    query_zones = \"\"\"\n",
    "    query {{\n",
    "      behaviorZones (\n",
    "        serialnos: \"{0}\"\n",
    "        ) {{\n",
    "        count\n",
    "        edges {{\n",
    "          node {{\n",
    "            rawId\n",
    "            text\n",
    "          }}\n",
    "        }}\n",
    "      }}\n",
    "    }}\n",
    "    \"\"\".format(device_id)\n",
    "    \n",
    "    zones = requests.post(url, json={'query': query_zones}, headers = {'Authorization':token})\n",
    "    \n",
    "    df = pd.DataFrame([x['node'] for x in zones.json()['data']['behaviorZones']['edges']])\n",
    "    df['device'] = device_id\n",
    "    \n",
    "    return df"
   ]
  },
  {
   "cell_type": "code",
   "execution_count": 12,
   "metadata": {},
   "outputs": [],
   "source": [
    "zones_df = pd.concat([get_zones(device_ids[i]) for i in range(3)])\n",
    "zones_df = zones_df[(zones_df.text.notnull()) & \n",
    "                    (zones_df.text.str.startswith('x-')) & \n",
    "                    (zones_df.text.str.endswith('zone'))]"
   ]
  },
  {
   "cell_type": "code",
   "execution_count": 46,
   "metadata": {
    "scrolled": true
   },
   "outputs": [],
   "source": [
    "zones_df['text'] = zones_df['text'].str.replace('x-', '')"
   ]
  },
  {
   "cell_type": "code",
   "execution_count": 14,
   "metadata": {},
   "outputs": [],
   "source": [
    "def get_dwell(func, ID, interval):\n",
    "    '''\n",
    "    func is either feedDwellTimeDistribution or zoneDwellTimeDistribution\n",
    "    '''\n",
    "    if func == 'feedDwellTimeDistribution':\n",
    "        arg = 'serialnos: \"{0}\"'.format(ID)\n",
    "    else:\n",
    "        arg = 'zoneIds: {0}'.format(ID)\n",
    "        \n",
    "    query = \"\"\"\n",
    "    query {{\n",
    "        {0}(\n",
    "        {1},\n",
    "        startTime: \"2019-02-20T00:00:00\",\n",
    "        endTime: \"2020-01-12T00:00:00\",\n",
    "        timezone: \"America/New_York\",\n",
    "        objClasses: [\"pedestrian\"],\n",
    "        interval: \"{2}\"\n",
    "        ){{\n",
    "        edges {{\n",
    "          node {{\n",
    "            time\n",
    "            objClass\n",
    "            pct100\n",
    "            pct75\n",
    "            pct50\n",
    "            pct25\n",
    "            mean\n",
    "            count\n",
    "          }}\n",
    "        }}\n",
    "      }}\n",
    "    }}\n",
    "    \"\"\".format(func, arg, interval)\n",
    "\n",
    "    dwell = requests.post(url, json={'query': query}, \n",
    "                           headers = {'Authorization':token})\n",
    "    \n",
    "    df = pd.DataFrame([x['node'] for x in dwell.json()['data'][func]['edges']])\n",
    "    if func == 'feedDwellTimeDistribution':\n",
    "        df['device'] = ID\n",
    "    else:\n",
    "        df['zone'] = ID\n",
    "    \n",
    "    return df"
   ]
  },
  {
   "cell_type": "code",
   "execution_count": 15,
   "metadata": {},
   "outputs": [],
   "source": [
    "# daily dwell time - device\n",
    "feed_dwell_1d_df = pd.concat([get_dwell('feedDwellTimeDistribution', device_ids[i], '1d') \n",
    "                              for i in range(3)])"
   ]
  },
  {
   "cell_type": "code",
   "execution_count": 17,
   "metadata": {},
   "outputs": [],
   "source": [
    "# daily dwell time - zone\n",
    "zone_dwell_1d_df = pd.concat([get_dwell('zoneDwellTimeDistribution', z, '1d')\n",
    "                             for z in zones_df['rawId'].values])"
   ]
  },
  {
   "cell_type": "code",
   "execution_count": 19,
   "metadata": {},
   "outputs": [],
   "source": [
    "'''\n",
    "def extract_time(df):\n",
    "    df['year'] = df['time'].str[:4].astype(int)\n",
    "    df['month'] = df['time'].str[5:7].astype(int)\n",
    "    df['day'] = df['time'].str[8:10].astype(int)\n",
    "    df['date'] = pd.to_datetime(df['time'].str[:10])\n",
    "    df['hour'] = df['time'].str[11:13].astype(int)\n",
    "    return df.drop('time', axis=1)\n",
    "''';"
   ]
  },
  {
   "cell_type": "code",
   "execution_count": 20,
   "metadata": {},
   "outputs": [],
   "source": [
    "'''\n",
    "feed_dwell_df = extract_time(feed_dwell_df)\n",
    "zone_dwell_df = extract_time(zone_dwell_df)\n",
    "''';"
   ]
  },
  {
   "cell_type": "code",
   "execution_count": 21,
   "metadata": {},
   "outputs": [],
   "source": [
    "# replace NaN with 0\n",
    "feed_dwell_1d_df = feed_dwell_1d_df.fillna(0)\n",
    "zone_dwell_1d_df = zone_dwell_1d_df.fillna(0)"
   ]
  },
  {
   "cell_type": "code",
   "execution_count": 22,
   "metadata": {},
   "outputs": [],
   "source": [
    "# convert time to timestamp object\n",
    "feed_dwell_1d_df['time'] = feed_dwell_1d_df['time'].str[:-6].apply(lambda x : pd.Timestamp(x))\n",
    "zone_dwell_1d_df['time'] = zone_dwell_1d_df['time'].str[:-6].apply(lambda x : pd.Timestamp(x))\n",
    "zone_dwell_1d_df.zone = zone_dwell_1d_df.zone.astype(str)"
   ]
  },
  {
   "cell_type": "code",
   "execution_count": 23,
   "metadata": {},
   "outputs": [],
   "source": [
    "# add name column in addition to ID\n",
    "feed_dwell_1d_df['device_name'] = [device_dict[d] for d in feed_dwell_1d_df.device]\n",
    "\n",
    "# zone ID from int to str\n",
    "zones_df.rawId = zones_df.rawId.astype(str)\n",
    "zone_dict = dict(zip(zones_df.rawId, zones_df.text))\n",
    "# zone name\n",
    "zone_dwell_1d_df['zone_name'] = [zone_dict[z] for z in zone_dwell_1d_df.zone]"
   ]
  },
  {
   "cell_type": "code",
   "execution_count": 63,
   "metadata": {},
   "outputs": [],
   "source": [
    "def get_df(groupby):\n",
    "    if groupby == 'device_name':\n",
    "        return feed_dwell_1d_df.copy(), device_names, device_clrs\n",
    "    else:\n",
    "        return zone_dwell_1d_df.copy(), list(zones_df.text), list(zones_df.colour)"
   ]
  },
  {
   "cell_type": "code",
   "execution_count": 28,
   "metadata": {},
   "outputs": [],
   "source": [
    "# assign a colour to each behaviour zone\n",
    "zones_df['colour'] = ['blue', 'lightblue', 'cadetblue',\n",
    "                      'orangered', 'lightcoral', \n",
    "                      'palegreen', 'lightgreen']"
   ]
  },
  {
   "cell_type": "code",
   "execution_count": 33,
   "metadata": {},
   "outputs": [],
   "source": [
    "# add a total column = mean * count\n",
    "zone_dwell_1d_df['total'] = zone_dwell_1d_df['mean'] * zone_dwell_1d_df['count'] \n",
    "feed_dwell_1d_df['total'] = feed_dwell_1d_df['mean'] * feed_dwell_1d_df['count'] "
   ]
  },
  {
   "cell_type": "markdown",
   "metadata": {},
   "source": [
    "Recall that the timeframe of our data is approximately one year. Therefore, in the initial exploration, let's focus on the daily dwell time and daily count of pedestrains in the 307 region. \n",
    "\n",
    "As a starting point, explore the data using the following interactive line plot and think about these questions:\n",
    "1. Is there any trend in pedesdrian count / dwell time in any of the areas / zones?\n",
    "2. Where would you expect to see a bigger crowd? Is any of the areas / zones more popular than others?"
   ]
  },
  {
   "cell_type": "markdown",
   "metadata": {},
   "source": [
    "Tip: You can click the legend on the right to include/exclude a line on the plot."
   ]
  },
  {
   "cell_type": "code",
   "execution_count": 65,
   "metadata": {},
   "outputs": [],
   "source": [
    "metric_list = ['count', 'mean', 'pct100', 'pct75', 'pct50', 'pct25', 'total']"
   ]
  },
  {
   "cell_type": "code",
   "execution_count": 29,
   "metadata": {},
   "outputs": [],
   "source": [
    "def plot_timeline(groupby, metric):\n",
    "    '''\n",
    "    device_or_zone is either 'device_name' or 'zone_name';\n",
    "    metric is a value in ['count', 'mean', 'pct100', 'pct75', 'pct50', 'pct25', 'total']\n",
    "    '''\n",
    "    df, byvals, clrs = get_df(groupby)\n",
    "    \n",
    "    fig = go.Figure()\n",
    "    \n",
    "    # line plot for each name\n",
    "    for i in range(len(byvals)):\n",
    "        sub_df = df[df[groupby] == byvals[i]]\n",
    "        fig.add_trace(go.Scatter(x=sub_df.time, y=sub_df[metric], line_color=clrs[i], name=byvals[i]))\n",
    "    \n",
    "    # layout - axes labels\n",
    "    fig.update_layout(\n",
    "        xaxis_title=\"time\",\n",
    "        yaxis_title=metric,\n",
    "        xaxis_rangeslider_visible=True\n",
    "    )\n",
    "    # title\n",
    "    if metric != 'count':\n",
    "        fig.update_layout(title=f\"pedestrian dwell time ({metric}) grouped by '{groupby}'\")\n",
    "    else:\n",
    "        fig.update_layout(title=f\"pedestrian count grouped by '{groupby}'\")\n",
    "    \n",
    "    fig.show()\n",
    "    "
   ]
  },
  {
   "cell_type": "code",
   "execution_count": 30,
   "metadata": {},
   "outputs": [
    {
     "data": {
      "application/vnd.jupyter.widget-view+json": {
       "model_id": "4c24457b5b824533ac60cec8d4b77782",
       "version_major": 2,
       "version_minor": 0
      },
      "text/plain": [
       "interactive(children=(RadioButtons(description='groupby', options=('device_name', 'zone_name'), value='device_…"
      ]
     },
     "metadata": {},
     "output_type": "display_data"
    }
   ],
   "source": [
    "_ = interact(plot_timeline, \n",
    "             groupby=widgets.RadioButtons(options=['device_name', 'zone_name'], value='device_name'),\n",
    "             metric=widgets.Dropdown(options=metric_list, value='mean')\n",
    "            )"
   ]
  },
  {
   "cell_type": "markdown",
   "metadata": {},
   "source": [
    "Not too surprisingly, we observe a few peak days. The following interactive dataframe summarizes the exact locations and dates:"
   ]
  },
  {
   "cell_type": "code",
   "execution_count": 53,
   "metadata": {},
   "outputs": [
    {
     "data": {
      "application/vnd.jupyter.widget-view+json": {
       "model_id": "ca961b8d1bc94d469b0a145c6e086be2",
       "version_major": 2,
       "version_minor": 0
      },
      "text/plain": [
       "interactive(children=(RadioButtons(description='groupby', options=('device_name', 'zone_name'), value='device_…"
      ]
     },
     "metadata": {},
     "output_type": "display_data"
    }
   ],
   "source": [
    "def sort_dwell_1d(groupby, sortby, ascending, top):\n",
    "    df, _, _ = get_df(groupby)\n",
    "    \n",
    "    cols = [groupby, 'time', sortby]\n",
    "    if sortby == 'count':\n",
    "        cols.append('mean')\n",
    "    elif sortby == 'mean':\n",
    "        cols.append('count')\n",
    "    else:\n",
    "        cols.append('count')\n",
    "        cols.append('mean')\n",
    "        \n",
    "    display(df.sort_values(sortby, ascending=ascending).reset_index(drop=True)\n",
    "              .loc[:int(top)-1, cols])\n",
    "\n",
    "_ = interact(sort_dwell_1d, \n",
    "             groupby=widgets.RadioButtons(options=['device_name', 'zone_name'], value='device_name'),\n",
    "             sortby=widgets.Dropdown(options=metric_list, value='mean'),\n",
    "             top=widgets.IntSlider(value=5, min=1, max=30, step=1, readout_format='d'),\n",
    "             ascending=widgets.Checkbox(value=False, description='ascending'))"
   ]
  },
  {
   "cell_type": "code",
   "execution_count": 72,
   "metadata": {},
   "outputs": [],
   "source": [
    "def plot_boxplot(groupby, metric):\n",
    "    fig = go.Figure()\n",
    "    \n",
    "    df, byvals, clrs = get_df(groupby)\n",
    "    \n",
    "    for i in range(len(byvals)):\n",
    "        # Use x instead of y argument for horizontal plot\n",
    "        fig.add_trace(go.Box(x=df.loc[df[groupby]==byvals[i], metric], name=byvals[i],\n",
    "                             marker_color=clrs[i], boxpoints='outliers'))\n",
    "\n",
    "    # layout - axes labels\n",
    "    fig.update_layout(\n",
    "        xaxis_title=metric,\n",
    "        xaxis_rangeslider_visible=True\n",
    "    )\n",
    "    # title\n",
    "    if metric != 'count':\n",
    "        fig.update_layout(title=f\"distribution of pedestrian dwell time ({metric}) grouped by '{groupby}'\")\n",
    "    else:\n",
    "        fig.update_layout(title=f\"distribution of pedestrian count grouped by '{groupby}'\")\n",
    "    \n",
    "    fig.show()\n",
    "    "
   ]
  },
  {
   "cell_type": "code",
   "execution_count": 73,
   "metadata": {},
   "outputs": [
    {
     "data": {
      "application/vnd.jupyter.widget-view+json": {
       "model_id": "f05762d4b1054f8db8f9926bd1adbc46",
       "version_major": 2,
       "version_minor": 0
      },
      "text/plain": [
       "interactive(children=(RadioButtons(description='groupby', options=('device_name', 'zone_name'), value='device_…"
      ]
     },
     "metadata": {},
     "output_type": "display_data"
    }
   ],
   "source": [
    "_ = interact(plot_boxplot, \n",
    "             groupby=widgets.RadioButtons(options=['device_name', 'zone_name'], value='device_name'),\n",
    "             metric=widgets.Dropdown(options=metric_list, value='mean')\n",
    "            )"
   ]
  },
  {
   "cell_type": "code",
   "execution_count": 54,
   "metadata": {},
   "outputs": [],
   "source": [
    "# feed_dwell_1d_df.groupby('device')['count'].describe()"
   ]
  },
  {
   "cell_type": "code",
   "execution_count": 34,
   "metadata": {},
   "outputs": [],
   "source": [
    "# groupby zone_name / device_name and take the sum for the other columns\n",
    "# should only investigate the count and total columns\n",
    "\n",
    "grouped_df = zone_dwell_1d_df.groupby('zone_name').sum().reset_index(drop=False)\\\n",
    "                             .rename(columns={'zone_name':'name'})\n",
    "grouped_df = grouped_df.append(feed_dwell_1d_df.groupby('device_name').sum().reset_index(drop=False)\n",
    "                               .rename(columns={'device_name':'name'}))"
   ]
  },
  {
   "cell_type": "code",
   "execution_count": 59,
   "metadata": {},
   "outputs": [],
   "source": [
    "from plotly.subplots import make_subplots\n",
    "\n",
    "def plot_barplot(metric):\n",
    "    '''\n",
    "    metric is either 'count' or 'total' (dwell time)\n",
    "    '''\n",
    "    fig = make_subplots(rows=1, cols=3)\n",
    "    \n",
    "    df = grouped_df.copy()\n",
    "    m = metric.split(' ')[0]\n",
    "    \n",
    "    for i in range(3):\n",
    "        dname = device_names[i]\n",
    "        total = df.loc[df.name==dname, m]\n",
    "        sub_df = df[[n[1:5]==dname[1:5] for n in df.name]]\n",
    "        sub_df.name = [s[-1] for s in sub_df.name.str.split('-')]\n",
    "        sub_df['perc'] = sub_df[m].apply(lambda x : x / total * 100)\n",
    "        \n",
    "        fig.add_bar(x=sub_df.name, y=sub_df[m], name=dname, row=1, col=i+1)\n",
    "        \n",
    "    #fig.update_yaxes(ticksuffix=\"%\", col=1)\n",
    "    layout = go.Layout(yaxis=dict(range=[0, 100]))\n",
    "    \n",
    "    fig.update_layout(title=f\"proportion of individual behaviour zones w.r.t. the area in terms of {metric} of pedestrians\")\n",
    "\n",
    "    fig.show()"
   ]
  },
  {
   "cell_type": "code",
   "execution_count": 60,
   "metadata": {},
   "outputs": [
    {
     "data": {
      "application/vnd.jupyter.widget-view+json": {
       "model_id": "244ba998dc0146519701b73b76d99fba",
       "version_major": 2,
       "version_minor": 0
      },
      "text/plain": [
       "interactive(children=(RadioButtons(description='metric', options=('count', 'total dwell time'), value='count')…"
      ]
     },
     "metadata": {},
     "output_type": "display_data"
    }
   ],
   "source": [
    "_ = interact(plot_barplot, metric=widgets.RadioButtons(options=['count', 'total dwell time'], value='count'))"
   ]
  },
  {
   "cell_type": "code",
   "execution_count": 75,
   "metadata": {},
   "outputs": [],
   "source": [
    "'''\n",
    "def boxplot_dwell(groupby, column, bound_factor):\n",
    "    df, _, _ = get_df(groupby)\n",
    "    \n",
    "    q3 = df[column].quantile(0.75) \n",
    "    q1 = df[column].quantile(0.25)\n",
    "    iqr = q3 - q1\n",
    "    sub_df = df[(df[column] <= q3 + iqr*bound_factor) & \n",
    "                  ((df[column] >= q1 - iqr*bound_factor))]\n",
    "    \n",
    "    if column == 'count':\n",
    "        title = f\"distribution of count grouped by '{groupby}'\" +\\\n",
    "        f\" with values {bound_factor} * IQR beyond Q1/Q3 removed\"\n",
    "    else:\n",
    "        title = f\"distribution of mean dwell time grouped by '{groupby}'\" +\\\n",
    "        f\" with values {bound_factor} * IQR beyond Q1/Q3 removed\"\n",
    "    \n",
    "    fig = px.box(sub_df, x=groupby, y=column, points=\"all\", title=title)\n",
    "\n",
    "    fig.show()\n",
    "''';"
   ]
  },
  {
   "cell_type": "code",
   "execution_count": 77,
   "metadata": {},
   "outputs": [],
   "source": [
    "'''\n",
    "_ = interact(boxplot_dwell, \n",
    "             groupby=widgets.RadioButtons(options=['device_name', 'zone_name']), value='device_name',\n",
    "             column=widgets.RadioButtons(options=['count', 'mean'], value='count'),\n",
    "             bound_factor=widgets.FloatSlider(\n",
    "                 value=1.5,\n",
    "                 min=-3,\n",
    "                 max=10,\n",
    "                 step=0.1,\n",
    "                 disabled=False,\n",
    "                 continuous_update=False,\n",
    "                 orientation='horizontal',\n",
    "                 readout=True,\n",
    "                 readout_format='.1f')\n",
    "            )\n",
    "''';"
   ]
  },
  {
   "cell_type": "markdown",
   "metadata": {},
   "source": [
    "### Obtain heatmap for pedestrians"
   ]
  },
  {
   "cell_type": "code",
   "execution_count": 40,
   "metadata": {},
   "outputs": [],
   "source": [
    "from datetime import timedelta, datetime\n",
    "from dateutil.relativedelta import relativedelta\n",
    "import calendar\n",
    "START_DATE = datetime(2019, 2, 20, 0, 0, 0)\n",
    "END_DATE = datetime(2019, 3, 20, 0, 0, 0)\n",
    "time_delta = relativedelta(days = +1)"
   ]
  },
  {
   "cell_type": "code",
   "execution_count": 41,
   "metadata": {},
   "outputs": [],
   "source": [
    "import pandas as pd\n",
    "heatmap_df = pd.DataFrame(columns = ['startTime', 'endTime', 'heatMap'])"
   ]
  },
  {
   "cell_type": "code",
   "execution_count": 42,
   "metadata": {},
   "outputs": [],
   "source": [
    "def heatmap_query_gen(startTime: str, endTime: str):\n",
    "    heatmap_query = \"\"\"\n",
    "query {{\n",
    "  feedHeatmaps(\n",
    "    serialno: \"SWLSANDBOX1\",\n",
    "    startTime:\"{0}\",\n",
    "    endTime:\"{1}\",\n",
    "    objClasses:[\"pedestrian\"],\n",
    "    timezone:\"America/New_York\") {{\n",
    "    edges {{\n",
    "      node {{\n",
    "        time\n",
    "        objClass\n",
    "        heatmap\n",
    "      }}\n",
    "    }}\n",
    "  }}\n",
    "}}\n",
    "\"\"\".format(startTime, endTime)\n",
    "    return heatmap_query"
   ]
  },
  {
   "cell_type": "code",
   "execution_count": 43,
   "metadata": {},
   "outputs": [],
   "source": [
    "current_date = START_DATE\n",
    "while current_date < END_DATE:\n",
    "    start_time_str = current_date.strftime('%Y-%m-%dT%H:%M:%S')\n",
    "    end_time = current_date + time_delta\n",
    "    end_time_str = end_time.strftime('%Y-%m-%dT%H:%M:%S')\n",
    "    heatmap_data = requests.post(url, json={'query': heatmap_query_gen(start_time_str, end_time_str)}, \n",
    "                         headers = {'Authorization':token})\n",
    "    heatmap_json = heatmap_data.json()\n",
    "    if heatmap_json['data']:\n",
    "        if 'feedHeatmaps' in heatmap_json['data']:\n",
    "            heatmap = heatmap_json['data']['feedHeatmaps']['edges'][0]['node']['heatmap']\n",
    "            temp_df = pd.DataFrame({\"startTime\":current_date, \"endTime\":end_time, 'heatMap':heatmap})\n",
    "            heatmap_df = heatmap_df.append(temp_df, ignore_index = True)\n",
    "    current_date = current_date + time_delta"
   ]
  },
  {
   "cell_type": "code",
   "execution_count": 44,
   "metadata": {},
   "outputs": [],
   "source": [
    "ed_heatmap_df = heatmap_df.groupby(['startTime', 'endTime'])['heatMap'].apply(list).reset_index(name='heatMapMatrix')"
   ]
  },
  {
   "cell_type": "code",
   "execution_count": 45,
   "metadata": {},
   "outputs": [
    {
     "data": {
      "application/vnd.jupyter.widget-view+json": {
       "model_id": "5cfc7d15455b44b999847beb4498ccf2",
       "version_major": 2,
       "version_minor": 0
      },
      "text/plain": [
       "interactive(children=(DatePicker(value=Timestamp('2019-02-26 00:00:00'), description='Pick a Date'), Output())…"
      ]
     },
     "metadata": {},
     "output_type": "display_data"
    },
    {
     "data": {
      "text/plain": [
       "<function __main__.plot_heatmap(start_time)>"
      ]
     },
     "execution_count": 45,
     "metadata": {},
     "output_type": "execute_result"
    }
   ],
   "source": [
    "from IPython.display import display\n",
    "def plot_heatmap(start_time):\n",
    "    map_img = mpimg.imread('streetscape_sandbox.png')\n",
    "    matrix = list(ed_heatmap_df[ed_heatmap_df['startTime'] == start_time]['heatMapMatrix'])[0]\n",
    "    x = [i[0] for i in matrix] \n",
    "    y = [i[1] for i in matrix]\n",
    "    z = [i[2] for i in matrix]\n",
    "    fig, ax = plt.subplots(figsize=(15,10))\n",
    "    ax.scatter(x, y, c=z, s=10, cmap=plt.cm.Wistia) # Other color maps: plt.cm.cmap_d.keys())\n",
    "    ax.imshow(map_img, aspect='auto')\n",
    "    plt.axis('off')\n",
    "    plt.title(\"Heatmap for date {0}\".format(start_time, fontsize=20))\n",
    "    plt.show()\n",
    "interact(plot_heatmap, start_time=widgets.DatePicker(value = pd.to_datetime('2019-02-26'), description='Pick a Date'))"
   ]
  },
  {
   "cell_type": "code",
   "execution_count": null,
   "metadata": {},
   "outputs": [],
   "source": []
  }
 ],
 "metadata": {
  "kernelspec": {
   "display_name": "Python 3",
   "language": "python",
   "name": "python3"
  },
  "language_info": {
   "codemirror_mode": {
    "name": "ipython",
    "version": 3
   },
   "file_extension": ".py",
   "mimetype": "text/x-python",
   "name": "python",
   "nbconvert_exporter": "python",
   "pygments_lexer": "ipython3",
   "version": "3.7.0"
  }
 },
 "nbformat": 4,
 "nbformat_minor": 4
}
