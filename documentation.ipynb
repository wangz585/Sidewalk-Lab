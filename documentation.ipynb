{
 "cells": [
  {
   "cell_type": "markdown",
   "metadata": {},
   "source": [
    "# 0. Context and Preview"
   ]
  },
  {
   "cell_type": "markdown",
   "metadata": {},
   "source": [
    "### 0.1 Purpose of the Webpage"
   ]
  },
  {
   "cell_type": "markdown",
   "metadata": {},
   "source": [
    "This webpage aims to provide a tool for the users to understand and explore data collected at the [307 area](https://www.azuremagazine.com/article/sidewalk-labs-307/) of the [Sidewalk Labs](https://www.sidewalklabs.com/). The webpage focuses on exploratory analysis and mainly consists of interactive widgets. While we offer a few of our own insights, the users are strongly encouraged to try different settings of the widgets to make more observations. "
   ]
  },
  {
   "cell_type": "markdown",
   "metadata": {},
   "source": [
    "### 0.2 Data"
   ]
  },
  {
   "cell_type": "markdown",
   "metadata": {},
   "source": [
    "The data used to create this webpage has been collected by three Numina sensors deployed at 307. \n",
    "\n",
    "........"
   ]
  },
  {
   "cell_type": "markdown",
   "metadata": {},
   "source": [
    "### 0.3 Devices and Zones"
   ]
  },
  {
   "cell_type": "markdown",
   "metadata": {},
   "source": [
    "### 0.4 Tips on Plotly Charts"
   ]
  },
  {
   "cell_type": "markdown",
   "metadata": {},
   "source": [
    "i. Click on the legend to include / exclude a trace; we strongly suggest to select only a subset when grouping the data by zones\n",
    "\n",
    "ii. Move the x-axis range slider to adjust the scale"
   ]
  },
  {
   "cell_type": "markdown",
   "metadata": {},
   "source": [
    "# 1. Pedestrian Count and Dwell Time"
   ]
  },
  {
   "cell_type": "markdown",
   "metadata": {},
   "source": [
    "The first main section of the webpage allows the user to compare patterns in pedestrian count and dwell time across different device areas or behaviour zones. This section aims to allow the user to observe where pedestrians tend to pass through or to linger. Such observations could help the planner understand where and/or when to put more attention. \n",
    "\n",
    "All widgets in this section allow the user to compare the data across both devices and zones. Every device / zone has been assigned a unique colour; zones in the same device area have been assigned colours of the same hue.\n",
    "\n",
    "We will refer to the following list as the \"full metric list\": count, mean dwell time, median dwell time, max dwell time and total dwell time."
   ]
  },
  {
   "cell_type": "markdown",
   "metadata": {},
   "source": [
    "### 1.1 Long-Term Trend"
   ]
  },
  {
   "cell_type": "markdown",
   "metadata": {},
   "source": [
    "This line plot uses daily data on count and dwell time. It allows the user to choose from the full metric list and compare the trend of the data over the timeframe. \n",
    "\n",
    "This very first plot aims to give the user a general impression of the data in terms of different metrics. It shows the range of the values and highlights the peaks.\n",
    "\n",
    "We suggest to use this plot for a quick overview rather than for in-depth analysis."
   ]
  },
  {
   "cell_type": "markdown",
   "metadata": {},
   "source": [
    "### 1.2 Peak Days Summary"
   ]
  },
  {
   "cell_type": "markdown",
   "metadata": {},
   "source": [
    "This interactive dataframe allows the user to rank the daily data by any of the metrics in the full metric list. Since the data used to create this webpage is limited, we suggest the user to use this widget to filter out the days with the highest values so as to perform further research on the reasons behind the large values."
   ]
  },
  {
   "cell_type": "markdown",
   "metadata": {},
   "source": [
    "### 1.3 Overall Distribution"
   ]
  },
  {
   "cell_type": "markdown",
   "metadata": {},
   "source": [
    "This box plot also uses daily data and gives the basic statistics of the metrics in the full metric list. In addition to basic quantiles and outliers, the box plot includes dashed lines for mean values. In contrast to the previous time series chart, this plot focuses on the cumulative distribution. This is useful for comparing the popularity of device areas / zones numerically and for identifying the location in which the outlier values occurred."
   ]
  },
  {
   "cell_type": "markdown",
   "metadata": {},
   "source": [
    "### 1.4 Grouping by Time"
   ]
  },
  {
   "cell_type": "markdown",
   "metadata": {},
   "source": [
    "This grouped bar plot uses either daily or hourly data depending on the \"time group\" specified. If the user groups the data by \"hour\", then hourly data would be used; otherwise daily data would be used for \"dayofweek\" or \"month\".\n",
    "\n",
    "For any specified metric in the full metric list, the plot displays the median value of that metric in each hour/weekday/month. We chose to display the median value because we would like to emphasize a general pattern as time changes and we would like to minimize the effects of outlier values. "
   ]
  },
  {
   "cell_type": "markdown",
   "metadata": {},
   "source": [
    "### 1.5 Averaged Proportion"
   ]
  },
  {
   "cell_type": "markdown",
   "metadata": {},
   "source": [
    "Similar to the previous plot, this stacked bar plot also uses either daily or hourly data depending on the \"time group\". \n",
    "\n",
    "In contrast, we only allow the user to choose between count or total dwell time. To generate the plot, compute the proportion of an area or zone in terms of either total count or total dwell time during each hour or day. Then for each area/zone, group the data by the specified \"time group\" and take the average of the proportion values. \n",
    "\n",
    "Note that we decided to use \"mean\" proportion rather than \"median\" proportion since it is reasonable to assume that even for a day had an abnormally high count / total dwell time, the values would still be informative in terms of proportions. The mean proportion values would also always sum up to one.\n",
    "\n",
    "In fact, we believe that the days with a higher count could be more informative on where people tend to be comparing to regular days. Therefore, we offer the option of setting a lower bound on count to select only a subset of the hours/days to be considered. Hence, the user would be able to compare the importance of each device area / zone on crowded days against regular days."
   ]
  },
  {
   "cell_type": "markdown",
   "metadata": {},
   "source": [
    "### 1.6 On Events"
   ]
  },
  {
   "cell_type": "markdown",
   "metadata": {},
   "source": [
    "# 2. Desired Lines and Spots"
   ]
  },
  {
   "cell_type": "markdown",
   "metadata": {},
   "source": [
    "### 2.1 On Events Summary"
   ]
  },
  {
   "cell_type": "markdown",
   "metadata": {},
   "source": [
    "### 2.2 At Different Times of Events"
   ]
  },
  {
   "cell_type": "markdown",
   "metadata": {},
   "source": [
    "### 2.3 Customized Spot Check"
   ]
  },
  {
   "cell_type": "markdown",
   "metadata": {},
   "source": [
    "### 2.4 Conflicts with Cars"
   ]
  },
  {
   "cell_type": "markdown",
   "metadata": {},
   "source": [
    "# 3. Maintenance Schedule"
   ]
  },
  {
   "cell_type": "markdown",
   "metadata": {},
   "source": [
    "### 3.1 Days of Maintenance"
   ]
  },
  {
   "cell_type": "markdown",
   "metadata": {},
   "source": [
    "### 3.2 Maintenance Time During the Days"
   ]
  },
  {
   "cell_type": "markdown",
   "metadata": {},
   "source": [
    "# 4. Discussion Around Privacy"
   ]
  },
  {
   "cell_type": "code",
   "execution_count": null,
   "metadata": {},
   "outputs": [],
   "source": []
  }
 ],
 "metadata": {
  "kernelspec": {
   "display_name": "Python 3",
   "language": "python",
   "name": "python3"
  },
  "language_info": {
   "codemirror_mode": {
    "name": "ipython",
    "version": 3
   },
   "file_extension": ".py",
   "mimetype": "text/x-python",
   "name": "python",
   "nbconvert_exporter": "python",
   "pygments_lexer": "ipython3",
   "version": "3.7.0"
  }
 },
 "nbformat": 4,
 "nbformat_minor": 4
}
