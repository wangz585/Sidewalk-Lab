{
 "cells": [
  {
   "cell_type": "code",
   "execution_count": 12,
   "metadata": {},
   "outputs": [
    {
     "data": {
      "text/html": [
       "        <script type=\"text/javascript\">\n",
       "        window.PlotlyConfig = {MathJaxConfig: 'local'};\n",
       "        if (window.MathJax) {MathJax.Hub.Config({SVG: {font: \"STIX-Web\"}});}\n",
       "        if (typeof require !== 'undefined') {\n",
       "        require.undef(\"plotly\");\n",
       "        requirejs.config({\n",
       "            paths: {\n",
       "                'plotly': ['https://cdn.plot.ly/plotly-latest.min']\n",
       "            }\n",
       "        });\n",
       "        require(['plotly'], function(Plotly) {\n",
       "            window._Plotly = Plotly;\n",
       "        });\n",
       "        }\n",
       "        </script>\n",
       "        "
      ]
     },
     "metadata": {},
     "output_type": "display_data"
    }
   ],
   "source": [
    "import pandas as pd\n",
    "import numpy as np\n",
    "import matplotlib.pyplot as plt\n",
    "import matplotlib.image as mpimg \n",
    "import plotly as py\n",
    "import plotly.express as px\n",
    "import plotly.graph_objs as go\n",
    "from plotly.offline import iplot, init_notebook_mode\n",
    "#init_notebook_mode(connected=True)\n",
    "\n",
    "import cufflinks as cf\n",
    "cf.go_offline(connected=True)\n",
    "cf.set_config_file(colorscale='plotly', world_readable=True)\n",
    "\n",
    "# Extra options\n",
    "# pd.options.display.max_rows = 30\n",
    "# pd.options.display.max_columns = 25\n",
    "\n",
    "# Show all code cells outputs\n",
    "from IPython.core.interactiveshell import InteractiveShell\n",
    "InteractiveShell.ast_node_interactivity = 'all'\n",
    "\n",
    "import os\n",
    "from IPython.display import Image, display, HTML\n",
    "import ipywidgets as widgets\n",
    "from ipywidgets import interact, interact_manual"
   ]
  },
  {
   "cell_type": "code",
   "execution_count": 27,
   "metadata": {},
   "outputs": [],
   "source": [
    "## Copy paste\n",
    "\n",
    "%run login.py\n",
    "\n",
    "loginquery = f\"\"\"\n",
    "mutation {{\n",
    "  logIn(\n",
    "      email:\\\"{login}\\\",\n",
    "      password:\\\"{pwd}\\\") {{\n",
    "    jwt {{\n",
    "      token\n",
    "      exp\n",
    "    }}\n",
    "  }}\n",
    "}}\n",
    "\"\"\"\n",
    "\n",
    "import requests\n",
    "url = 'https://api.numina.co/graphql'\n",
    "\n",
    "mylogin = requests.post(url, json={'query': loginquery})\n",
    "\n",
    "token = mylogin.json()['data']['logIn']['jwt']['token']\n",
    "\n",
    "device_ids = ['SWLSANDBOX1', 'SWLSANDBOX2', 'SWLSANDBOX3']"
   ]
  },
  {
   "cell_type": "code",
   "execution_count": 24,
   "metadata": {},
   "outputs": [],
   "source": [
    "def text_explaination(camera, zone, function, procedure):\n",
    "    print('This {0} behavior zone is under {1} camera. It servers for {2}.\\nWe will explore this zone through {3}.'\n",
    "          .format(zone, camera, function, procedure))"
   ]
  },
  {
   "cell_type": "code",
   "execution_count": 23,
   "metadata": {
    "scrolled": true
   },
   "outputs": [
    {
     "data": {
      "application/vnd.jupyter.widget-view+json": {
       "model_id": "5d3627d22edd4ec8a388e1f6bc96a034",
       "version_major": 2,
       "version_minor": 0
      },
      "text/plain": [
       "interactive(children=(Dropdown(description='Zone', options=('Outside-ChairZone.png', 'Outside-PathZone.png', '…"
      ]
     },
     "metadata": {},
     "output_type": "display_data"
    }
   ],
   "source": [
    "fdir = 'BehaviorZoneImage/'\n",
    "@interact\n",
    "def show_images(Zone=os.listdir(fdir)):\n",
    "    display(Image(fdir+Zone))\n",
    "    if (Zone == 'Outside-ChairZone.png'):\n",
    "            text_explaination('Outside', 'ChairZone', 'seating or taking a break for pedestrians', 'its desired spots')\n",
    "    if (Zone == 'Outside-PathZone.png'):\n",
    "            text_explaination('Outside', 'PathZone', 'path for pedestrians, vehicles, bikes', 'desired lines and spots for pedastrains and traffics')\n",
    "    if (Zone == 'Streetscape-PathZone.png'):\n",
    "            text_explaination('Streetscape', 'PathZone', 'path for pedestrians', 'desired line and spots for pedastrains')\n",
    "    if (Zone == 'Streetscape-ChairZone.png'):\n",
    "            text_explaination('Streetscape', 'ChairZone', 'activity seating or taking a break for pedestrians', 'its desired spots')\n",
    "    if (Zone == 'Streetscape-ActivityZone.png'):\n",
    "            text_explaination('Streetscape', 'ActivityZone', 'freely walking for pedastrains or holding activities', 'its desired spots, lines')\n",
    "    if (Zone == 'UnderRaincoat-TrafficZone.png'):\n",
    "            text_explaination('UnderRaincoat', 'TrafficZone', 'path for pedestrians, vehicles, bikes', 'its desired spots, lines for pedastrains and traffics')\n",
    "    if (Zone == 'UnderRaincoat-ChairZone.png'):\n",
    "            text_explaination('UnderRaincoat', 'ChairZone', 'factivity seating or taking a break for pedestrians', 'its desired spots')\n",
    "    if (Zone == 'UnderRaincoat-ActivityZone.png'):\n",
    "            text_explaination('UnderRaincoat', 'ActivityZone', 'freely walking for pedastrains', 'its desired spots, lines')"
   ]
  },
  {
   "cell_type": "markdown",
   "metadata": {},
   "source": [
    "**This is for keeping track of my work**\n",
    "1. Get zones ids, store them\n",
    "2. Zone heatmap based on day of all zones, store them in csv\n",
    "3. Interaction for path zone: we do not use rectangle, because it has angle, so visualize, interative part, date, quantile, types"
   ]
  },
  {
   "cell_type": "code",
   "execution_count": 25,
   "metadata": {},
   "outputs": [],
   "source": [
    "## copy and paste\n",
    "def get_zones(device_id):\n",
    "    query_zones = \"\"\"\n",
    "    query {{\n",
    "      behaviorZones (\n",
    "        serialnos: \"{0}\"\n",
    "        ) {{\n",
    "        count\n",
    "        edges {{\n",
    "          node {{\n",
    "            rawId\n",
    "            text\n",
    "          }}\n",
    "        }}\n",
    "      }}\n",
    "    }}\n",
    "    \"\"\".format(device_id)\n",
    "    \n",
    "    zones = requests.post(url, json={'query': query_zones}, headers = {'Authorization':token})\n",
    "    \n",
    "    df = pd.DataFrame([x['node'] for x in zones.json()['data']['behaviorZones']['edges']])\n",
    "    df['device'] = device_id\n",
    "    \n",
    "    return df"
   ]
  },
  {
   "cell_type": "code",
   "execution_count": 28,
   "metadata": {},
   "outputs": [],
   "source": [
    "zones_df = pd.concat([get_zones(device_ids[i]) for i in range(3)])"
   ]
  },
  {
   "cell_type": "code",
   "execution_count": 37,
   "metadata": {},
   "outputs": [],
   "source": [
    "## get our gourp zone\n",
    "x_zones_df = zones_df[zones_df['text'].apply(lambda x: True if (x is not None and x[0:2] == 'x-') else False)]\n",
    "x_zones_id = list(x_zones_df['rawId'])"
   ]
  },
  {
   "cell_type": "code",
   "execution_count": 126,
   "metadata": {},
   "outputs": [],
   "source": [
    "## please do not input mutiple zoneId or obj, you can always use a for loop to construct a dataframe with multiple objects\n",
    "def zone_heatmap_query_gen(startTime: str, endTime: str, zoneId: int, obj =str):\n",
    "    zoneId = str(zoneId)\n",
    "    heatmap_query = \"\"\"\n",
    "query {{\n",
    "    zoneHeatmaps(\n",
    "    zoneIds: [{0}],\n",
    "    startTime:\"{1}\",\n",
    "    endTime:\"{2}\",\n",
    "    objClasses:[\"{3}\"],\n",
    "    timezone:\"America/New_York\") {{\n",
    "    edges {{\n",
    "        node {{\n",
    "        time\n",
    "        objClass\n",
    "        heatmap\n",
    "      }}\n",
    "    }}\n",
    "  }}\n",
    "}}\n",
    "\"\"\".format(zoneId, startTime, endTime, obj)\n",
    "    return heatmap_query"
   ]
  },
  {
   "cell_type": "code",
   "execution_count": 127,
   "metadata": {},
   "outputs": [],
   "source": [
    "from datetime import timedelta, datetime\n",
    "from dateutil.relativedelta import relativedelta\n",
    "import calendar\n",
    "START_DATE = datetime(2019, 2, 20, 0, 0, 0)\n",
    "END_DATE = datetime(2019, 2, 25, 0, 0, 0)\n",
    "time_delta = relativedelta(days = +1)"
   ]
  },
  {
   "cell_type": "code",
   "execution_count": 128,
   "metadata": {},
   "outputs": [],
   "source": [
    "##heatmap_data = requests.post(url, json={'query': zone_heatmap_query_gen(start_time_str, end_time_str, '14895', 'pedestrian')}, \n",
    "##                         headers = {'Authorization':token})\n",
    "## This is an example in case I forgot"
   ]
  },
  {
   "cell_type": "code",
   "execution_count": 162,
   "metadata": {},
   "outputs": [],
   "source": [
    "## start_times and end_times are required to have same length\n",
    "def get_zoneheatmap_data(zoneid: int, obj: str, start_times: list, end_times: list):\n",
    "    zone_heatmap_df = pd.DataFrame(columns = ['startTime', 'endTime', 'heatMap', 'obj'])\n",
    "    i = 0\n",
    "    while i < len(start_times):\n",
    "        heatmap_data = requests.post(url, json={'query': zone_heatmap_query_gen(start_times[i].strftime('%Y-%m-%dT%H:%M:%S'), \n",
    "                                                                                end_times[i].strftime('%Y-%m-%dT%H:%M:%S'), zoneid, obj)}, \n",
    "                                                                                headers = {'Authorization':token})\n",
    "        heatmap_json = heatmap_data.json()\n",
    "        if heatmap_json['data']:\n",
    "            if 'zoneHeatmaps' in heatmap_json['data']:\n",
    "                heatmap = heatmap_json['data']['zoneHeatmaps']['edges'][0]['node']['heatmap']\n",
    "                temp_df = pd.DataFrame({\"startTime\":start_times[i], \"endTime\":end_times[i], 'heatMap':heatmap})\n",
    "                zone_heatmap_df = zone_heatmap_df.append(temp_df, ignore_index = True)\n",
    "        i = i + 1\n",
    "    return zone_heatmap_df"
   ]
  },
  {
   "cell_type": "code",
   "execution_count": 163,
   "metadata": {},
   "outputs": [],
   "source": [
    "def generate_consecutive_times(start_time: datetime, end_time: datetime, interval: relativedelta):\n",
    "    ## the first element in the list are the start times\n",
    "    time = [[], []]\n",
    "    current_time = start_time\n",
    "    while current_time < end_time:\n",
    "        time[0].append(current_time)\n",
    "        time[1].append(current_time + interval)\n",
    "        current_time = current_time + interval\n",
    "    return time"
   ]
  },
  {
   "cell_type": "code",
   "execution_count": 164,
   "metadata": {},
   "outputs": [],
   "source": [
    "time = generate_consecutive_times(START_DATE, END_DATE, time_delta)"
   ]
  },
  {
   "cell_type": "code",
   "execution_count": null,
   "metadata": {},
   "outputs": [
    {
     "name": "stderr",
     "output_type": "stream",
     "text": [
      "/opt/anaconda3/lib/python3.7/site-packages/pandas/core/frame.py:7123: FutureWarning:\n",
      "\n",
      "Sorting because non-concatenation axis is not aligned. A future version\n",
      "of pandas will change to not sort by default.\n",
      "\n",
      "To accept the future behavior, pass 'sort=False'.\n",
      "\n",
      "To retain the current behavior and silence the warning, pass 'sort=True'.\n",
      "\n",
      "\n"
     ]
    }
   ],
   "source": [
    "get_zoneheatmap_data(x_zones_id[0], 'pedestrian', time[0], time[1])"
   ]
  },
  {
   "cell_type": "code",
   "execution_count": null,
   "metadata": {},
   "outputs": [],
   "source": []
  }
 ],
 "metadata": {
  "kernelspec": {
   "display_name": "Python 3",
   "language": "python",
   "name": "python3"
  },
  "language_info": {
   "codemirror_mode": {
    "name": "ipython",
    "version": 3
   },
   "file_extension": ".py",
   "mimetype": "text/x-python",
   "name": "python",
   "nbconvert_exporter": "python",
   "pygments_lexer": "ipython3",
   "version": "3.7.4"
  }
 },
 "nbformat": 4,
 "nbformat_minor": 2
}
