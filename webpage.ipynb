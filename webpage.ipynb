{
 "cells": [
  {
   "cell_type": "markdown",
   "metadata": {},
   "source": [
    "# Assignment 3 "
   ]
  },
  {
   "cell_type": "markdown",
   "metadata": {},
   "source": [
    "# Table of Content\n",
    "## Overview\n",
    "1. Where is 307?\n",
    "\n",
    "## Data Exploration\n",
    "1. People's Behavior in terms of Dwell Time \n",
    "2. Which areas of 307 do people pass through\n",
    "3. Where do people tend to linger?\n",
    "4. How does dwell time change over time?\n",
    "\n",
    "## In-depth Analysis\n",
    "1. How do different zones affect people's behavior?\n",
    "2. How do events affect people's behavior?\n",
    "3. What is the best maintenance strategy?\n",
    "4. What are other factor affect people's bahavior?"
   ]
  },
  {
   "cell_type": "markdown",
   "metadata": {},
   "source": [
    "# About 307"
   ]
  },
  {
   "cell_type": "code",
   "execution_count": 1,
   "metadata": {},
   "outputs": [],
   "source": [
    "import pandas as pd\n",
    "import numpy as np\n",
    "import matplotlib.pyplot as plt\n",
    "import matplotlib.image as mpimg "
   ]
  },
  {
   "cell_type": "code",
   "execution_count": 2,
   "metadata": {},
   "outputs": [
    {
     "data": {
      "text/html": [
       "        <script type=\"text/javascript\">\n",
       "        window.PlotlyConfig = {MathJaxConfig: 'local'};\n",
       "        if (window.MathJax) {MathJax.Hub.Config({SVG: {font: \"STIX-Web\"}});}\n",
       "        if (typeof require !== 'undefined') {\n",
       "        require.undef(\"plotly\");\n",
       "        requirejs.config({\n",
       "            paths: {\n",
       "                'plotly': ['https://cdn.plot.ly/plotly-latest.min']\n",
       "            }\n",
       "        });\n",
       "        require(['plotly'], function(Plotly) {\n",
       "            window._Plotly = Plotly;\n",
       "        });\n",
       "        }\n",
       "        </script>\n",
       "        "
      ]
     },
     "metadata": {},
     "output_type": "display_data"
    }
   ],
   "source": [
    "import plotly as py\n",
    "import plotly.express as px\n",
    "import plotly.graph_objs as go\n",
    "from plotly.offline import iplot, init_notebook_mode\n",
    "#init_notebook_mode(connected=True)\n",
    "\n",
    "import cufflinks as cf\n",
    "cf.go_offline(connected=True)\n",
    "cf.set_config_file(colorscale='plotly', world_readable=True)\n",
    "\n",
    "# Extra options\n",
    "# pd.options.display.max_rows = 30\n",
    "# pd.options.display.max_columns = 25\n",
    "\n",
    "# Show all code cells outputs\n",
    "from IPython.core.interactiveshell import InteractiveShell\n",
    "InteractiveShell.ast_node_interactivity = 'all'\n",
    "\n",
    "import os\n",
    "from IPython.display import Image, display, HTML"
   ]
  },
  {
   "cell_type": "code",
   "execution_count": 3,
   "metadata": {},
   "outputs": [],
   "source": [
    "import ipywidgets as widgets\n",
    "from ipywidgets import interact, interact_manual"
   ]
  },
  {
   "cell_type": "code",
   "execution_count": 4,
   "metadata": {},
   "outputs": [],
   "source": [
    "# store login data in login.py\n",
    "%run login.py"
   ]
  },
  {
   "cell_type": "code",
   "execution_count": 5,
   "metadata": {},
   "outputs": [],
   "source": [
    "# login query as multiline formatted string\n",
    "# this assumes that login and pwd are defined \n",
    "# above\n",
    "\n",
    "loginquery = f\"\"\"\n",
    "mutation {{\n",
    "  logIn(\n",
    "      email:\\\"{login}\\\",\n",
    "      password:\\\"{pwd}\\\") {{\n",
    "    jwt {{\n",
    "      token\n",
    "      exp\n",
    "    }}\n",
    "  }}\n",
    "}}\n",
    "\"\"\""
   ]
  },
  {
   "cell_type": "code",
   "execution_count": 6,
   "metadata": {},
   "outputs": [],
   "source": [
    "import requests\n",
    "url = 'https://api.numina.co/graphql'\n",
    "\n",
    "mylogin = requests.post(url, json={'query': loginquery})\n",
    "# mylogin"
   ]
  },
  {
   "cell_type": "code",
   "execution_count": 7,
   "metadata": {},
   "outputs": [],
   "source": [
    "token = mylogin.json()['data']['logIn']['jwt']['token']"
   ]
  },
  {
   "cell_type": "code",
   "execution_count": 8,
   "metadata": {},
   "outputs": [],
   "source": [
    "expdate = mylogin.json()\n",
    "# expdate"
   ]
  },
  {
   "cell_type": "markdown",
   "metadata": {},
   "source": [
    "# Explore the Data!"
   ]
  },
  {
   "cell_type": "markdown",
   "metadata": {},
   "source": [
    "Now that you've been provided with the context, before we present our analysis, it's time for YOU to explore the data! As mentioned, the following are the full areas covered by the three cameras:"
   ]
  },
  {
   "cell_type": "markdown",
   "metadata": {},
   "source": [
    "Streetscape | Under Raincoat | Outside\n",
    "------------- | -------------  | -------------\n",
    "![alt](streetscape_sandbox.png) | ![alt](underraincoat_sandbox.png) | ![alt](outside_sandbox.png)"
   ]
  },
  {
   "cell_type": "markdown",
   "metadata": {},
   "source": [
    "As you see in the above images, each area essentially consists of two parts: objects such as tables and chairs, and empty spaces presumably for walking. Based on this reasoning, we have defined the following smaller behaviour zones so as to perform more in-depth research:"
   ]
  },
  {
   "cell_type": "markdown",
   "metadata": {},
   "source": [
    "### Streetscape ###\n",
    "\n",
    "Chair Zone | Path Zone | Activity Zone\n",
    "------------- | -------------  | -------------\n",
    "![alt](BehaviorZoneImage/Streetscape-ChairZone.png) | ![alt](BehaviorZoneImage/Streetscape-PathZone.png) | ![alt](BehaviorZoneImage/Streetscape-ActivityZone.png)"
   ]
  },
  {
   "cell_type": "markdown",
   "metadata": {},
   "source": [
    "### Under Raincoat ###\n",
    "\n",
    "Chair Zone | Traffic Zone | Acitivity Zone\n",
    "------------- | -------------  | -------------\n",
    "![alt](BehaviorZoneImage/UnderRaincoat-ChairZone.png) | ![alt](BehaviorZoneImage/UnderRaincoat-TrafficZone.png) | ![alt](BehaviorZoneImage/UnderRaincoat-ActivityZone.png)"
   ]
  },
  {
   "cell_type": "markdown",
   "metadata": {},
   "source": [
    "### Outside ###\n",
    "\n",
    "Chair Zone | Path Zone | -\n",
    "------------- | -------------  | -------------\n",
    "![alt](BehaviorZoneImage/Outside-ChairZone.png) | ![alt](BehaviorZoneImage/Outside-PathZone.png) | ![alt](blank.png)"
   ]
  },
  {
   "cell_type": "code",
   "execution_count": 9,
   "metadata": {},
   "outputs": [
    {
     "data": {
      "text/plain": [
       "['Outside-ChairZone.png',\n",
       " 'Outside-PathZone.png',\n",
       " 'Streetscape-ActivityZone.png',\n",
       " 'Streetscape-ChairZone.png',\n",
       " 'Streetscape-PathZone.png',\n",
       " 'UnderRaincoat-ActivityZone.png',\n",
       " 'UnderRaincoat-ChairZone.png',\n",
       " 'UnderRaincoat-TrafficZone.png']"
      ]
     },
     "execution_count": 9,
     "metadata": {},
     "output_type": "execute_result"
    }
   ],
   "source": [
    "os.listdir('BehaviorZoneImage/')"
   ]
  },
  {
   "cell_type": "code",
   "execution_count": 10,
   "metadata": {},
   "outputs": [],
   "source": [
    "device_dict = {'SWLSANDBOX1':'Streetscape', 'SWLSANDBOX2':'Under Raincoat', 'SWLSANDBOX3':'Outside'}\n",
    "device_ids = list(device_dict.keys())\n",
    "device_names = list(device_dict.values())"
   ]
  },
  {
   "cell_type": "code",
   "execution_count": 11,
   "metadata": {},
   "outputs": [],
   "source": [
    "def get_zones(device_id):\n",
    "    \n",
    "    query_zones = \"\"\"\n",
    "    query {{\n",
    "      behaviorZones (\n",
    "        serialnos: \"{0}\"\n",
    "        ) {{\n",
    "        count\n",
    "        edges {{\n",
    "          node {{\n",
    "            rawId\n",
    "            text\n",
    "          }}\n",
    "        }}\n",
    "      }}\n",
    "    }}\n",
    "    \"\"\".format(device_id)\n",
    "    \n",
    "    zones = requests.post(url, json={'query': query_zones}, headers = {'Authorization':token})\n",
    "    \n",
    "    df = pd.DataFrame([x['node'] for x in zones.json()['data']['behaviorZones']['edges']])\n",
    "    df['device'] = device_id\n",
    "    \n",
    "    return df"
   ]
  },
  {
   "cell_type": "code",
   "execution_count": 12,
   "metadata": {},
   "outputs": [],
   "source": [
    "zones_df = pd.concat([get_zones(device_ids[i]) for i in range(3)])\n",
    "zones_df = zones_df[(zones_df.text.notnull()) & (zones_df.text.str.startswith('x-'))]"
   ]
  },
  {
   "cell_type": "code",
   "execution_count": 13,
   "metadata": {},
   "outputs": [
    {
     "data": {
      "text/html": [
       "<div>\n",
       "<style scoped>\n",
       "    .dataframe tbody tr th:only-of-type {\n",
       "        vertical-align: middle;\n",
       "    }\n",
       "\n",
       "    .dataframe tbody tr th {\n",
       "        vertical-align: top;\n",
       "    }\n",
       "\n",
       "    .dataframe thead th {\n",
       "        text-align: right;\n",
       "    }\n",
       "</style>\n",
       "<table border=\"1\" class=\"dataframe\">\n",
       "  <thead>\n",
       "    <tr style=\"text-align: right;\">\n",
       "      <th></th>\n",
       "      <th>rawId</th>\n",
       "      <th>text</th>\n",
       "      <th>device</th>\n",
       "    </tr>\n",
       "  </thead>\n",
       "  <tbody>\n",
       "    <tr>\n",
       "      <th>3873</th>\n",
       "      <td>14895</td>\n",
       "      <td>streetscape-corridorzone</td>\n",
       "      <td>SWLSANDBOX1</td>\n",
       "    </tr>\n",
       "    <tr>\n",
       "      <th>3874</th>\n",
       "      <td>14896</td>\n",
       "      <td>streetscape-chairzone</td>\n",
       "      <td>SWLSANDBOX1</td>\n",
       "    </tr>\n",
       "    <tr>\n",
       "      <th>3875</th>\n",
       "      <td>14897</td>\n",
       "      <td>streetscape-freezone</td>\n",
       "      <td>SWLSANDBOX1</td>\n",
       "    </tr>\n",
       "    <tr>\n",
       "      <th>3925</th>\n",
       "      <td>14898</td>\n",
       "      <td>underraincoat-trafficzone</td>\n",
       "      <td>SWLSANDBOX2</td>\n",
       "    </tr>\n",
       "    <tr>\n",
       "      <th>3926</th>\n",
       "      <td>14899</td>\n",
       "      <td>underraincoat-freezone</td>\n",
       "      <td>SWLSANDBOX2</td>\n",
       "    </tr>\n",
       "    <tr>\n",
       "      <th>3927</th>\n",
       "      <td>14900</td>\n",
       "      <td>underraincoat-chairzone1</td>\n",
       "      <td>SWLSANDBOX2</td>\n",
       "    </tr>\n",
       "    <tr>\n",
       "      <th>3928</th>\n",
       "      <td>14901</td>\n",
       "      <td>underraincoat-chairzone2</td>\n",
       "      <td>SWLSANDBOX2</td>\n",
       "    </tr>\n",
       "    <tr>\n",
       "      <th>3929</th>\n",
       "      <td>14902</td>\n",
       "      <td>underraincoat-chairzone3</td>\n",
       "      <td>SWLSANDBOX2</td>\n",
       "    </tr>\n",
       "    <tr>\n",
       "      <th>3994</th>\n",
       "      <td>14893</td>\n",
       "      <td>outside-chairzone</td>\n",
       "      <td>SWLSANDBOX3</td>\n",
       "    </tr>\n",
       "    <tr>\n",
       "      <th>3995</th>\n",
       "      <td>14894</td>\n",
       "      <td>outside-pathzone</td>\n",
       "      <td>SWLSANDBOX3</td>\n",
       "    </tr>\n",
       "  </tbody>\n",
       "</table>\n",
       "</div>"
      ],
      "text/plain": [
       "      rawId                       text       device\n",
       "3873  14895   streetscape-corridorzone  SWLSANDBOX1\n",
       "3874  14896      streetscape-chairzone  SWLSANDBOX1\n",
       "3875  14897       streetscape-freezone  SWLSANDBOX1\n",
       "3925  14898  underraincoat-trafficzone  SWLSANDBOX2\n",
       "3926  14899     underraincoat-freezone  SWLSANDBOX2\n",
       "3927  14900   underraincoat-chairzone1  SWLSANDBOX2\n",
       "3928  14901   underraincoat-chairzone2  SWLSANDBOX2\n",
       "3929  14902   underraincoat-chairzone3  SWLSANDBOX2\n",
       "3994  14893          outside-chairzone  SWLSANDBOX3\n",
       "3995  14894           outside-pathzone  SWLSANDBOX3"
      ]
     },
     "execution_count": 13,
     "metadata": {},
     "output_type": "execute_result"
    }
   ],
   "source": [
    "zones_df['text'] = zones_df['text'].str.replace('x-', '')\n",
    "zones_df"
   ]
  },
  {
   "cell_type": "code",
   "execution_count": 14,
   "metadata": {},
   "outputs": [],
   "source": [
    "def get_dwell(func, ID, interval):\n",
    "    '''\n",
    "    func is either feedDwellTimeDistribution or zoneDwellTimeDistribution\n",
    "    '''\n",
    "    if func == 'feedDwellTimeDistribution':\n",
    "        arg = 'serialnos: \"{0}\"'.format(ID)\n",
    "    else:\n",
    "        arg = 'zoneIds: {0}'.format(ID)\n",
    "        \n",
    "    query = \"\"\"\n",
    "    query {{\n",
    "        {0}(\n",
    "        {1},\n",
    "        startTime: \"2019-02-20T00:00:00\",\n",
    "        endTime: \"2020-01-12T00:00:00\",\n",
    "        timezone: \"America/New_York\",\n",
    "        objClasses: [\"pedestrian\"],\n",
    "        interval: \"{2}\"\n",
    "        ){{\n",
    "        edges {{\n",
    "          node {{\n",
    "            time\n",
    "            objClass\n",
    "            pct100\n",
    "            pct75\n",
    "            pct50\n",
    "            pct25\n",
    "            mean\n",
    "            count\n",
    "          }}\n",
    "        }}\n",
    "      }}\n",
    "    }}\n",
    "    \"\"\".format(func, arg, interval)\n",
    "\n",
    "    dwell = requests.post(url, json={'query': query}, \n",
    "                           headers = {'Authorization':token})\n",
    "    \n",
    "    df = pd.DataFrame([x['node'] for x in dwell.json()['data'][func]['edges']])\n",
    "    if func == 'feedDwellTimeDistribution':\n",
    "        df['device'] = ID\n",
    "    else:\n",
    "        df['zone'] = ID\n",
    "    \n",
    "    return df"
   ]
  },
  {
   "cell_type": "code",
   "execution_count": 15,
   "metadata": {},
   "outputs": [],
   "source": [
    "feed_dwell_1d_df = pd.concat([get_dwell('feedDwellTimeDistribution', device_ids[i], '1d') \n",
    "                              for i in range(3)])"
   ]
  },
  {
   "cell_type": "code",
   "execution_count": 16,
   "metadata": {},
   "outputs": [],
   "source": [
    "# feed_dwell_1d_df[feed_dwell_1d_df['count']!=0].head()"
   ]
  },
  {
   "cell_type": "code",
   "execution_count": 17,
   "metadata": {},
   "outputs": [],
   "source": [
    "zone_dwell_1d_df = pd.concat([get_dwell('zoneDwellTimeDistribution', z, '1d')\n",
    "                             for z in zones_df['rawId'].values])"
   ]
  },
  {
   "cell_type": "code",
   "execution_count": 18,
   "metadata": {},
   "outputs": [],
   "source": [
    "## zone_dwell_1d_df[zone_dwell_df['count']!=0]"
   ]
  },
  {
   "cell_type": "code",
   "execution_count": 19,
   "metadata": {},
   "outputs": [],
   "source": [
    "'''\n",
    "def extract_time(df):\n",
    "    df['year'] = df['time'].str[:4].astype(int)\n",
    "    df['month'] = df['time'].str[5:7].astype(int)\n",
    "    df['day'] = df['time'].str[8:10].astype(int)\n",
    "    df['date'] = pd.to_datetime(df['time'].str[:10])\n",
    "    df['hour'] = df['time'].str[11:13].astype(int)\n",
    "    return df.drop('time', axis=1)\n",
    "''';"
   ]
  },
  {
   "cell_type": "code",
   "execution_count": 20,
   "metadata": {},
   "outputs": [],
   "source": [
    "'''\n",
    "feed_dwell_df = extract_time(feed_dwell_df)\n",
    "zone_dwell_df = extract_time(zone_dwell_df)\n",
    "''';"
   ]
  },
  {
   "cell_type": "code",
   "execution_count": 21,
   "metadata": {},
   "outputs": [],
   "source": [
    "# replace NaN with 0\n",
    "feed_dwell_1d_df = feed_dwell_1d_df.fillna(0)\n",
    "zone_dwell_1d_df = zone_dwell_1d_df.fillna(0)"
   ]
  },
  {
   "cell_type": "code",
   "execution_count": 22,
   "metadata": {},
   "outputs": [],
   "source": [
    "feed_dwell_1d_df['time'] = feed_dwell_1d_df['time'].str[:-6].apply(lambda x : pd.Timestamp(x))\n",
    "zone_dwell_1d_df['time'] = zone_dwell_1d_df['time'].str[:-6].apply(lambda x : pd.Timestamp(x))\n",
    "zone_dwell_1d_df.zone = zone_dwell_1d_df.zone.astype(str)"
   ]
  },
  {
   "cell_type": "code",
   "execution_count": 23,
   "metadata": {},
   "outputs": [],
   "source": [
    "# add name column in addition to ID\n",
    "feed_dwell_1d_df['device_name'] = [device_dict[d] for d in feed_dwell_1d_df.device]\n",
    "\n",
    "zones_df.rawId = zones_df.rawId.astype(str)\n",
    "zone_dict = dict(zip(zones_df.rawId, zones_df.text))\n",
    "zone_dwell_1d_df['zone_name'] = [zone_dict[z] for z in zone_dwell_1d_df.zone]"
   ]
  },
  {
   "cell_type": "code",
   "execution_count": 40,
   "metadata": {},
   "outputs": [],
   "source": [
    "def get_df(groupby):\n",
    "    if groupby == 'device_name':\n",
    "        return feed_dwell_1d_df.copy()\n",
    "    else:\n",
    "        return zone_dwell_1d_df.copy()"
   ]
  },
  {
   "cell_type": "code",
   "execution_count": 25,
   "metadata": {},
   "outputs": [],
   "source": [
    "# streetscape, under raincoat, outside\n",
    "device_clrs = ['royalblue', 'firebrick', 'forestgreen']"
   ]
  },
  {
   "cell_type": "code",
   "execution_count": 53,
   "metadata": {},
   "outputs": [],
   "source": [
    "zones_df['colour'] = ['blue', 'lightblue', 'cadetblue',\n",
    "                      'orangered', 'darksalmon', 'lemonchiffon', 'peachpuff', 'lightcoral', \n",
    "                      'palegreen', 'lightgreen']"
   ]
  },
  {
   "cell_type": "code",
   "execution_count": 49,
   "metadata": {},
   "outputs": [],
   "source": [
    "def plot_timeline(groupby, metric):\n",
    "    '''\n",
    "    device_or_zone is either 'device_name' or 'zone_name';\n",
    "    metric is a value in ['mean', 'pct100', 'pct75', 'pct50', 'pct25']\n",
    "    '''\n",
    "    df = get_df(groupby)\n",
    "    \n",
    "    fig = go.Figure()\n",
    "    \n",
    "    if groupby == 'device_name':\n",
    "        byvals = device_names\n",
    "        clrs = device_clrs\n",
    "    else:\n",
    "        byvals = list(zones_df.text)\n",
    "        clrs = list(zones_df.colour)\n",
    "    \n",
    "    for i in range(len(byvals)):\n",
    "        sub_df = df[df[groupby] == byvals[i]]\n",
    "        fig.add_trace(go.Scatter(x=sub_df.time, y=sub_df[metric], line_color=clrs[i], name=byvals[i]))\n",
    "    \n",
    "    fig.update_layout(\n",
    "        xaxis_title=\"time\",\n",
    "        yaxis_title=metric,\n",
    "        xaxis_rangeslider_visible=True\n",
    "    )\n",
    "    if metric != 'count':\n",
    "        fig.update_layout(title=f\"pedestrian dwell time ({metric}) grouped by '{groupby}'\")\n",
    "    else:\n",
    "        fig.update_layout(title=f\"pedestrian count grouped by '{groupby}'\")\n",
    "    \n",
    "    fig.show()\n",
    "    "
   ]
  },
  {
   "cell_type": "code",
   "execution_count": 55,
   "metadata": {},
   "outputs": [
    {
     "data": {
      "application/vnd.jupyter.widget-view+json": {
       "model_id": "cbcd412355e743da9c0a59bd4ecf809c",
       "version_major": 2,
       "version_minor": 0
      },
      "text/plain": [
       "interactive(children=(RadioButtons(description='groupby', options=('device_name', 'zone_name'), value='device_…"
      ]
     },
     "metadata": {},
     "output_type": "display_data"
    }
   ],
   "source": [
    "_ = interact(plot_timeline, \n",
    "             groupby=widgets.RadioButtons(options=['device_name', 'zone_name'], value='device_name'),\n",
    "             metric=widgets.Dropdown(options=['count', 'mean', 'pct100', 'pct75', 'pct50', 'pct25'], value='mean')\n",
    "            )"
   ]
  },
  {
   "cell_type": "markdown",
   "metadata": {},
   "source": [
    "The days and devices with the highest mean dwell time are the following:\n",
    "1. Streetscape: 2019-08-17\n",
    "2. Streetscape: 2019-05-04\n",
    "3. Outside: 2019-11-14"
   ]
  },
  {
   "cell_type": "code",
   "execution_count": 56,
   "metadata": {},
   "outputs": [
    {
     "data": {
      "text/html": [
       "<div>\n",
       "<style scoped>\n",
       "    .dataframe tbody tr th:only-of-type {\n",
       "        vertical-align: middle;\n",
       "    }\n",
       "\n",
       "    .dataframe tbody tr th {\n",
       "        vertical-align: top;\n",
       "    }\n",
       "\n",
       "    .dataframe thead th {\n",
       "        text-align: right;\n",
       "    }\n",
       "</style>\n",
       "<table border=\"1\" class=\"dataframe\">\n",
       "  <thead>\n",
       "    <tr style=\"text-align: right;\">\n",
       "      <th></th>\n",
       "      <th>count</th>\n",
       "      <th>mean</th>\n",
       "      <th>objClass</th>\n",
       "      <th>pct100</th>\n",
       "      <th>pct25</th>\n",
       "      <th>pct50</th>\n",
       "      <th>pct75</th>\n",
       "      <th>time</th>\n",
       "      <th>device</th>\n",
       "      <th>device_name</th>\n",
       "    </tr>\n",
       "  </thead>\n",
       "  <tbody>\n",
       "    <tr>\n",
       "      <th>178</th>\n",
       "      <td>75</td>\n",
       "      <td>343.66</td>\n",
       "      <td>pedestrian</td>\n",
       "      <td>36.02</td>\n",
       "      <td>3.65</td>\n",
       "      <td>3.65</td>\n",
       "      <td>10.36</td>\n",
       "      <td>2019-08-17</td>\n",
       "      <td>SWLSANDBOX1</td>\n",
       "      <td>Streetscape</td>\n",
       "    </tr>\n",
       "    <tr>\n",
       "      <th>73</th>\n",
       "      <td>128</td>\n",
       "      <td>340.78</td>\n",
       "      <td>pedestrian</td>\n",
       "      <td>46.36</td>\n",
       "      <td>6.80</td>\n",
       "      <td>6.80</td>\n",
       "      <td>15.13</td>\n",
       "      <td>2019-05-04</td>\n",
       "      <td>SWLSANDBOX1</td>\n",
       "      <td>Streetscape</td>\n",
       "    </tr>\n",
       "    <tr>\n",
       "      <th>267</th>\n",
       "      <td>605</td>\n",
       "      <td>145.88</td>\n",
       "      <td>pedestrian</td>\n",
       "      <td>13.49</td>\n",
       "      <td>3.67</td>\n",
       "      <td>3.67</td>\n",
       "      <td>6.25</td>\n",
       "      <td>2019-11-14</td>\n",
       "      <td>SWLSANDBOX3</td>\n",
       "      <td>Outside</td>\n",
       "    </tr>\n",
       "  </tbody>\n",
       "</table>\n",
       "</div>"
      ],
      "text/plain": [
       "     count    mean    objClass  pct100  pct25  pct50  pct75       time  \\\n",
       "178     75  343.66  pedestrian   36.02   3.65   3.65  10.36 2019-08-17   \n",
       "73     128  340.78  pedestrian   46.36   6.80   6.80  15.13 2019-05-04   \n",
       "267    605  145.88  pedestrian   13.49   3.67   3.67   6.25 2019-11-14   \n",
       "\n",
       "          device  device_name  \n",
       "178  SWLSANDBOX1  Streetscape  \n",
       "73   SWLSANDBOX1  Streetscape  \n",
       "267  SWLSANDBOX3      Outside  "
      ]
     },
     "execution_count": 56,
     "metadata": {},
     "output_type": "execute_result"
    }
   ],
   "source": [
    "feed_dwell_1d_df[feed_dwell_1d_df['mean'] >= 140].sort_values('mean', ascending=False)"
   ]
  },
  {
   "cell_type": "code",
   "execution_count": 31,
   "metadata": {},
   "outputs": [
    {
     "data": {
      "text/html": [
       "<div>\n",
       "<style scoped>\n",
       "    .dataframe tbody tr th:only-of-type {\n",
       "        vertical-align: middle;\n",
       "    }\n",
       "\n",
       "    .dataframe tbody tr th {\n",
       "        vertical-align: top;\n",
       "    }\n",
       "\n",
       "    .dataframe thead th {\n",
       "        text-align: right;\n",
       "    }\n",
       "</style>\n",
       "<table border=\"1\" class=\"dataframe\">\n",
       "  <thead>\n",
       "    <tr style=\"text-align: right;\">\n",
       "      <th></th>\n",
       "      <th>count</th>\n",
       "      <th>mean</th>\n",
       "      <th>std</th>\n",
       "      <th>min</th>\n",
       "      <th>25%</th>\n",
       "      <th>50%</th>\n",
       "      <th>75%</th>\n",
       "      <th>max</th>\n",
       "    </tr>\n",
       "    <tr>\n",
       "      <th>device</th>\n",
       "      <th></th>\n",
       "      <th></th>\n",
       "      <th></th>\n",
       "      <th></th>\n",
       "      <th></th>\n",
       "      <th></th>\n",
       "      <th></th>\n",
       "      <th></th>\n",
       "    </tr>\n",
       "  </thead>\n",
       "  <tbody>\n",
       "    <tr>\n",
       "      <th>SWLSANDBOX1</th>\n",
       "      <td>326.0</td>\n",
       "      <td>1161.288344</td>\n",
       "      <td>1552.170562</td>\n",
       "      <td>0.0</td>\n",
       "      <td>111.50</td>\n",
       "      <td>615.0</td>\n",
       "      <td>1721.75</td>\n",
       "      <td>14922.0</td>\n",
       "    </tr>\n",
       "    <tr>\n",
       "      <th>SWLSANDBOX2</th>\n",
       "      <td>326.0</td>\n",
       "      <td>129.000000</td>\n",
       "      <td>201.519001</td>\n",
       "      <td>0.0</td>\n",
       "      <td>0.00</td>\n",
       "      <td>76.0</td>\n",
       "      <td>180.50</td>\n",
       "      <td>2047.0</td>\n",
       "    </tr>\n",
       "    <tr>\n",
       "      <th>SWLSANDBOX3</th>\n",
       "      <td>326.0</td>\n",
       "      <td>311.496933</td>\n",
       "      <td>470.222891</td>\n",
       "      <td>0.0</td>\n",
       "      <td>56.25</td>\n",
       "      <td>196.0</td>\n",
       "      <td>414.50</td>\n",
       "      <td>5625.0</td>\n",
       "    </tr>\n",
       "  </tbody>\n",
       "</table>\n",
       "</div>"
      ],
      "text/plain": [
       "             count         mean          std  min     25%    50%      75%  \\\n",
       "device                                                                      \n",
       "SWLSANDBOX1  326.0  1161.288344  1552.170562  0.0  111.50  615.0  1721.75   \n",
       "SWLSANDBOX2  326.0   129.000000   201.519001  0.0    0.00   76.0   180.50   \n",
       "SWLSANDBOX3  326.0   311.496933   470.222891  0.0   56.25  196.0   414.50   \n",
       "\n",
       "                 max  \n",
       "device                \n",
       "SWLSANDBOX1  14922.0  \n",
       "SWLSANDBOX2   2047.0  \n",
       "SWLSANDBOX3   5625.0  "
      ]
     },
     "execution_count": 31,
     "metadata": {},
     "output_type": "execute_result"
    }
   ],
   "source": [
    "feed_dwell_1d_df.groupby('device')['count'].describe()"
   ]
  },
  {
   "cell_type": "code",
   "execution_count": 60,
   "metadata": {},
   "outputs": [],
   "source": [
    "zone_dwell_1d_df['total'] = zone_dwell_1d_df['mean'] * zone_dwell_1d_df['count'] \n",
    "feed_dwell_1d_df['total'] = feed_dwell_1d_df['mean'] * feed_dwell_1d_df['count'] "
   ]
  },
  {
   "cell_type": "code",
   "execution_count": 76,
   "metadata": {},
   "outputs": [],
   "source": [
    "grouped_df = zone_dwell_1d_df.groupby('zone_name').sum().reset_index(drop=False)\\\n",
    "                             .rename(columns={'zone_name':'name'})\n",
    "grouped_df = grouped_df.append(feed_dwell_1d_df.groupby('device_name').sum().reset_index(drop=False)\n",
    "                               .rename(columns={'device_name':'name'}))"
   ]
  },
  {
   "cell_type": "code",
   "execution_count": 78,
   "metadata": {},
   "outputs": [
    {
     "data": {
      "text/plain": [
       "['chairzone',\n",
       " 'pathzone',\n",
       " 'chairzone',\n",
       " 'corridorzone',\n",
       " 'freezone',\n",
       " 'chairzone1',\n",
       " 'chairzone2',\n",
       " 'chairzone3',\n",
       " 'freezone',\n",
       " 'trafficzone',\n",
       " 'Outside',\n",
       " 'Streetscape',\n",
       " 'Under Raincoat']"
      ]
     },
     "execution_count": 78,
     "metadata": {},
     "output_type": "execute_result"
    },
    {
     "data": {
      "text/plain": [
       "[True,\n",
       " True,\n",
       " False,\n",
       " False,\n",
       " False,\n",
       " False,\n",
       " False,\n",
       " False,\n",
       " False,\n",
       " False,\n",
       " True,\n",
       " False,\n",
       " False]"
      ]
     },
     "execution_count": 78,
     "metadata": {},
     "output_type": "execute_result"
    }
   ],
   "source": [
    "[s[-1] for s in grouped_df.name.str.split('-')]\n",
    "[n[1:5]=='utsi' for n in grouped_df.name]"
   ]
  },
  {
   "cell_type": "code",
   "execution_count": 129,
   "metadata": {},
   "outputs": [],
   "source": [
    "from plotly.subplots import make_subplots\n",
    "\n",
    "def plot_barplot(metric):\n",
    "    '''\n",
    "    metric is either 'count' or 'total' (dwell time)\n",
    "    '''\n",
    "    fig = make_subplots(rows=1, cols=3, shared_yaxes=True)\n",
    "    \n",
    "    df = grouped_df.copy()\n",
    "    m = metric.split(' ')[0]\n",
    "    \n",
    "    for i in range(3):\n",
    "        dname = device_names[i]\n",
    "        total = df.loc[df.name==dname, m]\n",
    "        sub_df = df[[n[1:5]==dname[1:5] for n in df.name]]\n",
    "        sub_df.name = [s[-1] for s in sub_df.name.str.split('-')]\n",
    "        sub_df['perc'] = sub_df[m].apply(lambda x : x / total * 100)\n",
    "        \n",
    "        fig.add_bar(x=sub_df.name, y=sub_df['perc'], name=dname, row=1, col=i+1)\n",
    "        \n",
    "    fig.update_yaxes(ticksuffix=\"%\", col=1)\n",
    "    layout = go.Layout(yaxis=dict(range=[0, 100]))\n",
    "    \n",
    "    fig.update_layout(title=f\"% of individual behaviour zones w.r.t. the big area in terms of {metric}\")\n",
    "\n",
    "    fig.show()"
   ]
  },
  {
   "cell_type": "code",
   "execution_count": 132,
   "metadata": {},
   "outputs": [
    {
     "data": {
      "application/vnd.jupyter.widget-view+json": {
       "model_id": "338ce2dd6aa4486bba2c84b83761b600",
       "version_major": 2,
       "version_minor": 0
      },
      "text/plain": [
       "interactive(children=(RadioButtons(description='metric', options=('count', 'total dwell time'), value='count')…"
      ]
     },
     "metadata": {},
     "output_type": "display_data"
    }
   ],
   "source": [
    "_ = interact(plot_barplot, metric=widgets.RadioButtons(options=['count', 'total dwell time'], value='count'))"
   ]
  },
  {
   "cell_type": "code",
   "execution_count": 32,
   "metadata": {},
   "outputs": [],
   "source": [
    "def boxplot_dwell(groupby, column, bound_factor):\n",
    "    df = get_df(groupby)\n",
    "    \n",
    "    q3 = df[column].quantile(0.75) \n",
    "    q1 = df[column].quantile(0.25)\n",
    "    iqr = q3 - q1\n",
    "    sub_df = df[(df[column] <= q3 + iqr*bound_factor) & \n",
    "                  ((df[column] >= q1 - iqr*bound_factor))]\n",
    "    \n",
    "    if column == 'count':\n",
    "        title = f\"distribution of count grouped by '{groupby}'\" +\\\n",
    "        f\" with values {bound_factor} * IQR beyond Q1/Q3 removed\"\n",
    "    else:\n",
    "        title = f\"distribution of mean dwell time grouped by '{groupby}'\" +\\\n",
    "        f\" with values {bound_factor} * IQR beyond Q1/Q3 removed\"\n",
    "    \n",
    "    fig = px.box(sub_df, x=groupby, y=column, points=\"all\", title=title)\n",
    "\n",
    "    fig.show()"
   ]
  },
  {
   "cell_type": "code",
   "execution_count": 33,
   "metadata": {},
   "outputs": [
    {
     "data": {
      "application/vnd.jupyter.widget-view+json": {
       "model_id": "4bfa7f60ac704a4daf0b9a49868d5a0c",
       "version_major": 2,
       "version_minor": 0
      },
      "text/plain": [
       "interactive(children=(RadioButtons(description='groupby', options=('device_name', 'zone_name'), value='device_…"
      ]
     },
     "metadata": {},
     "output_type": "display_data"
    }
   ],
   "source": [
    "_ = interact(boxplot_dwell, \n",
    "             groupby=widgets.RadioButtons(options=['device_name', 'zone_name']), value='device_name',\n",
    "             column=widgets.RadioButtons(options=['count', 'mean'], value='count'),\n",
    "             bound_factor=widgets.FloatSlider(\n",
    "                 value=1.5,\n",
    "                 min=-3,\n",
    "                 max=10,\n",
    "                 step=0.1,\n",
    "                 disabled=False,\n",
    "                 continuous_update=False,\n",
    "                 orientation='horizontal',\n",
    "                 readout=True,\n",
    "                 readout_format='.1f')\n",
    "            )"
   ]
  },
  {
   "cell_type": "markdown",
   "metadata": {},
   "source": [
    "### Obtain heatmap for pedestrians"
   ]
  },
  {
   "cell_type": "code",
   "execution_count": 34,
   "metadata": {},
   "outputs": [],
   "source": [
    "from datetime import timedelta, datetime\n",
    "from dateutil.relativedelta import relativedelta\n",
    "import calendar\n",
    "START_DATE = datetime(2019, 2, 20, 0, 0, 0)\n",
    "END_DATE = datetime(2019, 3, 20, 0, 0, 0)\n",
    "time_delta = relativedelta(days = +1)"
   ]
  },
  {
   "cell_type": "code",
   "execution_count": 35,
   "metadata": {},
   "outputs": [],
   "source": [
    "import pandas as pd\n",
    "heatmap_df = pd.DataFrame(columns = ['startTime', 'endTime', 'heatMap'])"
   ]
  },
  {
   "cell_type": "code",
   "execution_count": 36,
   "metadata": {},
   "outputs": [],
   "source": [
    "def heatmap_query_gen(startTime: str, endTime: str):\n",
    "    heatmap_query = \"\"\"\n",
    "query {{\n",
    "  feedHeatmaps(\n",
    "    serialno: \"SWLSANDBOX1\",\n",
    "    startTime:\"{0}\",\n",
    "    endTime:\"{1}\",\n",
    "    objClasses:[\"pedestrian\"],\n",
    "    timezone:\"America/New_York\") {{\n",
    "    edges {{\n",
    "      node {{\n",
    "        time\n",
    "        objClass\n",
    "        heatmap\n",
    "      }}\n",
    "    }}\n",
    "  }}\n",
    "}}\n",
    "\"\"\".format(startTime, endTime)\n",
    "    return heatmap_query"
   ]
  },
  {
   "cell_type": "code",
   "execution_count": 37,
   "metadata": {},
   "outputs": [],
   "source": [
    "current_date = START_DATE\n",
    "while current_date < END_DATE:\n",
    "    start_time_str = current_date.strftime('%Y-%m-%dT%H:%M:%S')\n",
    "    end_time = current_date + time_delta\n",
    "    end_time_str = end_time.strftime('%Y-%m-%dT%H:%M:%S')\n",
    "    heatmap_data = requests.post(url, json={'query': heatmap_query_gen(start_time_str, end_time_str)}, \n",
    "                         headers = {'Authorization':token})\n",
    "    heatmap_json = heatmap_data.json()\n",
    "    if heatmap_json['data']:\n",
    "        if 'feedHeatmaps' in heatmap_json['data']:\n",
    "            heatmap = heatmap_json['data']['feedHeatmaps']['edges'][0]['node']['heatmap']\n",
    "            temp_df = pd.DataFrame({\"startTime\":current_date, \"endTime\":end_time, 'heatMap':heatmap})\n",
    "            heatmap_df = heatmap_df.append(temp_df, ignore_index = True)\n",
    "    current_date = current_date + time_delta"
   ]
  },
  {
   "cell_type": "code",
   "execution_count": 38,
   "metadata": {},
   "outputs": [],
   "source": [
    "ed_heatmap_df = heatmap_df.groupby(['startTime', 'endTime'])['heatMap'].apply(list).reset_index(name='heatMapMatrix')"
   ]
  },
  {
   "cell_type": "code",
   "execution_count": 39,
   "metadata": {},
   "outputs": [
    {
     "data": {
      "application/vnd.jupyter.widget-view+json": {
       "model_id": "286a11acc5a84665aac4d10ce9ba776d",
       "version_major": 2,
       "version_minor": 0
      },
      "text/plain": [
       "interactive(children=(DatePicker(value=Timestamp('2019-02-26 00:00:00'), description='Pick a Date'), Output())…"
      ]
     },
     "metadata": {},
     "output_type": "display_data"
    },
    {
     "data": {
      "text/plain": [
       "<function __main__.plot_heatmap(start_time)>"
      ]
     },
     "execution_count": 39,
     "metadata": {},
     "output_type": "execute_result"
    }
   ],
   "source": [
    "from IPython.display import display\n",
    "def plot_heatmap(start_time):\n",
    "    map_img = mpimg.imread('streetscape_sandbox.png')\n",
    "    matrix = list(ed_heatmap_df[ed_heatmap_df['startTime'] == start_time]['heatMapMatrix'])[0]\n",
    "    x = [i[0] for i in matrix] \n",
    "    y = [i[1] for i in matrix]\n",
    "    z = [i[2] for i in matrix]\n",
    "    fig, ax = plt.subplots(figsize=(15,10))\n",
    "    ax.scatter(x, y, c=z, s=10, cmap=plt.cm.Wistia) # Other color maps: plt.cm.cmap_d.keys())\n",
    "    ax.imshow(map_img, aspect='auto')\n",
    "    plt.axis('off')\n",
    "    plt.title(\"Heatmap for date {0}\".format(start_time, fontsize=20))\n",
    "    plt.show()\n",
    "interact(plot_heatmap, start_time=widgets.DatePicker(value = pd.to_datetime('2019-02-26'), description='Pick a Date'))"
   ]
  },
  {
   "cell_type": "code",
   "execution_count": null,
   "metadata": {},
   "outputs": [],
   "source": []
  }
 ],
 "metadata": {
  "kernelspec": {
   "display_name": "Python 3",
   "language": "python",
   "name": "python3"
  },
  "language_info": {
   "codemirror_mode": {
    "name": "ipython",
    "version": 3
   },
   "file_extension": ".py",
   "mimetype": "text/x-python",
   "name": "python",
   "nbconvert_exporter": "python",
   "pygments_lexer": "ipython3",
   "version": "3.7.0"
  }
 },
 "nbformat": 4,
 "nbformat_minor": 4
}
