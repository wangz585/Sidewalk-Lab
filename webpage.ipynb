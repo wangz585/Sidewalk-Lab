{
 "cells": [
  {
   "cell_type": "markdown",
   "metadata": {},
   "source": [
    "# Assignment 3 "
   ]
  },
  {
   "cell_type": "markdown",
   "metadata": {},
   "source": [
    "# Table of Content\n",
    "\n",
    "## Data Exploration\n",
    "1. People's Behavior in terms of Dwell Time \n",
    "2. Which areas of 307 do people pass through\n",
    "3. Where do people tend to linger?\n",
    "4. How does dwell time change over time?\n",
    "\n",
    "## In-depth Analysis\n",
    "1. How do different zones affect people's behavior?\n",
    "2. How do events affect people's behavior?\n",
    "3. What is the best maintenance strategy?\n",
    "4. What are other factor affect people's bahavior?"
   ]
  },
  {
   "cell_type": "code",
   "execution_count": 1,
   "metadata": {},
   "outputs": [],
   "source": [
    "import pandas as pd\n",
    "import numpy as np\n",
    "import matplotlib.pyplot as plt\n",
    "import matplotlib.image as mpimg "
   ]
  },
  {
   "cell_type": "code",
   "execution_count": 2,
   "metadata": {},
   "outputs": [
    {
     "data": {
      "text/html": [
       "        <script type=\"text/javascript\">\n",
       "        window.PlotlyConfig = {MathJaxConfig: 'local'};\n",
       "        if (window.MathJax) {MathJax.Hub.Config({SVG: {font: \"STIX-Web\"}});}\n",
       "        if (typeof require !== 'undefined') {\n",
       "        require.undef(\"plotly\");\n",
       "        requirejs.config({\n",
       "            paths: {\n",
       "                'plotly': ['https://cdn.plot.ly/plotly-latest.min']\n",
       "            }\n",
       "        });\n",
       "        require(['plotly'], function(Plotly) {\n",
       "            window._Plotly = Plotly;\n",
       "        });\n",
       "        }\n",
       "        </script>\n",
       "        "
      ]
     },
     "metadata": {},
     "output_type": "display_data"
    }
   ],
   "source": [
    "import plotly as py\n",
    "import plotly.express as px\n",
    "import plotly.graph_objs as go\n",
    "from plotly.offline import iplot, init_notebook_mode\n",
    "#init_notebook_mode(connected=True)\n",
    "\n",
    "import cufflinks as cf\n",
    "cf.go_offline(connected=True)\n",
    "cf.set_config_file(colorscale='plotly', world_readable=True)\n",
    "\n",
    "# Extra options\n",
    "# pd.options.display.max_rows = 30\n",
    "# pd.options.display.max_columns = 25\n",
    "\n",
    "# Show all code cells outputs\n",
    "from IPython.core.interactiveshell import InteractiveShell\n",
    "InteractiveShell.ast_node_interactivity = 'all'\n",
    "\n",
    "import os\n",
    "from IPython.display import Image, display, HTML"
   ]
  },
  {
   "cell_type": "code",
   "execution_count": 3,
   "metadata": {},
   "outputs": [],
   "source": [
    "import ipywidgets as widgets\n",
    "from ipywidgets import interact, interact_manual"
   ]
  },
  {
   "cell_type": "code",
   "execution_count": 4,
   "metadata": {},
   "outputs": [],
   "source": [
    "# store login data in login.py\n",
    "%run login.py"
   ]
  },
  {
   "cell_type": "code",
   "execution_count": 5,
   "metadata": {},
   "outputs": [],
   "source": [
    "# login query as multiline formatted string\n",
    "# this assumes that login and pwd are defined \n",
    "# above\n",
    "\n",
    "loginquery = f\"\"\"\n",
    "mutation {{\n",
    "  logIn(\n",
    "      email:\\\"{login}\\\",\n",
    "      password:\\\"{pwd}\\\") {{\n",
    "    jwt {{\n",
    "      token\n",
    "      exp\n",
    "    }}\n",
    "  }}\n",
    "}}\n",
    "\"\"\""
   ]
  },
  {
   "cell_type": "code",
   "execution_count": 6,
   "metadata": {},
   "outputs": [],
   "source": [
    "import requests\n",
    "url = 'https://api.numina.co/graphql'\n",
    "\n",
    "mylogin = requests.post(url, json={'query': loginquery})\n",
    "# mylogin"
   ]
  },
  {
   "cell_type": "code",
   "execution_count": 7,
   "metadata": {},
   "outputs": [],
   "source": [
    "token = mylogin.json()['data']['logIn']['jwt']['token']"
   ]
  },
  {
   "cell_type": "code",
   "execution_count": 8,
   "metadata": {},
   "outputs": [],
   "source": [
    "expdate = mylogin.json()\n",
    "# expdate"
   ]
  },
  {
   "cell_type": "markdown",
   "metadata": {},
   "source": [
    "# Context and Preview"
   ]
  },
  {
   "cell_type": "markdown",
   "metadata": {},
   "source": [
    "The following images present the areas covered by the three devices/cameras:"
   ]
  },
  {
   "cell_type": "markdown",
   "metadata": {},
   "source": [
    "Streetscape | Under Raincoat | Outside\n",
    "------------- | -------------  | -------------\n",
    "![alt](streetscape_sandbox.png) | ![alt](underraincoat_sandbox.png) | ![alt](outside_sandbox.png)"
   ]
  },
  {
   "cell_type": "markdown",
   "metadata": {},
   "source": [
    "As you see in the above images, each area essentially consists of two parts: objects such as tables and chairs, and empty spaces presumably for walking. Based on this reasoning, we have defined the following smaller behaviour zones so as to perform more in-depth research:"
   ]
  },
  {
   "cell_type": "markdown",
   "metadata": {},
   "source": [
    "### Streetscape ###\n",
    "\n",
    "Chair Zone | Corridor Zone | Free Zone\n",
    "------------- | -------------  | -------------\n",
    "![alt](BehaviorZoneImage/Streetscape-ChairZone.png) | ![alt](BehaviorZoneImage/Streetscape-PathZone.png) | ![alt](BehaviorZoneImage/Streetscape-ActivityZone.png)"
   ]
  },
  {
   "cell_type": "markdown",
   "metadata": {},
   "source": [
    "### Under Raincoat ###\n",
    "\n",
    "Chair Zone | Traffic Zone | Free Zone\n",
    "------------- | -------------  | -------------\n",
    "![alt](BehaviorZoneImage/UnderRaincoat-ChairZone.png) | ![alt](BehaviorZoneImage/UnderRaincoat-TrafficZone.png) | ![alt](BehaviorZoneImage/UnderRaincoat-ActivityZone.png)"
   ]
  },
  {
   "cell_type": "markdown",
   "metadata": {},
   "source": [
    "### Outside ###\n",
    "\n",
    "Chair Zone | Path Zone | -\n",
    "------------- | -------------  | -------------\n",
    "![alt](BehaviorZoneImage/Outside-ChairZone.png) | ![alt](BehaviorZoneImage/Outside-PathZone.png) | ![alt](blank.png)"
   ]
  },
  {
   "cell_type": "markdown",
   "metadata": {},
   "source": [
    "Note that we have to be aware of the fact that the chairs can be moved and that the above images may not necessarily reflect the layout of the room during the whole period of data collection. Specifically, the three sets of chairs in the Under Raincoat area can be easily moved. Thus, for the purpose of this webpage, we will not be investigating the Chair Zone of Under Raincoat; instead, we will integrate any analysis of the chairs into the analysis of the Free Zone, since it is presumably safe to assume that the chairs would not be moved outside the Free Zone to the Traffic Zone.\n",
    "\n",
    "Similarly, in the Streetscape area, under the assumption that it is intended to place the chairs together, it is unlikely that the group of chairs would be moved around freely and frequently due to the other obstacles in the room. As for the Outside area, it is also unlikely that the chairs would be placed in the middle of the road to block the path. Thus, we will be analyzing these two Chair Zones (while keeping the limitation in mind)."
   ]
  },
  {
   "cell_type": "markdown",
   "metadata": {},
   "source": [
    "# Patterns in Pedestrian Count and Dwell Time"
   ]
  },
  {
   "cell_type": "code",
   "execution_count": 9,
   "metadata": {},
   "outputs": [],
   "source": [
    "# device info\n",
    "device_dict = {'SWLSANDBOX1':'Streetscape', 'SWLSANDBOX2':'Under Raincoat', 'SWLSANDBOX3':'Outside'}\n",
    "device_ids = list(device_dict.keys())\n",
    "device_names = list(device_dict.values())"
   ]
  },
  {
   "cell_type": "code",
   "execution_count": 10,
   "metadata": {},
   "outputs": [],
   "source": [
    "def get_zones(device_id):\n",
    "    '''\n",
    "    a query to get all zones within the areas included in the device_id list;\n",
    "    returns a df\n",
    "    '''\n",
    "    query_zones = \"\"\"\n",
    "    query {{\n",
    "      behaviorZones (\n",
    "        serialnos: \"{0}\"\n",
    "        ) {{\n",
    "        count\n",
    "        edges {{\n",
    "          node {{\n",
    "            rawId\n",
    "            text\n",
    "          }}\n",
    "        }}\n",
    "      }}\n",
    "    }}\n",
    "    \"\"\".format(device_id)\n",
    "    \n",
    "    zones = requests.post(url, json={'query': query_zones}, headers = {'Authorization':token})\n",
    "    \n",
    "    df = pd.DataFrame([x['node'] for x in zones.json()['data']['behaviorZones']['edges']])\n",
    "    df['device_id'] = device_id\n",
    "    \n",
    "    return df"
   ]
  },
  {
   "cell_type": "code",
   "execution_count": 11,
   "metadata": {},
   "outputs": [],
   "source": [
    "# creates a df for zones\n",
    "\n",
    "# get zones\n",
    "zones_df = pd.concat([get_zones(device_ids[i]) for i in range(3)])\n",
    "zones_df = zones_df[(zones_df.text.notnull()) & \n",
    "                    (zones_df.text.str.startswith('x-')) & \n",
    "                    (zones_df.text.str.endswith('zone'))]"
   ]
  },
  {
   "cell_type": "code",
   "execution_count": 12,
   "metadata": {
    "scrolled": true
   },
   "outputs": [],
   "source": [
    "# adjusts zone info\n",
    "\n",
    "# modify zone name and add a type\n",
    "zones_df['text'] = zones_df['text'].str.replace('x-', '')\n",
    "zones_df['type'] = ['path', 'rest', 'both', 'path', 'both', 'rest', 'path']\n",
    "\n",
    "# colour of zones - 3 blues, 2 reds, 2 greens\n",
    "zone_clrs = ['royalblue', 'deepskyblue', 'dodgerblue',\n",
    "             'lightcoral', 'orangered', \n",
    "             'mediumaquamarine', 'mediumseagreen']\n",
    "\n",
    "# zone ID from int to str\n",
    "zones_df.rawId = zones_df.rawId.astype(str)\n",
    "zone_name_dict = dict(zip(zones_df.rawId, zones_df.text))\n",
    "zone_type_dict = dict(zip(zones_df.rawId, zones_df.type))"
   ]
  },
  {
   "cell_type": "code",
   "execution_count": 13,
   "metadata": {},
   "outputs": [],
   "source": [
    "def get_dwell(func, ID, interval):\n",
    "    '''\n",
    "    func is either feedDwellTimeDistribution or zoneDwellTimeDistribution;\n",
    "    a query to get dwell info in area/zone identified by ID;\n",
    "    returns a preprocessed dataframe\n",
    "    '''\n",
    "    if func == 'feedDwellTimeDistribution':\n",
    "        arg = 'serialnos: \"{0}\"'.format(ID)\n",
    "    else:\n",
    "        arg = 'zoneIds: {0}'.format(ID)\n",
    "        \n",
    "    query = \"\"\"\n",
    "    query {{\n",
    "        {0}(\n",
    "        {1},\n",
    "        startTime: \"2019-02-20T00:00:00\",\n",
    "        endTime: \"2020-01-12T00:00:00\",\n",
    "        timezone: \"America/New_York\",\n",
    "        objClasses: [\"pedestrian\"],\n",
    "        interval: \"{2}\"\n",
    "        ){{\n",
    "        edges {{\n",
    "          node {{\n",
    "            time\n",
    "            objClass\n",
    "            pct100\n",
    "            pct75\n",
    "            pct50\n",
    "            pct25\n",
    "            mean\n",
    "            count\n",
    "          }}\n",
    "        }}\n",
    "      }}\n",
    "    }}\n",
    "    \"\"\".format(func, arg, interval)\n",
    "\n",
    "    dwell = requests.post(url, json={'query': query}, \n",
    "                           headers = {'Authorization':token})\n",
    "    \n",
    "    # traverse to only keep useful info\n",
    "    df = pd.DataFrame([x['node'] for x in dwell.json()['data'][func]['edges']])\n",
    "    # add a column\n",
    "    if func == 'feedDwellTimeDistribution':\n",
    "        df['device_id'] = ID\n",
    "    else:\n",
    "        df['zone_id'] = ID\n",
    "    \n",
    "    return df"
   ]
  },
  {
   "cell_type": "code",
   "execution_count": 14,
   "metadata": {},
   "outputs": [],
   "source": [
    "def preprocess(df):\n",
    "    '''\n",
    "    preprocesses a dataframe returned by feedDwellTimeDistribution/zoneDwellTimeDistribution\n",
    "    '''\n",
    "    # replace NaN with 0\n",
    "    df = df.fillna(0)\n",
    "    # convert time\n",
    "    df['time'] = df['time'].str[:-6].apply(lambda x : pd.Timestamp(x))\n",
    "    df['month'] = df['time'].dt.month\n",
    "    df['dayofweek'] = df['time'].dt.dayofweek\n",
    "    df['hour'] = df['time'].dt.hour\n",
    "    df['date'] = df['time'].dt.date\n",
    "    \n",
    "    # add either zone or device name\n",
    "    if 'zone_id' in df.columns:\n",
    "        df.zone_id = df.zone_id.astype(str)\n",
    "        df['zone'] = [zone_name_dict[z] for z in df.zone_id]\n",
    "        df['zone_type'] = [zone_type_dict[z] for z in df.zone_id]\n",
    "    else:\n",
    "        df['device'] = [device_dict[d] for d in df.device_id]\n",
    "    \n",
    "    # add a total column = mean * count\n",
    "    df['total_dwell'] = df['mean'] * df['count']\n",
    "    df = df.rename(columns={'mean':'mean_dwell', 'pct50':'median_dwell', 'pct100':'max_dwell'})\n",
    "    df = df.drop(['pct75', 'pct25'], axis=1)\n",
    "    \n",
    "    return df"
   ]
  },
  {
   "cell_type": "code",
   "execution_count": 15,
   "metadata": {},
   "outputs": [],
   "source": [
    "# hourly dwell time \n",
    "# device\n",
    "feed_dwell_1h_df = pd.concat([get_dwell('feedDwellTimeDistribution', device_ids[i], '1h') \n",
    "                              for i in range(3)])\n",
    "# zone\n",
    "zone_dwell_1h_df = pd.concat([get_dwell('zoneDwellTimeDistribution', z, '1h')\n",
    "                             for z in zones_df['rawId'].values])\n",
    "feed_dwell_1h_df = preprocess(feed_dwell_1h_df)\n",
    "zone_dwell_1h_df = preprocess(zone_dwell_1h_df)"
   ]
  },
  {
   "cell_type": "code",
   "execution_count": 16,
   "metadata": {},
   "outputs": [],
   "source": [
    "# daily dwell time \n",
    "# device\n",
    "feed_dwell_1d_df = pd.concat([get_dwell('feedDwellTimeDistribution', device_ids[i], '1d') \n",
    "                              for i in range(3)])\n",
    "# zone\n",
    "zone_dwell_1d_df = pd.concat([get_dwell('zoneDwellTimeDistribution', z, '1d')\n",
    "                             for z in zones_df['rawId'].values])\n",
    "feed_dwell_1d_df = preprocess(feed_dwell_1d_df)\n",
    "zone_dwell_1d_df = preprocess(zone_dwell_1d_df)"
   ]
  },
  {
   "cell_type": "code",
   "execution_count": 17,
   "metadata": {},
   "outputs": [],
   "source": [
    "def get_df(groupby, interval):\n",
    "    '''\n",
    "    helper function to be called by other functions\n",
    "    '''\n",
    "    if groupby == 'device' and interval == '1d':\n",
    "        return feed_dwell_1d_df.copy(), device_names\n",
    "    elif groupby == 'zone' and interval == '1d':\n",
    "        return zone_dwell_1d_df.copy(), list(zones_df.text)\n",
    "    elif groupby == 'device' and interval == '1h':\n",
    "        return feed_dwell_1h_df.copy(), device_names\n",
    "    elif groupby == 'zone' and interval == '1h':\n",
    "        return zone_dwell_1h_df.copy(), list(zones_df.text)"
   ]
  },
  {
   "cell_type": "markdown",
   "metadata": {},
   "source": [
    "As a starting point, we will use the following interactive line plot to explore the trend in pedesdrian count / dwell time in different areas / zones over the past year. We suggest to focus on comparing across the three areas (i.e. 'groupby' = 'device'). \n",
    "\n",
    "Tip: You can click the legend on the right to include/exclude a line on the plot."
   ]
  },
  {
   "cell_type": "code",
   "execution_count": 18,
   "metadata": {},
   "outputs": [],
   "source": [
    "metric_list = ['count', 'mean_dwell', 'max_dwell', 'median_dwell', 'total_dwell']"
   ]
  },
  {
   "cell_type": "code",
   "execution_count": 19,
   "metadata": {},
   "outputs": [],
   "source": [
    "def plot_timeline(groupby, metric):\n",
    "    '''\n",
    "    groupby is either 'device' or 'zone';\n",
    "    metric is a value in metric_list\n",
    "    '''\n",
    "    df, _ = get_df(groupby, '1d')\n",
    "    \n",
    "    fig = px.line(df, x='time', y=metric, color=groupby, \n",
    "                  title='trend in daily pedestrian '+metric+' grouped by '+groupby)\n",
    "    \n",
    "    # layout - axes labels\n",
    "    fig.update_layout(\n",
    "        xaxis_rangeslider_visible=True\n",
    "    )\n",
    "    \n",
    "    fig.show()\n",
    "    "
   ]
  },
  {
   "cell_type": "code",
   "execution_count": 20,
   "metadata": {},
   "outputs": [
    {
     "data": {
      "application/vnd.jupyter.widget-view+json": {
       "model_id": "3d37607a951e4519b6320f5724740f9b",
       "version_major": 2,
       "version_minor": 0
      },
      "text/plain": [
       "interactive(children=(RadioButtons(description='groupby', options=('device', 'zone'), value='device'), Dropdow…"
      ]
     },
     "metadata": {},
     "output_type": "display_data"
    }
   ],
   "source": [
    "_ = interact(plot_timeline, \n",
    "             groupby=widgets.RadioButtons(options=['device', 'zone'], value='device'),\n",
    "             metric=widgets.Dropdown(options=metric_list, value='mean_dwell')\n",
    "            )"
   ]
  },
  {
   "cell_type": "markdown",
   "metadata": {},
   "source": [
    "As a general observation, there is not obvious increasing/decreasing trend (but rather frequent ups and downs) in any of the metric in the past year.\n",
    "\n",
    "We observe the count (and thus the total dwell time) in the Streetscape area has been siginificantly higher than the other two areas. Meanwhile, we see that peaks in mean dwell time tended to occur in Streetscape, and peaks in max dwell time tended to occur in either Streetscape or Outside. From either perspective, the Under Raincoat area is not as popular.\n",
    "\n",
    "If you are interested in researching about the reason about the peaks, the following interactive dataframe summarizes the exact locations and dates:"
   ]
  },
  {
   "cell_type": "code",
   "execution_count": 21,
   "metadata": {},
   "outputs": [
    {
     "data": {
      "application/vnd.jupyter.widget-view+json": {
       "model_id": "c3c85a1722594fd3a3e5d65e3de1b66f",
       "version_major": 2,
       "version_minor": 0
      },
      "text/plain": [
       "interactive(children=(RadioButtons(description='groupby', options=('device', 'zone'), value='device'), Dropdow…"
      ]
     },
     "metadata": {},
     "output_type": "display_data"
    }
   ],
   "source": [
    "def sort_dwell_1d(groupby, sortby, ascending, top):\n",
    "    '''\n",
    "    display a dataframe summarizing the area/zone and times of the top days\n",
    "    in either descending or ascending order\n",
    "    '''\n",
    "    df, _ = get_df(groupby, '1d')\n",
    "    \n",
    "    # weekday name\n",
    "    df['dayofweek'] = df['time'].dt.day_name()\n",
    "    \n",
    "    # column list\n",
    "    cols = [groupby, 'time', 'dayofweek', sortby]\n",
    "    if sortby == 'count':\n",
    "        cols.append('mean_dwell')\n",
    "    elif sortby == 'mean_dwell':\n",
    "        cols.append('count')\n",
    "    else:\n",
    "        cols.append('count')\n",
    "        cols.append('mean_dwell')\n",
    "        \n",
    "    display(df.sort_values(sortby, ascending=ascending).reset_index(drop=True)\n",
    "              .loc[:int(top)-1, cols])\n",
    "\n",
    "_ = interact(sort_dwell_1d, \n",
    "             groupby=widgets.RadioButtons(options=['device', 'zone'], value='device'),\n",
    "             sortby=widgets.Dropdown(options=metric_list, value='mean_dwell'),\n",
    "             top=widgets.IntSlider(value=5, min=1, max=30, step=1, readout_format='d'),\n",
    "             ascending=widgets.Checkbox(value=False, description='ascending'))"
   ]
  },
  {
   "cell_type": "markdown",
   "metadata": {},
   "source": [
    "If, in addition to general observations, you are also interested in comparing the statistics/distribution of a metric across the three areas (ex. the medians of mean dwell time), the following boxplots would be very useful. As mentioned, we highly recommend to focus on device groups only at this point."
   ]
  },
  {
   "cell_type": "code",
   "execution_count": 22,
   "metadata": {},
   "outputs": [],
   "source": [
    "def plot_boxplot(metric):\n",
    "    '''\n",
    "    plots box plot distribution of metric in metric list\n",
    "    '''\n",
    "    fig = go.Figure()\n",
    "    \n",
    "    # by device only\n",
    "    groupby = 'device'\n",
    "    df, byvals = get_df(groupby, '1d')\n",
    "    \n",
    "    for i in range(len(byvals)):\n",
    "        # Use x instead of y argument for horizontal plot\n",
    "        fig.add_trace(go.Box(x=df.loc[df[groupby]==byvals[i], metric], name=byvals[i],\n",
    "                             boxpoints='outliers', boxmean=True))\n",
    "\n",
    "    # layout - axes labels\n",
    "    fig.update_layout(\n",
    "        xaxis_title=metric,\n",
    "        xaxis_rangeslider_visible=True\n",
    "    )\n",
    "    # title\n",
    "    fig.update_layout(title='distribution of pedestrian '+metric+' grouped by device')\n",
    "    \n",
    "    fig.show()\n",
    "    "
   ]
  },
  {
   "cell_type": "code",
   "execution_count": 23,
   "metadata": {
    "scrolled": false
   },
   "outputs": [
    {
     "data": {
      "application/vnd.jupyter.widget-view+json": {
       "model_id": "c8802a5c6692472ba29852c558c4d389",
       "version_major": 2,
       "version_minor": 0
      },
      "text/plain": [
       "interactive(children=(Dropdown(description='metric', index=1, options=('count', 'mean_dwell', 'max_dwell', 'me…"
      ]
     },
     "metadata": {},
     "output_type": "display_data"
    }
   ],
   "source": [
    "_ = interact(plot_boxplot, \n",
    "             metric=widgets.Dropdown(options=metric_list, value='mean_dwell')\n",
    "            )"
   ]
  },
  {
   "cell_type": "code",
   "execution_count": 24,
   "metadata": {},
   "outputs": [],
   "source": [
    "def plot_byhour(groupby, metric):\n",
    "    '''\n",
    "    plots scatter plots of metric grouped by groupby ('device' or 'zone')\n",
    "    and animated through 24 hour\n",
    "    '''\n",
    "    # byhour\n",
    "    df, byvals = get_df(groupby, '1h')\n",
    "    \n",
    "    # filter based on quantiles\n",
    "    #df = df[(df[metric] <= df[metric].quantile(quantiles[1])) &\n",
    "    #        (df[metric] >= df[metric].quantile(quantiles[0]))].sort_values('hour')\n",
    "    \n",
    "    # plot differently based on whethere device or zone\n",
    "    title = 'change in '+metric+' over different times of the day, with point size weighted by count'\n",
    "    # device\n",
    "    if groupby=='device':\n",
    "        x = '-'\n",
    "        fc = 'device'\n",
    "        # category orders\n",
    "        co = {groupby:byvals}\n",
    "        df = df.groupby(['hour', 'device']).median().reset_index()\n",
    "    # zone\n",
    "    else:\n",
    "        df['device'] = df['zone'].apply(lambda x : x.split('-')[0])\n",
    "        x = 'device'\n",
    "        fc = 'zone_type'\n",
    "        # category orders\n",
    "        co = {'device':device_names, 'zone_type':['path', 'rest', 'both']}\n",
    "        df = df.groupby(['hour', 'device', 'zone_type']).mean().reset_index()\n",
    "    \n",
    "    if metric == 'max_dwell':\n",
    "        yrange = (0, 200)\n",
    "    else:\n",
    "        yrange = (0, 25)\n",
    "    df['-'] = '-'\n",
    "    fig = px.scatter(df, x=x, y=metric, color='device', facet_col=fc, size='count',\n",
    "                     animation_frame='hour', opacity=0.5, size_max=60,\n",
    "                     title=title, category_orders=co, range_y=yrange)\n",
    "        \n",
    "    # labels\n",
    "    fig.layout.update(showlegend=True)\n",
    "    fig.update_xaxes(showticklabels=False)\n",
    "    fig.update_xaxes(title='')\n",
    "    fig.show()"
   ]
  },
  {
   "cell_type": "code",
   "execution_count": 25,
   "metadata": {},
   "outputs": [],
   "source": [
    "#_ = interact(plot_byhour, groupby=widgets.RadioButtons(options=['device', 'zone'], value='zone'),\n",
    "             #metric=widgets.Dropdown(options=metric_list[1:-1], value=metric_list[1]))"
   ]
  },
  {
   "cell_type": "markdown",
   "metadata": {},
   "source": [
    "As we are working with time series data, it is natural to see the effects of different time groups (ex. hours, weekdays, months). We have obtained daily and hourly data. We decided to use 'mean_dwell' as a representative for dwell time data; then we picked 'hour' and 'dayofweek' for hourly data and 'dayofweek' and 'month' for daily data to create the following matrix:"
   ]
  },
  {
   "cell_type": "code",
   "execution_count": 26,
   "metadata": {},
   "outputs": [
    {
     "data": {
      "application/vnd.jupyter.widget-view+json": {
       "model_id": "4500fc9718d241c79ba282a559e4ad2d",
       "version_major": 2,
       "version_minor": 0
      },
      "text/plain": [
       "interactive(children=(RadioButtons(description='data_type', options=('hourly', 'daily'), value='hourly'), Outp…"
      ]
     },
     "metadata": {},
     "output_type": "display_data"
    }
   ],
   "source": [
    "def plot_scatter_mat(data_type):\n",
    "    title = f'scatter matrix for {data_type} dwell data grouped by device'\n",
    "    if data_type == 'daily':\n",
    "        fig = px.scatter_matrix(feed_dwell_1d_df, ['count', 'mean_dwell', 'month', 'dayofweek'], \n",
    "                                color='device', opacity=0.5, title=title)\n",
    "    else:\n",
    "        fig = px.scatter_matrix(feed_dwell_1h_df, ['count', 'mean_dwell', 'hour', 'dayofweek'], \n",
    "                                color='device', opacity=0.5, title=title)\n",
    "    fig.show()\n",
    "        \n",
    "_ = interact(plot_scatter_mat, data_type=widgets.RadioButtons(options=['hourly', 'daily'], value='hourly'))"
   ]
  },
  {
   "cell_type": "markdown",
   "metadata": {},
   "source": [
    "We suggest to focus on the subplots in the upper triangle. \n",
    "\n",
    "From the hourly data, we observe that 'hour' is a significant factor affecting the number of pedestrians passing through (but we cannot tell whether it is true for the dwell time). As we would expect, counts are mostly 0 early in the morning (e.g. before 6am) and reach the peak in the afternoon. We also observe that the outliers / extreme values in 'hourly count' tended to occur on Saturday in the Streetscape (i.e. indoor) area. \n",
    "\n",
    "If we compare and contrast the individual distributions of count and mean_dwell, we see that both are right-skewed. However, the distribution of mean dwell time has a much thinner tail, suggesting that mean dwell time tended to be very similar across different hours and days while the count varies more; meanwhile, only the distribution of count suggests that the Streetscape area is significantly more popular than the other two. As a result, we see that the scatter plot between count and mean_dwell shows an 'L' shape, showing that there did not exist an hour in which both the count and mean dwell time are high. In fact, if you hover over the four points with the highest mean_dwell value, you would see that they all have a count of 1. In addition, the plot suggests a weak to no correlation between the two attributes."
   ]
  },
  {
   "cell_type": "markdown",
   "metadata": {},
   "source": [
    "Then if we switch to the daily data, the distributions of the count and the mean dwell time are still right-skewed (but with less variation) and still no obvious correlation is exhibited. Solely based on the above scatterplot, since most points overlap, we cannot conclude that 'month' or 'dayofweek' is an important factor affecting the daily data. \n",
    "\n",
    "The scatter matrices aim to provide an overall picture and give some guidance for the directions of further exploration. "
   ]
  },
  {
   "cell_type": "markdown",
   "metadata": {},
   "source": [
    "Recall that we observed that 'hour' tended to have an impact on at least pedestrian count and we still need to explore the effects of 'dayofweek' and 'month'. Thus, we recommend to explore the data with the following grouped bar plots, which uses hourly data for the 'hour' time group and daily data for the others:"
   ]
  },
  {
   "cell_type": "code",
   "execution_count": 27,
   "metadata": {},
   "outputs": [],
   "source": [
    "def plot_avg(groupby, metric, timegroup):\n",
    "    '''\n",
    "    plots metric of each groupby ('device' or 'zone') \n",
    "    by timegroup ('hour', 'date', 'dayofweek', 'month')\n",
    "    '''\n",
    "    # get either 1d or 1h depending on time group\n",
    "    if timegroup == 'hour':\n",
    "        df, byvals = get_df(groupby, '1h')\n",
    "    else:\n",
    "        df, byvals = get_df(groupby, '1d')\n",
    "    \n",
    "    # colours\n",
    "    if groupby == 'device':\n",
    "        # default colours\n",
    "        clr = None\n",
    "    else:\n",
    "        clr = zone_clrs\n",
    "        \n",
    "    # convert dayofweek\n",
    "    weekdays = {0:'Monday', 1:'Tuesday', 2:'Wednesday', 3:'Thursday', 4:'Friday', 5:'Saturday', 6:'Sunday'}\n",
    "    df['dayofweek'] = [weekdays[w] for w in df['dayofweek']]\n",
    "    \n",
    "    # filter out 0 count day/hour\n",
    "    #m = df.groupby('time').sum()\n",
    "    #df = df[df['time'].isin(list(m[m['count']!=0].index))]\n",
    "    # group\n",
    "    df = df.groupby([timegroup, groupby]).median().reset_index()\n",
    "    \n",
    "    # plot\n",
    "    fig = px.bar(df, x=timegroup, y=metric, color=groupby,\n",
    "                 category_orders={groupby:byvals, 'dayofweek':list(weekdays.values())}, # order of categories\n",
    "                 color_discrete_sequence=clr, # colour of devices/zones\n",
    "                 title='median of pedestrian ' + metric + ' grouped by ' + timegroup + ' and ' + groupby,\n",
    "                 barmode='group')\n",
    "    fig.show()"
   ]
  },
  {
   "cell_type": "code",
   "execution_count": 28,
   "metadata": {},
   "outputs": [
    {
     "data": {
      "application/vnd.jupyter.widget-view+json": {
       "model_id": "a9d42909db584b1aa23d556321fb5d66",
       "version_major": 2,
       "version_minor": 0
      },
      "text/plain": [
       "interactive(children=(RadioButtons(description='groupby', options=('device', 'zone'), value='device'), Dropdow…"
      ]
     },
     "metadata": {},
     "output_type": "display_data"
    }
   ],
   "source": [
    "_ = interact(plot_avg, \n",
    "             groupby=widgets.RadioButtons(options=['device', 'zone'], value='device'),\n",
    "             metric=widgets.Dropdown(options=metric_list, value='mean_dwell'),\n",
    "             timegroup=widgets.Dropdown(options=['hour', 'dayofweek', 'month'], value='dayofweek'))"
   ]
  },
  {
   "cell_type": "markdown",
   "metadata": {},
   "source": [
    "Looking at the median value of daily pedestrian data statistics grouped by weekdays, we observe surprisingly that Saturday is a very special day, in which both the count and (mean/max) dwell time in the Streetscape (indoor) area are significantly less than the other days of the week.\n",
    "\n",
    "As for 'month', we see that in more than half of the days in Febraury, March, April and May, no pedestrians have been detected in the Outside area; similarly, there were no pedestrians in the Under Raincoat area in more than half of the days in November to March. \n",
    "\n",
    "The reasons behind these observations are not clear without further information such as maintenance schedule of the devices/cameras. We highly encourage you to investigate the reasons behind having no visits if the cameras were actually in service. \n",
    "\n",
    "On the other hand, it is more reasonable to see the median values of 'count' being all 0 from 11pm to 6am. We observe a normal distribution for the count in the Outside and Under Raincoat areas but a gap between 5pm and 8pm for the Streetscape area. "
   ]
  },
  {
   "cell_type": "markdown",
   "metadata": {},
   "source": [
    "Now in place of the exact values of the metrics, let's look at the proportions (in terms of pedestrian count and total dwell time):"
   ]
  },
  {
   "cell_type": "code",
   "execution_count": 29,
   "metadata": {},
   "outputs": [
    {
     "data": {
      "application/vnd.plotly.v1+json": {
       "config": {
        "plotlyServerURL": "https://plot.ly"
       },
       "data": [
        {
         "domain": {
          "x": [
           0,
           0.45
          ],
          "y": [
           0,
           1
          ]
         },
         "hole": 0.4,
         "hoverinfo": "label+percent",
         "labels": [
          "Streetscape",
          "Under Raincoat",
          "Outside"
         ],
         "name": "device",
         "type": "pie",
         "values": [
          378580,
          42054,
          101548
         ]
        },
        {
         "domain": {
          "x": [
           0.55,
           1
          ],
          "y": [
           0,
           1
          ]
         },
         "hole": 0.4,
         "hoverinfo": "label+percent",
         "labels": [
          "Streetscape",
          "Under Raincoat",
          "Outside"
         ],
         "name": "device",
         "type": "pie",
         "values": [
          8801918.21,
          913902.16,
          1687283.2
         ]
        }
       ],
       "layout": {
        "annotations": [
         {
          "font": {
           "size": 20
          },
          "showarrow": false,
          "text": "count",
          "x": 0.18,
          "y": 0.5
         },
         {
          "font": {
           "size": 20
          },
          "showarrow": false,
          "text": "total dwell",
          "x": 0.85,
          "y": 0.5
         }
        ],
        "template": {
         "data": {
          "bar": [
           {
            "error_x": {
             "color": "#2a3f5f"
            },
            "error_y": {
             "color": "#2a3f5f"
            },
            "marker": {
             "line": {
              "color": "#E5ECF6",
              "width": 0.5
             }
            },
            "type": "bar"
           }
          ],
          "barpolar": [
           {
            "marker": {
             "line": {
              "color": "#E5ECF6",
              "width": 0.5
             }
            },
            "type": "barpolar"
           }
          ],
          "carpet": [
           {
            "aaxis": {
             "endlinecolor": "#2a3f5f",
             "gridcolor": "white",
             "linecolor": "white",
             "minorgridcolor": "white",
             "startlinecolor": "#2a3f5f"
            },
            "baxis": {
             "endlinecolor": "#2a3f5f",
             "gridcolor": "white",
             "linecolor": "white",
             "minorgridcolor": "white",
             "startlinecolor": "#2a3f5f"
            },
            "type": "carpet"
           }
          ],
          "choropleth": [
           {
            "colorbar": {
             "outlinewidth": 0,
             "ticks": ""
            },
            "type": "choropleth"
           }
          ],
          "contour": [
           {
            "colorbar": {
             "outlinewidth": 0,
             "ticks": ""
            },
            "colorscale": [
             [
              0,
              "#0d0887"
             ],
             [
              0.1111111111111111,
              "#46039f"
             ],
             [
              0.2222222222222222,
              "#7201a8"
             ],
             [
              0.3333333333333333,
              "#9c179e"
             ],
             [
              0.4444444444444444,
              "#bd3786"
             ],
             [
              0.5555555555555556,
              "#d8576b"
             ],
             [
              0.6666666666666666,
              "#ed7953"
             ],
             [
              0.7777777777777778,
              "#fb9f3a"
             ],
             [
              0.8888888888888888,
              "#fdca26"
             ],
             [
              1,
              "#f0f921"
             ]
            ],
            "type": "contour"
           }
          ],
          "contourcarpet": [
           {
            "colorbar": {
             "outlinewidth": 0,
             "ticks": ""
            },
            "type": "contourcarpet"
           }
          ],
          "heatmap": [
           {
            "colorbar": {
             "outlinewidth": 0,
             "ticks": ""
            },
            "colorscale": [
             [
              0,
              "#0d0887"
             ],
             [
              0.1111111111111111,
              "#46039f"
             ],
             [
              0.2222222222222222,
              "#7201a8"
             ],
             [
              0.3333333333333333,
              "#9c179e"
             ],
             [
              0.4444444444444444,
              "#bd3786"
             ],
             [
              0.5555555555555556,
              "#d8576b"
             ],
             [
              0.6666666666666666,
              "#ed7953"
             ],
             [
              0.7777777777777778,
              "#fb9f3a"
             ],
             [
              0.8888888888888888,
              "#fdca26"
             ],
             [
              1,
              "#f0f921"
             ]
            ],
            "type": "heatmap"
           }
          ],
          "heatmapgl": [
           {
            "colorbar": {
             "outlinewidth": 0,
             "ticks": ""
            },
            "colorscale": [
             [
              0,
              "#0d0887"
             ],
             [
              0.1111111111111111,
              "#46039f"
             ],
             [
              0.2222222222222222,
              "#7201a8"
             ],
             [
              0.3333333333333333,
              "#9c179e"
             ],
             [
              0.4444444444444444,
              "#bd3786"
             ],
             [
              0.5555555555555556,
              "#d8576b"
             ],
             [
              0.6666666666666666,
              "#ed7953"
             ],
             [
              0.7777777777777778,
              "#fb9f3a"
             ],
             [
              0.8888888888888888,
              "#fdca26"
             ],
             [
              1,
              "#f0f921"
             ]
            ],
            "type": "heatmapgl"
           }
          ],
          "histogram": [
           {
            "marker": {
             "colorbar": {
              "outlinewidth": 0,
              "ticks": ""
             }
            },
            "type": "histogram"
           }
          ],
          "histogram2d": [
           {
            "colorbar": {
             "outlinewidth": 0,
             "ticks": ""
            },
            "colorscale": [
             [
              0,
              "#0d0887"
             ],
             [
              0.1111111111111111,
              "#46039f"
             ],
             [
              0.2222222222222222,
              "#7201a8"
             ],
             [
              0.3333333333333333,
              "#9c179e"
             ],
             [
              0.4444444444444444,
              "#bd3786"
             ],
             [
              0.5555555555555556,
              "#d8576b"
             ],
             [
              0.6666666666666666,
              "#ed7953"
             ],
             [
              0.7777777777777778,
              "#fb9f3a"
             ],
             [
              0.8888888888888888,
              "#fdca26"
             ],
             [
              1,
              "#f0f921"
             ]
            ],
            "type": "histogram2d"
           }
          ],
          "histogram2dcontour": [
           {
            "colorbar": {
             "outlinewidth": 0,
             "ticks": ""
            },
            "colorscale": [
             [
              0,
              "#0d0887"
             ],
             [
              0.1111111111111111,
              "#46039f"
             ],
             [
              0.2222222222222222,
              "#7201a8"
             ],
             [
              0.3333333333333333,
              "#9c179e"
             ],
             [
              0.4444444444444444,
              "#bd3786"
             ],
             [
              0.5555555555555556,
              "#d8576b"
             ],
             [
              0.6666666666666666,
              "#ed7953"
             ],
             [
              0.7777777777777778,
              "#fb9f3a"
             ],
             [
              0.8888888888888888,
              "#fdca26"
             ],
             [
              1,
              "#f0f921"
             ]
            ],
            "type": "histogram2dcontour"
           }
          ],
          "mesh3d": [
           {
            "colorbar": {
             "outlinewidth": 0,
             "ticks": ""
            },
            "type": "mesh3d"
           }
          ],
          "parcoords": [
           {
            "line": {
             "colorbar": {
              "outlinewidth": 0,
              "ticks": ""
             }
            },
            "type": "parcoords"
           }
          ],
          "pie": [
           {
            "automargin": true,
            "type": "pie"
           }
          ],
          "scatter": [
           {
            "marker": {
             "colorbar": {
              "outlinewidth": 0,
              "ticks": ""
             }
            },
            "type": "scatter"
           }
          ],
          "scatter3d": [
           {
            "line": {
             "colorbar": {
              "outlinewidth": 0,
              "ticks": ""
             }
            },
            "marker": {
             "colorbar": {
              "outlinewidth": 0,
              "ticks": ""
             }
            },
            "type": "scatter3d"
           }
          ],
          "scattercarpet": [
           {
            "marker": {
             "colorbar": {
              "outlinewidth": 0,
              "ticks": ""
             }
            },
            "type": "scattercarpet"
           }
          ],
          "scattergeo": [
           {
            "marker": {
             "colorbar": {
              "outlinewidth": 0,
              "ticks": ""
             }
            },
            "type": "scattergeo"
           }
          ],
          "scattergl": [
           {
            "marker": {
             "colorbar": {
              "outlinewidth": 0,
              "ticks": ""
             }
            },
            "type": "scattergl"
           }
          ],
          "scattermapbox": [
           {
            "marker": {
             "colorbar": {
              "outlinewidth": 0,
              "ticks": ""
             }
            },
            "type": "scattermapbox"
           }
          ],
          "scatterpolar": [
           {
            "marker": {
             "colorbar": {
              "outlinewidth": 0,
              "ticks": ""
             }
            },
            "type": "scatterpolar"
           }
          ],
          "scatterpolargl": [
           {
            "marker": {
             "colorbar": {
              "outlinewidth": 0,
              "ticks": ""
             }
            },
            "type": "scatterpolargl"
           }
          ],
          "scatterternary": [
           {
            "marker": {
             "colorbar": {
              "outlinewidth": 0,
              "ticks": ""
             }
            },
            "type": "scatterternary"
           }
          ],
          "surface": [
           {
            "colorbar": {
             "outlinewidth": 0,
             "ticks": ""
            },
            "colorscale": [
             [
              0,
              "#0d0887"
             ],
             [
              0.1111111111111111,
              "#46039f"
             ],
             [
              0.2222222222222222,
              "#7201a8"
             ],
             [
              0.3333333333333333,
              "#9c179e"
             ],
             [
              0.4444444444444444,
              "#bd3786"
             ],
             [
              0.5555555555555556,
              "#d8576b"
             ],
             [
              0.6666666666666666,
              "#ed7953"
             ],
             [
              0.7777777777777778,
              "#fb9f3a"
             ],
             [
              0.8888888888888888,
              "#fdca26"
             ],
             [
              1,
              "#f0f921"
             ]
            ],
            "type": "surface"
           }
          ],
          "table": [
           {
            "cells": {
             "fill": {
              "color": "#EBF0F8"
             },
             "line": {
              "color": "white"
             }
            },
            "header": {
             "fill": {
              "color": "#C8D4E3"
             },
             "line": {
              "color": "white"
             }
            },
            "type": "table"
           }
          ]
         },
         "layout": {
          "annotationdefaults": {
           "arrowcolor": "#2a3f5f",
           "arrowhead": 0,
           "arrowwidth": 1
          },
          "coloraxis": {
           "colorbar": {
            "outlinewidth": 0,
            "ticks": ""
           }
          },
          "colorscale": {
           "diverging": [
            [
             0,
             "#8e0152"
            ],
            [
             0.1,
             "#c51b7d"
            ],
            [
             0.2,
             "#de77ae"
            ],
            [
             0.3,
             "#f1b6da"
            ],
            [
             0.4,
             "#fde0ef"
            ],
            [
             0.5,
             "#f7f7f7"
            ],
            [
             0.6,
             "#e6f5d0"
            ],
            [
             0.7,
             "#b8e186"
            ],
            [
             0.8,
             "#7fbc41"
            ],
            [
             0.9,
             "#4d9221"
            ],
            [
             1,
             "#276419"
            ]
           ],
           "sequential": [
            [
             0,
             "#0d0887"
            ],
            [
             0.1111111111111111,
             "#46039f"
            ],
            [
             0.2222222222222222,
             "#7201a8"
            ],
            [
             0.3333333333333333,
             "#9c179e"
            ],
            [
             0.4444444444444444,
             "#bd3786"
            ],
            [
             0.5555555555555556,
             "#d8576b"
            ],
            [
             0.6666666666666666,
             "#ed7953"
            ],
            [
             0.7777777777777778,
             "#fb9f3a"
            ],
            [
             0.8888888888888888,
             "#fdca26"
            ],
            [
             1,
             "#f0f921"
            ]
           ],
           "sequentialminus": [
            [
             0,
             "#0d0887"
            ],
            [
             0.1111111111111111,
             "#46039f"
            ],
            [
             0.2222222222222222,
             "#7201a8"
            ],
            [
             0.3333333333333333,
             "#9c179e"
            ],
            [
             0.4444444444444444,
             "#bd3786"
            ],
            [
             0.5555555555555556,
             "#d8576b"
            ],
            [
             0.6666666666666666,
             "#ed7953"
            ],
            [
             0.7777777777777778,
             "#fb9f3a"
            ],
            [
             0.8888888888888888,
             "#fdca26"
            ],
            [
             1,
             "#f0f921"
            ]
           ]
          },
          "colorway": [
           "#636efa",
           "#EF553B",
           "#00cc96",
           "#ab63fa",
           "#FFA15A",
           "#19d3f3",
           "#FF6692",
           "#B6E880",
           "#FF97FF",
           "#FECB52"
          ],
          "font": {
           "color": "#2a3f5f"
          },
          "geo": {
           "bgcolor": "white",
           "lakecolor": "white",
           "landcolor": "#E5ECF6",
           "showlakes": true,
           "showland": true,
           "subunitcolor": "white"
          },
          "hoverlabel": {
           "align": "left"
          },
          "hovermode": "closest",
          "mapbox": {
           "style": "light"
          },
          "paper_bgcolor": "white",
          "plot_bgcolor": "#E5ECF6",
          "polar": {
           "angularaxis": {
            "gridcolor": "white",
            "linecolor": "white",
            "ticks": ""
           },
           "bgcolor": "#E5ECF6",
           "radialaxis": {
            "gridcolor": "white",
            "linecolor": "white",
            "ticks": ""
           }
          },
          "scene": {
           "xaxis": {
            "backgroundcolor": "#E5ECF6",
            "gridcolor": "white",
            "gridwidth": 2,
            "linecolor": "white",
            "showbackground": true,
            "ticks": "",
            "zerolinecolor": "white"
           },
           "yaxis": {
            "backgroundcolor": "#E5ECF6",
            "gridcolor": "white",
            "gridwidth": 2,
            "linecolor": "white",
            "showbackground": true,
            "ticks": "",
            "zerolinecolor": "white"
           },
           "zaxis": {
            "backgroundcolor": "#E5ECF6",
            "gridcolor": "white",
            "gridwidth": 2,
            "linecolor": "white",
            "showbackground": true,
            "ticks": "",
            "zerolinecolor": "white"
           }
          },
          "shapedefaults": {
           "line": {
            "color": "#2a3f5f"
           }
          },
          "ternary": {
           "aaxis": {
            "gridcolor": "white",
            "linecolor": "white",
            "ticks": ""
           },
           "baxis": {
            "gridcolor": "white",
            "linecolor": "white",
            "ticks": ""
           },
           "bgcolor": "#E5ECF6",
           "caxis": {
            "gridcolor": "white",
            "linecolor": "white",
            "ticks": ""
           }
          },
          "title": {
           "x": 0.05
          },
          "xaxis": {
           "automargin": true,
           "gridcolor": "white",
           "linecolor": "white",
           "ticks": "",
           "title": {
            "standoff": 15
           },
           "zerolinecolor": "white",
           "zerolinewidth": 2
          },
          "yaxis": {
           "automargin": true,
           "gridcolor": "white",
           "linecolor": "white",
           "ticks": "",
           "title": {
            "standoff": 15
           },
           "zerolinecolor": "white",
           "zerolinewidth": 2
          }
         }
        },
        "title": {
         "text": "proportion of total data accounted for by each area"
        }
       }
      },
      "text/html": [
       "<div>\n",
       "        \n",
       "        \n",
       "            <div id=\"cb8f1ebd-0154-4a10-a521-48f3ed19dbc5\" class=\"plotly-graph-div\" style=\"height:525px; width:100%;\"></div>\n",
       "            <script type=\"text/javascript\">\n",
       "                require([\"plotly\"], function(Plotly) {\n",
       "                    window.PLOTLYENV=window.PLOTLYENV || {};\n",
       "                    \n",
       "                if (document.getElementById(\"cb8f1ebd-0154-4a10-a521-48f3ed19dbc5\")) {\n",
       "                    Plotly.newPlot(\n",
       "                        'cb8f1ebd-0154-4a10-a521-48f3ed19dbc5',\n",
       "                        [{\"domain\": {\"x\": [0.0, 0.45], \"y\": [0.0, 1.0]}, \"hole\": 0.4, \"hoverinfo\": \"label+percent\", \"labels\": [\"Streetscape\", \"Under Raincoat\", \"Outside\"], \"name\": \"device\", \"type\": \"pie\", \"values\": [378580, 42054, 101548]}, {\"domain\": {\"x\": [0.55, 1.0], \"y\": [0.0, 1.0]}, \"hole\": 0.4, \"hoverinfo\": \"label+percent\", \"labels\": [\"Streetscape\", \"Under Raincoat\", \"Outside\"], \"name\": \"device\", \"type\": \"pie\", \"values\": [8801918.21, 913902.16, 1687283.2]}],\n",
       "                        {\"annotations\": [{\"font\": {\"size\": 20}, \"showarrow\": false, \"text\": \"count\", \"x\": 0.18, \"y\": 0.5}, {\"font\": {\"size\": 20}, \"showarrow\": false, \"text\": \"total dwell\", \"x\": 0.85, \"y\": 0.5}], \"template\": {\"data\": {\"bar\": [{\"error_x\": {\"color\": \"#2a3f5f\"}, \"error_y\": {\"color\": \"#2a3f5f\"}, \"marker\": {\"line\": {\"color\": \"#E5ECF6\", \"width\": 0.5}}, \"type\": \"bar\"}], \"barpolar\": [{\"marker\": {\"line\": {\"color\": \"#E5ECF6\", \"width\": 0.5}}, \"type\": \"barpolar\"}], \"carpet\": [{\"aaxis\": {\"endlinecolor\": \"#2a3f5f\", \"gridcolor\": \"white\", \"linecolor\": \"white\", \"minorgridcolor\": \"white\", \"startlinecolor\": \"#2a3f5f\"}, \"baxis\": {\"endlinecolor\": \"#2a3f5f\", \"gridcolor\": \"white\", \"linecolor\": \"white\", \"minorgridcolor\": \"white\", \"startlinecolor\": \"#2a3f5f\"}, \"type\": \"carpet\"}], \"choropleth\": [{\"colorbar\": {\"outlinewidth\": 0, \"ticks\": \"\"}, \"type\": \"choropleth\"}], \"contour\": [{\"colorbar\": {\"outlinewidth\": 0, \"ticks\": \"\"}, \"colorscale\": [[0.0, \"#0d0887\"], [0.1111111111111111, \"#46039f\"], [0.2222222222222222, \"#7201a8\"], [0.3333333333333333, \"#9c179e\"], [0.4444444444444444, \"#bd3786\"], [0.5555555555555556, \"#d8576b\"], [0.6666666666666666, \"#ed7953\"], [0.7777777777777778, \"#fb9f3a\"], [0.8888888888888888, \"#fdca26\"], [1.0, \"#f0f921\"]], \"type\": \"contour\"}], \"contourcarpet\": [{\"colorbar\": {\"outlinewidth\": 0, \"ticks\": \"\"}, \"type\": \"contourcarpet\"}], \"heatmap\": [{\"colorbar\": {\"outlinewidth\": 0, \"ticks\": \"\"}, \"colorscale\": [[0.0, \"#0d0887\"], [0.1111111111111111, \"#46039f\"], [0.2222222222222222, \"#7201a8\"], [0.3333333333333333, \"#9c179e\"], [0.4444444444444444, \"#bd3786\"], [0.5555555555555556, \"#d8576b\"], [0.6666666666666666, \"#ed7953\"], [0.7777777777777778, \"#fb9f3a\"], [0.8888888888888888, \"#fdca26\"], [1.0, \"#f0f921\"]], \"type\": \"heatmap\"}], \"heatmapgl\": [{\"colorbar\": {\"outlinewidth\": 0, \"ticks\": \"\"}, \"colorscale\": [[0.0, \"#0d0887\"], [0.1111111111111111, \"#46039f\"], [0.2222222222222222, \"#7201a8\"], [0.3333333333333333, \"#9c179e\"], [0.4444444444444444, \"#bd3786\"], [0.5555555555555556, \"#d8576b\"], [0.6666666666666666, \"#ed7953\"], [0.7777777777777778, \"#fb9f3a\"], [0.8888888888888888, \"#fdca26\"], [1.0, \"#f0f921\"]], \"type\": \"heatmapgl\"}], \"histogram\": [{\"marker\": {\"colorbar\": {\"outlinewidth\": 0, \"ticks\": \"\"}}, \"type\": \"histogram\"}], \"histogram2d\": [{\"colorbar\": {\"outlinewidth\": 0, \"ticks\": \"\"}, \"colorscale\": [[0.0, \"#0d0887\"], [0.1111111111111111, \"#46039f\"], [0.2222222222222222, \"#7201a8\"], [0.3333333333333333, \"#9c179e\"], [0.4444444444444444, \"#bd3786\"], [0.5555555555555556, \"#d8576b\"], [0.6666666666666666, \"#ed7953\"], [0.7777777777777778, \"#fb9f3a\"], [0.8888888888888888, \"#fdca26\"], [1.0, \"#f0f921\"]], \"type\": \"histogram2d\"}], \"histogram2dcontour\": [{\"colorbar\": {\"outlinewidth\": 0, \"ticks\": \"\"}, \"colorscale\": [[0.0, \"#0d0887\"], [0.1111111111111111, \"#46039f\"], [0.2222222222222222, \"#7201a8\"], [0.3333333333333333, \"#9c179e\"], [0.4444444444444444, \"#bd3786\"], [0.5555555555555556, \"#d8576b\"], [0.6666666666666666, \"#ed7953\"], [0.7777777777777778, \"#fb9f3a\"], [0.8888888888888888, \"#fdca26\"], [1.0, \"#f0f921\"]], \"type\": \"histogram2dcontour\"}], \"mesh3d\": [{\"colorbar\": {\"outlinewidth\": 0, \"ticks\": \"\"}, \"type\": \"mesh3d\"}], \"parcoords\": [{\"line\": {\"colorbar\": {\"outlinewidth\": 0, \"ticks\": \"\"}}, \"type\": \"parcoords\"}], \"pie\": [{\"automargin\": true, \"type\": \"pie\"}], \"scatter\": [{\"marker\": {\"colorbar\": {\"outlinewidth\": 0, \"ticks\": \"\"}}, \"type\": \"scatter\"}], \"scatter3d\": [{\"line\": {\"colorbar\": {\"outlinewidth\": 0, \"ticks\": \"\"}}, \"marker\": {\"colorbar\": {\"outlinewidth\": 0, \"ticks\": \"\"}}, \"type\": \"scatter3d\"}], \"scattercarpet\": [{\"marker\": {\"colorbar\": {\"outlinewidth\": 0, \"ticks\": \"\"}}, \"type\": \"scattercarpet\"}], \"scattergeo\": [{\"marker\": {\"colorbar\": {\"outlinewidth\": 0, \"ticks\": \"\"}}, \"type\": \"scattergeo\"}], \"scattergl\": [{\"marker\": {\"colorbar\": {\"outlinewidth\": 0, \"ticks\": \"\"}}, \"type\": \"scattergl\"}], \"scattermapbox\": [{\"marker\": {\"colorbar\": {\"outlinewidth\": 0, \"ticks\": \"\"}}, \"type\": \"scattermapbox\"}], \"scatterpolar\": [{\"marker\": {\"colorbar\": {\"outlinewidth\": 0, \"ticks\": \"\"}}, \"type\": \"scatterpolar\"}], \"scatterpolargl\": [{\"marker\": {\"colorbar\": {\"outlinewidth\": 0, \"ticks\": \"\"}}, \"type\": \"scatterpolargl\"}], \"scatterternary\": [{\"marker\": {\"colorbar\": {\"outlinewidth\": 0, \"ticks\": \"\"}}, \"type\": \"scatterternary\"}], \"surface\": [{\"colorbar\": {\"outlinewidth\": 0, \"ticks\": \"\"}, \"colorscale\": [[0.0, \"#0d0887\"], [0.1111111111111111, \"#46039f\"], [0.2222222222222222, \"#7201a8\"], [0.3333333333333333, \"#9c179e\"], [0.4444444444444444, \"#bd3786\"], [0.5555555555555556, \"#d8576b\"], [0.6666666666666666, \"#ed7953\"], [0.7777777777777778, \"#fb9f3a\"], [0.8888888888888888, \"#fdca26\"], [1.0, \"#f0f921\"]], \"type\": \"surface\"}], \"table\": [{\"cells\": {\"fill\": {\"color\": \"#EBF0F8\"}, \"line\": {\"color\": \"white\"}}, \"header\": {\"fill\": {\"color\": \"#C8D4E3\"}, \"line\": {\"color\": \"white\"}}, \"type\": \"table\"}]}, \"layout\": {\"annotationdefaults\": {\"arrowcolor\": \"#2a3f5f\", \"arrowhead\": 0, \"arrowwidth\": 1}, \"coloraxis\": {\"colorbar\": {\"outlinewidth\": 0, \"ticks\": \"\"}}, \"colorscale\": {\"diverging\": [[0, \"#8e0152\"], [0.1, \"#c51b7d\"], [0.2, \"#de77ae\"], [0.3, \"#f1b6da\"], [0.4, \"#fde0ef\"], [0.5, \"#f7f7f7\"], [0.6, \"#e6f5d0\"], [0.7, \"#b8e186\"], [0.8, \"#7fbc41\"], [0.9, \"#4d9221\"], [1, \"#276419\"]], \"sequential\": [[0.0, \"#0d0887\"], [0.1111111111111111, \"#46039f\"], [0.2222222222222222, \"#7201a8\"], [0.3333333333333333, \"#9c179e\"], [0.4444444444444444, \"#bd3786\"], [0.5555555555555556, \"#d8576b\"], [0.6666666666666666, \"#ed7953\"], [0.7777777777777778, \"#fb9f3a\"], [0.8888888888888888, \"#fdca26\"], [1.0, \"#f0f921\"]], \"sequentialminus\": [[0.0, \"#0d0887\"], [0.1111111111111111, \"#46039f\"], [0.2222222222222222, \"#7201a8\"], [0.3333333333333333, \"#9c179e\"], [0.4444444444444444, \"#bd3786\"], [0.5555555555555556, \"#d8576b\"], [0.6666666666666666, \"#ed7953\"], [0.7777777777777778, \"#fb9f3a\"], [0.8888888888888888, \"#fdca26\"], [1.0, \"#f0f921\"]]}, \"colorway\": [\"#636efa\", \"#EF553B\", \"#00cc96\", \"#ab63fa\", \"#FFA15A\", \"#19d3f3\", \"#FF6692\", \"#B6E880\", \"#FF97FF\", \"#FECB52\"], \"font\": {\"color\": \"#2a3f5f\"}, \"geo\": {\"bgcolor\": \"white\", \"lakecolor\": \"white\", \"landcolor\": \"#E5ECF6\", \"showlakes\": true, \"showland\": true, \"subunitcolor\": \"white\"}, \"hoverlabel\": {\"align\": \"left\"}, \"hovermode\": \"closest\", \"mapbox\": {\"style\": \"light\"}, \"paper_bgcolor\": \"white\", \"plot_bgcolor\": \"#E5ECF6\", \"polar\": {\"angularaxis\": {\"gridcolor\": \"white\", \"linecolor\": \"white\", \"ticks\": \"\"}, \"bgcolor\": \"#E5ECF6\", \"radialaxis\": {\"gridcolor\": \"white\", \"linecolor\": \"white\", \"ticks\": \"\"}}, \"scene\": {\"xaxis\": {\"backgroundcolor\": \"#E5ECF6\", \"gridcolor\": \"white\", \"gridwidth\": 2, \"linecolor\": \"white\", \"showbackground\": true, \"ticks\": \"\", \"zerolinecolor\": \"white\"}, \"yaxis\": {\"backgroundcolor\": \"#E5ECF6\", \"gridcolor\": \"white\", \"gridwidth\": 2, \"linecolor\": \"white\", \"showbackground\": true, \"ticks\": \"\", \"zerolinecolor\": \"white\"}, \"zaxis\": {\"backgroundcolor\": \"#E5ECF6\", \"gridcolor\": \"white\", \"gridwidth\": 2, \"linecolor\": \"white\", \"showbackground\": true, \"ticks\": \"\", \"zerolinecolor\": \"white\"}}, \"shapedefaults\": {\"line\": {\"color\": \"#2a3f5f\"}}, \"ternary\": {\"aaxis\": {\"gridcolor\": \"white\", \"linecolor\": \"white\", \"ticks\": \"\"}, \"baxis\": {\"gridcolor\": \"white\", \"linecolor\": \"white\", \"ticks\": \"\"}, \"bgcolor\": \"#E5ECF6\", \"caxis\": {\"gridcolor\": \"white\", \"linecolor\": \"white\", \"ticks\": \"\"}}, \"title\": {\"x\": 0.05}, \"xaxis\": {\"automargin\": true, \"gridcolor\": \"white\", \"linecolor\": \"white\", \"ticks\": \"\", \"title\": {\"standoff\": 15}, \"zerolinecolor\": \"white\", \"zerolinewidth\": 2}, \"yaxis\": {\"automargin\": true, \"gridcolor\": \"white\", \"linecolor\": \"white\", \"ticks\": \"\", \"title\": {\"standoff\": 15}, \"zerolinecolor\": \"white\", \"zerolinewidth\": 2}}}, \"title\": {\"text\": \"proportion of total data accounted for by each area\"}},\n",
       "                        {\"responsive\": true}\n",
       "                    ).then(function(){\n",
       "                            \n",
       "var gd = document.getElementById('cb8f1ebd-0154-4a10-a521-48f3ed19dbc5');\n",
       "var x = new MutationObserver(function (mutations, observer) {{\n",
       "        var display = window.getComputedStyle(gd).display;\n",
       "        if (!display || display === 'none') {{\n",
       "            console.log([gd, 'removed!']);\n",
       "            Plotly.purge(gd);\n",
       "            observer.disconnect();\n",
       "        }}\n",
       "}});\n",
       "\n",
       "// Listen for the removal of the full notebook cells\n",
       "var notebookContainer = gd.closest('#notebook-container');\n",
       "if (notebookContainer) {{\n",
       "    x.observe(notebookContainer, {childList: true});\n",
       "}}\n",
       "\n",
       "// Listen for the clearing of the current output cell\n",
       "var outputEl = gd.closest('.output');\n",
       "if (outputEl) {{\n",
       "    x.observe(outputEl, {childList: true});\n",
       "}}\n",
       "\n",
       "                        })\n",
       "                };\n",
       "                });\n",
       "            </script>\n",
       "        </div>"
      ]
     },
     "metadata": {},
     "output_type": "display_data"
    }
   ],
   "source": [
    "from plotly.subplots import make_subplots\n",
    "\n",
    "def plot_pies():\n",
    "    '''\n",
    "    two pie charts on total count and dwell time grouped by device\n",
    "    '''\n",
    "    labels=['Streetscape', 'Under Raincoat', 'Outside']\n",
    "    # subplots\n",
    "    fig = make_subplots(rows=1, cols=2, specs=[[{'type':'domain'}, {'type':'domain'}]])\n",
    "    fig.add_trace(go.Pie(labels=labels, values=[378580, 42054, 101548], name='device'),\n",
    "                  1, 1)\n",
    "    fig.add_trace(go.Pie(labels=labels, values=[8801918.21, 913902.16, 1687283.20], name='device'),\n",
    "                  1, 2)\n",
    "\n",
    "    # `hole` to create a donut-like pie chart\n",
    "    fig.update_traces(hole=.4, hoverinfo='label+percent')\n",
    "\n",
    "    fig.update_layout(\n",
    "        title_text='proportion of total data accounted for by each area',\n",
    "        # annotations in the center of the donut pies.\n",
    "        annotations=[dict(text='count', x=0.18, y=0.5, font_size=20, showarrow=False),\n",
    "                     dict(text='total dwell', x=0.85, y=0.5, font_size=20, showarrow=False)])\n",
    "    fig.show()\n",
    "    \n",
    "plot_pies()"
   ]
  },
  {
   "cell_type": "markdown",
   "metadata": {},
   "source": [
    "If we consider all data together, then the Streetscape area accounted for about 77.2% of all dwell time in the 307, followed by Outside (14.8%) and Under Raincoat (8%). By comparing the two pie charts, we could also conclude that the dwell time on average tended to be longer in the Under Raincoat area than in the Outside area.\n",
    "\n",
    "Now let's look at the proportions in more details."
   ]
  },
  {
   "cell_type": "code",
   "execution_count": 30,
   "metadata": {},
   "outputs": [],
   "source": [
    "def compute_prop_helper(df, col, newcol, lower_bound):\n",
    "    '''\n",
    "    helper function for compute_prop;\n",
    "    newcol is proportion wrt col\n",
    "    '''\n",
    "    # group by time (date + hour)\n",
    "    m = df.groupby('time').sum()\n",
    "    \n",
    "    # compute proportion wrt the total at each time\n",
    "    # add 0.00001 to avoid division by zero\n",
    "    df[newcol] = df.apply(lambda x : x[col] / (0.00001 + m.loc[x['time'], col]), axis=1)\n",
    "    \n",
    "    # only keep the times where the total count/dwell time is at least lower_bound\n",
    "    sub = df[df['time'].isin(list(m[m['count']>=lower_bound].index))]\n",
    "    \n",
    "    return sub"
   ]
  },
  {
   "cell_type": "code",
   "execution_count": 31,
   "metadata": {},
   "outputs": [],
   "source": [
    "def compute_prop(df, lower_bound):\n",
    "    '''\n",
    "    computes proportion of count and total_dwell wrt the total at the time;\n",
    "    only keep days/hours in which the total value is at least lower_bound;\n",
    "    adds two new columns - count_prop and total_dwell_prop\n",
    "    '''\n",
    "    df = df.copy()\n",
    "    df = compute_prop_helper(df, 'count', 'count_prop', lower_bound)\n",
    "    df = compute_prop_helper(df, 'total_dwell', 'total_dwell_prop', lower_bound)\n",
    "    return df"
   ]
  },
  {
   "cell_type": "code",
   "execution_count": 32,
   "metadata": {},
   "outputs": [],
   "source": [
    "def plot_prop(groupby, metric, timegroup, lower_bound):\n",
    "    '''\n",
    "    plots proportion of metric ('count' or 'total_dwell')\n",
    "    of each groupby ('device' or 'zone') \n",
    "    by timegroup ('hour', 'date', 'dayofweek', 'month');\n",
    "    lower_bound is on the total value at a time\n",
    "    '''\n",
    "    # get either 1d or 1h depending on time group\n",
    "    if timegroup == 'hour':\n",
    "        df, byvals = get_df(groupby, '1h')\n",
    "    else:\n",
    "        df, byvals = get_df(groupby, '1d')\n",
    "    \n",
    "    # colours\n",
    "    if groupby == 'device':\n",
    "        # default colours\n",
    "        clr = None\n",
    "    else:\n",
    "        clr = zone_clrs\n",
    "        \n",
    "    # order of dayofweek\n",
    "    weekdays = {0:'Monday', 1:'Tuesday', 2:'Wednesday', 3:'Thursday', 4:'Friday', 5:'Saturday', 6:'Sunday'}\n",
    "    df['dayofweek'] = [weekdays[w] for w in df['dayofweek']]\n",
    "    \n",
    "    # add proportion columns\n",
    "    df = compute_prop(df, lower_bound)\n",
    "    # group\n",
    "    df = df.groupby([timegroup, groupby]).mean().reset_index()\n",
    "    \n",
    "    # plot\n",
    "    fig = px.bar(df, x=timegroup, y=metric+'_prop', color=groupby,\n",
    "                 category_orders={groupby:byvals, 'dayofweek':list(weekdays.values())}, # order of categories\n",
    "                 color_discrete_sequence=clr, # colour of devices/zones\n",
    "                 title='averaged proportion of ' + metric + ' accounted for by each ' + groupby,\n",
    "                 range_y=(0, 1))\n",
    "    fig.show()"
   ]
  },
  {
   "cell_type": "code",
   "execution_count": 33,
   "metadata": {},
   "outputs": [
    {
     "data": {
      "application/vnd.jupyter.widget-view+json": {
       "model_id": "81997fe7ceda4925b4ce55385b9f332a",
       "version_major": 2,
       "version_minor": 0
      },
      "text/plain": [
       "interactive(children=(RadioButtons(description='groupby', index=1, options=('device', 'zone'), value='zone'), …"
      ]
     },
     "metadata": {},
     "output_type": "display_data"
    }
   ],
   "source": [
    "_ = interact(plot_prop, \n",
    "             groupby=widgets.RadioButtons(options=['device', 'zone'], value='zone'),\n",
    "             metric=widgets.RadioButtons(options=['count', 'total_dwell'], value='total_dwell'),\n",
    "             timegroup=widgets.Dropdown(options=['hour', 'date', 'dayofweek', 'month'], value='hour'),\n",
    "             lower_bound=widgets.IntSlider(value=50, min=0, max=2000, step=50, continuous_update=False))"
   ]
  },
  {
   "cell_type": "markdown",
   "metadata": {},
   "source": [
    "Tip: blues are Streetscape zones, reds are Under Raincoat zones and greens are Outside zones.\n",
    "\n",
    "From the above stacked bar plots, the most obvious observation is the special pattern on Saturday as described previously. \n",
    "\n",
    "In addition, while both the Outside and the Streescape areas have a chair zone of a similar size, the chair zone in the Streetscape area tended to account for much more of the data in the area (roughly 1/3) in comparison to that in the Outside zone (roughly 1/10). \n",
    "\n",
    "We see that on average, the Under Raincoat area accounted for more proportion of both total count and total dwell time in the evening than in the daytime. We notice that during these evening hours in the Under Raincoat area, the proportion of the free zone (i.e. where people tended to sit and stay) tended to be even greater in comparison to other hours. On the other hand in the other two areas, the proportion taken by the chair zone tended to decrease in comparison to daytime. "
   ]
  },
  {
   "cell_type": "markdown",
   "metadata": {},
   "source": [
    "### Obtain heatmap for pedestrians"
   ]
  },
  {
   "cell_type": "code",
   "execution_count": 36,
   "metadata": {},
   "outputs": [],
   "source": [
    "from datetime import timedelta, datetime\n",
    "from dateutil.relativedelta import relativedelta\n",
    "import calendar\n",
    "START_DATE = datetime(2019, 2, 20, 0, 0, 0)\n",
    "END_DATE = datetime(2019, 3, 20, 0, 0, 0)\n",
    "time_delta = relativedelta(days = +1)"
   ]
  },
  {
   "cell_type": "code",
   "execution_count": 37,
   "metadata": {},
   "outputs": [],
   "source": [
    "import pandas as pd\n",
    "heatmap_df = pd.DataFrame(columns = ['startTime', 'endTime', 'heatMap'])"
   ]
  },
  {
   "cell_type": "code",
   "execution_count": 38,
   "metadata": {},
   "outputs": [],
   "source": [
    "def heatmap_query_gen(startTime: str, endTime: str):\n",
    "    heatmap_query = \"\"\"\n",
    "query {{\n",
    "  feedHeatmaps(\n",
    "    serialno: \"SWLSANDBOX1\",\n",
    "    startTime:\"{0}\",\n",
    "    endTime:\"{1}\",\n",
    "    objClasses:[\"pedestrian\"],\n",
    "    timezone:\"America/New_York\") {{\n",
    "    edges {{\n",
    "      node {{\n",
    "        time\n",
    "        objClass\n",
    "        heatmap\n",
    "      }}\n",
    "    }}\n",
    "  }}\n",
    "}}\n",
    "\"\"\".format(startTime, endTime)\n",
    "    return heatmap_query"
   ]
  },
  {
   "cell_type": "code",
   "execution_count": 39,
   "metadata": {},
   "outputs": [],
   "source": [
    "current_date = START_DATE\n",
    "while current_date < END_DATE:\n",
    "    start_time_str = current_date.strftime('%Y-%m-%dT%H:%M:%S')\n",
    "    end_time = current_date + time_delta\n",
    "    end_time_str = end_time.strftime('%Y-%m-%dT%H:%M:%S')\n",
    "    heatmap_data = requests.post(url, json={'query': heatmap_query_gen(start_time_str, end_time_str)}, \n",
    "                         headers = {'Authorization':token})\n",
    "    heatmap_json = heatmap_data.json()\n",
    "    if heatmap_json['data']:\n",
    "        if 'feedHeatmaps' in heatmap_json['data']:\n",
    "            heatmap = heatmap_json['data']['feedHeatmaps']['edges'][0]['node']['heatmap']\n",
    "            temp_df = pd.DataFrame({\"startTime\":current_date, \"endTime\":end_time, 'heatMap':heatmap})\n",
    "            heatmap_df = heatmap_df.append(temp_df, ignore_index = True)\n",
    "    current_date = current_date + time_delta"
   ]
  },
  {
   "cell_type": "code",
   "execution_count": 40,
   "metadata": {},
   "outputs": [],
   "source": [
    "ed_heatmap_df = heatmap_df.groupby(['startTime', 'endTime'])['heatMap'].apply(list).reset_index(name='heatMapMatrix')"
   ]
  },
  {
   "cell_type": "code",
   "execution_count": 41,
   "metadata": {},
   "outputs": [
    {
     "data": {
      "application/vnd.jupyter.widget-view+json": {
       "model_id": "7ff347dc4db542deaa40d1da813c3e8f",
       "version_major": 2,
       "version_minor": 0
      },
      "text/plain": [
       "interactive(children=(DatePicker(value=Timestamp('2019-02-26 00:00:00'), description='Pick a Date'), Output())…"
      ]
     },
     "metadata": {},
     "output_type": "display_data"
    },
    {
     "data": {
      "text/plain": [
       "<function __main__.plot_heatmap(start_time)>"
      ]
     },
     "execution_count": 41,
     "metadata": {},
     "output_type": "execute_result"
    }
   ],
   "source": [
    "from IPython.display import display\n",
    "def plot_heatmap(start_time):\n",
    "    map_img = mpimg.imread('streetscape_sandbox.png')\n",
    "    matrix = list(ed_heatmap_df[ed_heatmap_df['startTime'] == start_time]['heatMapMatrix'])[0]\n",
    "    x = [i[0] for i in matrix] \n",
    "    y = [i[1] for i in matrix]\n",
    "    z = [i[2] for i in matrix]\n",
    "    fig, ax = plt.subplots(figsize=(15,10))\n",
    "    ax.scatter(x, y, c=z, s=10, cmap=plt.cm.Wistia) # Other color maps: plt.cm.cmap_d.keys())\n",
    "    ax.imshow(map_img, aspect='auto')\n",
    "    plt.axis('off')\n",
    "    plt.title(\"Heatmap for date {0}\".format(start_time, fontsize=20))\n",
    "    plt.show()\n",
    "interact(plot_heatmap, start_time=widgets.DatePicker(value = pd.to_datetime('2019-02-26'), description='Pick a Date'))"
   ]
  },
  {
   "cell_type": "markdown",
   "metadata": {},
   "source": [
    "## Event vs Non Event Days"
   ]
  },
  {
   "cell_type": "markdown",
   "metadata": {},
   "source": [
    "### Subsection: Pedestrian Count"
   ]
  },
  {
   "cell_type": "markdown",
   "metadata": {},
   "source": [
    "In this section, we will be exploring how poeple's behaviour differ when there is an event and when there is no event occuring. We have obtained the Sidewalk Labs' event schedule from the [website](https://www.sidewalktoronto.ca/participate/). I have recorded all the events between Febuary 20th, 2019 and January 11th, 2020."
   ]
  },
  {
   "cell_type": "code",
   "execution_count": 42,
   "metadata": {},
   "outputs": [],
   "source": [
    "event_dates = pd.read_csv('EventDates.csv')"
   ]
  },
  {
   "cell_type": "markdown",
   "metadata": {},
   "source": [
    "I also have obtained the pedestrian count data. We will first explore how the pedestrian count changes in different days. "
   ]
  },
  {
   "cell_type": "code",
   "execution_count": 43,
   "metadata": {},
   "outputs": [
    {
     "ename": "FileNotFoundError",
     "evalue": "[Errno 2] File b'OverviewForOutsideCount.csv' does not exist: b'OverviewForOutsideCount.csv'",
     "output_type": "error",
     "traceback": [
      "\u001b[1;31m---------------------------------------------------------------------------\u001b[0m",
      "\u001b[1;31mFileNotFoundError\u001b[0m                         Traceback (most recent call last)",
      "\u001b[1;32m<ipython-input-43-2c43f31a403f>\u001b[0m in \u001b[0;36m<module>\u001b[1;34m\u001b[0m\n\u001b[1;32m----> 1\u001b[1;33m \u001b[0moutside_count_df\u001b[0m \u001b[1;33m=\u001b[0m \u001b[0mpd\u001b[0m\u001b[1;33m.\u001b[0m\u001b[0mread_csv\u001b[0m\u001b[1;33m(\u001b[0m\u001b[1;34m'OverviewForOutsideCount.csv'\u001b[0m\u001b[1;33m)\u001b[0m\u001b[1;33m\u001b[0m\u001b[1;33m\u001b[0m\u001b[0m\n\u001b[0m\u001b[0;32m      2\u001b[0m \u001b[0mstreetscape_count_df\u001b[0m \u001b[1;33m=\u001b[0m \u001b[0mpd\u001b[0m\u001b[1;33m.\u001b[0m\u001b[0mread_csv\u001b[0m\u001b[1;33m(\u001b[0m\u001b[1;34m'OverviewForStreetScapeCount.csv'\u001b[0m\u001b[1;33m)\u001b[0m\u001b[1;33m\u001b[0m\u001b[1;33m\u001b[0m\u001b[0m\n\u001b[0;32m      3\u001b[0m \u001b[0munder_rain_coat_count_df\u001b[0m \u001b[1;33m=\u001b[0m \u001b[0mpd\u001b[0m\u001b[1;33m.\u001b[0m\u001b[0mread_csv\u001b[0m\u001b[1;33m(\u001b[0m\u001b[1;34m'OverviewForUnderRainCoatCount.csv'\u001b[0m\u001b[1;33m)\u001b[0m\u001b[1;33m\u001b[0m\u001b[1;33m\u001b[0m\u001b[0m\n",
      "\u001b[1;32m~\\Anaconda3\\lib\\site-packages\\pandas\\io\\parsers.py\u001b[0m in \u001b[0;36mparser_f\u001b[1;34m(filepath_or_buffer, sep, delimiter, header, names, index_col, usecols, squeeze, prefix, mangle_dupe_cols, dtype, engine, converters, true_values, false_values, skipinitialspace, skiprows, skipfooter, nrows, na_values, keep_default_na, na_filter, verbose, skip_blank_lines, parse_dates, infer_datetime_format, keep_date_col, date_parser, dayfirst, cache_dates, iterator, chunksize, compression, thousands, decimal, lineterminator, quotechar, quoting, doublequote, escapechar, comment, encoding, dialect, error_bad_lines, warn_bad_lines, delim_whitespace, low_memory, memory_map, float_precision)\u001b[0m\n\u001b[0;32m    683\u001b[0m         )\n\u001b[0;32m    684\u001b[0m \u001b[1;33m\u001b[0m\u001b[0m\n\u001b[1;32m--> 685\u001b[1;33m         \u001b[1;32mreturn\u001b[0m \u001b[0m_read\u001b[0m\u001b[1;33m(\u001b[0m\u001b[0mfilepath_or_buffer\u001b[0m\u001b[1;33m,\u001b[0m \u001b[0mkwds\u001b[0m\u001b[1;33m)\u001b[0m\u001b[1;33m\u001b[0m\u001b[1;33m\u001b[0m\u001b[0m\n\u001b[0m\u001b[0;32m    686\u001b[0m \u001b[1;33m\u001b[0m\u001b[0m\n\u001b[0;32m    687\u001b[0m     \u001b[0mparser_f\u001b[0m\u001b[1;33m.\u001b[0m\u001b[0m__name__\u001b[0m \u001b[1;33m=\u001b[0m \u001b[0mname\u001b[0m\u001b[1;33m\u001b[0m\u001b[1;33m\u001b[0m\u001b[0m\n",
      "\u001b[1;32m~\\Anaconda3\\lib\\site-packages\\pandas\\io\\parsers.py\u001b[0m in \u001b[0;36m_read\u001b[1;34m(filepath_or_buffer, kwds)\u001b[0m\n\u001b[0;32m    455\u001b[0m \u001b[1;33m\u001b[0m\u001b[0m\n\u001b[0;32m    456\u001b[0m     \u001b[1;31m# Create the parser.\u001b[0m\u001b[1;33m\u001b[0m\u001b[1;33m\u001b[0m\u001b[1;33m\u001b[0m\u001b[0m\n\u001b[1;32m--> 457\u001b[1;33m     \u001b[0mparser\u001b[0m \u001b[1;33m=\u001b[0m \u001b[0mTextFileReader\u001b[0m\u001b[1;33m(\u001b[0m\u001b[0mfp_or_buf\u001b[0m\u001b[1;33m,\u001b[0m \u001b[1;33m**\u001b[0m\u001b[0mkwds\u001b[0m\u001b[1;33m)\u001b[0m\u001b[1;33m\u001b[0m\u001b[1;33m\u001b[0m\u001b[0m\n\u001b[0m\u001b[0;32m    458\u001b[0m \u001b[1;33m\u001b[0m\u001b[0m\n\u001b[0;32m    459\u001b[0m     \u001b[1;32mif\u001b[0m \u001b[0mchunksize\u001b[0m \u001b[1;32mor\u001b[0m \u001b[0miterator\u001b[0m\u001b[1;33m:\u001b[0m\u001b[1;33m\u001b[0m\u001b[1;33m\u001b[0m\u001b[0m\n",
      "\u001b[1;32m~\\Anaconda3\\lib\\site-packages\\pandas\\io\\parsers.py\u001b[0m in \u001b[0;36m__init__\u001b[1;34m(self, f, engine, **kwds)\u001b[0m\n\u001b[0;32m    893\u001b[0m             \u001b[0mself\u001b[0m\u001b[1;33m.\u001b[0m\u001b[0moptions\u001b[0m\u001b[1;33m[\u001b[0m\u001b[1;34m\"has_index_names\"\u001b[0m\u001b[1;33m]\u001b[0m \u001b[1;33m=\u001b[0m \u001b[0mkwds\u001b[0m\u001b[1;33m[\u001b[0m\u001b[1;34m\"has_index_names\"\u001b[0m\u001b[1;33m]\u001b[0m\u001b[1;33m\u001b[0m\u001b[1;33m\u001b[0m\u001b[0m\n\u001b[0;32m    894\u001b[0m \u001b[1;33m\u001b[0m\u001b[0m\n\u001b[1;32m--> 895\u001b[1;33m         \u001b[0mself\u001b[0m\u001b[1;33m.\u001b[0m\u001b[0m_make_engine\u001b[0m\u001b[1;33m(\u001b[0m\u001b[0mself\u001b[0m\u001b[1;33m.\u001b[0m\u001b[0mengine\u001b[0m\u001b[1;33m)\u001b[0m\u001b[1;33m\u001b[0m\u001b[1;33m\u001b[0m\u001b[0m\n\u001b[0m\u001b[0;32m    896\u001b[0m \u001b[1;33m\u001b[0m\u001b[0m\n\u001b[0;32m    897\u001b[0m     \u001b[1;32mdef\u001b[0m \u001b[0mclose\u001b[0m\u001b[1;33m(\u001b[0m\u001b[0mself\u001b[0m\u001b[1;33m)\u001b[0m\u001b[1;33m:\u001b[0m\u001b[1;33m\u001b[0m\u001b[1;33m\u001b[0m\u001b[0m\n",
      "\u001b[1;32m~\\Anaconda3\\lib\\site-packages\\pandas\\io\\parsers.py\u001b[0m in \u001b[0;36m_make_engine\u001b[1;34m(self, engine)\u001b[0m\n\u001b[0;32m   1133\u001b[0m     \u001b[1;32mdef\u001b[0m \u001b[0m_make_engine\u001b[0m\u001b[1;33m(\u001b[0m\u001b[0mself\u001b[0m\u001b[1;33m,\u001b[0m \u001b[0mengine\u001b[0m\u001b[1;33m=\u001b[0m\u001b[1;34m\"c\"\u001b[0m\u001b[1;33m)\u001b[0m\u001b[1;33m:\u001b[0m\u001b[1;33m\u001b[0m\u001b[1;33m\u001b[0m\u001b[0m\n\u001b[0;32m   1134\u001b[0m         \u001b[1;32mif\u001b[0m \u001b[0mengine\u001b[0m \u001b[1;33m==\u001b[0m \u001b[1;34m\"c\"\u001b[0m\u001b[1;33m:\u001b[0m\u001b[1;33m\u001b[0m\u001b[1;33m\u001b[0m\u001b[0m\n\u001b[1;32m-> 1135\u001b[1;33m             \u001b[0mself\u001b[0m\u001b[1;33m.\u001b[0m\u001b[0m_engine\u001b[0m \u001b[1;33m=\u001b[0m \u001b[0mCParserWrapper\u001b[0m\u001b[1;33m(\u001b[0m\u001b[0mself\u001b[0m\u001b[1;33m.\u001b[0m\u001b[0mf\u001b[0m\u001b[1;33m,\u001b[0m \u001b[1;33m**\u001b[0m\u001b[0mself\u001b[0m\u001b[1;33m.\u001b[0m\u001b[0moptions\u001b[0m\u001b[1;33m)\u001b[0m\u001b[1;33m\u001b[0m\u001b[1;33m\u001b[0m\u001b[0m\n\u001b[0m\u001b[0;32m   1136\u001b[0m         \u001b[1;32melse\u001b[0m\u001b[1;33m:\u001b[0m\u001b[1;33m\u001b[0m\u001b[1;33m\u001b[0m\u001b[0m\n\u001b[0;32m   1137\u001b[0m             \u001b[1;32mif\u001b[0m \u001b[0mengine\u001b[0m \u001b[1;33m==\u001b[0m \u001b[1;34m\"python\"\u001b[0m\u001b[1;33m:\u001b[0m\u001b[1;33m\u001b[0m\u001b[1;33m\u001b[0m\u001b[0m\n",
      "\u001b[1;32m~\\Anaconda3\\lib\\site-packages\\pandas\\io\\parsers.py\u001b[0m in \u001b[0;36m__init__\u001b[1;34m(self, src, **kwds)\u001b[0m\n\u001b[0;32m   1915\u001b[0m         \u001b[0mkwds\u001b[0m\u001b[1;33m[\u001b[0m\u001b[1;34m\"usecols\"\u001b[0m\u001b[1;33m]\u001b[0m \u001b[1;33m=\u001b[0m \u001b[0mself\u001b[0m\u001b[1;33m.\u001b[0m\u001b[0musecols\u001b[0m\u001b[1;33m\u001b[0m\u001b[1;33m\u001b[0m\u001b[0m\n\u001b[0;32m   1916\u001b[0m \u001b[1;33m\u001b[0m\u001b[0m\n\u001b[1;32m-> 1917\u001b[1;33m         \u001b[0mself\u001b[0m\u001b[1;33m.\u001b[0m\u001b[0m_reader\u001b[0m \u001b[1;33m=\u001b[0m \u001b[0mparsers\u001b[0m\u001b[1;33m.\u001b[0m\u001b[0mTextReader\u001b[0m\u001b[1;33m(\u001b[0m\u001b[0msrc\u001b[0m\u001b[1;33m,\u001b[0m \u001b[1;33m**\u001b[0m\u001b[0mkwds\u001b[0m\u001b[1;33m)\u001b[0m\u001b[1;33m\u001b[0m\u001b[1;33m\u001b[0m\u001b[0m\n\u001b[0m\u001b[0;32m   1918\u001b[0m         \u001b[0mself\u001b[0m\u001b[1;33m.\u001b[0m\u001b[0munnamed_cols\u001b[0m \u001b[1;33m=\u001b[0m \u001b[0mself\u001b[0m\u001b[1;33m.\u001b[0m\u001b[0m_reader\u001b[0m\u001b[1;33m.\u001b[0m\u001b[0munnamed_cols\u001b[0m\u001b[1;33m\u001b[0m\u001b[1;33m\u001b[0m\u001b[0m\n\u001b[0;32m   1919\u001b[0m \u001b[1;33m\u001b[0m\u001b[0m\n",
      "\u001b[1;32mpandas\\_libs\\parsers.pyx\u001b[0m in \u001b[0;36mpandas._libs.parsers.TextReader.__cinit__\u001b[1;34m()\u001b[0m\n",
      "\u001b[1;32mpandas\\_libs\\parsers.pyx\u001b[0m in \u001b[0;36mpandas._libs.parsers.TextReader._setup_parser_source\u001b[1;34m()\u001b[0m\n",
      "\u001b[1;31mFileNotFoundError\u001b[0m: [Errno 2] File b'OverviewForOutsideCount.csv' does not exist: b'OverviewForOutsideCount.csv'"
     ]
    }
   ],
   "source": [
    "outside_count_df = pd.read_csv('OverviewForOutsideCount.csv')\n",
    "streetscape_count_df = pd.read_csv('OverviewForStreetScapeCount.csv')\n",
    "under_rain_coat_count_df = pd.read_csv('OverviewForUnderRainCoatCount.csv')"
   ]
  },
  {
   "cell_type": "code",
   "execution_count": null,
   "metadata": {},
   "outputs": [],
   "source": [
    "outside_count_df.time = outside_count_df.time.str[:-6]\n",
    "streetscape_count_df.time = streetscape_count_df.time.str[:-6]\n",
    "under_rain_coat_count_df.time = under_rain_coat_count_df.time.str[:-6]"
   ]
  },
  {
   "cell_type": "code",
   "execution_count": null,
   "metadata": {},
   "outputs": [],
   "source": [
    "from datetime import datetime as dt\n",
    "outside_count_df.time = outside_count_df.apply(lambda x: dt.strptime(x.time, '%Y-%m-%dT%H:%M:%S'), axis = 1)\n",
    "streetscape_count_df.time = streetscape_count_df.apply(lambda x: dt.strptime(x.time, '%Y-%m-%dT%H:%M:%S'), axis = 1)\n",
    "under_rain_coat_count_df.time = under_rain_coat_count_df.apply(lambda x: \n",
    "                                                               dt.strptime(x.time, '%Y-%m-%dT%H:%M:%S'), axis = 1)"
   ]
  },
  {
   "cell_type": "code",
   "execution_count": null,
   "metadata": {},
   "outputs": [],
   "source": [
    "outside_count_by_day = outside_count_df.resample('d', on='time')['pedestrians'].agg(np.sum)\n",
    "streetscape_count_by_day = streetscape_count_df.resample('d', on='time')['pedestrians'].agg(np.sum)\n",
    "under_rain_coat_count_df_by_day = under_rain_coat_count_df.resample('d', on='time')['pedestrians'].agg(np.sum)"
   ]
  },
  {
   "cell_type": "code",
   "execution_count": null,
   "metadata": {
    "scrolled": false
   },
   "outputs": [],
   "source": [
    "fig = go.Figure()\n",
    "fig = fig.add_trace(go.Scatter(x=outside_count_by_day.index, y=outside_count_by_day.values, \n",
    "                         name=\"Outside\",\n",
    "                         line_color='royalblue'))\n",
    "\n",
    "fig = fig.add_trace(go.Scatter(x=streetscape_count_by_day.index, y=streetscape_count_by_day.values, \n",
    "                         name=\"Street Scape\",\n",
    "                         line_color='dimgray'))\n",
    "\n",
    "fig = fig.add_trace(go.Scatter(x=under_rain_coat_count_df_by_day.index, y=under_rain_coat_count_df_by_day.values, \n",
    "                         name=\"Under Rain Coat\",\n",
    "                         line_color='firebrick'))\n",
    "\n",
    "fig = fig.update_layout(title_text='Pedestrians Count By Day',\n",
    "                  xaxis_rangeslider_visible=True)\n",
    "fig.show()"
   ]
  },
  {
   "cell_type": "code",
   "execution_count": null,
   "metadata": {},
   "outputs": [],
   "source": [
    "sum_ped_count_by_day = outside_count_by_day + streetscape_count_by_day + under_rain_coat_count_df_by_day"
   ]
  },
  {
   "cell_type": "code",
   "execution_count": null,
   "metadata": {},
   "outputs": [],
   "source": [
    "sum_ped_count_by_day"
   ]
  },
  {
   "cell_type": "code",
   "execution_count": null,
   "metadata": {},
   "outputs": [],
   "source": [
    "# fig = go.Figure(boxpoints='all')\n",
    "# fig.add_trace(go.Box(x=sum_ped_count_by_day.values))"
   ]
  },
  {
   "cell_type": "markdown",
   "metadata": {},
   "source": [
    "From the time series line plot above, we notced that there are several days that have significantly higher pedestrian count than other days. We will examine this further in the hour granular level."
   ]
  },
  {
   "cell_type": "code",
   "execution_count": null,
   "metadata": {},
   "outputs": [],
   "source": [
    "outside_count_by_hour = outside_count_df.resample('H', on='time')['pedestrians'].agg(np.sum)\n",
    "streetscape_count_by_hour = streetscape_count_df.resample('H', on='time')['pedestrians'].agg(np.sum)\n",
    "rain_coat_count_by_hour = under_rain_coat_count_df.resample('H', on='time')['pedestrians'].agg(np.sum)"
   ]
  },
  {
   "cell_type": "code",
   "execution_count": null,
   "metadata": {},
   "outputs": [],
   "source": [
    "fig = go.Figure()\n",
    "fig = fig.add_trace(go.Scatter(x=outside_count_by_hour.index, y=outside_count_by_hour.values, \n",
    "                         name=\"Outside\",\n",
    "                         line_color='royalblue'))\n",
    "\n",
    "fig = fig.add_trace(go.Scatter(x=streetscape_count_by_hour.index, y=streetscape_count_by_hour.values, \n",
    "                         name=\"Street Scape\",\n",
    "                         line_color='dimgray'))\n",
    "\n",
    "fig = fig.add_trace(go.Scatter(x=rain_coat_count_by_hour.index, y=rain_coat_count_by_hour.values, \n",
    "                         name=\"Under Rain Coat\",\n",
    "                         line_color='firebrick'))\n",
    "\n",
    "fig = fig.update_layout(title_text='Pedestrians Count By Hour',\n",
    "                  xaxis_rangeslider_visible=True)\n",
    "fig.show()"
   ]
  },
  {
   "cell_type": "code",
   "execution_count": null,
   "metadata": {},
   "outputs": [],
   "source": [
    "def plot_pedestrian_count_event(event):\n",
    "    '''\n",
    "    Display time series pedestrian count of the event specified\n",
    "    '''\n",
    "    event_info = event_dates[event_dates.Event == event]\n",
    "    start = dt.strptime(event_info['Starting Time'].values[0], '%Y-%m-%dT%H:%M:%S')\n",
    "    end = dt.strptime(event_info['Ending Time'].values[0], '%Y-%m-%dT%H:%M:%S')\n",
    "    \n",
    "    outside = outside_count_by_hour[(outside_count_by_hour.index >= start) & (outside_count_by_hour.index <= end)]\n",
    "    streetscape = streetscape_count_by_hour[(streetscape_count_by_hour.index >= start) & \\\n",
    "                                            (streetscape_count_by_hour.index <= end)]\n",
    "    rain_coat = rain_coat_count_by_hour[(rain_coat_count_by_hour.index >= start) & \\\n",
    "                                        (rain_coat_count_by_hour.index <= end)]\n",
    "    fig = go.Figure()\n",
    "    fig.add_trace(go.Scatter(x=outside.index, y=outside.values, \n",
    "                         name=\"Outside\",\n",
    "                         line_color='royalblue'))\n",
    "\n",
    "    fig.add_trace(go.Scatter(x=streetscape.index, y=streetscape.values, \n",
    "                         name=\"Street Scape\",\n",
    "                         line_color='dimgray'))\n",
    "\n",
    "    fig.add_trace(go.Scatter(x=rain_coat.index, y=rain_coat.values, \n",
    "                         name=\"Under Rain Coat\",\n",
    "                         line_color='firebrick'))\n",
    "    \n",
    "    fig.add_trace(go.Scatter(x=rain_coat.index, y=outside.values+streetscape.values+rain_coat.values, \n",
    "                         name=\"Sum\",\n",
    "                         line_color='gold'))\n",
    "\n",
    "    fig.update_layout(title_text=f'Pedestrians Count By Event: {event}',\n",
    "                  xaxis_rangeslider_visible=True)\n",
    "    fig.show()"
   ]
  },
  {
   "cell_type": "code",
   "execution_count": null,
   "metadata": {},
   "outputs": [],
   "source": [
    "_ = interact(plot_pedestrian_count_event, \n",
    "             event=widgets.Dropdown(options=event_dates.Event.tolist(), value='Sidewalk Summer Open House'),\n",
    "            )"
   ]
  },
  {
   "cell_type": "markdown",
   "metadata": {},
   "source": [
    "### Subsection: Dwell Time"
   ]
  },
  {
   "cell_type": "code",
   "execution_count": null,
   "metadata": {},
   "outputs": [],
   "source": [
    "# daily dwell time - device\n",
    "feed_dwell_1h_df = pd.concat([get_dwell('feedDwellTimeDistribution', device_ids[i], '1h') \n",
    "                              for i in range(3)])"
   ]
  },
  {
   "cell_type": "code",
   "execution_count": null,
   "metadata": {},
   "outputs": [],
   "source": [
    "feed_dwell_1h_df = feed_dwell_1h_df.dropna()"
   ]
  },
  {
   "cell_type": "code",
   "execution_count": null,
   "metadata": {},
   "outputs": [],
   "source": [
    "feed_dwell_1h_df.time = feed_dwell_1h_df.time.str[:-6]"
   ]
  },
  {
   "cell_type": "code",
   "execution_count": null,
   "metadata": {},
   "outputs": [],
   "source": [
    "feed_dwell_1h_df['device_name'] = [device_dict[d] for d in feed_dwell_1h_df.device]"
   ]
  },
  {
   "cell_type": "code",
   "execution_count": null,
   "metadata": {},
   "outputs": [],
   "source": [
    "feed_dwell_1h_df.time = feed_dwell_1h_df.apply(lambda x: dt.strptime(x.time, '%Y-%m-%dT%H:%M:%S'), axis = 1)"
   ]
  },
  {
   "cell_type": "code",
   "execution_count": null,
   "metadata": {},
   "outputs": [],
   "source": [
    "def plot_dwell_time_event(event, metric):\n",
    "    '''\n",
    "    Display time series of the matrix of the event specified\n",
    "    '''\n",
    "    event_info = event_dates[event_dates.Event == event]\n",
    "    start = dt.strptime(event_info['Starting Time'].values[0], '%Y-%m-%dT%H:%M:%S')\n",
    "    end = dt.strptime(event_info['Ending Time'].values[0], '%Y-%m-%dT%H:%M:%S')\n",
    "\n",
    "    dwell_time_df = feed_dwell_1h_df[(feed_dwell_1h_df.time >= start) & (feed_dwell_1h_df.time <= end)]\n",
    "    \n",
    "    outside = dwell_time_df[dwell_time_df.device_name == 'Outside']\n",
    "    streetscape = dwell_time_df[dwell_time_df.device_name == 'Streetscape']\n",
    "    rain_coat = dwell_time_df[dwell_time_df.device_name == 'Under Raincoat']\n",
    "    \n",
    "    fig = go.Figure()\n",
    "    \n",
    "    fig.add_trace(go.Scatter(x=outside.time, y=outside[metric], \n",
    "                         name=\"Outside\",\n",
    "                         line_color='royalblue'))\n",
    "\n",
    "    fig.add_trace(go.Scatter(x=streetscape.time, y=streetscape[metric], \n",
    "                         name=\"Street Scape\",\n",
    "                         line_color='dimgray'))\n",
    "\n",
    "    fig.add_trace(go.Scatter(x=rain_coat.time, y=rain_coat[metric], \n",
    "                         name=\"Under Rain Coat\",\n",
    "                         line_color='firebrick'))\n",
    "    \n",
    "    fig.update_layout(title_text=f\"Distribution of Pedestrian dwell time ({metric}) By Event: {event}\",\n",
    "                  xaxis_rangeslider_visible=True)\n",
    "    \n",
    "    fig.update_layout(\n",
    "        xaxis_title=\"time\",\n",
    "        yaxis_title=metric,\n",
    "    )\n",
    "    \n",
    "    fig.show()\n",
    "    \n",
    "    "
   ]
  },
  {
   "cell_type": "code",
   "execution_count": null,
   "metadata": {},
   "outputs": [],
   "source": [
    "_ = interact(plot_dwell_time_event, \n",
    "             event=widgets.Dropdown(options=event_dates.Event.tolist(), value='Sidewalk Summer Open House'),\n",
    "             metric=widgets.Dropdown(options=['mean', 'pct100', 'pct75', 'pct50', 'pct25', 'total'], \n",
    "                                     value='mean')\n",
    "            )"
   ]
  },
  {
   "cell_type": "markdown",
   "metadata": {},
   "source": [
    "## Maintenance Strategy"
   ]
  },
  {
   "cell_type": "code",
   "execution_count": 44,
   "metadata": {},
   "outputs": [],
   "source": [
    "# need hourly data so writing the query again; can combine with the previous one later\n",
    "def get_dwell_by_hour(func, ID):\n",
    "    '''\n",
    "    func is either feedDwellTimeDistribution or zoneDwellTimeDistribution\n",
    "    '''\n",
    "    if func == 'feedDwellTimeDistribution':\n",
    "        arg = 'serialnos: \"{0}\"'.format(ID)\n",
    "    else:\n",
    "        arg = 'zoneIds: {0}'.format(ID)\n",
    "        \n",
    "    query = \"\"\"\n",
    "    query {{\n",
    "        {0}(\n",
    "        {1},\n",
    "        startTime: \"2019-02-20T00:00:00\",\n",
    "        endTime: \"2020-01-12T00:00:00\",\n",
    "        timezone: \"America/New_York\",\n",
    "        objClasses: [\"pedestrian\"],\n",
    "        interval: \"1h\"\n",
    "        ){{\n",
    "        edges {{\n",
    "          node {{\n",
    "            time\n",
    "            objClass\n",
    "            pct100\n",
    "            pct75\n",
    "            pct50\n",
    "            pct25\n",
    "            mean\n",
    "            count\n",
    "          }}\n",
    "        }}\n",
    "      }}\n",
    "    }}\n",
    "    \"\"\".format(func, arg)\n",
    "\n",
    "    dwell = requests.post(url, json={'query': query}, \n",
    "                           headers = {'Authorization':token})\n",
    "    \n",
    "    df = pd.DataFrame([x['node'] for x in dwell.json()['data'][func]['edges']])\n",
    "    if func == 'feedDwellTimeDistribution':\n",
    "        df['device'] = ID\n",
    "    else:\n",
    "        df['zone'] = ID\n",
    "    \n",
    "    return df"
   ]
  },
  {
   "cell_type": "code",
   "execution_count": 45,
   "metadata": {},
   "outputs": [],
   "source": [
    "feed_dwell_df = pd.concat([get_dwell_by_hour('feedDwellTimeDistribution', device_ids[i]) \n",
    "                           for i in range(3)])"
   ]
  },
  {
   "cell_type": "code",
   "execution_count": 46,
   "metadata": {},
   "outputs": [],
   "source": [
    "# replace NaN with 0\n",
    "feed_dwell_df = feed_dwell_df.fillna(0)\n",
    "\n",
    "# convert time to timestamp object\n",
    "feed_dwell_df['time'] = feed_dwell_df['time'].str[:-6].apply(lambda x : pd.Timestamp(x))\n",
    "\n",
    "# add name column in addition to ID\n",
    "feed_dwell_df['device_name'] = [device_dict[d] for d in feed_dwell_df.device]"
   ]
  },
  {
   "cell_type": "code",
   "execution_count": 47,
   "metadata": {},
   "outputs": [],
   "source": [
    "import datetime as dt\n",
    "from pandas.api.types import CategoricalDtype\n",
    "days = [(dt.datetime(2019, 3, 4) + dt.timedelta(days=x)).strftime('%a') for x in range(0, 7)]\n",
    "day_type = CategoricalDtype(categories=days, ordered=True)\n",
    "\n",
    "feed_dwell_df['day of week'] = feed_dwell_df['time'].apply(lambda x: x.strftime('%a')).astype(day_type)\n",
    "feed_dwell_df['date'] = feed_dwell_df['time'].apply(lambda x: x.strftime('%Y-%m-%d'))\n",
    "feed_dwell_df['hour'] = feed_dwell_df['time'].apply(lambda x: x.strftime('%H'))\n",
    "feed_dwell_df['hour'] = pd.to_numeric(feed_dwell_df['hour'])"
   ]
  },
  {
   "cell_type": "code",
   "execution_count": 55,
   "metadata": {},
   "outputs": [],
   "source": [
    "daily_count = feed_dwell_df.groupby(['date', 'device_name'])['count'].max()\n",
    "daily_count = pd.DataFrame(daily_count).reset_index()\n",
    "daily_count['date'] = pd.to_datetime(daily_count['date'])"
   ]
  },
  {
   "cell_type": "code",
   "execution_count": 49,
   "metadata": {},
   "outputs": [],
   "source": [
    "def plot_count(selected, start_date, end_date, threshold):\n",
    "    '''\n",
    "    device_or_zone is either 'device' or 'zone';\n",
    "    selected is a list of device rawIds or zone rawIds;\n",
    "    metric is a value in ['mean', 'pct100', 'pct75', 'pct50', 'pct25']\n",
    "    '''\n",
    "    #df = nonzero_df\n",
    "    df = daily_count\n",
    "        \n",
    "    plot_df = df.loc[(df.date >= pd.Timestamp(start_date)) & \n",
    "                     (df.date <= pd.Timestamp(end_date))].copy()\n",
    "    \n",
    "    fig = go.Figure()\n",
    "    \n",
    "    for device in selected:\n",
    "        sub_df = plot_df[plot_df['device_name'] == device]\n",
    "        sub_df_under = sub_df[sub_df['count'] <= threshold]\n",
    "        fig.add_trace(go.Scatter(x=sub_df_under.date, y=sub_df_under['count'], mode='lines', name=device))\n",
    "        # TODO: fix string representation\n",
    "        print(\"There are\", len(sub_df_under), \"days for \", device, \n",
    "              \"with a daily pedestrian count under\", threshold)\n",
    "        print(\"There are\", len(sub_df)-len(sub_df_under), \"days for \", device, \n",
    "              \"with a daily pedestrian count above\", threshold)\n",
    "    \n",
    "    fig.update_layout(\n",
    "        title=\"Pedestrian count under threshold grouped by device\",\n",
    "        xaxis_title=\"time\",\n",
    "        yaxis_title=\"count\")\n",
    "    \n",
    "    fig.show()"
   ]
  },
  {
   "cell_type": "code",
   "execution_count": 50,
   "metadata": {},
   "outputs": [
    {
     "data": {
      "application/vnd.jupyter.widget-view+json": {
       "model_id": "083fb25e0b374267bbe0d5f3faf58977",
       "version_major": 2,
       "version_minor": 0
      },
      "text/plain": [
       "interactive(children=(SelectMultiple(description='selected', index=(0, 1, 2), options=('Streetscape', 'Under R…"
      ]
     },
     "metadata": {},
     "output_type": "display_data"
    }
   ],
   "source": [
    "# SWLSANDBOX1 = Streetscape\n",
    "# SWLSANDBOX2 = Under Raincoat\n",
    "# SWLSANDBOX3 = Outside\n",
    "_ = interact(plot_count, \n",
    "             selected=widgets.SelectMultiple(options=device_names, value=device_names, disabled=False),\n",
    "             start_date=widgets.DatePicker(value=pd.to_datetime('2019-02-20')),\n",
    "             end_date=widgets.DatePicker(value=pd.to_datetime('2020-01-12')),\n",
    "             threshold=widgets.IntSlider(value=500, min=300, max=1000, step=100, readout_format='d')\n",
    "            )"
   ]
  },
  {
   "cell_type": "code",
   "execution_count": 51,
   "metadata": {},
   "outputs": [],
   "source": [
    "# TODO: combine the two box plots to a single interactive\n",
    "def plot_boxplot_count_by_day(threshold):\n",
    "    fig = go.Figure()\n",
    "    \n",
    "    #df, byvals, clrs = get_df(groupby)\n",
    "    df = feed_dwell_df[feed_dwell_df['count'] <= threshold]\n",
    "    days = ['Mon', 'Tue','Wed', 'Thu', 'Fri', 'Sat', 'Sun']\n",
    "    \n",
    "    for i in reversed(range(len(days))):\n",
    "        # Use x instead of y argument for horizontal plot\n",
    "        fig.add_trace(go.Box(x=df.loc[df['day of week']==days[i], 'count'], name=days[i]))\n",
    "\n",
    "    # layout - axes labels\n",
    "    #fig.update_layout(\n",
    "    #    xaxis_title=metric,\n",
    "    #    xaxis_rangeslider_visible=True\n",
    "    #)\n",
    "    # title\n",
    "    \n",
    "    fig.update_layout(\n",
    "        title=\"Pedestrian count under threshold by day of week\",\n",
    "        xaxis_title=\"time\",\n",
    "        yaxis_title=\"count\")\n",
    "    \n",
    "    fig.show()"
   ]
  },
  {
   "cell_type": "code",
   "execution_count": 52,
   "metadata": {},
   "outputs": [
    {
     "data": {
      "application/vnd.jupyter.widget-view+json": {
       "model_id": "64bac23ed8d7414b85e2baff4c174cc4",
       "version_major": 2,
       "version_minor": 0
      },
      "text/plain": [
       "interactive(children=(IntSlider(value=50, description='threshold', max=1000, min=50, step=50), Output()), _dom…"
      ]
     },
     "metadata": {},
     "output_type": "display_data"
    }
   ],
   "source": [
    "_ = interact(plot_boxplot_count_by_day, \n",
    "             threshold=widgets.IntSlider(value=50, min=50, max=1000, step=50, readout_format='d'))"
   ]
  },
  {
   "cell_type": "code",
   "execution_count": 53,
   "metadata": {},
   "outputs": [],
   "source": [
    "def plot_boxplot_count_by_hour(threshold):\n",
    "    fig = go.Figure()\n",
    "    \n",
    "    #df, byvals, clrs = get_df(groupby)\n",
    "    df = feed_dwell_df[feed_dwell_df['count'] <= threshold]\n",
    "    for j in range(7, 21):\n",
    "        fig.add_trace(go.Box(x=df.loc[df['hour']==j, 'count'], name=j))\n",
    "\n",
    "    # layout - axes labels\n",
    "    #fig.update_layout(\n",
    "    #    xaxis_title=metric,\n",
    "    #    xaxis_rangeslider_visible=True\n",
    "    #)\n",
    "    # title\n",
    "    \n",
    "    fig.update_layout(\n",
    "        title=\"Pedestrian count under threshold grouped by hour\",\n",
    "        xaxis_title=\"time\",\n",
    "        yaxis_title=\"count\")\n",
    "    \n",
    "    fig.show()"
   ]
  },
  {
   "cell_type": "code",
   "execution_count": 54,
   "metadata": {},
   "outputs": [
    {
     "data": {
      "application/vnd.jupyter.widget-view+json": {
       "model_id": "6d900897c1d94095af70517957cd1437",
       "version_major": 2,
       "version_minor": 0
      },
      "text/plain": [
       "interactive(children=(IntSlider(value=100, description='threshold', max=1000, min=50, step=50), Output()), _do…"
      ]
     },
     "metadata": {},
     "output_type": "display_data"
    }
   ],
   "source": [
    "_ = interact(plot_boxplot_count_by_hour, \n",
    "             threshold=widgets.IntSlider(value=100, min=50, max=1000, step=50, readout_format='d'))"
   ]
  }
 ],
 "metadata": {
  "kernelspec": {
   "display_name": "Python 3",
   "language": "python",
   "name": "python3"
  },
  "language_info": {
   "codemirror_mode": {
    "name": "ipython",
    "version": 3
   },
   "file_extension": ".py",
   "mimetype": "text/x-python",
   "name": "python",
   "nbconvert_exporter": "python",
   "pygments_lexer": "ipython3",
   "version": "3.7.0"
  }
 },
 "nbformat": 4,
 "nbformat_minor": 4
}
